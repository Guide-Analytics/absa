{
  "nbformat": 4,
  "nbformat_minor": 0,
  "metadata": {
    "colab": {
      "name": "asba_ruleBased.ipynb",
      "provenance": [],
      "collapsed_sections": []
    },
    "kernelspec": {
      "name": "python3",
      "display_name": "Python 3"
    },
    "widgets": {
      "application/vnd.jupyter.widget-state+json": {
        "35e5e3d5771544cbba8555fcd2ad5ec7": {
          "model_module": "@jupyter-widgets/controls",
          "model_name": "HBoxModel",
          "state": {
            "_view_name": "HBoxView",
            "_dom_classes": [],
            "_model_name": "HBoxModel",
            "_view_module": "@jupyter-widgets/controls",
            "_model_module_version": "1.5.0",
            "_view_count": null,
            "_view_module_version": "1.5.0",
            "box_style": "",
            "layout": "IPY_MODEL_8cde86f064b849b283538ec4a5cd00f2",
            "_model_module": "@jupyter-widgets/controls",
            "children": [
              "IPY_MODEL_e02872e3c6cb4c7189363341dd497541",
              "IPY_MODEL_c74bea2b234e4261afac92e1c0f1b0b6"
            ]
          }
        },
        "8cde86f064b849b283538ec4a5cd00f2": {
          "model_module": "@jupyter-widgets/base",
          "model_name": "LayoutModel",
          "state": {
            "_view_name": "LayoutView",
            "grid_template_rows": null,
            "right": null,
            "justify_content": null,
            "_view_module": "@jupyter-widgets/base",
            "overflow": null,
            "_model_module_version": "1.2.0",
            "_view_count": null,
            "flex_flow": null,
            "width": null,
            "min_width": null,
            "border": null,
            "align_items": null,
            "bottom": null,
            "_model_module": "@jupyter-widgets/base",
            "top": null,
            "grid_column": null,
            "overflow_y": null,
            "overflow_x": null,
            "grid_auto_flow": null,
            "grid_area": null,
            "grid_template_columns": null,
            "flex": null,
            "_model_name": "LayoutModel",
            "justify_items": null,
            "grid_row": null,
            "max_height": null,
            "align_content": null,
            "visibility": null,
            "align_self": null,
            "height": null,
            "min_height": null,
            "padding": null,
            "grid_auto_rows": null,
            "grid_gap": null,
            "max_width": null,
            "order": null,
            "_view_module_version": "1.2.0",
            "grid_template_areas": null,
            "object_position": null,
            "object_fit": null,
            "grid_auto_columns": null,
            "margin": null,
            "display": null,
            "left": null
          }
        },
        "e02872e3c6cb4c7189363341dd497541": {
          "model_module": "@jupyter-widgets/controls",
          "model_name": "FloatProgressModel",
          "state": {
            "_view_name": "ProgressView",
            "style": "IPY_MODEL_197e48f02edb4e51b1634d99b297b1c9",
            "_dom_classes": [],
            "description": "100%",
            "_model_name": "FloatProgressModel",
            "bar_style": "success",
            "max": 17808,
            "_view_module": "@jupyter-widgets/controls",
            "_model_module_version": "1.5.0",
            "value": 17808,
            "_view_count": null,
            "_view_module_version": "1.5.0",
            "orientation": "horizontal",
            "min": 0,
            "description_tooltip": null,
            "_model_module": "@jupyter-widgets/controls",
            "layout": "IPY_MODEL_64c4692cd3a947fc9beddbf5f1782057"
          }
        },
        "c74bea2b234e4261afac92e1c0f1b0b6": {
          "model_module": "@jupyter-widgets/controls",
          "model_name": "HTMLModel",
          "state": {
            "_view_name": "HTMLView",
            "style": "IPY_MODEL_b9571d8edaac46e8827e4457c9b1a638",
            "_dom_classes": [],
            "description": "",
            "_model_name": "HTMLModel",
            "placeholder": "​",
            "_view_module": "@jupyter-widgets/controls",
            "_model_module_version": "1.5.0",
            "value": " 17808/17808 [04:29&lt;00:00, 66.20it/s]",
            "_view_count": null,
            "_view_module_version": "1.5.0",
            "description_tooltip": null,
            "_model_module": "@jupyter-widgets/controls",
            "layout": "IPY_MODEL_2214015374bf4f1e9654941be8f8b08b"
          }
        },
        "197e48f02edb4e51b1634d99b297b1c9": {
          "model_module": "@jupyter-widgets/controls",
          "model_name": "ProgressStyleModel",
          "state": {
            "_view_name": "StyleView",
            "_model_name": "ProgressStyleModel",
            "description_width": "initial",
            "_view_module": "@jupyter-widgets/base",
            "_model_module_version": "1.5.0",
            "_view_count": null,
            "_view_module_version": "1.2.0",
            "bar_color": null,
            "_model_module": "@jupyter-widgets/controls"
          }
        },
        "64c4692cd3a947fc9beddbf5f1782057": {
          "model_module": "@jupyter-widgets/base",
          "model_name": "LayoutModel",
          "state": {
            "_view_name": "LayoutView",
            "grid_template_rows": null,
            "right": null,
            "justify_content": null,
            "_view_module": "@jupyter-widgets/base",
            "overflow": null,
            "_model_module_version": "1.2.0",
            "_view_count": null,
            "flex_flow": null,
            "width": null,
            "min_width": null,
            "border": null,
            "align_items": null,
            "bottom": null,
            "_model_module": "@jupyter-widgets/base",
            "top": null,
            "grid_column": null,
            "overflow_y": null,
            "overflow_x": null,
            "grid_auto_flow": null,
            "grid_area": null,
            "grid_template_columns": null,
            "flex": null,
            "_model_name": "LayoutModel",
            "justify_items": null,
            "grid_row": null,
            "max_height": null,
            "align_content": null,
            "visibility": null,
            "align_self": null,
            "height": null,
            "min_height": null,
            "padding": null,
            "grid_auto_rows": null,
            "grid_gap": null,
            "max_width": null,
            "order": null,
            "_view_module_version": "1.2.0",
            "grid_template_areas": null,
            "object_position": null,
            "object_fit": null,
            "grid_auto_columns": null,
            "margin": null,
            "display": null,
            "left": null
          }
        },
        "b9571d8edaac46e8827e4457c9b1a638": {
          "model_module": "@jupyter-widgets/controls",
          "model_name": "DescriptionStyleModel",
          "state": {
            "_view_name": "StyleView",
            "_model_name": "DescriptionStyleModel",
            "description_width": "",
            "_view_module": "@jupyter-widgets/base",
            "_model_module_version": "1.5.0",
            "_view_count": null,
            "_view_module_version": "1.2.0",
            "_model_module": "@jupyter-widgets/controls"
          }
        },
        "2214015374bf4f1e9654941be8f8b08b": {
          "model_module": "@jupyter-widgets/base",
          "model_name": "LayoutModel",
          "state": {
            "_view_name": "LayoutView",
            "grid_template_rows": null,
            "right": null,
            "justify_content": null,
            "_view_module": "@jupyter-widgets/base",
            "overflow": null,
            "_model_module_version": "1.2.0",
            "_view_count": null,
            "flex_flow": null,
            "width": null,
            "min_width": null,
            "border": null,
            "align_items": null,
            "bottom": null,
            "_model_module": "@jupyter-widgets/base",
            "top": null,
            "grid_column": null,
            "overflow_y": null,
            "overflow_x": null,
            "grid_auto_flow": null,
            "grid_area": null,
            "grid_template_columns": null,
            "flex": null,
            "_model_name": "LayoutModel",
            "justify_items": null,
            "grid_row": null,
            "max_height": null,
            "align_content": null,
            "visibility": null,
            "align_self": null,
            "height": null,
            "min_height": null,
            "padding": null,
            "grid_auto_rows": null,
            "grid_gap": null,
            "max_width": null,
            "order": null,
            "_view_module_version": "1.2.0",
            "grid_template_areas": null,
            "object_position": null,
            "object_fit": null,
            "grid_auto_columns": null,
            "margin": null,
            "display": null,
            "left": null
          }
        },
        "72837a07b7b14d20a38a7c2beb8a0744": {
          "model_module": "@jupyter-widgets/controls",
          "model_name": "HBoxModel",
          "state": {
            "_view_name": "HBoxView",
            "_dom_classes": [],
            "_model_name": "HBoxModel",
            "_view_module": "@jupyter-widgets/controls",
            "_model_module_version": "1.5.0",
            "_view_count": null,
            "_view_module_version": "1.5.0",
            "box_style": "",
            "layout": "IPY_MODEL_3a123ad7927442cebf82ce9a5f71e2ab",
            "_model_module": "@jupyter-widgets/controls",
            "children": [
              "IPY_MODEL_6cf4a943845f4e5a9b730cdb5bef113b",
              "IPY_MODEL_fbaf1d3b5394459c8e116684273b438e"
            ]
          }
        },
        "3a123ad7927442cebf82ce9a5f71e2ab": {
          "model_module": "@jupyter-widgets/base",
          "model_name": "LayoutModel",
          "state": {
            "_view_name": "LayoutView",
            "grid_template_rows": null,
            "right": null,
            "justify_content": null,
            "_view_module": "@jupyter-widgets/base",
            "overflow": null,
            "_model_module_version": "1.2.0",
            "_view_count": null,
            "flex_flow": null,
            "width": null,
            "min_width": null,
            "border": null,
            "align_items": null,
            "bottom": null,
            "_model_module": "@jupyter-widgets/base",
            "top": null,
            "grid_column": null,
            "overflow_y": null,
            "overflow_x": null,
            "grid_auto_flow": null,
            "grid_area": null,
            "grid_template_columns": null,
            "flex": null,
            "_model_name": "LayoutModel",
            "justify_items": null,
            "grid_row": null,
            "max_height": null,
            "align_content": null,
            "visibility": null,
            "align_self": null,
            "height": null,
            "min_height": null,
            "padding": null,
            "grid_auto_rows": null,
            "grid_gap": null,
            "max_width": null,
            "order": null,
            "_view_module_version": "1.2.0",
            "grid_template_areas": null,
            "object_position": null,
            "object_fit": null,
            "grid_auto_columns": null,
            "margin": null,
            "display": null,
            "left": null
          }
        },
        "6cf4a943845f4e5a9b730cdb5bef113b": {
          "model_module": "@jupyter-widgets/controls",
          "model_name": "FloatProgressModel",
          "state": {
            "_view_name": "ProgressView",
            "style": "IPY_MODEL_d3a9c2f073f84d1c80a4f84e235c6978",
            "_dom_classes": [],
            "description": "100%",
            "_model_name": "FloatProgressModel",
            "bar_style": "success",
            "max": 5481,
            "_view_module": "@jupyter-widgets/controls",
            "_model_module_version": "1.5.0",
            "value": 5481,
            "_view_count": null,
            "_view_module_version": "1.5.0",
            "orientation": "horizontal",
            "min": 0,
            "description_tooltip": null,
            "_model_module": "@jupyter-widgets/controls",
            "layout": "IPY_MODEL_668a592670164832ada142d29db0ab8e"
          }
        },
        "fbaf1d3b5394459c8e116684273b438e": {
          "model_module": "@jupyter-widgets/controls",
          "model_name": "HTMLModel",
          "state": {
            "_view_name": "HTMLView",
            "style": "IPY_MODEL_253ee953c60d4862ac7865de6b1372ca",
            "_dom_classes": [],
            "description": "",
            "_model_name": "HTMLModel",
            "placeholder": "​",
            "_view_module": "@jupyter-widgets/controls",
            "_model_module_version": "1.5.0",
            "value": " 5481/5481 [00:00&lt;00:00, 83061.08it/s]",
            "_view_count": null,
            "_view_module_version": "1.5.0",
            "description_tooltip": null,
            "_model_module": "@jupyter-widgets/controls",
            "layout": "IPY_MODEL_ad328fdd3a6446b49ed6161849145f37"
          }
        },
        "d3a9c2f073f84d1c80a4f84e235c6978": {
          "model_module": "@jupyter-widgets/controls",
          "model_name": "ProgressStyleModel",
          "state": {
            "_view_name": "StyleView",
            "_model_name": "ProgressStyleModel",
            "description_width": "initial",
            "_view_module": "@jupyter-widgets/base",
            "_model_module_version": "1.5.0",
            "_view_count": null,
            "_view_module_version": "1.2.0",
            "bar_color": null,
            "_model_module": "@jupyter-widgets/controls"
          }
        },
        "668a592670164832ada142d29db0ab8e": {
          "model_module": "@jupyter-widgets/base",
          "model_name": "LayoutModel",
          "state": {
            "_view_name": "LayoutView",
            "grid_template_rows": null,
            "right": null,
            "justify_content": null,
            "_view_module": "@jupyter-widgets/base",
            "overflow": null,
            "_model_module_version": "1.2.0",
            "_view_count": null,
            "flex_flow": null,
            "width": null,
            "min_width": null,
            "border": null,
            "align_items": null,
            "bottom": null,
            "_model_module": "@jupyter-widgets/base",
            "top": null,
            "grid_column": null,
            "overflow_y": null,
            "overflow_x": null,
            "grid_auto_flow": null,
            "grid_area": null,
            "grid_template_columns": null,
            "flex": null,
            "_model_name": "LayoutModel",
            "justify_items": null,
            "grid_row": null,
            "max_height": null,
            "align_content": null,
            "visibility": null,
            "align_self": null,
            "height": null,
            "min_height": null,
            "padding": null,
            "grid_auto_rows": null,
            "grid_gap": null,
            "max_width": null,
            "order": null,
            "_view_module_version": "1.2.0",
            "grid_template_areas": null,
            "object_position": null,
            "object_fit": null,
            "grid_auto_columns": null,
            "margin": null,
            "display": null,
            "left": null
          }
        },
        "253ee953c60d4862ac7865de6b1372ca": {
          "model_module": "@jupyter-widgets/controls",
          "model_name": "DescriptionStyleModel",
          "state": {
            "_view_name": "StyleView",
            "_model_name": "DescriptionStyleModel",
            "description_width": "",
            "_view_module": "@jupyter-widgets/base",
            "_model_module_version": "1.5.0",
            "_view_count": null,
            "_view_module_version": "1.2.0",
            "_model_module": "@jupyter-widgets/controls"
          }
        },
        "ad328fdd3a6446b49ed6161849145f37": {
          "model_module": "@jupyter-widgets/base",
          "model_name": "LayoutModel",
          "state": {
            "_view_name": "LayoutView",
            "grid_template_rows": null,
            "right": null,
            "justify_content": null,
            "_view_module": "@jupyter-widgets/base",
            "overflow": null,
            "_model_module_version": "1.2.0",
            "_view_count": null,
            "flex_flow": null,
            "width": null,
            "min_width": null,
            "border": null,
            "align_items": null,
            "bottom": null,
            "_model_module": "@jupyter-widgets/base",
            "top": null,
            "grid_column": null,
            "overflow_y": null,
            "overflow_x": null,
            "grid_auto_flow": null,
            "grid_area": null,
            "grid_template_columns": null,
            "flex": null,
            "_model_name": "LayoutModel",
            "justify_items": null,
            "grid_row": null,
            "max_height": null,
            "align_content": null,
            "visibility": null,
            "align_self": null,
            "height": null,
            "min_height": null,
            "padding": null,
            "grid_auto_rows": null,
            "grid_gap": null,
            "max_width": null,
            "order": null,
            "_view_module_version": "1.2.0",
            "grid_template_areas": null,
            "object_position": null,
            "object_fit": null,
            "grid_auto_columns": null,
            "margin": null,
            "display": null,
            "left": null
          }
        }
      }
    }
  },
  "cells": [
    {
      "cell_type": "markdown",
      "metadata": {
        "id": "yM3aVKgKVZ3W"
      },
      "source": [
        "# Aspect Based Sentiment Analysis (ABSA) Rule Based Approach"
      ]
    },
    {
      "cell_type": "markdown",
      "metadata": {
        "id": "1JhoF9cUV3GL"
      },
      "source": [
        "### 1. Imports and Directory Setup"
      ]
    },
    {
      "cell_type": "code",
      "metadata": {
        "id": "m2gnt65CiEND",
        "colab": {
          "base_uri": "https://localhost:8080/"
        },
        "outputId": "7a72324d-7c84-4f0c-abb2-43010070c877"
      },
      "source": [
        "# Unzipping the review data.\n",
        "\n",
        "!unzip LED_Flashlight.zip"
      ],
      "execution_count": 1,
      "outputs": [
        {
          "output_type": "stream",
          "text": [
            "unzip:  cannot find or open LED_Flashlight.zip, LED_Flashlight.zip.zip or LED_Flashlight.zip.ZIP.\n"
          ],
          "name": "stdout"
        }
      ]
    },
    {
      "cell_type": "code",
      "metadata": {
        "id": "eQaxkR4ScRR-"
      },
      "source": [
        "# Creating directory for output.\n",
        "\n",
        "!mkdir output"
      ],
      "execution_count": null,
      "outputs": []
    },
    {
      "cell_type": "code",
      "metadata": {
        "id": "ZVY58GlH8iyp"
      },
      "source": [
        "import pandas as pd\n",
        "import numpy as np\n",
        "import warnings\n",
        "import glob"
      ],
      "execution_count": null,
      "outputs": []
    },
    {
      "cell_type": "code",
      "metadata": {
        "id": "yv-v2-Rfah1-"
      },
      "source": [
        "!pip install spacy"
      ],
      "execution_count": null,
      "outputs": []
    },
    {
      "cell_type": "code",
      "metadata": {
        "id": "VW_OXSvvcWY8",
        "colab": {
          "base_uri": "https://localhost:8080/"
        },
        "outputId": "3e07cc7d-ed57-4626-ace1-6664e7af4ffd"
      },
      "source": [
        "import nltk\n",
        "import spacy\n",
        "\n",
        "nltk.download('punkt')\n",
        "nltk.download('stopwords')\n",
        "from tqdm.auto import trange\n",
        "\n",
        "from nltk.corpus import stopwords \n",
        "from nltk.tokenize import word_tokenize \n",
        "import re\n",
        "\n",
        "stop = set(stopwords.words('english')) \n",
        "nlp = spacy.load(\"en_core_web_sm\")"
      ],
      "execution_count": null,
      "outputs": [
        {
          "output_type": "stream",
          "text": [
            "[nltk_data] Downloading package punkt to /root/nltk_data...\n",
            "[nltk_data]   Unzipping tokenizers/punkt.zip.\n",
            "[nltk_data] Downloading package stopwords to /root/nltk_data...\n",
            "[nltk_data]   Unzipping corpora/stopwords.zip.\n"
          ],
          "name": "stdout"
        }
      ]
    },
    {
      "cell_type": "code",
      "metadata": {
        "id": "R1sGis-VXPZJ"
      },
      "source": [
        "# Reading all the files in the input directory.\n",
        "\n",
        "temp = np.array([1])\n",
        "for name in glob.glob('main_product/*csv'):\n",
        "  df = pd.read_csv(name)\n",
        "  names = np.array(df['reviews'])\n",
        "  temp = np.concatenate((temp, names), axis = None)\n",
        "\n",
        "temp = temp[1:]"
      ],
      "execution_count": null,
      "outputs": []
    },
    {
      "cell_type": "markdown",
      "metadata": {
        "id": "80tl_0_NWDjd"
      },
      "source": [
        "### 2. Text Preprocessing"
      ]
    },
    {
      "cell_type": "markdown",
      "metadata": {
        "id": "IhQLW4dWWNpX"
      },
      "source": [
        "Steps:<br>\n",
        "a) Lower case the data.<br>\n",
        "b) Remove links and other punctuations."
      ]
    },
    {
      "cell_type": "code",
      "metadata": {
        "id": "Okdnd0A4YN7y"
      },
      "source": [
        "def preprocess(text_data):\n",
        "  raw = text_data\n",
        "  low = [i.lower() for i in raw]\n",
        "  reviews = list()\n",
        "  for i in low:\n",
        "    i = re.sub(r'(https|http)?:\\/(\\w|\\.|\\/|\\?|\\=|\\&|\\%)*\\b', '', i)\n",
        "    i = re.sub(r'www\\.\\S+\\.com','', i)\n",
        "    i = re.sub(r'[^a-z0-9 ]', ' ', i)\n",
        "    reviews.append(i)\n",
        "  return reviews"
      ],
      "execution_count": null,
      "outputs": []
    },
    {
      "cell_type": "markdown",
      "metadata": {
        "id": "Sn1SLJmxWddP"
      },
      "source": [
        "3. POS Tagging."
      ]
    },
    {
      "cell_type": "markdown",
      "metadata": {
        "id": "Jhek85lqWf_w"
      },
      "source": [
        "POS tagging identifies aspects (nouns) apart from the ones mentioned in 'corpus.txt' (handled below)."
      ]
    },
    {
      "cell_type": "code",
      "metadata": {
        "id": "lmXZTxBNYN_G"
      },
      "source": [
        "# The reason behind considering only “NOUN“ is that a noun is a word that functions as the name of some specific thing or set of things.\n",
        "# So, we will get the relevant words based on the domain from the NOUN.\n",
        "def pos_tagging(reviews):\n",
        "    print(\"pos tagging\")\n",
        "    req_tag = ['NN']\n",
        "    extracted_words = []\n",
        "    i = 0\n",
        "    x = \"\"\n",
        "    try:\n",
        "        for index in trange(len(reviews)):\n",
        "            x = reviews[index]\n",
        "            doc = nlp(x)\n",
        "            for token in doc:\n",
        "                i += 1\n",
        "                if token.tag_ in req_tag and token.shape_ != 'x' and token.shape_ != 'xx' and token.shape_ != 'xxx':\n",
        "                  if token.lemma_ in extracted_words:\n",
        "                    continue\n",
        "                  else:\n",
        "                    extracted_words.append(token.lemma_)\n",
        "        return extracted_words\n",
        "    except Exception as e:\n",
        "        print(\"here for\" + str(i) + str(e))\n",
        "        return extracted_words"
      ],
      "execution_count": null,
      "outputs": []
    },
    {
      "cell_type": "code",
      "metadata": {
        "id": "xhLp2Jy7YOBh",
        "colab": {
          "base_uri": "https://localhost:8080/",
          "height": 83,
          "referenced_widgets": [
            "35e5e3d5771544cbba8555fcd2ad5ec7",
            "8cde86f064b849b283538ec4a5cd00f2",
            "e02872e3c6cb4c7189363341dd497541",
            "c74bea2b234e4261afac92e1c0f1b0b6",
            "197e48f02edb4e51b1634d99b297b1c9",
            "64c4692cd3a947fc9beddbf5f1782057",
            "b9571d8edaac46e8827e4457c9b1a638",
            "2214015374bf4f1e9654941be8f8b08b"
          ]
        },
        "outputId": "060ff3f9-c662-4c91-84a8-a68ec2acd6a3"
      },
      "source": [
        "rev = preprocess(temp)\n",
        "extract_words_all = pos_tagging(rev)"
      ],
      "execution_count": null,
      "outputs": [
        {
          "output_type": "stream",
          "text": [
            "pos tagging\n"
          ],
          "name": "stdout"
        },
        {
          "output_type": "display_data",
          "data": {
            "application/vnd.jupyter.widget-view+json": {
              "model_id": "35e5e3d5771544cbba8555fcd2ad5ec7",
              "version_minor": 0,
              "version_major": 2
            },
            "text/plain": [
              "HBox(children=(FloatProgress(value=0.0, max=17808.0), HTML(value='')))"
            ]
          },
          "metadata": {
            "tags": []
          }
        },
        {
          "output_type": "stream",
          "text": [
            "\n"
          ],
          "name": "stdout"
        }
      ]
    },
    {
      "cell_type": "markdown",
      "metadata": {
        "id": "IPxvOZlqXWoI"
      },
      "source": [
        "Extracted aspects (extract_words_all) are added into a set (extract_words) to remove duplicates if any."
      ]
    },
    {
      "cell_type": "code",
      "metadata": {
        "id": "elBgGcElYOEw",
        "colab": {
          "base_uri": "https://localhost:8080/",
          "height": 83,
          "referenced_widgets": [
            "72837a07b7b14d20a38a7c2beb8a0744",
            "3a123ad7927442cebf82ce9a5f71e2ab",
            "6cf4a943845f4e5a9b730cdb5bef113b",
            "fbaf1d3b5394459c8e116684273b438e",
            "d3a9c2f073f84d1c80a4f84e235c6978",
            "668a592670164832ada142d29db0ab8e",
            "253ee953c60d4862ac7865de6b1372ca",
            "ad328fdd3a6446b49ed6161849145f37"
          ]
        },
        "outputId": "2b148e5f-943b-4a9d-ee71-1848f1e409bc"
      },
      "source": [
        "extract_words = set()\n",
        "for i in trange(len(extract_words_all)):\n",
        "    extract_words.add(i)\n",
        "\n",
        "print(len(extract_words), len(extract_words_all))"
      ],
      "execution_count": null,
      "outputs": [
        {
          "output_type": "display_data",
          "data": {
            "application/vnd.jupyter.widget-view+json": {
              "model_id": "72837a07b7b14d20a38a7c2beb8a0744",
              "version_minor": 0,
              "version_major": 2
            },
            "text/plain": [
              "HBox(children=(FloatProgress(value=0.0, max=5481.0), HTML(value='')))"
            ]
          },
          "metadata": {
            "tags": []
          }
        },
        {
          "output_type": "stream",
          "text": [
            "\n",
            "5481 5481\n"
          ],
          "name": "stdout"
        }
      ]
    },
    {
      "cell_type": "markdown",
      "metadata": {
        "id": "mWgZrKSyXh72"
      },
      "source": [
        "Aspects from 'corpus.txt' are added into the set. This step may be skipped depending upon the situation. It allows us to add custom aspects that may or may not have been picked up by the POS tagging."
      ]
    },
    {
      "cell_type": "code",
      "metadata": {
        "id": "XPWsCiw-ZtOk"
      },
      "source": [
        "f = open('corpus.txt')\n",
        "l = \"\"\n",
        "for i in f:\n",
        "  l = str(i)\n",
        "f.close()"
      ],
      "execution_count": null,
      "outputs": []
    },
    {
      "cell_type": "code",
      "metadata": {
        "id": "iqCIM1Z2ZtS7"
      },
      "source": [
        "cor = l.split(\", \")"
      ],
      "execution_count": null,
      "outputs": []
    },
    {
      "cell_type": "code",
      "metadata": {
        "id": "8cIjlr0rZtWS"
      },
      "source": [
        "corpora = [w.lower() for w in cor]"
      ],
      "execution_count": null,
      "outputs": []
    },
    {
      "cell_type": "code",
      "metadata": {
        "id": "HMQ1Y5Y2eyNL"
      },
      "source": [
        "extract_words.add('grip')\n",
        "extract_words.add('battery')\n",
        "extract_words.add('life')\n",
        "extract_words.add('runtime')\n",
        "extract_words.add('corona')\n",
        "extract_words.add('pattern')\n",
        "extract_words.add('warranty')\n",
        "extract_words.add('float')\n",
        "extract_words.add('brightness')\n",
        "extract_words.add('setting')\n",
        "extract_words.add('mode')\n",
        "extract_words.add('charging')\n",
        "extract_words.add('durable')\n",
        "extract_words.add('light')"
      ],
      "execution_count": null,
      "outputs": []
    },
    {
      "cell_type": "code",
      "metadata": {
        "id": "YexwX5pJQkSt"
      },
      "source": [
        "for w in corpora:\n",
        "  extract_words.add(w)"
      ],
      "execution_count": null,
      "outputs": []
    },
    {
      "cell_type": "markdown",
      "metadata": {
        "id": "3z4WJvfrX4VV"
      },
      "source": [
        "Reading 'pos.txt' and 'neg.txt' to input a list of positive and negative adjectives."
      ]
    },
    {
      "cell_type": "code",
      "metadata": {
        "id": "SKiDmlzgdESe"
      },
      "source": [
        "# This function reads text files line by line.\n",
        "def readFile(fileName):\n",
        "  f = open(fileName, \"r\")\n",
        "  arr = list()\n",
        "  for i in f:\n",
        "    st = re.sub(r\"\\[|\\]|\\,|\\'|\\n\", '', i)\n",
        "    arr.append(st)\n",
        "  f.close()\n",
        "  return arr"
      ],
      "execution_count": null,
      "outputs": []
    },
    {
      "cell_type": "code",
      "metadata": {
        "id": "Bl9ZLjfMdHNA"
      },
      "source": [
        "# Reading the positive and negative adjective lists.\n",
        "pos = readFile('pos.txt')\n",
        "neg = readFile('neg.txt')"
      ],
      "execution_count": 2,
      "outputs": []
    },
    {
      "cell_type": "markdown",
      "metadata": {
        "id": "I5ubnCGNYSC3"
      },
      "source": [
        "### 4. The following method performs the ABSA. Please read the code comments for further details."
      ]
    },
    {
      "cell_type": "code",
      "metadata": {
        "id": "4xskC35qdP2T"
      },
      "source": [
        "# def getSentiment(sentence, pos, neg):\n",
        "def getSentiment(sentence):\n",
        "    '''\n",
        "    input: dictionary and sentence\n",
        "    function: appends dictionary with new features if the feature\n",
        "              did not exist previously,then updates sentiment to\n",
        "              each of the new or existing features\n",
        "    output: updated dictionary\n",
        "    '''\n",
        "    sent_dict = dict()\n",
        "    sentence = nlp(sentence)\n",
        "    opinion_words = neg + pos\n",
        "    debug = 0\n",
        "    for token in sentence:\n",
        "        # check if the word is an opinion word, then assign sentiment\n",
        "        if token.text in opinion_words:\n",
        "            sentiment = 1 if token.text in pos else -1\n",
        "            # if target is an adverb modifier (i.e. pretty, highly, etc.)\n",
        "            # but happens to be an opinion word, ignore and pass\n",
        "            if (token.dep_ == \"advmod\"):\n",
        "                continue\n",
        "            elif (token.dep_ == \"amod\"):\n",
        "                sent_dict[token.head.text] = sentiment\n",
        "            # for opinion words that are adjectives, adverbs, verbs...\n",
        "            else:\n",
        "                for child in token.children:\n",
        "                    # if there's a adj modifier (i.e. very, pretty, etc.) add more weight to sentiment\n",
        "                    # This could be better updated for modifiers that either positively or negatively emphasize\n",
        "                    if ((child.dep_ == \"amod\") or (child.dep_ == \"advmod\")) and (child.text in opinion_words):\n",
        "                        sentiment *= 1.5\n",
        "                    # check for negation words and flip the sign of sentiment\n",
        "                    if child.dep_ == \"neg\":\n",
        "                        sentiment *= -1\n",
        "                for child in token.children:\n",
        "                    # if verb, check if there's a direct object\n",
        "                    if (token.pos_ == \"VERB\") & (child.dep_ == \"dobj\"):                        \n",
        "                        sent_dict[child.text] = sentiment\n",
        "                        # check for conjugates (a AND b), then add both to dictionary\n",
        "                        subchildren = []\n",
        "                        conj = 0\n",
        "                        for subchild in child.children:\n",
        "                            if subchild.text == \"and\":\n",
        "                                conj=1\n",
        "                            if (conj == 1) and (subchild.text != \"and\"):\n",
        "                                subchildren.append(subchild.text)\n",
        "                                conj = 0\n",
        "                        for subchild in subchildren:\n",
        "                            sent_dict[subchild] = sentiment\n",
        "\n",
        "                # check for negation\n",
        "                for child in token.head.children:\n",
        "                    noun = \"\"\n",
        "                    if ((child.dep_ == \"amod\") or (child.dep_ == \"advmod\")) and (child.text in opinion_words):\n",
        "                        sentiment *= 1.5\n",
        "                    # check for negation words and flip the sign of sentiment\n",
        "                    if (child.dep_ == \"neg\"): \n",
        "                        sentiment *= -1\n",
        "                \n",
        "                # check for nouns\n",
        "                for child in token.head.children:\n",
        "                    noun = \"\"\n",
        "                    # if (child.pos_ == \"NOUN\") and (child.text not in sent_dict):\n",
        "                    if (child.text in extract_words) and (child.pos_ == \"NOUN\") and (child.text not in sent_dict):\n",
        "                        noun = child.text\n",
        "                        # Check for compound nouns\n",
        "                        for subchild in child.children:\n",
        "                            if subchild.dep_ == \"compound\":\n",
        "                                noun = subchild.text + \" \" + noun\n",
        "                        sent_dict[noun] = sentiment\n",
        "                    debug += 1\n",
        "    return sent_dict"
      ],
      "execution_count": null,
      "outputs": []
    },
    {
      "cell_type": "markdown",
      "metadata": {
        "id": "KXtb_FDZYeBi"
      },
      "source": [
        "Read each file in input, perform the analysis and save the answer in output folder."
      ]
    },
    {
      "cell_type": "code",
      "metadata": {
        "id": "X2a33tdgYOHG",
        "colab": {
          "base_uri": "https://localhost:8080/"
        },
        "outputId": "dda24045-ea33-408f-f568-3db8231a780f"
      },
      "source": [
        "for name in glob.glob('main_product/*csv'):\n",
        "  print(name)\n",
        "  ans = pd.DataFrame()\n",
        "  df = pd.read_csv(name)\n",
        "  rev = np.array(df['reviews'])\n",
        "  reviews = preprocess(rev)\n",
        "  asba = [getSentiment(i) for i in reviews]\n",
        "  df['asba'] = asba\n",
        "  final = 'output/' + name[13:]\n",
        "  df.to_csv(final, index=False)"
      ],
      "execution_count": null,
      "outputs": [
        {
          "output_type": "stream",
          "text": [
            "main_product/B000LJWV4S.csv\n",
            "main_product/B07G3SJPLZ.csv\n",
            "main_product/B07TZ3BMKW.csv\n",
            "main_product/B00GZYNX8G.csv\n",
            "main_product/B06VTLLC13.csv\n",
            "main_product/B010ESCLHW.csv\n",
            "main_product/B07JCFY3N4.csv\n",
            "main_product/B07TJ41TMC.csv\n",
            "main_product/B00OYKXTDW.csv\n",
            "main_product/B07568DFCH.csv\n",
            "main_product/B002XTCAXG.csv\n",
            "main_product/B07DQKV38W.csv\n",
            "main_product/B07X5TTTJT.csv\n",
            "main_product/B01J8B219O.csv\n"
          ],
          "name": "stdout"
        }
      ]
    },
    {
      "cell_type": "code",
      "metadata": {
        "id": "G7pFXAzPYOJ7",
        "colab": {
          "base_uri": "https://localhost:8080/"
        },
        "outputId": "4e07e73c-fe5e-404c-da23-dd8d304ff3f6"
      },
      "source": [
        "# Zip the output files into a final zip.\n",
        "!zip -r output.zip output"
      ],
      "execution_count": null,
      "outputs": [
        {
          "output_type": "stream",
          "text": [
            "  adding: output/ (stored 0%)\n",
            "  adding: output/B000LJWV4S.csv (deflated 77%)\n",
            "  adding: output/B07G3SJPLZ.csv (deflated 79%)\n",
            "  adding: output/B07TZ3BMKW.csv (deflated 80%)\n",
            "  adding: output/B00GZYNX8G.csv (deflated 73%)\n",
            "  adding: output/B06VTLLC13.csv (deflated 77%)\n",
            "  adding: output/B010ESCLHW.csv (deflated 72%)\n",
            "  adding: output/B07JCFY3N4.csv (deflated 77%)\n",
            "  adding: output/B07TJ41TMC.csv (deflated 76%)\n",
            "  adding: output/B00OYKXTDW.csv (deflated 73%)\n",
            "  adding: output/B07568DFCH.csv (deflated 80%)\n",
            "  adding: output/B002XTCAXG.csv (deflated 75%)\n",
            "  adding: output/B07DQKV38W.csv (deflated 77%)\n",
            "  adding: output/B07X5TTTJT.csv (deflated 83%)\n",
            "  adding: output/B01J8B219O.csv (deflated 81%)\n"
          ],
          "name": "stdout"
        }
      ]
    },
    {
      "cell_type": "code",
      "metadata": {
        "id": "VU3Qnqi9k9DD"
      },
      "source": [
        ""
      ],
      "execution_count": null,
      "outputs": []
    }
  ]
}