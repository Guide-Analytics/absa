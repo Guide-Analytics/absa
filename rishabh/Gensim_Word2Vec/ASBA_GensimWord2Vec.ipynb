{
  "nbformat": 4,
  "nbformat_minor": 0,
  "metadata": {
    "colab": {
      "name": "ASBA Gensim.ipynb",
      "provenance": [],
      "collapsed_sections": []
    },
    "kernelspec": {
      "name": "python3",
      "display_name": "Python 3"
    }
  },
  "cells": [
    {
      "cell_type": "markdown",
      "metadata": {
        "id": "no5n8PFGre7o"
      },
      "source": [
        "# Gensim Word2Vec"
      ]
    },
    {
      "cell_type": "code",
      "metadata": {
        "id": "3zi50i__qEoZ"
      },
      "source": [
        "!unzip dataset.zip"
      ],
      "execution_count": null,
      "outputs": []
    },
    {
      "cell_type": "code",
      "metadata": {
        "colab": {
          "base_uri": "https://localhost:8080/"
        },
        "id": "nRSPHjKHqbB9",
        "outputId": "583938c6-15d4-480d-f491-5b8e71b62c94"
      },
      "source": [
        "import glob\n",
        "import pandas as pdn\n",
        "import numpy as np\n",
        "import nltk\n",
        "nltk.download('punkt')\n",
        "nltk.download('wordnet')\n",
        "from gensim.models import Word2Vec\n",
        "from nltk.stem import WordNetLemmatizer\n",
        "import re"
      ],
      "execution_count": 2,
      "outputs": [
        {
          "output_type": "stream",
          "text": [
            "[nltk_data] Downloading package punkt to /root/nltk_data...\n",
            "[nltk_data]   Package punkt is already up-to-date!\n",
            "[nltk_data] Downloading package wordnet to /root/nltk_data...\n",
            "[nltk_data]   Package wordnet is already up-to-date!\n"
          ],
          "name": "stdout"
        }
      ]
    },
    {
      "cell_type": "code",
      "metadata": {
        "id": "4iljfQuvqrYh"
      },
      "source": [
        "# Reading the input files and appending the reviews in one dataframe.\n",
        "\n",
        "reviews = []\n",
        "\n",
        "df = None\n",
        "\n",
        "for f in glob.glob('main_product/*.csv'):\n",
        "  temp = pd.read_csv(f, index_col=False, usecols=['reviews'])\n",
        "  if df is None:\n",
        "    df = temp\n",
        "  else:\n",
        "    df = pd.concat([df, temp])"
      ],
      "execution_count": 3,
      "outputs": []
    },
    {
      "cell_type": "code",
      "metadata": {
        "colab": {
          "base_uri": "https://localhost:8080/"
        },
        "id": "j7UTtaadq2gS",
        "outputId": "29fbf9e9-7cc6-45ac-e3f7-cfd31c375d6a"
      },
      "source": [
        "df.shape"
      ],
      "execution_count": 4,
      "outputs": [
        {
          "output_type": "execute_result",
          "data": {
            "text/plain": [
              "(11929, 1)"
            ]
          },
          "metadata": {
            "tags": []
          },
          "execution_count": 4
        }
      ]
    },
    {
      "cell_type": "code",
      "metadata": {
        "id": "3RZoEso8r_bE"
      },
      "source": [
        "reviews = list(df['reviews'])"
      ],
      "execution_count": 5,
      "outputs": []
    },
    {
      "cell_type": "code",
      "metadata": {
        "id": "fimdAsEJt7q7"
      },
      "source": [
        "stop_words = ['i','me', 'my', 'myself', 'we', 'our', 'ours', 'ourselves', 'you', \"you're\", \"you've\", \n",
        "                \"you'll\", \"you'd\", 'your', 'yours', 'yourself', 'yourselves', 'he', 'him', 'his', 'himself',\n",
        "                'she', \"she's\", 'her', 'hers', 'herself', 'them', 'their', 'theirs', 'themselves', 'who', 'whom',\n",
        "                'am', 'is', 'are', 'was', 'were', 'be', 'been', 'being', 'have', 'has', 'had', 'having', 'do', 'does',\n",
        "                'did', 'doing', 'a', 'an', 'the', 'and', 's', 't', 'd', 'll', 'm', 'o', 're', 've', 'y', 'in', 'ma', 'it']"
      ],
      "execution_count": 6,
      "outputs": []
    },
    {
      "cell_type": "markdown",
      "metadata": {
        "id": "-pT0OQ_0z7Na"
      },
      "source": [
        "Steps:<br>\n",
        "1) Remove non alphabetical characters.<br>\n",
        "2) Lowercase the string.<br>\n",
        "3) Remove excess spaces, if any.<br>\n",
        "4) Split the text string into a list of strings.<br>\n",
        "5) Lemmatize and remove stop words.<br>"
      ]
    },
    {
      "cell_type": "code",
      "metadata": {
        "id": "l7QYWoZssN9w"
      },
      "source": [
        "lemma = WordNetLemmatizer()\n",
        "def textProcessing(inp):\n",
        "  inp = re.sub(r\"[^a-zA-z ]\", '', inp)\n",
        "  inp = inp.lower()\n",
        "  inp = re.sub(r\" +\", ' ', inp)\n",
        "  inp_split = inp.split()\n",
        "  nostop = [lemma.lemmatize(word) for word in inp_split if word not in stop_words]\n",
        "  return nostop"
      ],
      "execution_count": 7,
      "outputs": []
    },
    {
      "cell_type": "code",
      "metadata": {
        "id": "FEli3VentaoU"
      },
      "source": [
        "data = [textProcessing(str(inp)) for inp in reviews]"
      ],
      "execution_count": 8,
      "outputs": []
    },
    {
      "cell_type": "code",
      "metadata": {
        "id": "ZR5LDjSuxLDr"
      },
      "source": [
        "model = Word2Vec(data, size=250, sg = 1)"
      ],
      "execution_count": 9,
      "outputs": []
    },
    {
      "cell_type": "code",
      "metadata": {
        "colab": {
          "base_uri": "https://localhost:8080/"
        },
        "id": "M3D9TJ64xX6Z",
        "outputId": "bda03ffe-633f-4b06-f6fc-487f83936de6"
      },
      "source": [
        "print(\"Words similar to 'price' are: \", model.wv.most_similar('price', topn=50), \"\\n\\n\")"
      ],
      "execution_count": 10,
      "outputs": [
        {
          "output_type": "stream",
          "text": [
            "Words similar to 'price' are:  [('value', 0.8818212747573853), ('money', 0.8491735458374023), ('paid', 0.8382959365844727), ('cost', 0.8359091281890869), ('priced', 0.8351467847824097), ('premium', 0.8291002511978149), ('reliability', 0.8275336027145386), ('performance', 0.8247945308685303), ('fair', 0.8229182362556458), ('durability', 0.8167815208435059), ('pricy', 0.8159868717193604), ('category', 0.8140328526496887), ('class', 0.8133774399757385), ('deserves', 0.8117427825927734), ('considering', 0.8079848885536194), ('dollar', 0.8077625036239624), ('pricey', 0.8076850771903992), ('willing', 0.8073707222938538), ('pricei', 0.8033735752105713), ('imo', 0.8024996519088745), ('functionality', 0.8024208545684814), ('inferior', 0.8019040822982788), ('reccomend', 0.8014135956764221), ('pay', 0.8001075983047485), ('deal', 0.799735963344574), ('wise', 0.7994759678840637), ('opinion', 0.7993313074111938), ('paying', 0.7985329031944275), ('sold', 0.7965651750564575), ('lightit', 0.7960131764411926), ('convenience', 0.7949202656745911), ('producing', 0.7944582104682922), ('exceeds', 0.7942418456077576), ('certainly', 0.7941879034042358), ('match', 0.7940323352813721), ('equal', 0.7934584617614746), ('reasonable', 0.7926936149597168), ('investment', 0.7914162278175354), ('compromise', 0.791388750076294), ('technology', 0.7913740277290344), ('buck', 0.7913299798965454), ('selling', 0.7910621166229248), ('concept', 0.7908528447151184), ('misleading', 0.7908310294151306), ('strongly', 0.7905669808387756), ('engineering', 0.7901811003684998), ('disappoint', 0.7898914217948914), ('combo', 0.7893372178077698), ('meet', 0.7887489795684814), ('disappointing', 0.7879786491394043)] \n",
            "\n",
            "\n"
          ],
          "name": "stdout"
        }
      ]
    },
    {
      "cell_type": "code",
      "metadata": {
        "colab": {
          "base_uri": "https://localhost:8080/"
        },
        "id": "IEOoQxoIzdJ6",
        "outputId": "41c64f00-6377-4a92-ee30-db7332266fa1"
      },
      "source": [
        "print(\"Words similar to 'price' are: \", model.wv.most_similar('battery', topn=50), \"\\n\\n\")"
      ],
      "execution_count": 11,
      "outputs": [
        {
          "output_type": "stream",
          "text": [
            "Words similar to 'price' are:  [('shelf', 0.7770299911499023), ('pair', 0.7588521838188171), ('batter', 0.7584606409072876), ('batt', 0.747565507888794), ('ion', 0.7466127872467041), ('batts', 0.7450363636016846), ('lithiumion', 0.7429304718971252), ('forever', 0.7426040768623352), ('rechargables', 0.7421103715896606), ('common', 0.7416403889656067), ('alkaline', 0.7415514588356018), ('protected', 0.7395178079605103), ('specialized', 0.738003134727478), ('proper', 0.7378340363502502), ('alkalines', 0.7358019351959229), ('disposable', 0.7342775464057922), ('cell', 0.7338579893112183), ('freshly', 0.7329918742179871), ('nonrechargeable', 0.7311081290245056), ('readily', 0.7298227548599243), ('special', 0.7264997959136963), ('charger', 0.7247888445854187), ('extend', 0.7238486409187317), ('lithium', 0.7236818671226501), ('separately', 0.720176637172699), ('required', 0.7168635725975037), ('weird', 0.7167133688926697), ('replaceable', 0.7156758904457092), ('greatly', 0.7151648998260498), ('recharges', 0.7142698764801025), ('available', 0.7140933871269226), ('regular', 0.7139683961868286), ('amp', 0.7139290571212769), ('becoming', 0.7138763666152954), ('mention', 0.7100779414176941), ('solar', 0.7090675830841064), ('winner', 0.70859295129776), ('internal', 0.7084580659866333), ('commonly', 0.7077488303184509), ('external', 0.7073580026626587), ('device', 0.7071818709373474), ('single', 0.7056716084480286), ('proprietary', 0.7054246664047241), ('age', 0.7048745155334473), ('moderate', 0.704706072807312), ('longest', 0.7045941948890686), ('rechargeables', 0.7043970227241516), ('supply', 0.7042140364646912), ('save', 0.7039067149162292), ('protection', 0.7035667896270752)] \n",
            "\n",
            "\n"
          ],
          "name": "stdout"
        }
      ]
    },
    {
      "cell_type": "code",
      "metadata": {
        "colab": {
          "base_uri": "https://localhost:8080/"
        },
        "id": "nrwHoezByYKg",
        "outputId": "14a752b7-6500-409e-dbd4-60714a7a1149"
      },
      "source": [
        "model.similarity(\"price\",\"sale\")"
      ],
      "execution_count": 12,
      "outputs": [
        {
          "output_type": "stream",
          "text": [
            "/usr/local/lib/python3.6/dist-packages/ipykernel_launcher.py:1: DeprecationWarning: Call to deprecated `similarity` (Method will be removed in 4.0.0, use self.wv.similarity() instead).\n",
            "  \"\"\"Entry point for launching an IPython kernel.\n"
          ],
          "name": "stderr"
        },
        {
          "output_type": "execute_result",
          "data": {
            "text/plain": [
              "0.76690876"
            ]
          },
          "metadata": {
            "tags": []
          },
          "execution_count": 12
        }
      ]
    },
    {
      "cell_type": "code",
      "metadata": {
        "colab": {
          "base_uri": "https://localhost:8080/"
        },
        "id": "R2FLY-d0zNpC",
        "outputId": "dc7acb1b-e724-43bc-f6f7-3f73a470fdf6"
      },
      "source": [
        "model.similarity(\"price\",\"sturdy\")"
      ],
      "execution_count": 13,
      "outputs": [
        {
          "output_type": "stream",
          "text": [
            "/usr/local/lib/python3.6/dist-packages/ipykernel_launcher.py:1: DeprecationWarning: Call to deprecated `similarity` (Method will be removed in 4.0.0, use self.wv.similarity() instead).\n",
            "  \"\"\"Entry point for launching an IPython kernel.\n"
          ],
          "name": "stderr"
        },
        {
          "output_type": "execute_result",
          "data": {
            "text/plain": [
              "0.6144402"
            ]
          },
          "metadata": {
            "tags": []
          },
          "execution_count": 13
        }
      ]
    },
    {
      "cell_type": "code",
      "metadata": {
        "colab": {
          "base_uri": "https://localhost:8080/"
        },
        "id": "iY5IAr5lzTjz",
        "outputId": "f7da67e6-bc46-4d05-9c72-158b5fdf06fa"
      },
      "source": [
        "model.similarity(\"rechargable\",\"battery\")"
      ],
      "execution_count": 14,
      "outputs": [
        {
          "output_type": "stream",
          "text": [
            "/usr/local/lib/python3.6/dist-packages/ipykernel_launcher.py:1: DeprecationWarning: Call to deprecated `similarity` (Method will be removed in 4.0.0, use self.wv.similarity() instead).\n",
            "  \"\"\"Entry point for launching an IPython kernel.\n"
          ],
          "name": "stderr"
        },
        {
          "output_type": "execute_result",
          "data": {
            "text/plain": [
              "0.66370153"
            ]
          },
          "metadata": {
            "tags": []
          },
          "execution_count": 14
        }
      ]
    },
    {
      "cell_type": "code",
      "metadata": {
        "id": "9dIi8yMQzYQa"
      },
      "source": [
        ""
      ],
      "execution_count": 14,
      "outputs": []
    }
  ]
}
