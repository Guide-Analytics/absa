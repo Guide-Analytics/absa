{
 "cells": [
  {
   "cell_type": "code",
   "execution_count": 19,
   "metadata": {},
   "outputs": [
    {
     "name": "stdout",
     "output_type": "stream",
     "text": [
      "Requirement already satisfied: torch in /opt/conda/lib/python3.7/site-packages (1.7.1)\n",
      "Requirement already satisfied: typing-extensions in /opt/conda/lib/python3.7/site-packages (from torch) (3.7.4.3)\n",
      "Requirement already satisfied: numpy in /opt/conda/lib/python3.7/site-packages (from torch) (1.19.4)\n",
      "Requirement already satisfied: simpletransformers in /opt/conda/lib/python3.7/site-packages (0.51.13)\n",
      "Requirement already satisfied: seqeval in /opt/conda/lib/python3.7/site-packages (from simpletransformers) (1.2.2)\n",
      "Requirement already satisfied: regex in /opt/conda/lib/python3.7/site-packages (from simpletransformers) (2020.11.13)\n",
      "Requirement already satisfied: wandb in /opt/conda/lib/python3.7/site-packages (from simpletransformers) (0.10.13)\n",
      "Requirement already satisfied: transformers>=4.0.0 in /opt/conda/lib/python3.7/site-packages (from simpletransformers) (4.2.1)\n",
      "Requirement already satisfied: streamlit in /opt/conda/lib/python3.7/site-packages (from simpletransformers) (0.74.1)\n",
      "Requirement already satisfied: numpy in /opt/conda/lib/python3.7/site-packages (from simpletransformers) (1.19.4)\n",
      "Requirement already satisfied: scipy in /opt/conda/lib/python3.7/site-packages (from simpletransformers) (1.5.3)\n",
      "Requirement already satisfied: tensorboardx in /opt/conda/lib/python3.7/site-packages (from simpletransformers) (2.1)\n",
      "Requirement already satisfied: sentencepiece in /opt/conda/lib/python3.7/site-packages (from simpletransformers) (0.1.95)\n",
      "Requirement already satisfied: requests in /opt/conda/lib/python3.7/site-packages (from simpletransformers) (2.25.1)\n",
      "Requirement already satisfied: scikit-learn in /opt/conda/lib/python3.7/site-packages (from simpletransformers) (0.24.0)\n",
      "Requirement already satisfied: tokenizers in /opt/conda/lib/python3.7/site-packages (from simpletransformers) (0.9.4)\n",
      "Requirement already satisfied: pandas in /opt/conda/lib/python3.7/site-packages (from simpletransformers) (1.2.0)\n",
      "Requirement already satisfied: tqdm>=4.47.0 in /opt/conda/lib/python3.7/site-packages (from simpletransformers) (4.55.0)\n",
      "Requirement already satisfied: packaging in /opt/conda/lib/python3.7/site-packages (from transformers>=4.0.0->simpletransformers) (20.8)\n",
      "Requirement already satisfied: importlib-metadata in /opt/conda/lib/python3.7/site-packages (from transformers>=4.0.0->simpletransformers) (3.3.0)\n",
      "Requirement already satisfied: sacremoses in /opt/conda/lib/python3.7/site-packages (from transformers>=4.0.0->simpletransformers) (0.0.43)\n",
      "Requirement already satisfied: filelock in /opt/conda/lib/python3.7/site-packages (from transformers>=4.0.0->simpletransformers) (3.0.12)\n",
      "Requirement already satisfied: zipp>=0.5 in /opt/conda/lib/python3.7/site-packages (from importlib-metadata->transformers>=4.0.0->simpletransformers) (3.4.0)\n",
      "Requirement already satisfied: typing-extensions>=3.6.4 in /opt/conda/lib/python3.7/site-packages (from importlib-metadata->transformers>=4.0.0->simpletransformers) (3.7.4.3)\n",
      "Requirement already satisfied: pyparsing>=2.0.2 in /opt/conda/lib/python3.7/site-packages (from packaging->transformers>=4.0.0->simpletransformers) (2.4.7)\n",
      "Requirement already satisfied: python-dateutil>=2.7.3 in /opt/conda/lib/python3.7/site-packages (from pandas->simpletransformers) (2.8.1)\n",
      "Requirement already satisfied: pytz>=2017.3 in /opt/conda/lib/python3.7/site-packages (from pandas->simpletransformers) (2020.5)\n",
      "Requirement already satisfied: six>=1.5 in /opt/conda/lib/python3.7/site-packages (from python-dateutil>=2.7.3->pandas->simpletransformers) (1.15.0)\n",
      "Requirement already satisfied: urllib3<1.27,>=1.21.1 in /opt/conda/lib/python3.7/site-packages (from requests->simpletransformers) (1.26.2)\n",
      "Requirement already satisfied: idna<3,>=2.5 in /opt/conda/lib/python3.7/site-packages (from requests->simpletransformers) (2.10)\n",
      "Requirement already satisfied: certifi>=2017.4.17 in /opt/conda/lib/python3.7/site-packages (from requests->simpletransformers) (2020.12.5)\n",
      "Requirement already satisfied: chardet<5,>=3.0.2 in /opt/conda/lib/python3.7/site-packages (from requests->simpletransformers) (4.0.0)\n",
      "Requirement already satisfied: click in /opt/conda/lib/python3.7/site-packages (from sacremoses->transformers>=4.0.0->simpletransformers) (7.1.2)\n",
      "Requirement already satisfied: joblib in /opt/conda/lib/python3.7/site-packages (from sacremoses->transformers>=4.0.0->simpletransformers) (1.0.0)\n",
      "Requirement already satisfied: threadpoolctl>=2.0.0 in /opt/conda/lib/python3.7/site-packages (from scikit-learn->simpletransformers) (2.1.0)\n",
      "Requirement already satisfied: blinker in /opt/conda/lib/python3.7/site-packages (from streamlit->simpletransformers) (1.4)\n",
      "Requirement already satisfied: altair>=3.2.0 in /opt/conda/lib/python3.7/site-packages (from streamlit->simpletransformers) (4.1.0)\n",
      "Requirement already satisfied: pyarrow in /opt/conda/lib/python3.7/site-packages (from streamlit->simpletransformers) (2.0.0)\n",
      "Requirement already satisfied: protobuf!=3.11,>=3.6.0 in /opt/conda/lib/python3.7/site-packages (from streamlit->simpletransformers) (3.14.0)\n",
      "Requirement already satisfied: validators in /opt/conda/lib/python3.7/site-packages (from streamlit->simpletransformers) (0.18.2)\n",
      "Requirement already satisfied: tornado>=5.0 in /opt/conda/lib/python3.7/site-packages (from streamlit->simpletransformers) (6.1)\n",
      "Requirement already satisfied: tzlocal in /opt/conda/lib/python3.7/site-packages (from streamlit->simpletransformers) (2.1)\n",
      "Requirement already satisfied: pillow>=6.2.0 in /opt/conda/lib/python3.7/site-packages (from streamlit->simpletransformers) (8.0.1)\n",
      "Requirement already satisfied: pydeck>=0.1.dev5 in /opt/conda/lib/python3.7/site-packages (from streamlit->simpletransformers) (0.5.0)\n",
      "Requirement already satisfied: cachetools>=4.0 in /opt/conda/lib/python3.7/site-packages (from streamlit->simpletransformers) (4.2.0)\n",
      "Requirement already satisfied: watchdog in /opt/conda/lib/python3.7/site-packages (from streamlit->simpletransformers) (0.10.4)\n",
      "Requirement already satisfied: base58 in /opt/conda/lib/python3.7/site-packages (from streamlit->simpletransformers) (2.1.0)\n",
      "Requirement already satisfied: toml in /opt/conda/lib/python3.7/site-packages (from streamlit->simpletransformers) (0.10.2)\n",
      "Requirement already satisfied: gitpython in /opt/conda/lib/python3.7/site-packages (from streamlit->simpletransformers) (3.1.11)\n",
      "Requirement already satisfied: astor in /opt/conda/lib/python3.7/site-packages (from streamlit->simpletransformers) (0.8.1)\n",
      "Requirement already satisfied: entrypoints in /opt/conda/lib/python3.7/site-packages (from altair>=3.2.0->streamlit->simpletransformers) (0.3)\n",
      "Requirement already satisfied: toolz in /opt/conda/lib/python3.7/site-packages (from altair>=3.2.0->streamlit->simpletransformers) (0.11.1)\n",
      "Requirement already satisfied: jsonschema in /opt/conda/lib/python3.7/site-packages (from altair>=3.2.0->streamlit->simpletransformers) (3.2.0)\n",
      "Requirement already satisfied: jinja2 in /opt/conda/lib/python3.7/site-packages (from altair>=3.2.0->streamlit->simpletransformers) (2.11.2)\n",
      "Requirement already satisfied: traitlets>=4.3.2 in /opt/conda/lib/python3.7/site-packages (from pydeck>=0.1.dev5->streamlit->simpletransformers) (5.0.5)\n",
      "Requirement already satisfied: ipykernel>=5.1.2 in /opt/conda/lib/python3.7/site-packages (from pydeck>=0.1.dev5->streamlit->simpletransformers) (5.3.4)\n",
      "Requirement already satisfied: ipywidgets>=7.0.0 in /opt/conda/lib/python3.7/site-packages (from pydeck>=0.1.dev5->streamlit->simpletransformers) (7.6.2)\n",
      "Requirement already satisfied: jupyter-client in /opt/conda/lib/python3.7/site-packages (from ipykernel>=5.1.2->pydeck>=0.1.dev5->streamlit->simpletransformers) (6.1.7)\n",
      "Requirement already satisfied: ipython>=5.0.0 in /opt/conda/lib/python3.7/site-packages (from ipykernel>=5.1.2->pydeck>=0.1.dev5->streamlit->simpletransformers) (7.19.0)\n",
      "Requirement already satisfied: pygments in /opt/conda/lib/python3.7/site-packages (from ipython>=5.0.0->ipykernel>=5.1.2->pydeck>=0.1.dev5->streamlit->simpletransformers) (2.7.3)\n",
      "Requirement already satisfied: pexpect>4.3 in /opt/conda/lib/python3.7/site-packages (from ipython>=5.0.0->ipykernel>=5.1.2->pydeck>=0.1.dev5->streamlit->simpletransformers) (4.8.0)\n",
      "Requirement already satisfied: prompt-toolkit!=3.0.0,!=3.0.1,<3.1.0,>=2.0.0 in /opt/conda/lib/python3.7/site-packages (from ipython>=5.0.0->ipykernel>=5.1.2->pydeck>=0.1.dev5->streamlit->simpletransformers) (3.0.8)\n",
      "Requirement already satisfied: backcall in /opt/conda/lib/python3.7/site-packages (from ipython>=5.0.0->ipykernel>=5.1.2->pydeck>=0.1.dev5->streamlit->simpletransformers) (0.2.0)\n",
      "Requirement already satisfied: setuptools>=18.5 in /opt/conda/lib/python3.7/site-packages (from ipython>=5.0.0->ipykernel>=5.1.2->pydeck>=0.1.dev5->streamlit->simpletransformers) (51.1.0)\n",
      "Requirement already satisfied: pickleshare in /opt/conda/lib/python3.7/site-packages (from ipython>=5.0.0->ipykernel>=5.1.2->pydeck>=0.1.dev5->streamlit->simpletransformers) (0.7.5)\n",
      "Requirement already satisfied: jedi>=0.10 in /opt/conda/lib/python3.7/site-packages (from ipython>=5.0.0->ipykernel>=5.1.2->pydeck>=0.1.dev5->streamlit->simpletransformers) (0.18.0)\n",
      "Requirement already satisfied: decorator in /opt/conda/lib/python3.7/site-packages (from ipython>=5.0.0->ipykernel>=5.1.2->pydeck>=0.1.dev5->streamlit->simpletransformers) (4.4.2)\n",
      "Requirement already satisfied: widgetsnbextension~=3.5.0 in /opt/conda/lib/python3.7/site-packages (from ipywidgets>=7.0.0->pydeck>=0.1.dev5->streamlit->simpletransformers) (3.5.1)\n",
      "Requirement already satisfied: nbformat>=4.2.0 in /opt/conda/lib/python3.7/site-packages (from ipywidgets>=7.0.0->pydeck>=0.1.dev5->streamlit->simpletransformers) (5.0.8)\n",
      "Requirement already satisfied: jupyterlab-widgets>=1.0.0 in /opt/conda/lib/python3.7/site-packages (from ipywidgets>=7.0.0->pydeck>=0.1.dev5->streamlit->simpletransformers) (1.0.0)\n",
      "Requirement already satisfied: parso<0.9.0,>=0.8.0 in /opt/conda/lib/python3.7/site-packages (from jedi>=0.10->ipython>=5.0.0->ipykernel>=5.1.2->pydeck>=0.1.dev5->streamlit->simpletransformers) (0.8.1)\n",
      "Requirement already satisfied: MarkupSafe>=0.23 in /opt/conda/lib/python3.7/site-packages (from jinja2->altair>=3.2.0->streamlit->simpletransformers) (1.1.1)\n",
      "Requirement already satisfied: ipython-genutils in /opt/conda/lib/python3.7/site-packages (from nbformat>=4.2.0->ipywidgets>=7.0.0->pydeck>=0.1.dev5->streamlit->simpletransformers) (0.2.0)\n",
      "Requirement already satisfied: jupyter-core in /opt/conda/lib/python3.7/site-packages (from nbformat>=4.2.0->ipywidgets>=7.0.0->pydeck>=0.1.dev5->streamlit->simpletransformers) (4.7.0)\n",
      "Requirement already satisfied: attrs>=17.4.0 in /opt/conda/lib/python3.7/site-packages (from jsonschema->altair>=3.2.0->streamlit->simpletransformers) (20.3.0)\n",
      "Requirement already satisfied: pyrsistent>=0.14.0 in /opt/conda/lib/python3.7/site-packages (from jsonschema->altair>=3.2.0->streamlit->simpletransformers) (0.17.3)\n",
      "Requirement already satisfied: ptyprocess>=0.5 in /opt/conda/lib/python3.7/site-packages (from pexpect>4.3->ipython>=5.0.0->ipykernel>=5.1.2->pydeck>=0.1.dev5->streamlit->simpletransformers) (0.6.0)\n",
      "Requirement already satisfied: wcwidth in /opt/conda/lib/python3.7/site-packages (from prompt-toolkit!=3.0.0,!=3.0.1,<3.1.0,>=2.0.0->ipython>=5.0.0->ipykernel>=5.1.2->pydeck>=0.1.dev5->streamlit->simpletransformers) (0.2.5)\n",
      "Requirement already satisfied: notebook>=4.4.1 in /opt/conda/lib/python3.7/site-packages (from widgetsnbextension~=3.5.0->ipywidgets>=7.0.0->pydeck>=0.1.dev5->streamlit->simpletransformers) (6.1.6)\n",
      "Requirement already satisfied: argon2-cffi in /opt/conda/lib/python3.7/site-packages (from notebook>=4.4.1->widgetsnbextension~=3.5.0->ipywidgets>=7.0.0->pydeck>=0.1.dev5->streamlit->simpletransformers) (20.1.0)\n",
      "Requirement already satisfied: prometheus-client in /opt/conda/lib/python3.7/site-packages (from notebook>=4.4.1->widgetsnbextension~=3.5.0->ipywidgets>=7.0.0->pydeck>=0.1.dev5->streamlit->simpletransformers) (0.9.0)\n",
      "Requirement already satisfied: pyzmq>=17 in /opt/conda/lib/python3.7/site-packages (from notebook>=4.4.1->widgetsnbextension~=3.5.0->ipywidgets>=7.0.0->pydeck>=0.1.dev5->streamlit->simpletransformers) (20.0.0)\n",
      "Requirement already satisfied: terminado>=0.8.3 in /opt/conda/lib/python3.7/site-packages (from notebook>=4.4.1->widgetsnbextension~=3.5.0->ipywidgets>=7.0.0->pydeck>=0.1.dev5->streamlit->simpletransformers) (0.9.1)\n",
      "Requirement already satisfied: nbconvert in /opt/conda/lib/python3.7/site-packages (from notebook>=4.4.1->widgetsnbextension~=3.5.0->ipywidgets>=7.0.0->pydeck>=0.1.dev5->streamlit->simpletransformers) (6.0.7)\n",
      "Requirement already satisfied: Send2Trash in /opt/conda/lib/python3.7/site-packages (from notebook>=4.4.1->widgetsnbextension~=3.5.0->ipywidgets>=7.0.0->pydeck>=0.1.dev5->streamlit->simpletransformers) (1.5.0)\n",
      "Requirement already satisfied: cffi>=1.0.0 in /opt/conda/lib/python3.7/site-packages (from argon2-cffi->notebook>=4.4.1->widgetsnbextension~=3.5.0->ipywidgets>=7.0.0->pydeck>=0.1.dev5->streamlit->simpletransformers) (1.14.4)\n",
      "Requirement already satisfied: pycparser in /opt/conda/lib/python3.7/site-packages (from cffi>=1.0.0->argon2-cffi->notebook>=4.4.1->widgetsnbextension~=3.5.0->ipywidgets>=7.0.0->pydeck>=0.1.dev5->streamlit->simpletransformers) (2.20)\n",
      "Requirement already satisfied: gitdb<5,>=4.0.1 in /opt/conda/lib/python3.7/site-packages (from gitpython->streamlit->simpletransformers) (4.0.5)\n",
      "Requirement already satisfied: smmap<4,>=3.0.1 in /opt/conda/lib/python3.7/site-packages (from gitdb<5,>=4.0.1->gitpython->streamlit->simpletransformers) (3.0.4)\n",
      "Requirement already satisfied: bleach in /opt/conda/lib/python3.7/site-packages (from nbconvert->notebook>=4.4.1->widgetsnbextension~=3.5.0->ipywidgets>=7.0.0->pydeck>=0.1.dev5->streamlit->simpletransformers) (3.2.1)\n",
      "Requirement already satisfied: testpath in /opt/conda/lib/python3.7/site-packages (from nbconvert->notebook>=4.4.1->widgetsnbextension~=3.5.0->ipywidgets>=7.0.0->pydeck>=0.1.dev5->streamlit->simpletransformers) (0.4.4)\n",
      "Requirement already satisfied: defusedxml in /opt/conda/lib/python3.7/site-packages (from nbconvert->notebook>=4.4.1->widgetsnbextension~=3.5.0->ipywidgets>=7.0.0->pydeck>=0.1.dev5->streamlit->simpletransformers) (0.6.0)\n",
      "Requirement already satisfied: mistune<2,>=0.8.1 in /opt/conda/lib/python3.7/site-packages (from nbconvert->notebook>=4.4.1->widgetsnbextension~=3.5.0->ipywidgets>=7.0.0->pydeck>=0.1.dev5->streamlit->simpletransformers) (0.8.4)\n",
      "Requirement already satisfied: pandocfilters>=1.4.1 in /opt/conda/lib/python3.7/site-packages (from nbconvert->notebook>=4.4.1->widgetsnbextension~=3.5.0->ipywidgets>=7.0.0->pydeck>=0.1.dev5->streamlit->simpletransformers) (1.4.2)\n",
      "Requirement already satisfied: nbclient<0.6.0,>=0.5.0 in /opt/conda/lib/python3.7/site-packages (from nbconvert->notebook>=4.4.1->widgetsnbextension~=3.5.0->ipywidgets>=7.0.0->pydeck>=0.1.dev5->streamlit->simpletransformers) (0.5.1)\n",
      "Requirement already satisfied: jupyterlab-pygments in /opt/conda/lib/python3.7/site-packages (from nbconvert->notebook>=4.4.1->widgetsnbextension~=3.5.0->ipywidgets>=7.0.0->pydeck>=0.1.dev5->streamlit->simpletransformers) (0.1.2)\n",
      "Requirement already satisfied: nest-asyncio in /opt/conda/lib/python3.7/site-packages (from nbclient<0.6.0,>=0.5.0->nbconvert->notebook>=4.4.1->widgetsnbextension~=3.5.0->ipywidgets>=7.0.0->pydeck>=0.1.dev5->streamlit->simpletransformers) (1.4.3)\n",
      "Requirement already satisfied: async-generator in /opt/conda/lib/python3.7/site-packages (from nbclient<0.6.0,>=0.5.0->nbconvert->notebook>=4.4.1->widgetsnbextension~=3.5.0->ipywidgets>=7.0.0->pydeck>=0.1.dev5->streamlit->simpletransformers) (1.10)\n",
      "Requirement already satisfied: webencodings in /opt/conda/lib/python3.7/site-packages (from bleach->nbconvert->notebook>=4.4.1->widgetsnbextension~=3.5.0->ipywidgets>=7.0.0->pydeck>=0.1.dev5->streamlit->simpletransformers) (0.5.1)\n",
      "Requirement already satisfied: subprocess32>=3.5.3 in /opt/conda/lib/python3.7/site-packages (from wandb->simpletransformers) (3.5.4)\n",
      "Requirement already satisfied: docker-pycreds>=0.4.0 in /opt/conda/lib/python3.7/site-packages (from wandb->simpletransformers) (0.4.0)\n",
      "Requirement already satisfied: PyYAML in /opt/conda/lib/python3.7/site-packages (from wandb->simpletransformers) (5.3.1)\n",
      "Requirement already satisfied: sentry-sdk>=0.4.0 in /opt/conda/lib/python3.7/site-packages (from wandb->simpletransformers) (0.19.5)\n",
      "Requirement already satisfied: promise<3,>=2.0 in /opt/conda/lib/python3.7/site-packages (from wandb->simpletransformers) (2.3)\n",
      "Requirement already satisfied: configparser>=3.8.1 in /opt/conda/lib/python3.7/site-packages (from wandb->simpletransformers) (5.0.1)\n",
      "Requirement already satisfied: shortuuid>=0.5.0 in /opt/conda/lib/python3.7/site-packages (from wandb->simpletransformers) (1.0.1)\n",
      "Requirement already satisfied: psutil>=5.0.0 in /opt/conda/lib/python3.7/site-packages (from wandb->simpletransformers) (5.8.0)\n",
      "Requirement already satisfied: pathtools>=0.1.1 in /opt/conda/lib/python3.7/site-packages (from watchdog->streamlit->simpletransformers) (0.1.2)\n"
     ]
    }
   ],
   "source": [
    "!pip install torch\n",
    "!pip install simpletransformers"
   ]
  },
  {
   "cell_type": "markdown",
   "metadata": {},
   "source": [
    "#### 1) Importing necessary files"
   ]
  },
  {
   "cell_type": "code",
   "execution_count": 20,
   "metadata": {},
   "outputs": [],
   "source": [
    "import re\n",
    "import pandas as pd\n",
    "import numpy as np\n",
    "import json\n",
    "import os"
   ]
  },
  {
   "cell_type": "code",
   "execution_count": 21,
   "metadata": {},
   "outputs": [],
   "source": [
    "from simpletransformers.question_answering import QuestionAnsweringModel"
   ]
  },
  {
   "cell_type": "markdown",
   "metadata": {},
   "source": [
    "#### 2) Fine Tuning Q&A model on some dummy data."
   ]
  },
  {
   "cell_type": "code",
   "execution_count": 22,
   "metadata": {},
   "outputs": [],
   "source": [
    "# Create dummy data to use for training.\n",
    "train_data = [\n",
    "    {\n",
    "        \"context\": \"This is the first context\",\n",
    "        \"qas\": [\n",
    "            {\n",
    "                \"id\": \"00001\",\n",
    "                \"is_impossible\": False,\n",
    "                \"question\": \"Which context is this?\",\n",
    "                \"answers\": [{\"text\": \"the first\", \"answer_start\": 8}],\n",
    "            }\n",
    "        ],\n",
    "    },\n",
    "    {\n",
    "        \"context\": \"Other legislation followed, including the Migratory Bird Conservation Act of 1929, a 1937 treaty prohibiting the hunting of right and gray whales,            and the Bald Eagle Protection Act of 1940. These later laws had a low cost to society—the species were relatively rare—and little opposition was raised\",\n",
    "        \"qas\": [\n",
    "            {\n",
    "                \"id\": \"00002\",\n",
    "                \"is_impossible\": False,\n",
    "                \"question\": \"What was the cost to society?\",\n",
    "                \"answers\": [{\"text\": \"low cost\", \"answer_start\": 225}],\n",
    "            },\n",
    "            {\n",
    "                \"id\": \"00003\",\n",
    "                \"is_impossible\": False,\n",
    "                \"question\": \"What was the name of the 1937 treaty?\",\n",
    "                \"answers\": [{\"text\": \"Bald Eagle Protection Act\", \"answer_start\": 167}],\n",
    "            },\n",
    "        ],\n",
    "    },\n",
    "]"
   ]
  },
  {
   "cell_type": "code",
   "execution_count": 23,
   "metadata": {},
   "outputs": [
    {
     "name": "stderr",
     "output_type": "stream",
     "text": [
      "convert squad examples to features: 100%|██████████| 3/3 [00:00<00:00, 33.18it/s]\n",
      "add example index and unique id: 100%|██████████| 3/3 [00:00<00:00, 27654.75it/s]\n"
     ]
    },
    {
     "data": {
      "application/vnd.jupyter.widget-view+json": {
       "model_id": "aa8a83f0086b4432859f37ca6952b67d",
       "version_major": 2,
       "version_minor": 0
      },
      "text/plain": [
       "Epoch:   0%|          | 0/1 [00:00<?, ?it/s]"
      ]
     },
     "metadata": {},
     "output_type": "display_data"
    },
    {
     "data": {
      "application/vnd.jupyter.widget-view+json": {
       "model_id": "99cbfa6fb3134f50afe80cab7df362de",
       "version_major": 2,
       "version_minor": 0
      },
      "text/plain": [
       "Running Epoch 0 of 1:   0%|          | 0/1 [00:00<?, ?it/s]"
      ]
     },
     "metadata": {},
     "output_type": "display_data"
    },
    {
     "name": "stderr",
     "output_type": "stream",
     "text": [
      "/opt/conda/lib/python3.7/site-packages/torch/optim/lr_scheduler.py:216: UserWarning: Please also save or load the state of the optimizer when saving or loading the scheduler.\n",
      "  warnings.warn(SAVE_STATE_WARNING, UserWarning)\n"
     ]
    },
    {
     "data": {
      "text/plain": [
       "(1, 2.1835758686065674)"
      ]
     },
     "execution_count": 23,
     "metadata": {},
     "output_type": "execute_result"
    }
   ],
   "source": [
    "# Save as a JSON file\n",
    "os.makedirs(\"data\", exist_ok=True)\n",
    "with open(\"data/train.json\", \"w\") as f:\n",
    "    json.dump(train_data, f)\n",
    "\n",
    "# Create the QuestionAnsweringModel\n",
    "model = QuestionAnsweringModel(\n",
    "    \"distilbert\",\n",
    "    \"distilbert-base-uncased-distilled-squad\", use_cuda=False,\n",
    "    args={\"reprocess_input_data\": True, \"overwrite_output_dir\": True,\"epochs\": 5},\n",
    ")\n",
    "\n",
    "# Train the model\n",
    "model.train_model(\"data/train.json\")"
   ]
  },
  {
   "cell_type": "code",
   "execution_count": null,
   "metadata": {},
   "outputs": [],
   "source": []
  },
  {
   "cell_type": "code",
   "execution_count": 24,
   "metadata": {},
   "outputs": [
    {
     "name": "stderr",
     "output_type": "stream",
     "text": [
      "convert squad examples to features: 100%|██████████| 2/2 [00:00<00:00, 142.57it/s]\n",
      "add example index and unique id: 100%|██████████| 2/2 [00:00<00:00, 10824.01it/s]\n"
     ]
    },
    {
     "data": {
      "application/vnd.jupyter.widget-view+json": {
       "model_id": "85275ed6d70a482d977e54c4b7ad839a",
       "version_major": 2,
       "version_minor": 0
      },
      "text/plain": [
       "Running Prediction:   0%|          | 0/1 [00:00<?, ?it/s]"
      ]
     },
     "metadata": {},
     "output_type": "display_data"
    },
    {
     "name": "stdout",
     "output_type": "stream",
     "text": [
      "[{'id': '0', 'answer': ['This is the context used for demonstrating predictions.']}, {'id': '1', 'answer': ['This is the context used for demonstrating predictions.']}]\n"
     ]
    }
   ],
   "source": [
    "# Testing prediction on some dummy data just to ensure that model is working.\n",
    "to_predict = [\n",
    "    {\n",
    "        \"context\": \"This is the context used for demonstrating predictions.\",\n",
    "        \"qas\": [{\"question\": \"What is this context?\", \"id\": \"0\"},\n",
    "               {\"question\": \"What are the predictions?\", \"id\": \"1\"}],\n",
    "    }\n",
    "]\n",
    "\n",
    "print(model.predict(to_predict,n_best_size=1)[0])"
   ]
  },
  {
   "cell_type": "markdown",
   "metadata": {},
   "source": [
    "#### getJson() function creates a json object with questions to be asked to the Q&A model. The structure of the json is as follows:<br>\n",
    "1) First value is context, which is the review text.<br>\n",
    "2) Second is an array of JSON objects, namely qas. This contains an array of JSON objects which are the questions.<br>\n",
    "3) Each question is a JSON object with two fields, first field titled \"question\" contains the question, and second field titled \"id\" should be a unique integer in string format.<br>\n",
    "4) This function will return the appropriate JSON object for each review and updated counter for id. The JSON object will be used as an input to the Q&A model for predictions."
   ]
  },
  {
   "cell_type": "code",
   "execution_count": 25,
   "metadata": {},
   "outputs": [],
   "source": [
    "def getJson(f, count):\n",
    "    temp = {\n",
    "      \"context\": f,\n",
    "      \"qas\": [\n",
    "          {\n",
    "            \"question\": \"How is the laptop?\",\n",
    "            \"id\": str(count),\n",
    "          },\n",
    "          {\n",
    "            \"question\": \"How is the support?\",\n",
    "            \"id\": str(count + 1)\n",
    "          },\n",
    "          {\n",
    "            \"question\": \"How is the display?\",\n",
    "            \"id\": str(count + 2),\n",
    "          },\n",
    "          {\n",
    "            \"question\": \"How is the battery?\",\n",
    "            \"id\": str(count + 3),\n",
    "          },\n",
    "          {\n",
    "            \"question\": \"How is the keyboard?\",\n",
    "            \"id\": str(count + 4),\n",
    "          },\n",
    "          {\n",
    "            \"question\": \"How is the company?\",\n",
    "            \"id\": str(count + 5),\n",
    "          },\n",
    "          {\n",
    "            \"question\": \"How is the software?\",\n",
    "            \"id\": str(count + 6),\n",
    "          },\n",
    "          {\n",
    "            \"question\": \"How is the mouse?\",\n",
    "            \"id\": str(count + 7),\n",
    "          },\n",
    "          {\n",
    "            \"question\": \"How is the OS?\",\n",
    "            \"id\": str(count + 8),\n",
    "          },\n",
    "          {\n",
    "            \"question\": \"How are the multimedia devices?\",\n",
    "            \"id\": str(count + 9),\n",
    "          },\n",
    "          {\n",
    "            \"question\": \"How are the graphics?\",\n",
    "            \"id\": str(count + 10),\n",
    "          },\n",
    "          {\n",
    "            \"question\": \"How is the hard disc?\",\n",
    "            \"id\": str(count + 11),\n",
    "          },\n",
    "          {\n",
    "            \"question\": \"How is the CPU?\",\n",
    "            \"id\": str(count + 12),\n",
    "          },\n",
    "          {\n",
    "            \"question\": \"How is the power supply?\",\n",
    "            \"id\": str(count + 13),\n",
    "          },\n",
    "          {\n",
    "            \"question\": \"How is the memory?\",\n",
    "            \"id\": str(count + 14),\n",
    "          },\n",
    "          {\n",
    "            \"question\": \"How is the shipping?\",\n",
    "            \"id\": str(count + 15),\n",
    "          },\n",
    "          {\n",
    "            \"question\": \"How is the motherboard?\",\n",
    "            \"id\": str(count + 16),\n",
    "          },\n",
    "          {\n",
    "            \"question\": \"How is the hardware?\",\n",
    "            \"id\": str(count + 17),\n",
    "          },\n",
    "          {\n",
    "            \"question\": \"How are the ports?\",\n",
    "            \"id\": str(count + 18),\n",
    "          },\n",
    "          {\n",
    "            \"question\": \"How are the optical drivers?\",\n",
    "            \"id\": str(count + 19),\n",
    "          },\n",
    "          {\n",
    "            \"question\": \"How are the fan?\",\n",
    "            \"id\": str(count + 20),\n",
    "          },\n",
    "          {\n",
    "            \"question\": \"How is the warranty?\",\n",
    "            \"id\": str(count + 21),\n",
    "          },\n",
    "      ]\n",
    "    }\n",
    "    count += 22\n",
    "    return temp, count"
   ]
  },
  {
   "cell_type": "markdown",
   "metadata": {},
   "source": [
    "#### This function will clean the input text."
   ]
  },
  {
   "cell_type": "code",
   "execution_count": 26,
   "metadata": {},
   "outputs": [],
   "source": [
    " def preprocess(text_data):\n",
    "  raw = text_data\n",
    "  # low = [i.lower() for i in raw]\n",
    "  low = text_data\n",
    "  reviews = list()\n",
    "  for i in low:\n",
    "    i = re.sub(r'\\n|\\t|\\\\', ' ', i)\n",
    "    reviews.append(i)\n",
    "  return reviews"
   ]
  },
  {
   "cell_type": "code",
   "execution_count": 27,
   "metadata": {},
   "outputs": [],
   "source": [
    "df = pd.read_csv('Laptop_SB1_processed_data.csv')"
   ]
  },
  {
   "cell_type": "code",
   "execution_count": 28,
   "metadata": {},
   "outputs": [],
   "source": [
    "rev = df['reviews']"
   ]
  },
  {
   "cell_type": "code",
   "execution_count": 29,
   "metadata": {},
   "outputs": [
    {
     "data": {
      "text/plain": [
       "450"
      ]
     },
     "execution_count": 29,
     "metadata": {},
     "output_type": "execute_result"
    }
   ],
   "source": [
    "len(df['reviews'])"
   ]
  },
  {
   "cell_type": "code",
   "execution_count": 30,
   "metadata": {},
   "outputs": [],
   "source": [
    "final = preprocess(rev)"
   ]
  },
  {
   "cell_type": "markdown",
   "metadata": {},
   "source": [
    "#### Output from Q&A model is again a JSON object. This function parses the JSON and stores output for each aspect in a list which will be used to populate the resulting dataframe. If answer to a particular question is not present in the text as per the model, an empty string is appended to make sure that the number of rows are consistant."
   ]
  },
  {
   "cell_type": "code",
   "execution_count": 31,
   "metadata": {},
   "outputs": [],
   "source": [
    "l0 = list()\n",
    "l1 = list()\n",
    "l2 = list()\n",
    "l3 = list()\n",
    "l4 = list()\n",
    "l5 = list()\n",
    "l6 = list()\n",
    "l7 = list()\n",
    "l8 = list()\n",
    "l9 = list()\n",
    "l10 = list()\n",
    "l11 = list()\n",
    "l12 = list()\n",
    "l13 = list()\n",
    "l14 = list()\n",
    "l15 = list()\n",
    "l16 = list()\n",
    "l17 = list()\n",
    "l18 = list()\n",
    "l19 = list()\n",
    "l20 = list()\n",
    "l21 = list()\n",
    "\n",
    "def compute(fin):\n",
    "    cnt = 0\n",
    "    for f in fin:\n",
    "        js, cnt2 = getJson(f, cnt)\n",
    "        cnt = cnt2\n",
    "        pred = model.predict([js], n_best_size=1)[0]\n",
    "        # print(pred)\n",
    "        if pred[0]['answer'] is not ['empty']:\n",
    "            l0.append(pred[0]['answer'][0])\n",
    "        else:\n",
    "            l0.append('')\n",
    "        if pred[1]['answer'] is not ['empty']:\n",
    "            l1.append(pred[1]['answer'][0])\n",
    "        else:\n",
    "            l1.append('')\n",
    "        if pred[2]['answer'] is not ['empty']:\n",
    "            l2.append(pred[2]['answer'][0])\n",
    "        else:\n",
    "            l2.append('')\n",
    "        if pred[3]['answer'] is not ['empty']:\n",
    "            l3.append(pred[3]['answer'][0])\n",
    "        else:\n",
    "            l3.append('')\n",
    "        if pred[4]['answer'] is not ['empty']:\n",
    "            l4.append(pred[4]['answer'][0])\n",
    "        else:\n",
    "            l4.append('')\n",
    "        if pred[5]['answer'] is not ['empty']:\n",
    "            l5.append(pred[5]['answer'][0])\n",
    "        else:\n",
    "            l5.append('')\n",
    "        if pred[6]['answer'] is not ['empty']:\n",
    "            l6.append(pred[6]['answer'][0])\n",
    "        else:\n",
    "            l6.append('')\n",
    "        if pred[7]['answer'] is not ['empty']:\n",
    "            l7.append(pred[6]['answer'][0])\n",
    "        else:\n",
    "            l7.append('')\n",
    "        if pred[8]['answer'] is not ['empty']:\n",
    "            l8.append(pred[8]['answer'][0])\n",
    "        else:\n",
    "            l8.append('')\n",
    "        if pred[9]['answer'] is not ['empty']:\n",
    "            l9.append(pred[9]['answer'][0])\n",
    "        else:\n",
    "            l9.append('')\n",
    "        if pred[10]['answer'] is not ['empty']:\n",
    "            l10.append(pred[10]['answer'][0])\n",
    "        else:\n",
    "            l10.append('')\n",
    "        if pred[11]['answer'] is not ['empty']:\n",
    "            l11.append(pred[11]['answer'][0])\n",
    "        else:\n",
    "            l11.append('')\n",
    "        if pred[12]['answer'] is not ['empty']:\n",
    "            l12.append(pred[12]['answer'][0])\n",
    "        else:\n",
    "            l12.append('')\n",
    "        if pred[13]['answer'] is not ['empty']:\n",
    "            l13.append(pred[13]['answer'][0])\n",
    "        else:\n",
    "            l13.append('')\n",
    "        if pred[14]['answer'] is not ['empty']:\n",
    "            l14.append(pred[14]['answer'][0])\n",
    "        else:\n",
    "            l14.append('')\n",
    "        if pred[15]['answer'] is not ['empty']:\n",
    "            l15.append(pred[15]['answer'][0])\n",
    "        else:\n",
    "            l15.append('')\n",
    "        if pred[16]['answer'] is not ['empty']:\n",
    "            l16.append(pred[16]['answer'][0])\n",
    "        else:\n",
    "            l16.append('')\n",
    "        if pred[17]['answer'] is not ['empty']:\n",
    "            l17.append(pred[17]['answer'][0])\n",
    "        else:\n",
    "            l17.append('')\n",
    "        if pred[18]['answer'] is not ['empty']:\n",
    "            l18.append(pred[18]['answer'][0])\n",
    "        else:\n",
    "            l18.append('')\n",
    "        if pred[19]['answer'] is not ['empty']:\n",
    "            l19.append(pred[19]['answer'][0])\n",
    "        else:\n",
    "            l19.append('')\n",
    "        if pred[20]['answer'] is not ['empty']:\n",
    "            l20.append(pred[20]['answer'][0])\n",
    "        else:\n",
    "            l20.append('')\n",
    "        if pred[21]['answer'] is not ['empty']:\n",
    "            l21.append(pred[21]['answer'][0])\n",
    "        else:\n",
    "            l21.append('')"
   ]
  },
  {
   "cell_type": "code",
   "execution_count": 32,
   "metadata": {},
   "outputs": [
    {
     "name": "stderr",
     "output_type": "stream",
     "text": [
      "convert squad examples to features: 100%|██████████| 22/22 [00:00<00:00, 152.43it/s]\n",
      "add example index and unique id: 100%|██████████| 22/22 [00:00<00:00, 133731.43it/s]\n"
     ]
    },
    {
     "data": {
      "application/vnd.jupyter.widget-view+json": {
       "model_id": "540e4d5b131b44a986d02fbcf0286b6a",
       "version_major": 2,
       "version_minor": 0
      },
      "text/plain": [
       "Running Prediction:   0%|          | 0/3 [00:00<?, ?it/s]"
      ]
     },
     "metadata": {},
     "output_type": "display_data"
    },
    {
     "name": "stderr",
     "output_type": "stream",
     "text": [
      "convert squad examples to features: 100%|██████████| 22/22 [00:00<00:00, 246.40it/s]\n",
      "add example index and unique id: 100%|██████████| 22/22 [00:00<00:00, 150284.51it/s]\n"
     ]
    },
    {
     "data": {
      "application/vnd.jupyter.widget-view+json": {
       "model_id": "31b698ecbe8b4c578af76badc66b2e0c",
       "version_major": 2,
       "version_minor": 0
      },
      "text/plain": [
       "Running Prediction:   0%|          | 0/3 [00:00<?, ?it/s]"
      ]
     },
     "metadata": {},
     "output_type": "display_data"
    },
    {
     "name": "stderr",
     "output_type": "stream",
     "text": [
      "convert squad examples to features: 100%|██████████| 22/22 [00:00<00:00, 132.63it/s]\n",
      "add example index and unique id: 100%|██████████| 22/22 [00:00<00:00, 158547.57it/s]\n"
     ]
    },
    {
     "data": {
      "application/vnd.jupyter.widget-view+json": {
       "model_id": "631931b009cf444088a7047aeea211b5",
       "version_major": 2,
       "version_minor": 0
      },
      "text/plain": [
       "Running Prediction:   0%|          | 0/3 [00:00<?, ?it/s]"
      ]
     },
     "metadata": {},
     "output_type": "display_data"
    },
    {
     "name": "stderr",
     "output_type": "stream",
     "text": [
      "convert squad examples to features: 100%|██████████| 22/22 [00:00<00:00, 91.75it/s]\n",
      "add example index and unique id: 100%|██████████| 22/22 [00:00<00:00, 157734.51it/s]\n"
     ]
    },
    {
     "data": {
      "application/vnd.jupyter.widget-view+json": {
       "model_id": "d12696cbec294b8db29608a64f0e4014",
       "version_major": 2,
       "version_minor": 0
      },
      "text/plain": [
       "Running Prediction:   0%|          | 0/3 [00:00<?, ?it/s]"
      ]
     },
     "metadata": {},
     "output_type": "display_data"
    },
    {
     "name": "stderr",
     "output_type": "stream",
     "text": [
      "convert squad examples to features: 100%|██████████| 22/22 [00:00<00:00, 195.98it/s]\n",
      "add example index and unique id: 100%|██████████| 22/22 [00:00<00:00, 141525.60it/s]\n"
     ]
    },
    {
     "data": {
      "application/vnd.jupyter.widget-view+json": {
       "model_id": "99b2795e43df4d9d9b28ad5d3a34e74e",
       "version_major": 2,
       "version_minor": 0
      },
      "text/plain": [
       "Running Prediction:   0%|          | 0/3 [00:00<?, ?it/s]"
      ]
     },
     "metadata": {},
     "output_type": "display_data"
    },
    {
     "name": "stderr",
     "output_type": "stream",
     "text": [
      "convert squad examples to features: 100%|██████████| 22/22 [00:00<00:00, 176.42it/s]\n",
      "add example index and unique id: 100%|██████████| 22/22 [00:00<00:00, 92645.27it/s]\n"
     ]
    },
    {
     "data": {
      "application/vnd.jupyter.widget-view+json": {
       "model_id": "12b89c7b741549f99ab1caa6270a252e",
       "version_major": 2,
       "version_minor": 0
      },
      "text/plain": [
       "Running Prediction:   0%|          | 0/3 [00:00<?, ?it/s]"
      ]
     },
     "metadata": {},
     "output_type": "display_data"
    },
    {
     "name": "stderr",
     "output_type": "stream",
     "text": [
      "convert squad examples to features: 100%|██████████| 22/22 [00:00<00:00, 291.90it/s]\n",
      "add example index and unique id: 100%|██████████| 22/22 [00:00<00:00, 200597.15it/s]\n"
     ]
    },
    {
     "data": {
      "application/vnd.jupyter.widget-view+json": {
       "model_id": "be0e6b36a1dc42aaa893149dcdc022b2",
       "version_major": 2,
       "version_minor": 0
      },
      "text/plain": [
       "Running Prediction:   0%|          | 0/3 [00:00<?, ?it/s]"
      ]
     },
     "metadata": {},
     "output_type": "display_data"
    },
    {
     "name": "stderr",
     "output_type": "stream",
     "text": [
      "convert squad examples to features: 100%|██████████| 22/22 [00:00<00:00, 171.38it/s]\n",
      "add example index and unique id: 100%|██████████| 22/22 [00:00<00:00, 80518.92it/s]\n"
     ]
    },
    {
     "data": {
      "application/vnd.jupyter.widget-view+json": {
       "model_id": "00b83b2055c946be9f2f0325e47bae83",
       "version_major": 2,
       "version_minor": 0
      },
      "text/plain": [
       "Running Prediction:   0%|          | 0/3 [00:00<?, ?it/s]"
      ]
     },
     "metadata": {},
     "output_type": "display_data"
    },
    {
     "name": "stderr",
     "output_type": "stream",
     "text": [
      "convert squad examples to features: 100%|██████████| 22/22 [00:00<00:00, 251.09it/s]\n",
      "add example index and unique id: 100%|██████████| 22/22 [00:00<00:00, 153280.21it/s]\n"
     ]
    },
    {
     "data": {
      "application/vnd.jupyter.widget-view+json": {
       "model_id": "f0736e70e0a14e658c81afd98e5c449f",
       "version_major": 2,
       "version_minor": 0
      },
      "text/plain": [
       "Running Prediction:   0%|          | 0/3 [00:00<?, ?it/s]"
      ]
     },
     "metadata": {},
     "output_type": "display_data"
    },
    {
     "name": "stderr",
     "output_type": "stream",
     "text": [
      "convert squad examples to features: 100%|██████████| 22/22 [00:00<00:00, 294.90it/s]\n",
      "add example index and unique id: 100%|██████████| 22/22 [00:00<00:00, 81299.28it/s]\n"
     ]
    },
    {
     "data": {
      "application/vnd.jupyter.widget-view+json": {
       "model_id": "33f24bc82f7149cb8c0140b02510ad31",
       "version_major": 2,
       "version_minor": 0
      },
      "text/plain": [
       "Running Prediction:   0%|          | 0/3 [00:00<?, ?it/s]"
      ]
     },
     "metadata": {},
     "output_type": "display_data"
    },
    {
     "name": "stderr",
     "output_type": "stream",
     "text": [
      "convert squad examples to features: 100%|██████████| 22/22 [00:00<00:00, 255.78it/s]\n",
      "add example index and unique id: 100%|██████████| 22/22 [00:00<00:00, 172799.04it/s]\n"
     ]
    },
    {
     "data": {
      "application/vnd.jupyter.widget-view+json": {
       "model_id": "afae0b8bda38473fa1b4e3432ab8974f",
       "version_major": 2,
       "version_minor": 0
      },
      "text/plain": [
       "Running Prediction:   0%|          | 0/3 [00:00<?, ?it/s]"
      ]
     },
     "metadata": {},
     "output_type": "display_data"
    },
    {
     "name": "stderr",
     "output_type": "stream",
     "text": [
      "convert squad examples to features: 100%|██████████| 22/22 [00:00<00:00, 95.93it/s]\n",
      "add example index and unique id: 100%|██████████| 22/22 [00:00<00:00, 157734.51it/s]\n"
     ]
    },
    {
     "data": {
      "application/vnd.jupyter.widget-view+json": {
       "model_id": "adef4f3b8845478c92d6c830a907d1ab",
       "version_major": 2,
       "version_minor": 0
      },
      "text/plain": [
       "Running Prediction:   0%|          | 0/3 [00:00<?, ?it/s]"
      ]
     },
     "metadata": {},
     "output_type": "display_data"
    },
    {
     "name": "stderr",
     "output_type": "stream",
     "text": [
      "convert squad examples to features: 100%|██████████| 22/22 [00:00<00:00, 295.80it/s]\n",
      "add example index and unique id: 100%|██████████| 22/22 [00:00<00:00, 158004.60it/s]\n"
     ]
    },
    {
     "data": {
      "application/vnd.jupyter.widget-view+json": {
       "model_id": "d6df584f439c473b91f2de94793c2417",
       "version_major": 2,
       "version_minor": 0
      },
      "text/plain": [
       "Running Prediction:   0%|          | 0/3 [00:00<?, ?it/s]"
      ]
     },
     "metadata": {},
     "output_type": "display_data"
    },
    {
     "name": "stderr",
     "output_type": "stream",
     "text": [
      "convert squad examples to features: 100%|██████████| 22/22 [00:00<00:00, 214.87it/s]\n",
      "add example index and unique id: 100%|██████████| 22/22 [00:00<00:00, 114912.44it/s]\n"
     ]
    },
    {
     "data": {
      "application/vnd.jupyter.widget-view+json": {
       "model_id": "7bc49edd55e44003887f28ad4838f309",
       "version_major": 2,
       "version_minor": 0
      },
      "text/plain": [
       "Running Prediction:   0%|          | 0/3 [00:00<?, ?it/s]"
      ]
     },
     "metadata": {},
     "output_type": "display_data"
    },
    {
     "name": "stderr",
     "output_type": "stream",
     "text": [
      "convert squad examples to features: 100%|██████████| 22/22 [00:00<00:00, 299.54it/s]\n",
      "add example index and unique id: 100%|██████████| 22/22 [00:00<00:00, 131632.94it/s]\n"
     ]
    },
    {
     "data": {
      "application/vnd.jupyter.widget-view+json": {
       "model_id": "211e3ef809794eebac2667887d3aa080",
       "version_major": 2,
       "version_minor": 0
      },
      "text/plain": [
       "Running Prediction:   0%|          | 0/3 [00:00<?, ?it/s]"
      ]
     },
     "metadata": {},
     "output_type": "display_data"
    },
    {
     "name": "stderr",
     "output_type": "stream",
     "text": [
      "convert squad examples to features: 100%|██████████| 22/22 [00:00<00:00, 297.04it/s]\n",
      "add example index and unique id: 100%|██████████| 22/22 [00:00<00:00, 129599.28it/s]\n"
     ]
    },
    {
     "data": {
      "application/vnd.jupyter.widget-view+json": {
       "model_id": "9d6172e120274231b2970586409c603a",
       "version_major": 2,
       "version_minor": 0
      },
      "text/plain": [
       "Running Prediction:   0%|          | 0/3 [00:00<?, ?it/s]"
      ]
     },
     "metadata": {},
     "output_type": "display_data"
    },
    {
     "name": "stderr",
     "output_type": "stream",
     "text": [
      "convert squad examples to features: 100%|██████████| 22/22 [00:00<00:00, 91.16it/s]\n",
      "add example index and unique id: 100%|██████████| 22/22 [00:00<00:00, 93584.88it/s]\n"
     ]
    },
    {
     "data": {
      "application/vnd.jupyter.widget-view+json": {
       "model_id": "e1995b2dda004700ad3333c880290dc5",
       "version_major": 2,
       "version_minor": 0
      },
      "text/plain": [
       "Running Prediction:   0%|          | 0/3 [00:00<?, ?it/s]"
      ]
     },
     "metadata": {},
     "output_type": "display_data"
    },
    {
     "name": "stderr",
     "output_type": "stream",
     "text": [
      "convert squad examples to features: 100%|██████████| 22/22 [00:00<00:00, 318.42it/s]\n",
      "add example index and unique id: 100%|██████████| 22/22 [00:00<00:00, 161885.42it/s]\n"
     ]
    },
    {
     "data": {
      "application/vnd.jupyter.widget-view+json": {
       "model_id": "001899ade0a9403b95b2b83482f9a0a7",
       "version_major": 2,
       "version_minor": 0
      },
      "text/plain": [
       "Running Prediction:   0%|          | 0/3 [00:00<?, ?it/s]"
      ]
     },
     "metadata": {},
     "output_type": "display_data"
    },
    {
     "name": "stderr",
     "output_type": "stream",
     "text": [
      "convert squad examples to features: 100%|██████████| 22/22 [00:00<00:00, 338.44it/s]\n",
      "add example index and unique id: 100%|██████████| 22/22 [00:00<00:00, 76260.07it/s]\n"
     ]
    },
    {
     "data": {
      "application/vnd.jupyter.widget-view+json": {
       "model_id": "28e9f15115ab45c8a8a736e09788e831",
       "version_major": 2,
       "version_minor": 0
      },
      "text/plain": [
       "Running Prediction:   0%|          | 0/3 [00:00<?, ?it/s]"
      ]
     },
     "metadata": {},
     "output_type": "display_data"
    },
    {
     "name": "stderr",
     "output_type": "stream",
     "text": [
      "convert squad examples to features: 100%|██████████| 22/22 [00:00<00:00, 133.28it/s]\n",
      "add example index and unique id: 100%|██████████| 22/22 [00:00<00:00, 119217.94it/s]\n"
     ]
    },
    {
     "data": {
      "application/vnd.jupyter.widget-view+json": {
       "model_id": "9cc948f17a3943a99661d7ab9ee31a45",
       "version_major": 2,
       "version_minor": 0
      },
      "text/plain": [
       "Running Prediction:   0%|          | 0/3 [00:00<?, ?it/s]"
      ]
     },
     "metadata": {},
     "output_type": "display_data"
    },
    {
     "name": "stderr",
     "output_type": "stream",
     "text": [
      "convert squad examples to features: 100%|██████████| 22/22 [00:00<00:00, 331.10it/s]\n",
      "add example index and unique id: 100%|██████████| 22/22 [00:00<00:00, 117248.65it/s]\n"
     ]
    },
    {
     "data": {
      "application/vnd.jupyter.widget-view+json": {
       "model_id": "5b90a1517c6e4a7a9bbc0cde378f0f2c",
       "version_major": 2,
       "version_minor": 0
      },
      "text/plain": [
       "Running Prediction:   0%|          | 0/3 [00:00<?, ?it/s]"
      ]
     },
     "metadata": {},
     "output_type": "display_data"
    },
    {
     "name": "stderr",
     "output_type": "stream",
     "text": [
      "convert squad examples to features: 100%|██████████| 22/22 [00:00<00:00, 190.47it/s]\n",
      "add example index and unique id: 100%|██████████| 22/22 [00:00<00:00, 164776.23it/s]\n"
     ]
    },
    {
     "data": {
      "application/vnd.jupyter.widget-view+json": {
       "model_id": "9ddaea615f664d07a943dc43a8edc254",
       "version_major": 2,
       "version_minor": 0
      },
      "text/plain": [
       "Running Prediction:   0%|          | 0/3 [00:00<?, ?it/s]"
      ]
     },
     "metadata": {},
     "output_type": "display_data"
    },
    {
     "name": "stderr",
     "output_type": "stream",
     "text": [
      "convert squad examples to features: 100%|██████████| 22/22 [00:00<00:00, 128.94it/s]\n",
      "add example index and unique id: 100%|██████████| 22/22 [00:00<00:00, 135698.07it/s]\n"
     ]
    },
    {
     "data": {
      "application/vnd.jupyter.widget-view+json": {
       "model_id": "106fbcd4e3cb461480e8ace3a6b47dbb",
       "version_major": 2,
       "version_minor": 0
      },
      "text/plain": [
       "Running Prediction:   0%|          | 0/3 [00:00<?, ?it/s]"
      ]
     },
     "metadata": {},
     "output_type": "display_data"
    },
    {
     "name": "stderr",
     "output_type": "stream",
     "text": [
      "convert squad examples to features: 100%|██████████| 22/22 [00:00<00:00, 226.25it/s]\n",
      "add example index and unique id: 100%|██████████| 22/22 [00:00<00:00, 99220.09it/s]\n"
     ]
    },
    {
     "data": {
      "application/vnd.jupyter.widget-view+json": {
       "model_id": "e1d18c8bc987465ba245493d9e72a3b1",
       "version_major": 2,
       "version_minor": 0
      },
      "text/plain": [
       "Running Prediction:   0%|          | 0/3 [00:00<?, ?it/s]"
      ]
     },
     "metadata": {},
     "output_type": "display_data"
    },
    {
     "name": "stderr",
     "output_type": "stream",
     "text": [
      "convert squad examples to features: 100%|██████████| 22/22 [00:00<00:00, 364.26it/s]\n",
      "add example index and unique id: 100%|██████████| 22/22 [00:00<00:00, 127627.51it/s]\n"
     ]
    },
    {
     "data": {
      "application/vnd.jupyter.widget-view+json": {
       "model_id": "5acaf64940864a838b26c76acef02ffd",
       "version_major": 2,
       "version_minor": 0
      },
      "text/plain": [
       "Running Prediction:   0%|          | 0/3 [00:00<?, ?it/s]"
      ]
     },
     "metadata": {},
     "output_type": "display_data"
    },
    {
     "name": "stderr",
     "output_type": "stream",
     "text": [
      "convert squad examples to features: 100%|██████████| 22/22 [00:00<00:00, 318.61it/s]\n",
      "add example index and unique id: 100%|██████████| 22/22 [00:00<00:00, 136299.39it/s]\n"
     ]
    },
    {
     "data": {
      "application/vnd.jupyter.widget-view+json": {
       "model_id": "42fe570136c6417a9fe4802be4ff7298",
       "version_major": 2,
       "version_minor": 0
      },
      "text/plain": [
       "Running Prediction:   0%|          | 0/3 [00:00<?, ?it/s]"
      ]
     },
     "metadata": {},
     "output_type": "display_data"
    },
    {
     "name": "stderr",
     "output_type": "stream",
     "text": [
      "convert squad examples to features: 100%|██████████| 22/22 [00:00<00:00, 157.68it/s]\n",
      "add example index and unique id: 100%|██████████| 22/22 [00:00<00:00, 136703.24it/s]\n"
     ]
    },
    {
     "data": {
      "application/vnd.jupyter.widget-view+json": {
       "model_id": "4ac1527f93bd46749cbe0a4286f44f8e",
       "version_major": 2,
       "version_minor": 0
      },
      "text/plain": [
       "Running Prediction:   0%|          | 0/3 [00:00<?, ?it/s]"
      ]
     },
     "metadata": {},
     "output_type": "display_data"
    },
    {
     "name": "stderr",
     "output_type": "stream",
     "text": [
      "convert squad examples to features: 100%|██████████| 22/22 [00:00<00:00, 119.82it/s]\n",
      "add example index and unique id: 100%|██████████| 22/22 [00:00<00:00, 144858.22it/s]\n"
     ]
    },
    {
     "data": {
      "application/vnd.jupyter.widget-view+json": {
       "model_id": "7118cf660c0e47b9bdc4cb7fcd7f40dc",
       "version_major": 2,
       "version_minor": 0
      },
      "text/plain": [
       "Running Prediction:   0%|          | 0/3 [00:00<?, ?it/s]"
      ]
     },
     "metadata": {},
     "output_type": "display_data"
    },
    {
     "name": "stderr",
     "output_type": "stream",
     "text": [
      "convert squad examples to features: 100%|██████████| 22/22 [00:00<00:00, 182.17it/s]\n",
      "add example index and unique id: 100%|██████████| 22/22 [00:00<00:00, 164482.51it/s]\n"
     ]
    },
    {
     "data": {
      "application/vnd.jupyter.widget-view+json": {
       "model_id": "30297507d08c4e12b6df65b029c2990a",
       "version_major": 2,
       "version_minor": 0
      },
      "text/plain": [
       "Running Prediction:   0%|          | 0/3 [00:00<?, ?it/s]"
      ]
     },
     "metadata": {},
     "output_type": "display_data"
    },
    {
     "name": "stderr",
     "output_type": "stream",
     "text": [
      "convert squad examples to features: 100%|██████████| 22/22 [00:00<00:00, 160.16it/s]\n",
      "add example index and unique id: 100%|██████████| 22/22 [00:00<00:00, 81084.96it/s]\n"
     ]
    },
    {
     "data": {
      "application/vnd.jupyter.widget-view+json": {
       "model_id": "8855056a16a04ce1800b0f86c14daec7",
       "version_major": 2,
       "version_minor": 0
      },
      "text/plain": [
       "Running Prediction:   0%|          | 0/3 [00:00<?, ?it/s]"
      ]
     },
     "metadata": {},
     "output_type": "display_data"
    },
    {
     "name": "stderr",
     "output_type": "stream",
     "text": [
      "convert squad examples to features: 100%|██████████| 22/22 [00:00<00:00, 298.43it/s]\n",
      "add example index and unique id: 100%|██████████| 22/22 [00:00<00:00, 132198.69it/s]\n"
     ]
    },
    {
     "data": {
      "application/vnd.jupyter.widget-view+json": {
       "model_id": "0dcdec8a90c148198f6cf4e1a028b218",
       "version_major": 2,
       "version_minor": 0
      },
      "text/plain": [
       "Running Prediction:   0%|          | 0/3 [00:00<?, ?it/s]"
      ]
     },
     "metadata": {},
     "output_type": "display_data"
    },
    {
     "name": "stderr",
     "output_type": "stream",
     "text": [
      "convert squad examples to features: 100%|██████████| 22/22 [00:00<00:00, 309.11it/s]\n",
      "add example index and unique id: 100%|██████████| 22/22 [00:00<00:00, 114342.86it/s]\n"
     ]
    },
    {
     "data": {
      "application/vnd.jupyter.widget-view+json": {
       "model_id": "633b8006f75a4187a732613a5b50fd77",
       "version_major": 2,
       "version_minor": 0
      },
      "text/plain": [
       "Running Prediction:   0%|          | 0/3 [00:00<?, ?it/s]"
      ]
     },
     "metadata": {},
     "output_type": "display_data"
    },
    {
     "name": "stderr",
     "output_type": "stream",
     "text": [
      "convert squad examples to features: 100%|██████████| 22/22 [00:00<00:00, 149.93it/s]\n",
      "add example index and unique id: 100%|██████████| 22/22 [00:00<00:00, 74837.54it/s]\n"
     ]
    },
    {
     "data": {
      "application/vnd.jupyter.widget-view+json": {
       "model_id": "a65581853a614742b1d8fad06c2b0e94",
       "version_major": 2,
       "version_minor": 0
      },
      "text/plain": [
       "Running Prediction:   0%|          | 0/3 [00:00<?, ?it/s]"
      ]
     },
     "metadata": {},
     "output_type": "display_data"
    },
    {
     "name": "stderr",
     "output_type": "stream",
     "text": [
      "convert squad examples to features: 100%|██████████| 22/22 [00:00<00:00, 283.50it/s]\n",
      "add example index and unique id: 100%|██████████| 22/22 [00:00<00:00, 165663.71it/s]\n"
     ]
    },
    {
     "data": {
      "application/vnd.jupyter.widget-view+json": {
       "model_id": "7be528c976c64a45a60375b67db979d2",
       "version_major": 2,
       "version_minor": 0
      },
      "text/plain": [
       "Running Prediction:   0%|          | 0/3 [00:00<?, ?it/s]"
      ]
     },
     "metadata": {},
     "output_type": "display_data"
    },
    {
     "name": "stderr",
     "output_type": "stream",
     "text": [
      "convert squad examples to features: 100%|██████████| 22/22 [00:00<00:00, 331.04it/s]\n",
      "add example index and unique id: 100%|██████████| 22/22 [00:00<00:00, 99220.09it/s]\n"
     ]
    },
    {
     "data": {
      "application/vnd.jupyter.widget-view+json": {
       "model_id": "23da30a6418b42c78bf5af87d341e591",
       "version_major": 2,
       "version_minor": 0
      },
      "text/plain": [
       "Running Prediction:   0%|          | 0/3 [00:00<?, ?it/s]"
      ]
     },
     "metadata": {},
     "output_type": "display_data"
    },
    {
     "name": "stderr",
     "output_type": "stream",
     "text": [
      "convert squad examples to features: 100%|██████████| 22/22 [00:00<00:00, 417.46it/s]\n",
      "add example index and unique id: 100%|██████████| 22/22 [00:00<00:00, 146700.62it/s]\n"
     ]
    },
    {
     "data": {
      "application/vnd.jupyter.widget-view+json": {
       "model_id": "f911929baab34472b4799fc2d8247db0",
       "version_major": 2,
       "version_minor": 0
      },
      "text/plain": [
       "Running Prediction:   0%|          | 0/3 [00:00<?, ?it/s]"
      ]
     },
     "metadata": {},
     "output_type": "display_data"
    },
    {
     "name": "stderr",
     "output_type": "stream",
     "text": [
      "convert squad examples to features: 100%|██████████| 22/22 [00:00<00:00, 428.01it/s]\n",
      "add example index and unique id: 100%|██████████| 22/22 [00:00<00:00, 139810.13it/s]\n"
     ]
    },
    {
     "data": {
      "application/vnd.jupyter.widget-view+json": {
       "model_id": "2cfe12bdaa914f08b3c2ce70e987811e",
       "version_major": 2,
       "version_minor": 0
      },
      "text/plain": [
       "Running Prediction:   0%|          | 0/3 [00:00<?, ?it/s]"
      ]
     },
     "metadata": {},
     "output_type": "display_data"
    },
    {
     "name": "stderr",
     "output_type": "stream",
     "text": [
      "convert squad examples to features: 100%|██████████| 22/22 [00:00<00:00, 300.58it/s]\n",
      "add example index and unique id: 100%|██████████| 22/22 [00:00<00:00, 163318.03it/s]\n"
     ]
    },
    {
     "data": {
      "application/vnd.jupyter.widget-view+json": {
       "model_id": "1f58143904a04b7aa193d48d086b1f4d",
       "version_major": 2,
       "version_minor": 0
      },
      "text/plain": [
       "Running Prediction:   0%|          | 0/3 [00:00<?, ?it/s]"
      ]
     },
     "metadata": {},
     "output_type": "display_data"
    },
    {
     "name": "stderr",
     "output_type": "stream",
     "text": [
      "convert squad examples to features: 100%|██████████| 22/22 [00:00<00:00, 348.36it/s]\n",
      "add example index and unique id: 100%|██████████| 22/22 [00:00<00:00, 160757.30it/s]\n"
     ]
    },
    {
     "data": {
      "application/vnd.jupyter.widget-view+json": {
       "model_id": "4e33c4217fed405eaaff0ed7815f48b7",
       "version_major": 2,
       "version_minor": 0
      },
      "text/plain": [
       "Running Prediction:   0%|          | 0/3 [00:00<?, ?it/s]"
      ]
     },
     "metadata": {},
     "output_type": "display_data"
    },
    {
     "name": "stderr",
     "output_type": "stream",
     "text": [
      "convert squad examples to features: 100%|██████████| 22/22 [00:00<00:00, 397.51it/s]\n",
      "add example index and unique id: 100%|██████████| 22/22 [00:00<00:00, 165071.00it/s]\n"
     ]
    },
    {
     "data": {
      "application/vnd.jupyter.widget-view+json": {
       "model_id": "0be0bf1bcd064183bddc3a47fa099f19",
       "version_major": 2,
       "version_minor": 0
      },
      "text/plain": [
       "Running Prediction:   0%|          | 0/3 [00:00<?, ?it/s]"
      ]
     },
     "metadata": {},
     "output_type": "display_data"
    },
    {
     "name": "stderr",
     "output_type": "stream",
     "text": [
      "convert squad examples to features: 100%|██████████| 22/22 [00:00<00:00, 395.46it/s]\n",
      "add example index and unique id: 100%|██████████| 22/22 [00:00<00:00, 171833.68it/s]\n"
     ]
    },
    {
     "data": {
      "application/vnd.jupyter.widget-view+json": {
       "model_id": "89d48a76a03f4156a8650efeb17e313a",
       "version_major": 2,
       "version_minor": 0
      },
      "text/plain": [
       "Running Prediction:   0%|          | 0/3 [00:00<?, ?it/s]"
      ]
     },
     "metadata": {},
     "output_type": "display_data"
    },
    {
     "name": "stderr",
     "output_type": "stream",
     "text": [
      "convert squad examples to features: 100%|██████████| 22/22 [00:00<00:00, 362.32it/s]\n",
      "add example index and unique id: 100%|██████████| 22/22 [00:00<00:00, 153026.02it/s]\n"
     ]
    },
    {
     "data": {
      "application/vnd.jupyter.widget-view+json": {
       "model_id": "8b677771d8434735b2beffbbdc73474f",
       "version_major": 2,
       "version_minor": 0
      },
      "text/plain": [
       "Running Prediction:   0%|          | 0/3 [00:00<?, ?it/s]"
      ]
     },
     "metadata": {},
     "output_type": "display_data"
    },
    {
     "name": "stderr",
     "output_type": "stream",
     "text": [
      "convert squad examples to features: 100%|██████████| 22/22 [00:00<00:00, 342.24it/s]\n",
      "add example index and unique id: 100%|██████████| 22/22 [00:00<00:00, 70546.40it/s]\n"
     ]
    },
    {
     "data": {
      "application/vnd.jupyter.widget-view+json": {
       "model_id": "2f92ee2680b24124b2f7d45684320c6d",
       "version_major": 2,
       "version_minor": 0
      },
      "text/plain": [
       "Running Prediction:   0%|          | 0/3 [00:00<?, ?it/s]"
      ]
     },
     "metadata": {},
     "output_type": "display_data"
    },
    {
     "name": "stderr",
     "output_type": "stream",
     "text": [
      "convert squad examples to features: 100%|██████████| 22/22 [00:00<00:00, 400.63it/s]\n",
      "add example index and unique id: 100%|██████████| 22/22 [00:00<00:00, 64799.64it/s]\n"
     ]
    },
    {
     "data": {
      "application/vnd.jupyter.widget-view+json": {
       "model_id": "7b0d8fb7f5e34283994a959e093a8955",
       "version_major": 2,
       "version_minor": 0
      },
      "text/plain": [
       "Running Prediction:   0%|          | 0/3 [00:00<?, ?it/s]"
      ]
     },
     "metadata": {},
     "output_type": "display_data"
    },
    {
     "name": "stderr",
     "output_type": "stream",
     "text": [
      "convert squad examples to features: 100%|██████████| 22/22 [00:00<00:00, 404.30it/s]\n",
      "add example index and unique id: 100%|██████████| 22/22 [00:00<00:00, 163898.20it/s]\n"
     ]
    },
    {
     "data": {
      "application/vnd.jupyter.widget-view+json": {
       "model_id": "0be578c8df044fa6ac0170e535c6999e",
       "version_major": 2,
       "version_minor": 0
      },
      "text/plain": [
       "Running Prediction:   0%|          | 0/3 [00:00<?, ?it/s]"
      ]
     },
     "metadata": {},
     "output_type": "display_data"
    },
    {
     "name": "stderr",
     "output_type": "stream",
     "text": [
      "convert squad examples to features: 100%|██████████| 22/22 [00:00<00:00, 248.34it/s]\n",
      "add example index and unique id: 100%|██████████| 22/22 [00:00<00:00, 135300.13it/s]\n"
     ]
    },
    {
     "data": {
      "application/vnd.jupyter.widget-view+json": {
       "model_id": "9241fec469e443ff93766426139ae123",
       "version_major": 2,
       "version_minor": 0
      },
      "text/plain": [
       "Running Prediction:   0%|          | 0/3 [00:00<?, ?it/s]"
      ]
     },
     "metadata": {},
     "output_type": "display_data"
    },
    {
     "name": "stderr",
     "output_type": "stream",
     "text": [
      "convert squad examples to features: 100%|██████████| 22/22 [00:00<00:00, 537.39it/s]\n",
      "add example index and unique id: 100%|██████████| 22/22 [00:00<00:00, 161319.38it/s]\n"
     ]
    },
    {
     "data": {
      "application/vnd.jupyter.widget-view+json": {
       "model_id": "84a44c62c9684a319a824c8684418dc3",
       "version_major": 2,
       "version_minor": 0
      },
      "text/plain": [
       "Running Prediction:   0%|          | 0/3 [00:00<?, ?it/s]"
      ]
     },
     "metadata": {},
     "output_type": "display_data"
    },
    {
     "name": "stderr",
     "output_type": "stream",
     "text": [
      "convert squad examples to features: 100%|██████████| 22/22 [00:00<00:00, 265.53it/s]\n",
      "add example index and unique id: 100%|██████████| 22/22 [00:00<00:00, 56959.68it/s]\n"
     ]
    },
    {
     "data": {
      "application/vnd.jupyter.widget-view+json": {
       "model_id": "9b1f7c0aed2942398448f15e7cbf1d3f",
       "version_major": 2,
       "version_minor": 0
      },
      "text/plain": [
       "Running Prediction:   0%|          | 0/3 [00:00<?, ?it/s]"
      ]
     },
     "metadata": {},
     "output_type": "display_data"
    },
    {
     "name": "stderr",
     "output_type": "stream",
     "text": [
      "convert squad examples to features: 100%|██████████| 22/22 [00:00<00:00, 226.66it/s]\n",
      "add example index and unique id: 100%|██████████| 22/22 [00:00<00:00, 152772.66it/s]\n"
     ]
    },
    {
     "data": {
      "application/vnd.jupyter.widget-view+json": {
       "model_id": "74abc944e3864698a7d1dd4b2820c9ef",
       "version_major": 2,
       "version_minor": 0
      },
      "text/plain": [
       "Running Prediction:   0%|          | 0/3 [00:00<?, ?it/s]"
      ]
     },
     "metadata": {},
     "output_type": "display_data"
    },
    {
     "name": "stderr",
     "output_type": "stream",
     "text": [
      "convert squad examples to features: 100%|██████████| 22/22 [00:00<00:00, 284.99it/s]\n",
      "add example index and unique id: 100%|██████████| 22/22 [00:00<00:00, 134120.19it/s]\n"
     ]
    },
    {
     "data": {
      "application/vnd.jupyter.widget-view+json": {
       "model_id": "a5901e26b9fd4b4bafda12dac6e7802f",
       "version_major": 2,
       "version_minor": 0
      },
      "text/plain": [
       "Running Prediction:   0%|          | 0/3 [00:00<?, ?it/s]"
      ]
     },
     "metadata": {},
     "output_type": "display_data"
    },
    {
     "name": "stderr",
     "output_type": "stream",
     "text": [
      "convert squad examples to features: 100%|██████████| 22/22 [00:00<00:00, 277.42it/s]\n",
      "add example index and unique id: 100%|██████████| 22/22 [00:00<00:00, 123197.18it/s]\n"
     ]
    },
    {
     "data": {
      "application/vnd.jupyter.widget-view+json": {
       "model_id": "be4fd0f8081f402f9bc20bced2822f72",
       "version_major": 2,
       "version_minor": 0
      },
      "text/plain": [
       "Running Prediction:   0%|          | 0/3 [00:00<?, ?it/s]"
      ]
     },
     "metadata": {},
     "output_type": "display_data"
    },
    {
     "name": "stderr",
     "output_type": "stream",
     "text": [
      "convert squad examples to features: 100%|██████████| 22/22 [00:00<00:00, 368.22it/s]\n",
      "add example index and unique id: 100%|██████████| 22/22 [00:00<00:00, 133537.90it/s]\n"
     ]
    },
    {
     "data": {
      "application/vnd.jupyter.widget-view+json": {
       "model_id": "5ce0c97476f04bd693fdfa7028edbe5e",
       "version_major": 2,
       "version_minor": 0
      },
      "text/plain": [
       "Running Prediction:   0%|          | 0/3 [00:00<?, ?it/s]"
      ]
     },
     "metadata": {},
     "output_type": "display_data"
    },
    {
     "name": "stderr",
     "output_type": "stream",
     "text": [
      "convert squad examples to features: 100%|██████████| 22/22 [00:00<00:00, 291.41it/s]\n",
      "add example index and unique id: 100%|██████████| 22/22 [00:00<00:00, 136098.36it/s]\n"
     ]
    },
    {
     "data": {
      "application/vnd.jupyter.widget-view+json": {
       "model_id": "be339db7315548d08c10bb79c17701ca",
       "version_major": 2,
       "version_minor": 0
      },
      "text/plain": [
       "Running Prediction:   0%|          | 0/3 [00:00<?, ?it/s]"
      ]
     },
     "metadata": {},
     "output_type": "display_data"
    },
    {
     "name": "stderr",
     "output_type": "stream",
     "text": [
      "convert squad examples to features: 100%|██████████| 22/22 [00:00<00:00, 295.90it/s]\n",
      "add example index and unique id: 100%|██████████| 22/22 [00:00<00:00, 150284.51it/s]\n"
     ]
    },
    {
     "data": {
      "application/vnd.jupyter.widget-view+json": {
       "model_id": "e001d34fb7c7468a9b80f2a89bf889a0",
       "version_major": 2,
       "version_minor": 0
      },
      "text/plain": [
       "Running Prediction:   0%|          | 0/3 [00:00<?, ?it/s]"
      ]
     },
     "metadata": {},
     "output_type": "display_data"
    },
    {
     "name": "stderr",
     "output_type": "stream",
     "text": [
      "convert squad examples to features: 100%|██████████| 22/22 [00:00<00:00, 221.90it/s]\n",
      "add example index and unique id: 100%|██████████| 22/22 [00:00<00:00, 97233.60it/s]\n"
     ]
    },
    {
     "data": {
      "application/vnd.jupyter.widget-view+json": {
       "model_id": "3ca68536f0f64dc59809bcb17cf0131f",
       "version_major": 2,
       "version_minor": 0
      },
      "text/plain": [
       "Running Prediction:   0%|          | 0/3 [00:00<?, ?it/s]"
      ]
     },
     "metadata": {},
     "output_type": "display_data"
    },
    {
     "name": "stderr",
     "output_type": "stream",
     "text": [
      "convert squad examples to features: 100%|██████████| 22/22 [00:00<00:00, 424.55it/s]\n",
      "add example index and unique id: 100%|██████████| 22/22 [00:00<00:00, 153280.21it/s]\n"
     ]
    },
    {
     "data": {
      "application/vnd.jupyter.widget-view+json": {
       "model_id": "f2d5dc7084dd431680463bc83f632282",
       "version_major": 2,
       "version_minor": 0
      },
      "text/plain": [
       "Running Prediction:   0%|          | 0/3 [00:00<?, ?it/s]"
      ]
     },
     "metadata": {},
     "output_type": "display_data"
    },
    {
     "name": "stderr",
     "output_type": "stream",
     "text": [
      "convert squad examples to features: 100%|██████████| 22/22 [00:00<00:00, 233.77it/s]\n",
      "add example index and unique id: 100%|██████████| 22/22 [00:00<00:00, 157465.34it/s]\n"
     ]
    },
    {
     "data": {
      "application/vnd.jupyter.widget-view+json": {
       "model_id": "d73bce8f2d594929bb6344b058115337",
       "version_major": 2,
       "version_minor": 0
      },
      "text/plain": [
       "Running Prediction:   0%|          | 0/3 [00:00<?, ?it/s]"
      ]
     },
     "metadata": {},
     "output_type": "display_data"
    },
    {
     "name": "stderr",
     "output_type": "stream",
     "text": [
      "convert squad examples to features: 100%|██████████| 22/22 [00:00<00:00, 117.72it/s]\n",
      "add example index and unique id: 100%|██████████| 22/22 [00:00<00:00, 112393.04it/s]\n"
     ]
    },
    {
     "data": {
      "application/vnd.jupyter.widget-view+json": {
       "model_id": "1733ab7fc9c84a6b9f90c76ea1bc51cc",
       "version_major": 2,
       "version_minor": 0
      },
      "text/plain": [
       "Running Prediction:   0%|          | 0/3 [00:00<?, ?it/s]"
      ]
     },
     "metadata": {},
     "output_type": "display_data"
    },
    {
     "name": "stderr",
     "output_type": "stream",
     "text": [
      "convert squad examples to features: 100%|██████████| 22/22 [00:00<00:00, 359.27it/s]\n",
      "add example index and unique id: 100%|██████████| 22/22 [00:00<00:00, 73002.13it/s]\n"
     ]
    },
    {
     "data": {
      "application/vnd.jupyter.widget-view+json": {
       "model_id": "5d4c48244ad546299283d8c076fef4ec",
       "version_major": 2,
       "version_minor": 0
      },
      "text/plain": [
       "Running Prediction:   0%|          | 0/3 [00:00<?, ?it/s]"
      ]
     },
     "metadata": {},
     "output_type": "display_data"
    },
    {
     "name": "stderr",
     "output_type": "stream",
     "text": [
      "convert squad examples to features: 100%|██████████| 22/22 [00:00<00:00, 384.75it/s]\n",
      "add example index and unique id: 100%|██████████| 22/22 [00:00<00:00, 100846.65it/s]\n"
     ]
    },
    {
     "data": {
      "application/vnd.jupyter.widget-view+json": {
       "model_id": "9c697b1b496d40bfab6ce8113fe743f4",
       "version_major": 2,
       "version_minor": 0
      },
      "text/plain": [
       "Running Prediction:   0%|          | 0/3 [00:00<?, ?it/s]"
      ]
     },
     "metadata": {},
     "output_type": "display_data"
    },
    {
     "name": "stderr",
     "output_type": "stream",
     "text": [
      "convert squad examples to features: 100%|██████████| 22/22 [00:00<00:00, 255.29it/s]\n",
      "add example index and unique id: 100%|██████████| 22/22 [00:00<00:00, 129781.56it/s]\n"
     ]
    },
    {
     "data": {
      "application/vnd.jupyter.widget-view+json": {
       "model_id": "9baccfddfcaa427e8a96c8b0955f607b",
       "version_major": 2,
       "version_minor": 0
      },
      "text/plain": [
       "Running Prediction:   0%|          | 0/3 [00:00<?, ?it/s]"
      ]
     },
     "metadata": {},
     "output_type": "display_data"
    },
    {
     "name": "stderr",
     "output_type": "stream",
     "text": [
      "convert squad examples to features: 100%|██████████| 22/22 [00:00<00:00, 343.84it/s]\n",
      "add example index and unique id: 100%|██████████| 22/22 [00:00<00:00, 65536.00it/s]\n"
     ]
    },
    {
     "data": {
      "application/vnd.jupyter.widget-view+json": {
       "model_id": "3351d894586b433f8f7fe64df410b000",
       "version_major": 2,
       "version_minor": 0
      },
      "text/plain": [
       "Running Prediction:   0%|          | 0/3 [00:00<?, ?it/s]"
      ]
     },
     "metadata": {},
     "output_type": "display_data"
    },
    {
     "name": "stderr",
     "output_type": "stream",
     "text": [
      "convert squad examples to features: 100%|██████████| 22/22 [00:00<00:00, 349.92it/s]\n",
      "add example index and unique id: 100%|██████████| 22/22 [00:00<00:00, 77281.98it/s]\n"
     ]
    },
    {
     "data": {
      "application/vnd.jupyter.widget-view+json": {
       "model_id": "34596edfb8d840eb9f1036f21c269482",
       "version_major": 2,
       "version_minor": 0
      },
      "text/plain": [
       "Running Prediction:   0%|          | 0/3 [00:00<?, ?it/s]"
      ]
     },
     "metadata": {},
     "output_type": "display_data"
    },
    {
     "name": "stderr",
     "output_type": "stream",
     "text": [
      "convert squad examples to features: 100%|██████████| 22/22 [00:00<00:00, 336.97it/s]\n",
      "add example index and unique id: 100%|██████████| 22/22 [00:00<00:00, 134707.57it/s]\n"
     ]
    },
    {
     "data": {
      "application/vnd.jupyter.widget-view+json": {
       "model_id": "a25d6b6489e6422e9827054fa80d9aa8",
       "version_major": 2,
       "version_minor": 0
      },
      "text/plain": [
       "Running Prediction:   0%|          | 0/3 [00:00<?, ?it/s]"
      ]
     },
     "metadata": {},
     "output_type": "display_data"
    },
    {
     "name": "stderr",
     "output_type": "stream",
     "text": [
      "convert squad examples to features: 100%|██████████| 22/22 [00:00<00:00, 322.13it/s]\n",
      "add example index and unique id: 100%|██████████| 22/22 [00:00<00:00, 144404.83it/s]\n"
     ]
    },
    {
     "data": {
      "application/vnd.jupyter.widget-view+json": {
       "model_id": "c5d0a0e15cb048fbbd2e0324e3b38099",
       "version_major": 2,
       "version_minor": 0
      },
      "text/plain": [
       "Running Prediction:   0%|          | 0/3 [00:00<?, ?it/s]"
      ]
     },
     "metadata": {},
     "output_type": "display_data"
    },
    {
     "name": "stderr",
     "output_type": "stream",
     "text": [
      "convert squad examples to features: 100%|██████████| 22/22 [00:00<00:00, 274.67it/s]\n",
      "add example index and unique id: 100%|██████████| 22/22 [00:00<00:00, 122705.70it/s]\n"
     ]
    },
    {
     "data": {
      "application/vnd.jupyter.widget-view+json": {
       "model_id": "b9760dff12db4fccb1796ae0ba701d8b",
       "version_major": 2,
       "version_minor": 0
      },
      "text/plain": [
       "Running Prediction:   0%|          | 0/3 [00:00<?, ?it/s]"
      ]
     },
     "metadata": {},
     "output_type": "display_data"
    },
    {
     "name": "stderr",
     "output_type": "stream",
     "text": [
      "convert squad examples to features: 100%|██████████| 22/22 [00:00<00:00, 266.69it/s]\n",
      "add example index and unique id: 100%|██████████| 22/22 [00:00<00:00, 125203.10it/s]\n"
     ]
    },
    {
     "data": {
      "application/vnd.jupyter.widget-view+json": {
       "model_id": "86bc2027f89c4df3ab64e06969f204b7",
       "version_major": 2,
       "version_minor": 0
      },
      "text/plain": [
       "Running Prediction:   0%|          | 0/3 [00:00<?, ?it/s]"
      ]
     },
     "metadata": {},
     "output_type": "display_data"
    },
    {
     "name": "stderr",
     "output_type": "stream",
     "text": [
      "convert squad examples to features: 100%|██████████| 22/22 [00:00<00:00, 229.75it/s]\n",
      "add example index and unique id: 100%|██████████| 22/22 [00:00<00:00, 159644.79it/s]\n"
     ]
    },
    {
     "data": {
      "application/vnd.jupyter.widget-view+json": {
       "model_id": "b35c838a7ee94e81bfc3e454667a0e27",
       "version_major": 2,
       "version_minor": 0
      },
      "text/plain": [
       "Running Prediction:   0%|          | 0/3 [00:00<?, ?it/s]"
      ]
     },
     "metadata": {},
     "output_type": "display_data"
    },
    {
     "name": "stderr",
     "output_type": "stream",
     "text": [
      "convert squad examples to features: 100%|██████████| 22/22 [00:00<00:00, 226.06it/s]\n",
      "add example index and unique id: 100%|██████████| 22/22 [00:00<00:00, 128159.29it/s]\n"
     ]
    },
    {
     "data": {
      "application/vnd.jupyter.widget-view+json": {
       "model_id": "65b285b1967d4a8eb4c94ccb7be57f93",
       "version_major": 2,
       "version_minor": 0
      },
      "text/plain": [
       "Running Prediction:   0%|          | 0/3 [00:00<?, ?it/s]"
      ]
     },
     "metadata": {},
     "output_type": "display_data"
    },
    {
     "name": "stderr",
     "output_type": "stream",
     "text": [
      "convert squad examples to features: 100%|██████████| 22/22 [00:00<00:00, 280.04it/s]\n",
      "add example index and unique id: 100%|██████████| 22/22 [00:00<00:00, 163898.20it/s]\n"
     ]
    },
    {
     "data": {
      "application/vnd.jupyter.widget-view+json": {
       "model_id": "ef04fd66e4bf43499e420741fa3a7bbf",
       "version_major": 2,
       "version_minor": 0
      },
      "text/plain": [
       "Running Prediction:   0%|          | 0/3 [00:00<?, ?it/s]"
      ]
     },
     "metadata": {},
     "output_type": "display_data"
    },
    {
     "name": "stderr",
     "output_type": "stream",
     "text": [
      "convert squad examples to features: 100%|██████████| 22/22 [00:00<00:00, 307.81it/s]\n",
      "add example index and unique id: 100%|██████████| 22/22 [00:00<00:00, 139177.51it/s]\n"
     ]
    },
    {
     "data": {
      "application/vnd.jupyter.widget-view+json": {
       "model_id": "874c4b5192fd4709abd6ab57b8f66eb0",
       "version_major": 2,
       "version_minor": 0
      },
      "text/plain": [
       "Running Prediction:   0%|          | 0/3 [00:00<?, ?it/s]"
      ]
     },
     "metadata": {},
     "output_type": "display_data"
    },
    {
     "name": "stderr",
     "output_type": "stream",
     "text": [
      "convert squad examples to features: 100%|██████████| 22/22 [00:00<00:00, 233.78it/s]\n",
      "add example index and unique id: 100%|██████████| 22/22 [00:00<00:00, 104619.83it/s]\n"
     ]
    },
    {
     "data": {
      "application/vnd.jupyter.widget-view+json": {
       "model_id": "ad8bfb6e6bda4d41836c4233c862a0a6",
       "version_major": 2,
       "version_minor": 0
      },
      "text/plain": [
       "Running Prediction:   0%|          | 0/3 [00:00<?, ?it/s]"
      ]
     },
     "metadata": {},
     "output_type": "display_data"
    },
    {
     "name": "stderr",
     "output_type": "stream",
     "text": [
      "convert squad examples to features: 100%|██████████| 22/22 [00:01<00:00, 18.82it/s]\n",
      "add example index and unique id: 100%|██████████| 22/22 [00:00<00:00, 149070.58it/s]\n"
     ]
    },
    {
     "data": {
      "application/vnd.jupyter.widget-view+json": {
       "model_id": "4bc9b30bb0854251a77005df75cc0ecb",
       "version_major": 2,
       "version_minor": 0
      },
      "text/plain": [
       "Running Prediction:   0%|          | 0/3 [00:00<?, ?it/s]"
      ]
     },
     "metadata": {},
     "output_type": "display_data"
    },
    {
     "name": "stderr",
     "output_type": "stream",
     "text": [
      "convert squad examples to features: 100%|██████████| 22/22 [00:00<00:00, 355.86it/s]\n",
      "add example index and unique id: 100%|██████████| 22/22 [00:00<00:00, 101736.15it/s]\n"
     ]
    },
    {
     "data": {
      "application/vnd.jupyter.widget-view+json": {
       "model_id": "2c18662d118440d19352192060a3d44f",
       "version_major": 2,
       "version_minor": 0
      },
      "text/plain": [
       "Running Prediction:   0%|          | 0/3 [00:00<?, ?it/s]"
      ]
     },
     "metadata": {},
     "output_type": "display_data"
    },
    {
     "name": "stderr",
     "output_type": "stream",
     "text": [
      "convert squad examples to features: 100%|██████████| 22/22 [00:00<00:00, 334.49it/s]\n",
      "add example index and unique id: 100%|██████████| 22/22 [00:00<00:00, 129599.28it/s]\n"
     ]
    },
    {
     "data": {
      "application/vnd.jupyter.widget-view+json": {
       "model_id": "ce307ef23a9143f095b49feb8aa5f876",
       "version_major": 2,
       "version_minor": 0
      },
      "text/plain": [
       "Running Prediction:   0%|          | 0/3 [00:00<?, ?it/s]"
      ]
     },
     "metadata": {},
     "output_type": "display_data"
    },
    {
     "name": "stderr",
     "output_type": "stream",
     "text": [
      "convert squad examples to features: 100%|██████████| 22/22 [00:00<00:00, 366.39it/s]\n",
      "add example index and unique id: 100%|██████████| 22/22 [00:00<00:00, 95919.63it/s]\n"
     ]
    },
    {
     "data": {
      "application/vnd.jupyter.widget-view+json": {
       "model_id": "08a002f87f9c411eab9da5383dd30d9c",
       "version_major": 2,
       "version_minor": 0
      },
      "text/plain": [
       "Running Prediction:   0%|          | 0/3 [00:00<?, ?it/s]"
      ]
     },
     "metadata": {},
     "output_type": "display_data"
    },
    {
     "name": "stderr",
     "output_type": "stream",
     "text": [
      "convert squad examples to features: 100%|██████████| 22/22 [00:00<00:00, 192.05it/s]\n",
      "add example index and unique id: 100%|██████████| 22/22 [00:00<00:00, 156929.74it/s]\n"
     ]
    },
    {
     "data": {
      "application/vnd.jupyter.widget-view+json": {
       "model_id": "4d71ee8f9e5742b9a5b5dc8c344c120f",
       "version_major": 2,
       "version_minor": 0
      },
      "text/plain": [
       "Running Prediction:   0%|          | 0/3 [00:00<?, ?it/s]"
      ]
     },
     "metadata": {},
     "output_type": "display_data"
    },
    {
     "name": "stderr",
     "output_type": "stream",
     "text": [
      "convert squad examples to features: 100%|██████████| 22/22 [00:00<00:00, 338.03it/s]\n",
      "add example index and unique id: 100%|██████████| 22/22 [00:00<00:00, 139177.51it/s]\n"
     ]
    },
    {
     "data": {
      "application/vnd.jupyter.widget-view+json": {
       "model_id": "2d4c7093f94a463e80256cbf5084c5f8",
       "version_major": 2,
       "version_minor": 0
      },
      "text/plain": [
       "Running Prediction:   0%|          | 0/3 [00:00<?, ?it/s]"
      ]
     },
     "metadata": {},
     "output_type": "display_data"
    },
    {
     "name": "stderr",
     "output_type": "stream",
     "text": [
      "convert squad examples to features: 100%|██████████| 22/22 [00:00<00:00, 189.69it/s]\n",
      "add example index and unique id: 100%|██████████| 22/22 [00:00<00:00, 141092.80it/s]\n"
     ]
    },
    {
     "data": {
      "application/vnd.jupyter.widget-view+json": {
       "model_id": "f89620af991a4670bac4a731189141d9",
       "version_major": 2,
       "version_minor": 0
      },
      "text/plain": [
       "Running Prediction:   0%|          | 0/3 [00:00<?, ?it/s]"
      ]
     },
     "metadata": {},
     "output_type": "display_data"
    },
    {
     "name": "stderr",
     "output_type": "stream",
     "text": [
      "convert squad examples to features: 100%|██████████| 22/22 [00:00<00:00, 394.56it/s]\n",
      "add example index and unique id: 100%|██████████| 22/22 [00:00<00:00, 147639.50it/s]\n"
     ]
    },
    {
     "data": {
      "application/vnd.jupyter.widget-view+json": {
       "model_id": "d3107b3b747a473781c76a347221331d",
       "version_major": 2,
       "version_minor": 0
      },
      "text/plain": [
       "Running Prediction:   0%|          | 0/3 [00:00<?, ?it/s]"
      ]
     },
     "metadata": {},
     "output_type": "display_data"
    },
    {
     "name": "stderr",
     "output_type": "stream",
     "text": [
      "convert squad examples to features: 100%|██████████| 22/22 [00:00<00:00, 242.27it/s]\n",
      "add example index and unique id: 100%|██████████| 22/22 [00:00<00:00, 147639.50it/s]\n"
     ]
    },
    {
     "data": {
      "application/vnd.jupyter.widget-view+json": {
       "model_id": "4a0c58d37fcb4716b6b1b2094ed08cdb",
       "version_major": 2,
       "version_minor": 0
      },
      "text/plain": [
       "Running Prediction:   0%|          | 0/3 [00:00<?, ?it/s]"
      ]
     },
     "metadata": {},
     "output_type": "display_data"
    },
    {
     "name": "stderr",
     "output_type": "stream",
     "text": [
      "convert squad examples to features: 100%|██████████| 22/22 [00:00<00:00, 383.42it/s]\n",
      "add example index and unique id: 100%|██████████| 22/22 [00:00<00:00, 146700.62it/s]\n"
     ]
    },
    {
     "data": {
      "application/vnd.jupyter.widget-view+json": {
       "model_id": "d543d263e8de45fe89200f3effeded13",
       "version_major": 2,
       "version_minor": 0
      },
      "text/plain": [
       "Running Prediction:   0%|          | 0/3 [00:00<?, ?it/s]"
      ]
     },
     "metadata": {},
     "output_type": "display_data"
    },
    {
     "name": "stderr",
     "output_type": "stream",
     "text": [
      "convert squad examples to features: 100%|██████████| 22/22 [00:00<00:00, 332.22it/s]\n",
      "add example index and unique id: 100%|██████████| 22/22 [00:00<00:00, 132198.69it/s]\n"
     ]
    },
    {
     "data": {
      "application/vnd.jupyter.widget-view+json": {
       "model_id": "4fac09a4169d4b91a220b45e008426bf",
       "version_major": 2,
       "version_minor": 0
      },
      "text/plain": [
       "Running Prediction:   0%|          | 0/3 [00:00<?, ?it/s]"
      ]
     },
     "metadata": {},
     "output_type": "display_data"
    },
    {
     "name": "stderr",
     "output_type": "stream",
     "text": [
      "convert squad examples to features: 100%|██████████| 22/22 [00:00<00:00, 269.81it/s]\n",
      "add example index and unique id: 100%|██████████| 22/22 [00:00<00:00, 148113.46it/s]\n"
     ]
    },
    {
     "data": {
      "application/vnd.jupyter.widget-view+json": {
       "model_id": "d104f59c972b4a27aeb1aed6bae0c7d8",
       "version_major": 2,
       "version_minor": 0
      },
      "text/plain": [
       "Running Prediction:   0%|          | 0/3 [00:00<?, ?it/s]"
      ]
     },
     "metadata": {},
     "output_type": "display_data"
    },
    {
     "name": "stderr",
     "output_type": "stream",
     "text": [
      "convert squad examples to features: 100%|██████████| 22/22 [00:00<00:00, 232.45it/s]\n",
      "add example index and unique id: 100%|██████████| 22/22 [00:00<00:00, 160757.30it/s]\n"
     ]
    },
    {
     "data": {
      "application/vnd.jupyter.widget-view+json": {
       "model_id": "1df8531c0c5247ec819660135b9f869d",
       "version_major": 2,
       "version_minor": 0
      },
      "text/plain": [
       "Running Prediction:   0%|          | 0/3 [00:00<?, ?it/s]"
      ]
     },
     "metadata": {},
     "output_type": "display_data"
    },
    {
     "name": "stderr",
     "output_type": "stream",
     "text": [
      "convert squad examples to features: 100%|██████████| 22/22 [00:00<00:00, 130.30it/s]\n",
      "add example index and unique id: 100%|██████████| 22/22 [00:00<00:00, 104501.35it/s]\n"
     ]
    },
    {
     "data": {
      "application/vnd.jupyter.widget-view+json": {
       "model_id": "062133cc39b0482c8a7d30f169d26588",
       "version_major": 2,
       "version_minor": 0
      },
      "text/plain": [
       "Running Prediction:   0%|          | 0/3 [00:00<?, ?it/s]"
      ]
     },
     "metadata": {},
     "output_type": "display_data"
    },
    {
     "name": "stderr",
     "output_type": "stream",
     "text": [
      "convert squad examples to features: 100%|██████████| 22/22 [00:00<00:00, 83.69it/s]\n",
      "add example index and unique id: 100%|██████████| 22/22 [00:00<00:00, 143061.53it/s]\n"
     ]
    },
    {
     "data": {
      "application/vnd.jupyter.widget-view+json": {
       "model_id": "edb0544fcf98410699256f79d65d714e",
       "version_major": 2,
       "version_minor": 0
      },
      "text/plain": [
       "Running Prediction:   0%|          | 0/3 [00:00<?, ?it/s]"
      ]
     },
     "metadata": {},
     "output_type": "display_data"
    },
    {
     "name": "stderr",
     "output_type": "stream",
     "text": [
      "convert squad examples to features: 100%|██████████| 22/22 [00:00<00:00, 65.97it/s]\n",
      "add example index and unique id: 100%|██████████| 22/22 [00:00<00:00, 154563.97it/s]\n"
     ]
    },
    {
     "data": {
      "application/vnd.jupyter.widget-view+json": {
       "model_id": "77d3e439799e44ad8a3891a971ea2834",
       "version_major": 2,
       "version_minor": 0
      },
      "text/plain": [
       "Running Prediction:   0%|          | 0/3 [00:00<?, ?it/s]"
      ]
     },
     "metadata": {},
     "output_type": "display_data"
    },
    {
     "name": "stderr",
     "output_type": "stream",
     "text": [
      "convert squad examples to features: 100%|██████████| 22/22 [00:00<00:00, 132.85it/s]\n",
      "add example index and unique id: 100%|██████████| 22/22 [00:00<00:00, 85360.49it/s]\n"
     ]
    },
    {
     "data": {
      "application/vnd.jupyter.widget-view+json": {
       "model_id": "1fb5deb9718f491289d4c55bfc5d1ebe",
       "version_major": 2,
       "version_minor": 0
      },
      "text/plain": [
       "Running Prediction:   0%|          | 0/3 [00:00<?, ?it/s]"
      ]
     },
     "metadata": {},
     "output_type": "display_data"
    },
    {
     "name": "stderr",
     "output_type": "stream",
     "text": [
      "convert squad examples to features: 100%|██████████| 22/22 [00:00<00:00, 309.18it/s]\n",
      "add example index and unique id: 100%|██████████| 22/22 [00:00<00:00, 159369.06it/s]\n"
     ]
    },
    {
     "data": {
      "application/vnd.jupyter.widget-view+json": {
       "model_id": "2603092de1a54f1ba88ab5a8ad96a72b",
       "version_major": 2,
       "version_minor": 0
      },
      "text/plain": [
       "Running Prediction:   0%|          | 0/3 [00:00<?, ?it/s]"
      ]
     },
     "metadata": {},
     "output_type": "display_data"
    },
    {
     "name": "stderr",
     "output_type": "stream",
     "text": [
      "convert squad examples to features: 100%|██████████| 22/22 [00:00<00:00, 205.22it/s]\n",
      "add example index and unique id: 100%|██████████| 22/22 [00:00<00:00, 161885.42it/s]\n"
     ]
    },
    {
     "data": {
      "application/vnd.jupyter.widget-view+json": {
       "model_id": "39863d4fbf1647c2a6c4d84ac2845706",
       "version_major": 2,
       "version_minor": 0
      },
      "text/plain": [
       "Running Prediction:   0%|          | 0/3 [00:00<?, ?it/s]"
      ]
     },
     "metadata": {},
     "output_type": "display_data"
    },
    {
     "name": "stderr",
     "output_type": "stream",
     "text": [
      "convert squad examples to features: 100%|██████████| 22/22 [00:00<00:00, 240.82it/s]\n",
      "add example index and unique id: 100%|██████████| 22/22 [00:00<00:00, 159644.79it/s]\n"
     ]
    },
    {
     "data": {
      "application/vnd.jupyter.widget-view+json": {
       "model_id": "21427e36983a4d5eb0ddfb7b694a0933",
       "version_major": 2,
       "version_minor": 0
      },
      "text/plain": [
       "Running Prediction:   0%|          | 0/3 [00:00<?, ?it/s]"
      ]
     },
     "metadata": {},
     "output_type": "display_data"
    },
    {
     "name": "stderr",
     "output_type": "stream",
     "text": [
      "convert squad examples to features: 100%|██████████| 22/22 [00:00<00:00, 162.51it/s]\n",
      "add example index and unique id: 100%|██████████| 22/22 [00:00<00:00, 168384.47it/s]\n"
     ]
    },
    {
     "data": {
      "application/vnd.jupyter.widget-view+json": {
       "model_id": "eb62c20037e349d38b75b9c85e134d7b",
       "version_major": 2,
       "version_minor": 0
      },
      "text/plain": [
       "Running Prediction:   0%|          | 0/3 [00:00<?, ?it/s]"
      ]
     },
     "metadata": {},
     "output_type": "display_data"
    },
    {
     "name": "stderr",
     "output_type": "stream",
     "text": [
      "convert squad examples to features: 100%|██████████| 22/22 [00:00<00:00, 52.83it/s]\n",
      "add example index and unique id: 100%|██████████| 22/22 [00:00<00:00, 150284.51it/s]\n"
     ]
    },
    {
     "data": {
      "application/vnd.jupyter.widget-view+json": {
       "model_id": "c5ce34f4dc984ce1a351e64ed3d4aecb",
       "version_major": 2,
       "version_minor": 0
      },
      "text/plain": [
       "Running Prediction:   0%|          | 0/3 [00:00<?, ?it/s]"
      ]
     },
     "metadata": {},
     "output_type": "display_data"
    },
    {
     "name": "stderr",
     "output_type": "stream",
     "text": [
      "convert squad examples to features: 100%|██████████| 22/22 [00:00<00:00, 96.97it/s]\n",
      "add example index and unique id: 100%|██████████| 22/22 [00:00<00:00, 132009.57it/s]\n"
     ]
    },
    {
     "data": {
      "application/vnd.jupyter.widget-view+json": {
       "model_id": "9842f91376b245ab83ab7060e5009b1b",
       "version_major": 2,
       "version_minor": 0
      },
      "text/plain": [
       "Running Prediction:   0%|          | 0/3 [00:00<?, ?it/s]"
      ]
     },
     "metadata": {},
     "output_type": "display_data"
    },
    {
     "name": "stderr",
     "output_type": "stream",
     "text": [
      "convert squad examples to features: 100%|██████████| 22/22 [00:00<00:00, 56.42it/s]\n",
      "add example index and unique id: 100%|██████████| 22/22 [00:00<00:00, 114626.94it/s]\n"
     ]
    },
    {
     "data": {
      "application/vnd.jupyter.widget-view+json": {
       "model_id": "648bac38e6fe4531890b230c9dc683b9",
       "version_major": 2,
       "version_minor": 0
      },
      "text/plain": [
       "Running Prediction:   0%|          | 0/3 [00:00<?, ?it/s]"
      ]
     },
     "metadata": {},
     "output_type": "display_data"
    },
    {
     "name": "stderr",
     "output_type": "stream",
     "text": [
      "convert squad examples to features: 100%|██████████| 22/22 [00:00<00:00, 233.69it/s]\n",
      "add example index and unique id: 100%|██████████| 22/22 [00:00<00:00, 163318.03it/s]\n"
     ]
    },
    {
     "data": {
      "application/vnd.jupyter.widget-view+json": {
       "model_id": "b11c678d74df4d07bbd6ba348820d0c7",
       "version_major": 2,
       "version_minor": 0
      },
      "text/plain": [
       "Running Prediction:   0%|          | 0/3 [00:00<?, ?it/s]"
      ]
     },
     "metadata": {},
     "output_type": "display_data"
    },
    {
     "name": "stderr",
     "output_type": "stream",
     "text": [
      "convert squad examples to features: 100%|██████████| 22/22 [00:00<00:00, 92.69it/s]\n",
      "add example index and unique id: 100%|██████████| 22/22 [00:00<00:00, 156397.78it/s]\n"
     ]
    },
    {
     "data": {
      "application/vnd.jupyter.widget-view+json": {
       "model_id": "c227edf971844ac081e1c37d02beac56",
       "version_major": 2,
       "version_minor": 0
      },
      "text/plain": [
       "Running Prediction:   0%|          | 0/3 [00:00<?, ?it/s]"
      ]
     },
     "metadata": {},
     "output_type": "display_data"
    },
    {
     "name": "stderr",
     "output_type": "stream",
     "text": [
      "convert squad examples to features: 100%|██████████| 22/22 [00:00<00:00, 66.84it/s]\n",
      "add example index and unique id: 100%|██████████| 22/22 [00:00<00:00, 140448.54it/s]\n"
     ]
    },
    {
     "data": {
      "application/vnd.jupyter.widget-view+json": {
       "model_id": "55199bb4650f4f20baab8d7d3f68f581",
       "version_major": 2,
       "version_minor": 0
      },
      "text/plain": [
       "Running Prediction:   0%|          | 0/3 [00:00<?, ?it/s]"
      ]
     },
     "metadata": {},
     "output_type": "display_data"
    },
    {
     "name": "stderr",
     "output_type": "stream",
     "text": [
      "convert squad examples to features: 100%|██████████| 22/22 [00:00<00:00, 319.45it/s]\n",
      "add example index and unique id: 100%|██████████| 22/22 [00:00<00:00, 142619.30it/s]\n"
     ]
    },
    {
     "data": {
      "application/vnd.jupyter.widget-view+json": {
       "model_id": "d988b4b812d141b5a2d004285f8816b3",
       "version_major": 2,
       "version_minor": 0
      },
      "text/plain": [
       "Running Prediction:   0%|          | 0/3 [00:00<?, ?it/s]"
      ]
     },
     "metadata": {},
     "output_type": "display_data"
    },
    {
     "name": "stderr",
     "output_type": "stream",
     "text": [
      "convert squad examples to features: 100%|██████████| 22/22 [00:00<00:00, 238.89it/s]\n",
      "add example index and unique id: 100%|██████████| 22/22 [00:00<00:00, 122056.47it/s]\n"
     ]
    },
    {
     "data": {
      "application/vnd.jupyter.widget-view+json": {
       "model_id": "e2a12eac3baa4724ac6ed8631b645e99",
       "version_major": 2,
       "version_minor": 0
      },
      "text/plain": [
       "Running Prediction:   0%|          | 0/3 [00:00<?, ?it/s]"
      ]
     },
     "metadata": {},
     "output_type": "display_data"
    },
    {
     "name": "stderr",
     "output_type": "stream",
     "text": [
      "convert squad examples to features: 100%|██████████| 22/22 [00:00<00:00, 472.47it/s]\n",
      "add example index and unique id: 100%|██████████| 22/22 [00:00<00:00, 158004.60it/s]\n"
     ]
    },
    {
     "data": {
      "application/vnd.jupyter.widget-view+json": {
       "model_id": "6074c314fc3e479ab62d0f6d80fc3ae8",
       "version_major": 2,
       "version_minor": 0
      },
      "text/plain": [
       "Running Prediction:   0%|          | 0/3 [00:00<?, ?it/s]"
      ]
     },
     "metadata": {},
     "output_type": "display_data"
    },
    {
     "name": "stderr",
     "output_type": "stream",
     "text": [
      "convert squad examples to features: 100%|██████████| 22/22 [00:00<00:00, 220.44it/s]\n",
      "add example index and unique id: 100%|██████████| 22/22 [00:00<00:00, 54632.73it/s]\n"
     ]
    },
    {
     "data": {
      "application/vnd.jupyter.widget-view+json": {
       "model_id": "50add388d352410e8926fd15d87d9aab",
       "version_major": 2,
       "version_minor": 0
      },
      "text/plain": [
       "Running Prediction:   0%|          | 0/3 [00:00<?, ?it/s]"
      ]
     },
     "metadata": {},
     "output_type": "display_data"
    },
    {
     "name": "stderr",
     "output_type": "stream",
     "text": [
      "convert squad examples to features: 100%|██████████| 22/22 [00:00<00:00, 409.41it/s]\n",
      "add example index and unique id: 100%|██████████| 22/22 [00:00<00:00, 113638.78it/s]\n"
     ]
    },
    {
     "data": {
      "application/vnd.jupyter.widget-view+json": {
       "model_id": "4b308d88eb36470e8d04b92ebea3f1c1",
       "version_major": 2,
       "version_minor": 0
      },
      "text/plain": [
       "Running Prediction:   0%|          | 0/3 [00:00<?, ?it/s]"
      ]
     },
     "metadata": {},
     "output_type": "display_data"
    },
    {
     "name": "stderr",
     "output_type": "stream",
     "text": [
      "convert squad examples to features: 100%|██████████| 22/22 [00:00<00:00, 131.59it/s]\n",
      "add example index and unique id: 100%|██████████| 22/22 [00:00<00:00, 153791.15it/s]\n"
     ]
    },
    {
     "data": {
      "application/vnd.jupyter.widget-view+json": {
       "model_id": "8aa5a33f13064e28b967a12a427d0d59",
       "version_major": 2,
       "version_minor": 0
      },
      "text/plain": [
       "Running Prediction:   0%|          | 0/3 [00:00<?, ?it/s]"
      ]
     },
     "metadata": {},
     "output_type": "display_data"
    },
    {
     "name": "stderr",
     "output_type": "stream",
     "text": [
      "convert squad examples to features: 100%|██████████| 22/22 [00:00<00:00, 300.74it/s]\n",
      "add example index and unique id: 100%|██████████| 22/22 [00:00<00:00, 105819.60it/s]\n"
     ]
    },
    {
     "data": {
      "application/vnd.jupyter.widget-view+json": {
       "model_id": "cc8eaf4a250e47b9a709e48cfcddadd1",
       "version_major": 2,
       "version_minor": 0
      },
      "text/plain": [
       "Running Prediction:   0%|          | 0/3 [00:00<?, ?it/s]"
      ]
     },
     "metadata": {},
     "output_type": "display_data"
    },
    {
     "name": "stderr",
     "output_type": "stream",
     "text": [
      "convert squad examples to features: 100%|██████████| 22/22 [00:00<00:00, 174.84it/s]\n",
      "add example index and unique id: 100%|██████████| 22/22 [00:00<00:00, 84811.29it/s]\n"
     ]
    },
    {
     "data": {
      "application/vnd.jupyter.widget-view+json": {
       "model_id": "8ffa237faa664979982a8f18054c669f",
       "version_major": 2,
       "version_minor": 0
      },
      "text/plain": [
       "Running Prediction:   0%|          | 0/3 [00:00<?, ?it/s]"
      ]
     },
     "metadata": {},
     "output_type": "display_data"
    },
    {
     "name": "stderr",
     "output_type": "stream",
     "text": [
      "convert squad examples to features: 100%|██████████| 22/22 [00:00<00:00, 228.19it/s]\n",
      "add example index and unique id: 100%|██████████| 22/22 [00:00<00:00, 128695.52it/s]\n"
     ]
    },
    {
     "data": {
      "application/vnd.jupyter.widget-view+json": {
       "model_id": "2fdb16f28be04c51a61ef2da36f02379",
       "version_major": 2,
       "version_minor": 0
      },
      "text/plain": [
       "Running Prediction:   0%|          | 0/3 [00:00<?, ?it/s]"
      ]
     },
     "metadata": {},
     "output_type": "display_data"
    },
    {
     "name": "stderr",
     "output_type": "stream",
     "text": [
      "convert squad examples to features: 100%|██████████| 22/22 [00:00<00:00, 364.97it/s]\n",
      "add example index and unique id: 100%|██████████| 22/22 [00:00<00:00, 151767.58it/s]\n"
     ]
    },
    {
     "data": {
      "application/vnd.jupyter.widget-view+json": {
       "model_id": "99ab9c8c54b34228a242f54a689c5b69",
       "version_major": 2,
       "version_minor": 0
      },
      "text/plain": [
       "Running Prediction:   0%|          | 0/3 [00:00<?, ?it/s]"
      ]
     },
     "metadata": {},
     "output_type": "display_data"
    },
    {
     "name": "stderr",
     "output_type": "stream",
     "text": [
      "convert squad examples to features: 100%|██████████| 22/22 [00:00<00:00, 131.19it/s]\n",
      "add example index and unique id: 100%|██████████| 22/22 [00:00<00:00, 94157.84it/s]\n"
     ]
    },
    {
     "data": {
      "application/vnd.jupyter.widget-view+json": {
       "model_id": "f95fcba4f853492e81372d7391d87db5",
       "version_major": 2,
       "version_minor": 0
      },
      "text/plain": [
       "Running Prediction:   0%|          | 0/3 [00:00<?, ?it/s]"
      ]
     },
     "metadata": {},
     "output_type": "display_data"
    },
    {
     "name": "stderr",
     "output_type": "stream",
     "text": [
      "convert squad examples to features: 100%|██████████| 22/22 [00:00<00:00, 271.97it/s]\n",
      "add example index and unique id: 100%|██████████| 22/22 [00:00<00:00, 132960.65it/s]\n"
     ]
    },
    {
     "data": {
      "application/vnd.jupyter.widget-view+json": {
       "model_id": "7d26297d2e29467d8c8dce153352c36d",
       "version_major": 2,
       "version_minor": 0
      },
      "text/plain": [
       "Running Prediction:   0%|          | 0/3 [00:00<?, ?it/s]"
      ]
     },
     "metadata": {},
     "output_type": "display_data"
    },
    {
     "name": "stderr",
     "output_type": "stream",
     "text": [
      "convert squad examples to features: 100%|██████████| 22/22 [00:00<00:00, 305.25it/s]\n",
      "add example index and unique id: 100%|██████████| 22/22 [00:00<00:00, 114912.44it/s]\n"
     ]
    },
    {
     "data": {
      "application/vnd.jupyter.widget-view+json": {
       "model_id": "c8c43b572d234cb5bc8fff3ff5202db3",
       "version_major": 2,
       "version_minor": 0
      },
      "text/plain": [
       "Running Prediction:   0%|          | 0/3 [00:00<?, ?it/s]"
      ]
     },
     "metadata": {},
     "output_type": "display_data"
    },
    {
     "name": "stderr",
     "output_type": "stream",
     "text": [
      "convert squad examples to features: 100%|██████████| 22/22 [00:00<00:00, 313.81it/s]\n",
      "add example index and unique id: 100%|██████████| 22/22 [00:00<00:00, 85677.52it/s]\n"
     ]
    },
    {
     "data": {
      "application/vnd.jupyter.widget-view+json": {
       "model_id": "5e113a14c01e44da97df24a3571e17b1",
       "version_major": 2,
       "version_minor": 0
      },
      "text/plain": [
       "Running Prediction:   0%|          | 0/3 [00:00<?, ?it/s]"
      ]
     },
     "metadata": {},
     "output_type": "display_data"
    },
    {
     "name": "stderr",
     "output_type": "stream",
     "text": [
      "convert squad examples to features: 100%|██████████| 22/22 [00:00<00:00, 235.14it/s]\n",
      "add example index and unique id: 100%|██████████| 22/22 [00:00<00:00, 161885.42it/s]\n"
     ]
    },
    {
     "data": {
      "application/vnd.jupyter.widget-view+json": {
       "model_id": "a4c965a0c07743418b4731529f9b80bf",
       "version_major": 2,
       "version_minor": 0
      },
      "text/plain": [
       "Running Prediction:   0%|          | 0/3 [00:00<?, ?it/s]"
      ]
     },
     "metadata": {},
     "output_type": "display_data"
    },
    {
     "name": "stderr",
     "output_type": "stream",
     "text": [
      "convert squad examples to features: 100%|██████████| 22/22 [00:00<00:00, 206.07it/s]\n",
      "add example index and unique id: 100%|██████████| 22/22 [00:00<00:00, 148830.14it/s]\n"
     ]
    },
    {
     "data": {
      "application/vnd.jupyter.widget-view+json": {
       "model_id": "062db06b1b6145b6b1de931558dfaa9d",
       "version_major": 2,
       "version_minor": 0
      },
      "text/plain": [
       "Running Prediction:   0%|          | 0/3 [00:00<?, ?it/s]"
      ]
     },
     "metadata": {},
     "output_type": "display_data"
    },
    {
     "name": "stderr",
     "output_type": "stream",
     "text": [
      "convert squad examples to features: 100%|██████████| 22/22 [00:00<00:00, 226.70it/s]\n",
      "add example index and unique id: 100%|██████████| 22/22 [00:00<00:00, 37973.12it/s]\n"
     ]
    },
    {
     "data": {
      "application/vnd.jupyter.widget-view+json": {
       "model_id": "9e7e33a2309243bcae4de918f32e7f57",
       "version_major": 2,
       "version_minor": 0
      },
      "text/plain": [
       "Running Prediction:   0%|          | 0/3 [00:00<?, ?it/s]"
      ]
     },
     "metadata": {},
     "output_type": "display_data"
    },
    {
     "name": "stderr",
     "output_type": "stream",
     "text": [
      "convert squad examples to features: 100%|██████████| 22/22 [00:00<00:00, 229.26it/s]\n",
      "add example index and unique id: 100%|██████████| 22/22 [00:00<00:00, 120463.04it/s]\n"
     ]
    },
    {
     "data": {
      "application/vnd.jupyter.widget-view+json": {
       "model_id": "56748ad3c787431d89013fbff21314b4",
       "version_major": 2,
       "version_minor": 0
      },
      "text/plain": [
       "Running Prediction:   0%|          | 0/3 [00:00<?, ?it/s]"
      ]
     },
     "metadata": {},
     "output_type": "display_data"
    },
    {
     "name": "stderr",
     "output_type": "stream",
     "text": [
      "convert squad examples to features: 100%|██████████| 22/22 [00:00<00:00, 234.03it/s]\n",
      "add example index and unique id: 100%|██████████| 22/22 [00:00<00:00, 33812.64it/s]\n"
     ]
    },
    {
     "data": {
      "application/vnd.jupyter.widget-view+json": {
       "model_id": "9101c021243444019db70554bd61bcd0",
       "version_major": 2,
       "version_minor": 0
      },
      "text/plain": [
       "Running Prediction:   0%|          | 0/3 [00:00<?, ?it/s]"
      ]
     },
     "metadata": {},
     "output_type": "display_data"
    },
    {
     "name": "stderr",
     "output_type": "stream",
     "text": [
      "convert squad examples to features: 100%|██████████| 22/22 [00:00<00:00, 219.63it/s]\n",
      "add example index and unique id: 100%|██████████| 22/22 [00:00<00:00, 150284.51it/s]\n"
     ]
    },
    {
     "data": {
      "application/vnd.jupyter.widget-view+json": {
       "model_id": "d28c92007f414a8bb9f86b0ef3d9ad06",
       "version_major": 2,
       "version_minor": 0
      },
      "text/plain": [
       "Running Prediction:   0%|          | 0/3 [00:00<?, ?it/s]"
      ]
     },
     "metadata": {},
     "output_type": "display_data"
    },
    {
     "name": "stderr",
     "output_type": "stream",
     "text": [
      "convert squad examples to features: 100%|██████████| 22/22 [00:00<00:00, 166.86it/s]\n",
      "add example index and unique id: 100%|██████████| 22/22 [00:00<00:00, 137518.16it/s]\n"
     ]
    },
    {
     "data": {
      "application/vnd.jupyter.widget-view+json": {
       "model_id": "50ac3a677681402ab3eeb345fb4dc28c",
       "version_major": 2,
       "version_minor": 0
      },
      "text/plain": [
       "Running Prediction:   0%|          | 0/3 [00:00<?, ?it/s]"
      ]
     },
     "metadata": {},
     "output_type": "display_data"
    },
    {
     "name": "stderr",
     "output_type": "stream",
     "text": [
      "convert squad examples to features: 100%|██████████| 22/22 [00:00<00:00, 208.36it/s]\n",
      "add example index and unique id: 100%|██████████| 22/22 [00:00<00:00, 145773.60it/s]\n"
     ]
    },
    {
     "data": {
      "application/vnd.jupyter.widget-view+json": {
       "model_id": "569a123189044d55878609b31cb8c440",
       "version_major": 2,
       "version_minor": 0
      },
      "text/plain": [
       "Running Prediction:   0%|          | 0/3 [00:00<?, ?it/s]"
      ]
     },
     "metadata": {},
     "output_type": "display_data"
    },
    {
     "name": "stderr",
     "output_type": "stream",
     "text": [
      "convert squad examples to features: 100%|██████████| 22/22 [00:00<00:00, 326.03it/s]\n",
      "add example index and unique id: 100%|██████████| 22/22 [00:00<00:00, 143730.04it/s]\n"
     ]
    },
    {
     "data": {
      "application/vnd.jupyter.widget-view+json": {
       "model_id": "fba196f514cf4b78baefda08e86da310",
       "version_major": 2,
       "version_minor": 0
      },
      "text/plain": [
       "Running Prediction:   0%|          | 0/3 [00:00<?, ?it/s]"
      ]
     },
     "metadata": {},
     "output_type": "display_data"
    },
    {
     "name": "stderr",
     "output_type": "stream",
     "text": [
      "convert squad examples to features: 100%|██████████| 22/22 [00:00<00:00, 211.36it/s]\n",
      "add example index and unique id: 100%|██████████| 22/22 [00:00<00:00, 127981.54it/s]\n"
     ]
    },
    {
     "data": {
      "application/vnd.jupyter.widget-view+json": {
       "model_id": "6a562805c1a5463ba9352aed13b0ddee",
       "version_major": 2,
       "version_minor": 0
      },
      "text/plain": [
       "Running Prediction:   0%|          | 0/3 [00:00<?, ?it/s]"
      ]
     },
     "metadata": {},
     "output_type": "display_data"
    },
    {
     "name": "stderr",
     "output_type": "stream",
     "text": [
      "convert squad examples to features: 100%|██████████| 22/22 [00:00<00:00, 148.55it/s]\n",
      "add example index and unique id: 100%|██████████| 22/22 [00:00<00:00, 144631.17it/s]\n"
     ]
    },
    {
     "data": {
      "application/vnd.jupyter.widget-view+json": {
       "model_id": "520aad8ab36548c7b40750c19df080e4",
       "version_major": 2,
       "version_minor": 0
      },
      "text/plain": [
       "Running Prediction:   0%|          | 0/3 [00:00<?, ?it/s]"
      ]
     },
     "metadata": {},
     "output_type": "display_data"
    },
    {
     "name": "stderr",
     "output_type": "stream",
     "text": [
      "convert squad examples to features: 100%|██████████| 22/22 [00:00<00:00, 193.66it/s]\n",
      "add example index and unique id: 100%|██████████| 22/22 [00:00<00:00, 72429.11it/s]\n"
     ]
    },
    {
     "data": {
      "application/vnd.jupyter.widget-view+json": {
       "model_id": "1e376175f3194ccca3ad4d49c1f38114",
       "version_major": 2,
       "version_minor": 0
      },
      "text/plain": [
       "Running Prediction:   0%|          | 0/3 [00:00<?, ?it/s]"
      ]
     },
     "metadata": {},
     "output_type": "display_data"
    },
    {
     "name": "stderr",
     "output_type": "stream",
     "text": [
      "convert squad examples to features: 100%|██████████| 22/22 [00:00<00:00, 272.57it/s]\n",
      "add example index and unique id: 100%|██████████| 22/22 [00:00<00:00, 157734.51it/s]\n"
     ]
    },
    {
     "data": {
      "application/vnd.jupyter.widget-view+json": {
       "model_id": "e15e33b33d264e66b6e3f83107bbb4a1",
       "version_major": 2,
       "version_minor": 0
      },
      "text/plain": [
       "Running Prediction:   0%|          | 0/3 [00:00<?, ?it/s]"
      ]
     },
     "metadata": {},
     "output_type": "display_data"
    },
    {
     "name": "stderr",
     "output_type": "stream",
     "text": [
      "convert squad examples to features: 100%|██████████| 22/22 [00:00<00:00, 230.12it/s]\n",
      "add example index and unique id: 100%|██████████| 22/22 [00:00<00:00, 169934.97it/s]\n"
     ]
    },
    {
     "data": {
      "application/vnd.jupyter.widget-view+json": {
       "model_id": "cff0f9988b5e4589aaa2ded0c71c7be0",
       "version_major": 2,
       "version_minor": 0
      },
      "text/plain": [
       "Running Prediction:   0%|          | 0/3 [00:00<?, ?it/s]"
      ]
     },
     "metadata": {},
     "output_type": "display_data"
    },
    {
     "name": "stderr",
     "output_type": "stream",
     "text": [
      "convert squad examples to features: 100%|██████████| 22/22 [00:00<00:00, 163.23it/s]\n",
      "add example index and unique id: 100%|██████████| 22/22 [00:00<00:00, 157197.08it/s]\n"
     ]
    },
    {
     "data": {
      "application/vnd.jupyter.widget-view+json": {
       "model_id": "73887f33272441e88765afeb356045df",
       "version_major": 2,
       "version_minor": 0
      },
      "text/plain": [
       "Running Prediction:   0%|          | 0/3 [00:00<?, ?it/s]"
      ]
     },
     "metadata": {},
     "output_type": "display_data"
    },
    {
     "name": "stderr",
     "output_type": "stream",
     "text": [
      "convert squad examples to features: 100%|██████████| 22/22 [00:00<00:00, 242.82it/s]\n",
      "add example index and unique id: 100%|██████████| 22/22 [00:00<00:00, 187550.18it/s]\n"
     ]
    },
    {
     "data": {
      "application/vnd.jupyter.widget-view+json": {
       "model_id": "e0151d8b5a554115a8458c1dc3f08c6c",
       "version_major": 2,
       "version_minor": 0
      },
      "text/plain": [
       "Running Prediction:   0%|          | 0/3 [00:00<?, ?it/s]"
      ]
     },
     "metadata": {},
     "output_type": "display_data"
    },
    {
     "name": "stderr",
     "output_type": "stream",
     "text": [
      "convert squad examples to features: 100%|██████████| 22/22 [00:00<00:00, 122.81it/s]\n",
      "add example index and unique id: 100%|██████████| 22/22 [00:00<00:00, 43018.50it/s]\n"
     ]
    },
    {
     "data": {
      "application/vnd.jupyter.widget-view+json": {
       "model_id": "3b15025555724ec8a1e2fa042c798768",
       "version_major": 2,
       "version_minor": 0
      },
      "text/plain": [
       "Running Prediction:   0%|          | 0/3 [00:00<?, ?it/s]"
      ]
     },
     "metadata": {},
     "output_type": "display_data"
    },
    {
     "name": "stderr",
     "output_type": "stream",
     "text": [
      "convert squad examples to features: 100%|██████████| 22/22 [00:00<00:00, 258.95it/s]\n",
      "add example index and unique id: 100%|██████████| 22/22 [00:00<00:00, 118757.64it/s]\n"
     ]
    },
    {
     "data": {
      "application/vnd.jupyter.widget-view+json": {
       "model_id": "fa1f9e6bbac141318a6a8b21e76b5092",
       "version_major": 2,
       "version_minor": 0
      },
      "text/plain": [
       "Running Prediction:   0%|          | 0/3 [00:00<?, ?it/s]"
      ]
     },
     "metadata": {},
     "output_type": "display_data"
    },
    {
     "name": "stderr",
     "output_type": "stream",
     "text": [
      "convert squad examples to features: 100%|██████████| 22/22 [00:00<00:00, 178.61it/s]\n",
      "add example index and unique id: 100%|██████████| 22/22 [00:00<00:00, 107047.20it/s]\n"
     ]
    },
    {
     "data": {
      "application/vnd.jupyter.widget-view+json": {
       "model_id": "6546490c6a7a459798636d1f140a155c",
       "version_major": 2,
       "version_minor": 0
      },
      "text/plain": [
       "Running Prediction:   0%|          | 0/3 [00:00<?, ?it/s]"
      ]
     },
     "metadata": {},
     "output_type": "display_data"
    },
    {
     "name": "stderr",
     "output_type": "stream",
     "text": [
      "convert squad examples to features: 100%|██████████| 22/22 [00:00<00:00, 214.85it/s]\n",
      "add example index and unique id: 100%|██████████| 22/22 [00:00<00:00, 135897.92it/s]\n"
     ]
    },
    {
     "data": {
      "application/vnd.jupyter.widget-view+json": {
       "model_id": "5bda1503ff0c41179c1db4ac3dc4a5e2",
       "version_major": 2,
       "version_minor": 0
      },
      "text/plain": [
       "Running Prediction:   0%|          | 0/3 [00:00<?, ?it/s]"
      ]
     },
     "metadata": {},
     "output_type": "display_data"
    },
    {
     "name": "stderr",
     "output_type": "stream",
     "text": [
      "convert squad examples to features: 100%|██████████| 22/22 [00:00<00:00, 117.60it/s]\n",
      "add example index and unique id: 100%|██████████| 22/22 [00:00<00:00, 147168.56it/s]\n"
     ]
    },
    {
     "data": {
      "application/vnd.jupyter.widget-view+json": {
       "model_id": "4f7fe2613a2645d3921956b0fd92fb06",
       "version_major": 2,
       "version_minor": 0
      },
      "text/plain": [
       "Running Prediction:   0%|          | 0/3 [00:00<?, ?it/s]"
      ]
     },
     "metadata": {},
     "output_type": "display_data"
    },
    {
     "name": "stderr",
     "output_type": "stream",
     "text": [
      "convert squad examples to features: 100%|██████████| 22/22 [00:00<00:00, 117.41it/s]\n",
      "add example index and unique id: 100%|██████████| 22/22 [00:00<00:00, 160477.72it/s]\n"
     ]
    },
    {
     "data": {
      "application/vnd.jupyter.widget-view+json": {
       "model_id": "8f0aa195c7c74d1e8c87e90094c7cbf1",
       "version_major": 2,
       "version_minor": 0
      },
      "text/plain": [
       "Running Prediction:   0%|          | 0/3 [00:00<?, ?it/s]"
      ]
     },
     "metadata": {},
     "output_type": "display_data"
    },
    {
     "name": "stderr",
     "output_type": "stream",
     "text": [
      "convert squad examples to features: 100%|██████████| 22/22 [00:00<00:00, 154.40it/s]\n",
      "add example index and unique id: 100%|██████████| 22/22 [00:00<00:00, 132198.69it/s]\n"
     ]
    },
    {
     "data": {
      "application/vnd.jupyter.widget-view+json": {
       "model_id": "b57f426e237d4eb3897ca4e3cdee9ef6",
       "version_major": 2,
       "version_minor": 0
      },
      "text/plain": [
       "Running Prediction:   0%|          | 0/3 [00:00<?, ?it/s]"
      ]
     },
     "metadata": {},
     "output_type": "display_data"
    },
    {
     "name": "stderr",
     "output_type": "stream",
     "text": [
      "convert squad examples to features: 100%|██████████| 22/22 [00:00<00:00, 99.13it/s]\n",
      "add example index and unique id: 100%|██████████| 22/22 [00:00<00:00, 147876.10it/s]\n"
     ]
    },
    {
     "data": {
      "application/vnd.jupyter.widget-view+json": {
       "model_id": "877d7b6cb0084a60bda93e60e5d03017",
       "version_major": 2,
       "version_minor": 0
      },
      "text/plain": [
       "Running Prediction:   0%|          | 0/3 [00:00<?, ?it/s]"
      ]
     },
     "metadata": {},
     "output_type": "display_data"
    },
    {
     "name": "stderr",
     "output_type": "stream",
     "text": [
      "convert squad examples to features: 100%|██████████| 22/22 [00:00<00:00, 97.90it/s]\n",
      "add example index and unique id: 100%|██████████| 22/22 [00:00<00:00, 100736.56it/s]\n"
     ]
    },
    {
     "data": {
      "application/vnd.jupyter.widget-view+json": {
       "model_id": "7e82d37d74cf48f09880980a81f53a86",
       "version_major": 2,
       "version_minor": 0
      },
      "text/plain": [
       "Running Prediction:   0%|          | 0/3 [00:00<?, ?it/s]"
      ]
     },
     "metadata": {},
     "output_type": "display_data"
    },
    {
     "name": "stderr",
     "output_type": "stream",
     "text": [
      "convert squad examples to features: 100%|██████████| 22/22 [00:00<00:00, 381.22it/s]\n",
      "add example index and unique id: 100%|██████████| 22/22 [00:00<00:00, 162741.95it/s]\n"
     ]
    },
    {
     "data": {
      "application/vnd.jupyter.widget-view+json": {
       "model_id": "ee12368f7812471592b1b5f6b14f216e",
       "version_major": 2,
       "version_minor": 0
      },
      "text/plain": [
       "Running Prediction:   0%|          | 0/3 [00:00<?, ?it/s]"
      ]
     },
     "metadata": {},
     "output_type": "display_data"
    },
    {
     "name": "stderr",
     "output_type": "stream",
     "text": [
      "convert squad examples to features: 100%|██████████| 22/22 [00:00<00:00, 223.66it/s]\n",
      "add example index and unique id: 100%|██████████| 22/22 [00:00<00:00, 152520.15it/s]\n"
     ]
    },
    {
     "data": {
      "application/vnd.jupyter.widget-view+json": {
       "model_id": "ac02a352ebd64e35817871a3982b7fa5",
       "version_major": 2,
       "version_minor": 0
      },
      "text/plain": [
       "Running Prediction:   0%|          | 0/3 [00:00<?, ?it/s]"
      ]
     },
     "metadata": {},
     "output_type": "display_data"
    },
    {
     "name": "stderr",
     "output_type": "stream",
     "text": [
      "convert squad examples to features: 100%|██████████| 22/22 [00:00<00:00, 239.64it/s]\n",
      "add example index and unique id: 100%|██████████| 22/22 [00:00<00:00, 120305.98it/s]\n"
     ]
    },
    {
     "data": {
      "application/vnd.jupyter.widget-view+json": {
       "model_id": "b512baa6287546889aa74f940d80abc8",
       "version_major": 2,
       "version_minor": 0
      },
      "text/plain": [
       "Running Prediction:   0%|          | 0/3 [00:00<?, ?it/s]"
      ]
     },
     "metadata": {},
     "output_type": "display_data"
    },
    {
     "name": "stderr",
     "output_type": "stream",
     "text": [
      "convert squad examples to features: 100%|██████████| 22/22 [00:00<00:00, 182.33it/s]\n",
      "add example index and unique id: 100%|██████████| 22/22 [00:00<00:00, 109720.20it/s]\n"
     ]
    },
    {
     "data": {
      "application/vnd.jupyter.widget-view+json": {
       "model_id": "1a4eac9fbc1d4de5946f8201f23028a1",
       "version_major": 2,
       "version_minor": 0
      },
      "text/plain": [
       "Running Prediction:   0%|          | 0/3 [00:00<?, ?it/s]"
      ]
     },
     "metadata": {},
     "output_type": "display_data"
    },
    {
     "name": "stderr",
     "output_type": "stream",
     "text": [
      "convert squad examples to features: 100%|██████████| 22/22 [00:00<00:00, 91.40it/s]\n",
      "add example index and unique id: 100%|██████████| 22/22 [00:00<00:00, 155083.51it/s]\n"
     ]
    },
    {
     "data": {
      "application/vnd.jupyter.widget-view+json": {
       "model_id": "6ba3cd2c26244cc5832ac36818fb931e",
       "version_major": 2,
       "version_minor": 0
      },
      "text/plain": [
       "Running Prediction:   0%|          | 0/3 [00:00<?, ?it/s]"
      ]
     },
     "metadata": {},
     "output_type": "display_data"
    },
    {
     "name": "stderr",
     "output_type": "stream",
     "text": [
      "convert squad examples to features: 100%|██████████| 22/22 [00:00<00:00, 73.61it/s]\n",
      "add example index and unique id: 100%|██████████| 22/22 [00:00<00:00, 145085.99it/s]\n"
     ]
    },
    {
     "data": {
      "application/vnd.jupyter.widget-view+json": {
       "model_id": "72ab362ba9934ea7b0d05c0dfcbd0333",
       "version_major": 2,
       "version_minor": 0
      },
      "text/plain": [
       "Running Prediction:   0%|          | 0/3 [00:00<?, ?it/s]"
      ]
     },
     "metadata": {},
     "output_type": "display_data"
    },
    {
     "name": "stderr",
     "output_type": "stream",
     "text": [
      "convert squad examples to features: 100%|██████████| 22/22 [00:00<00:00, 180.41it/s]\n",
      "add example index and unique id: 100%|██████████| 22/22 [00:00<00:00, 156663.31it/s]\n"
     ]
    },
    {
     "data": {
      "application/vnd.jupyter.widget-view+json": {
       "model_id": "ef4b5108718940ee8bc23b2b6cbaada7",
       "version_major": 2,
       "version_minor": 0
      },
      "text/plain": [
       "Running Prediction:   0%|          | 0/3 [00:00<?, ?it/s]"
      ]
     },
     "metadata": {},
     "output_type": "display_data"
    },
    {
     "name": "stderr",
     "output_type": "stream",
     "text": [
      "convert squad examples to features: 100%|██████████| 22/22 [00:00<00:00, 182.80it/s]\n",
      "add example index and unique id: 100%|██████████| 22/22 [00:00<00:00, 150284.51it/s]\n"
     ]
    },
    {
     "data": {
      "application/vnd.jupyter.widget-view+json": {
       "model_id": "dfde6a724c1e4be788ad1ff21488dd9a",
       "version_major": 2,
       "version_minor": 0
      },
      "text/plain": [
       "Running Prediction:   0%|          | 0/3 [00:00<?, ?it/s]"
      ]
     },
     "metadata": {},
     "output_type": "display_data"
    },
    {
     "name": "stderr",
     "output_type": "stream",
     "text": [
      "convert squad examples to features: 100%|██████████| 22/22 [00:00<00:00, 277.29it/s]\n",
      "add example index and unique id: 100%|██████████| 22/22 [00:00<00:00, 154305.50it/s]\n"
     ]
    },
    {
     "data": {
      "application/vnd.jupyter.widget-view+json": {
       "model_id": "b3060429a2df4f8b8a39f6cb903334c2",
       "version_major": 2,
       "version_minor": 0
      },
      "text/plain": [
       "Running Prediction:   0%|          | 0/3 [00:00<?, ?it/s]"
      ]
     },
     "metadata": {},
     "output_type": "display_data"
    },
    {
     "name": "stderr",
     "output_type": "stream",
     "text": [
      "convert squad examples to features: 100%|██████████| 22/22 [00:00<00:00, 197.69it/s]\n",
      "add example index and unique id: 100%|██████████| 22/22 [00:00<00:00, 162169.93it/s]\n"
     ]
    },
    {
     "data": {
      "application/vnd.jupyter.widget-view+json": {
       "model_id": "84dc8a29cf7046f392921fea98cb329a",
       "version_major": 2,
       "version_minor": 0
      },
      "text/plain": [
       "Running Prediction:   0%|          | 0/3 [00:00<?, ?it/s]"
      ]
     },
     "metadata": {},
     "output_type": "display_data"
    },
    {
     "name": "stderr",
     "output_type": "stream",
     "text": [
      "convert squad examples to features: 100%|██████████| 22/22 [00:00<00:00, 213.64it/s]\n",
      "add example index and unique id: 100%|██████████| 22/22 [00:00<00:00, 114342.86it/s]\n"
     ]
    },
    {
     "data": {
      "application/vnd.jupyter.widget-view+json": {
       "model_id": "c102f2f8e5dc4336838fe9adf6e54fb1",
       "version_major": 2,
       "version_minor": 0
      },
      "text/plain": [
       "Running Prediction:   0%|          | 0/3 [00:00<?, ?it/s]"
      ]
     },
     "metadata": {},
     "output_type": "display_data"
    },
    {
     "name": "stderr",
     "output_type": "stream",
     "text": [
      "convert squad examples to features: 100%|██████████| 22/22 [00:00<00:00, 68.11it/s]\n",
      "add example index and unique id: 100%|██████████| 22/22 [00:00<00:00, 147168.56it/s]\n"
     ]
    },
    {
     "data": {
      "application/vnd.jupyter.widget-view+json": {
       "model_id": "24b0c9448aba49e9a0b218948314f3c4",
       "version_major": 2,
       "version_minor": 0
      },
      "text/plain": [
       "Running Prediction:   0%|          | 0/3 [00:00<?, ?it/s]"
      ]
     },
     "metadata": {},
     "output_type": "display_data"
    },
    {
     "name": "stderr",
     "output_type": "stream",
     "text": [
      "convert squad examples to features: 100%|██████████| 22/22 [00:00<00:00, 208.80it/s]\n",
      "add example index and unique id: 100%|██████████| 22/22 [00:00<00:00, 162741.95it/s]\n"
     ]
    },
    {
     "data": {
      "application/vnd.jupyter.widget-view+json": {
       "model_id": "968ab449830d4e4fb3cb808934255d2a",
       "version_major": 2,
       "version_minor": 0
      },
      "text/plain": [
       "Running Prediction:   0%|          | 0/3 [00:00<?, ?it/s]"
      ]
     },
     "metadata": {},
     "output_type": "display_data"
    },
    {
     "name": "stderr",
     "output_type": "stream",
     "text": [
      "convert squad examples to features: 100%|██████████| 22/22 [00:00<00:00, 72.68it/s]\n",
      "add example index and unique id: 100%|██████████| 22/22 [00:00<00:00, 156929.74it/s]\n"
     ]
    },
    {
     "data": {
      "application/vnd.jupyter.widget-view+json": {
       "model_id": "3e980f27325e483fbb8d6097baf662f3",
       "version_major": 2,
       "version_minor": 0
      },
      "text/plain": [
       "Running Prediction:   0%|          | 0/3 [00:00<?, ?it/s]"
      ]
     },
     "metadata": {},
     "output_type": "display_data"
    },
    {
     "name": "stderr",
     "output_type": "stream",
     "text": [
      "convert squad examples to features: 100%|██████████| 22/22 [00:00<00:00, 119.36it/s]\n",
      "add example index and unique id: 100%|██████████| 22/22 [00:00<00:00, 147876.10it/s]\n"
     ]
    },
    {
     "data": {
      "application/vnd.jupyter.widget-view+json": {
       "model_id": "4c7eb04f4b6d4f87b899a834365e6f21",
       "version_major": 2,
       "version_minor": 0
      },
      "text/plain": [
       "Running Prediction:   0%|          | 0/3 [00:00<?, ?it/s]"
      ]
     },
     "metadata": {},
     "output_type": "display_data"
    },
    {
     "name": "stderr",
     "output_type": "stream",
     "text": [
      "convert squad examples to features: 100%|██████████| 22/22 [00:00<00:00, 69.23it/s]\n",
      "add example index and unique id: 100%|██████████| 22/22 [00:00<00:00, 129781.56it/s]\n"
     ]
    },
    {
     "data": {
      "application/vnd.jupyter.widget-view+json": {
       "model_id": "87394baecf7047f8b23d01ef56c378df",
       "version_major": 2,
       "version_minor": 0
      },
      "text/plain": [
       "Running Prediction:   0%|          | 0/3 [00:00<?, ?it/s]"
      ]
     },
     "metadata": {},
     "output_type": "display_data"
    },
    {
     "name": "stderr",
     "output_type": "stream",
     "text": [
      "convert squad examples to features: 100%|██████████| 22/22 [00:00<00:00, 196.64it/s]\n",
      "add example index and unique id: 100%|██████████| 22/22 [00:00<00:00, 157197.08it/s]\n"
     ]
    },
    {
     "data": {
      "application/vnd.jupyter.widget-view+json": {
       "model_id": "d4dfb1838999498da7cb563faa3bc8b0",
       "version_major": 2,
       "version_minor": 0
      },
      "text/plain": [
       "Running Prediction:   0%|          | 0/3 [00:00<?, ?it/s]"
      ]
     },
     "metadata": {},
     "output_type": "display_data"
    },
    {
     "name": "stderr",
     "output_type": "stream",
     "text": [
      "convert squad examples to features: 100%|██████████| 22/22 [00:00<00:00, 292.05it/s]\n",
      "add example index and unique id: 100%|██████████| 22/22 [00:00<00:00, 168077.76it/s]\n"
     ]
    },
    {
     "data": {
      "application/vnd.jupyter.widget-view+json": {
       "model_id": "5377fc62c5834e26b9bc008d87be65c8",
       "version_major": 2,
       "version_minor": 0
      },
      "text/plain": [
       "Running Prediction:   0%|          | 0/3 [00:00<?, ?it/s]"
      ]
     },
     "metadata": {},
     "output_type": "display_data"
    },
    {
     "name": "stderr",
     "output_type": "stream",
     "text": [
      "convert squad examples to features: 100%|██████████| 22/22 [00:00<00:00, 212.72it/s]\n",
      "add example index and unique id: 100%|██████████| 22/22 [00:00<00:00, 161319.38it/s]\n"
     ]
    },
    {
     "data": {
      "application/vnd.jupyter.widget-view+json": {
       "model_id": "3bac8ebe53854321b2bfe3b73429f588",
       "version_major": 2,
       "version_minor": 0
      },
      "text/plain": [
       "Running Prediction:   0%|          | 0/3 [00:00<?, ?it/s]"
      ]
     },
     "metadata": {},
     "output_type": "display_data"
    },
    {
     "name": "stderr",
     "output_type": "stream",
     "text": [
      "convert squad examples to features: 100%|██████████| 22/22 [00:00<00:00, 99.31it/s]\n",
      "add example index and unique id: 100%|██████████| 22/22 [00:00<00:00, 121734.42it/s]\n"
     ]
    },
    {
     "data": {
      "application/vnd.jupyter.widget-view+json": {
       "model_id": "91afdec5e98d4b11b7fe6ce6b487d4ce",
       "version_major": 2,
       "version_minor": 0
      },
      "text/plain": [
       "Running Prediction:   0%|          | 0/3 [00:00<?, ?it/s]"
      ]
     },
     "metadata": {},
     "output_type": "display_data"
    },
    {
     "name": "stderr",
     "output_type": "stream",
     "text": [
      "convert squad examples to features: 100%|██████████| 22/22 [00:00<00:00, 51.66it/s]\n",
      "add example index and unique id: 100%|██████████| 22/22 [00:00<00:00, 119993.09it/s]\n"
     ]
    },
    {
     "data": {
      "application/vnd.jupyter.widget-view+json": {
       "model_id": "74168a3444714812891e574660736c23",
       "version_major": 2,
       "version_minor": 0
      },
      "text/plain": [
       "Running Prediction:   0%|          | 0/6 [00:00<?, ?it/s]"
      ]
     },
     "metadata": {},
     "output_type": "display_data"
    },
    {
     "name": "stderr",
     "output_type": "stream",
     "text": [
      "convert squad examples to features: 100%|██████████| 22/22 [00:00<00:00, 214.53it/s]\n",
      "add example index and unique id: 100%|██████████| 22/22 [00:00<00:00, 121095.39it/s]\n"
     ]
    },
    {
     "data": {
      "application/vnd.jupyter.widget-view+json": {
       "model_id": "dc685516b1cb4533ac6955da4b0df766",
       "version_major": 2,
       "version_minor": 0
      },
      "text/plain": [
       "Running Prediction:   0%|          | 0/3 [00:00<?, ?it/s]"
      ]
     },
     "metadata": {},
     "output_type": "display_data"
    },
    {
     "name": "stderr",
     "output_type": "stream",
     "text": [
      "convert squad examples to features: 100%|██████████| 22/22 [00:00<00:00, 177.85it/s]\n",
      "add example index and unique id: 100%|██████████| 22/22 [00:00<00:00, 125373.22it/s]\n"
     ]
    },
    {
     "data": {
      "application/vnd.jupyter.widget-view+json": {
       "model_id": "a7b06ef21c0548e99de8e2f354be460e",
       "version_major": 2,
       "version_minor": 0
      },
      "text/plain": [
       "Running Prediction:   0%|          | 0/3 [00:00<?, ?it/s]"
      ]
     },
     "metadata": {},
     "output_type": "display_data"
    },
    {
     "name": "stderr",
     "output_type": "stream",
     "text": [
      "convert squad examples to features: 100%|██████████| 22/22 [00:00<00:00, 83.41it/s]\n",
      "add example index and unique id: 100%|██████████| 22/22 [00:00<00:00, 98269.10it/s]\n"
     ]
    },
    {
     "data": {
      "application/vnd.jupyter.widget-view+json": {
       "model_id": "a7e3ab0196814788a9dddde337efffd6",
       "version_major": 2,
       "version_minor": 0
      },
      "text/plain": [
       "Running Prediction:   0%|          | 0/3 [00:00<?, ?it/s]"
      ]
     },
     "metadata": {},
     "output_type": "display_data"
    },
    {
     "name": "stderr",
     "output_type": "stream",
     "text": [
      "convert squad examples to features: 100%|██████████| 22/22 [00:00<00:00, 179.40it/s]\n",
      "add example index and unique id: 100%|██████████| 22/22 [00:00<00:00, 134707.57it/s]\n"
     ]
    },
    {
     "data": {
      "application/vnd.jupyter.widget-view+json": {
       "model_id": "6bd28d56b3684e6cb9a1a5fdcd29969e",
       "version_major": 2,
       "version_minor": 0
      },
      "text/plain": [
       "Running Prediction:   0%|          | 0/3 [00:00<?, ?it/s]"
      ]
     },
     "metadata": {},
     "output_type": "display_data"
    },
    {
     "name": "stderr",
     "output_type": "stream",
     "text": [
      "convert squad examples to features: 100%|██████████| 22/22 [00:00<00:00, 257.36it/s]\n",
      "add example index and unique id: 100%|██████████| 22/22 [00:00<00:00, 141092.80it/s]\n"
     ]
    },
    {
     "data": {
      "application/vnd.jupyter.widget-view+json": {
       "model_id": "8cff4f0c2fdb47598dfec11768a356a5",
       "version_major": 2,
       "version_minor": 0
      },
      "text/plain": [
       "Running Prediction:   0%|          | 0/3 [00:00<?, ?it/s]"
      ]
     },
     "metadata": {},
     "output_type": "display_data"
    },
    {
     "name": "stderr",
     "output_type": "stream",
     "text": [
      "convert squad examples to features: 100%|██████████| 22/22 [00:00<00:00, 71.49it/s]\n",
      "add example index and unique id: 100%|██████████| 22/22 [00:00<00:00, 158820.46it/s]\n"
     ]
    },
    {
     "data": {
      "application/vnd.jupyter.widget-view+json": {
       "model_id": "3d0fae79b74c420abcbd5175b770bc27",
       "version_major": 2,
       "version_minor": 0
      },
      "text/plain": [
       "Running Prediction:   0%|          | 0/3 [00:00<?, ?it/s]"
      ]
     },
     "metadata": {},
     "output_type": "display_data"
    },
    {
     "name": "stderr",
     "output_type": "stream",
     "text": [
      "convert squad examples to features: 100%|██████████| 22/22 [00:00<00:00, 90.99it/s]\n",
      "add example index and unique id: 100%|██████████| 22/22 [00:00<00:00, 102755.78it/s]\n"
     ]
    },
    {
     "data": {
      "application/vnd.jupyter.widget-view+json": {
       "model_id": "b7431f6e49354334a90c9eb521d7a1d3",
       "version_major": 2,
       "version_minor": 0
      },
      "text/plain": [
       "Running Prediction:   0%|          | 0/3 [00:00<?, ?it/s]"
      ]
     },
     "metadata": {},
     "output_type": "display_data"
    },
    {
     "name": "stderr",
     "output_type": "stream",
     "text": [
      "convert squad examples to features: 100%|██████████| 22/22 [00:00<00:00, 173.92it/s]\n",
      "add example index and unique id: 100%|██████████| 22/22 [00:00<00:00, 174103.18it/s]\n"
     ]
    },
    {
     "data": {
      "application/vnd.jupyter.widget-view+json": {
       "model_id": "2d5597ec56b347cea4faa23ae8fccfad",
       "version_major": 2,
       "version_minor": 0
      },
      "text/plain": [
       "Running Prediction:   0%|          | 0/3 [00:00<?, ?it/s]"
      ]
     },
     "metadata": {},
     "output_type": "display_data"
    },
    {
     "name": "stderr",
     "output_type": "stream",
     "text": [
      "convert squad examples to features: 100%|██████████| 22/22 [00:00<00:00, 105.56it/s]\n",
      "add example index and unique id: 100%|██████████| 22/22 [00:00<00:00, 138342.86it/s]\n"
     ]
    },
    {
     "data": {
      "application/vnd.jupyter.widget-view+json": {
       "model_id": "9f11ee3b8a1d44539a9e2659478be5f0",
       "version_major": 2,
       "version_minor": 0
      },
      "text/plain": [
       "Running Prediction:   0%|          | 0/3 [00:00<?, ?it/s]"
      ]
     },
     "metadata": {},
     "output_type": "display_data"
    },
    {
     "name": "stderr",
     "output_type": "stream",
     "text": [
      "convert squad examples to features: 100%|██████████| 22/22 [00:00<00:00, 109.62it/s]\n",
      "add example index and unique id: 100%|██████████| 22/22 [00:00<00:00, 163029.48it/s]\n"
     ]
    },
    {
     "data": {
      "application/vnd.jupyter.widget-view+json": {
       "model_id": "e118b2a378b2428f85a9cd07bfc87e08",
       "version_major": 2,
       "version_minor": 0
      },
      "text/plain": [
       "Running Prediction:   0%|          | 0/3 [00:00<?, ?it/s]"
      ]
     },
     "metadata": {},
     "output_type": "display_data"
    },
    {
     "name": "stderr",
     "output_type": "stream",
     "text": [
      "convert squad examples to features: 100%|██████████| 22/22 [00:00<00:00, 82.98it/s]\n",
      "add example index and unique id: 100%|██████████| 22/22 [00:00<00:00, 111174.32it/s]\n"
     ]
    },
    {
     "data": {
      "application/vnd.jupyter.widget-view+json": {
       "model_id": "6573906dc37b484e8514019e02d54bfb",
       "version_major": 2,
       "version_minor": 0
      },
      "text/plain": [
       "Running Prediction:   0%|          | 0/3 [00:00<?, ?it/s]"
      ]
     },
     "metadata": {},
     "output_type": "display_data"
    },
    {
     "name": "stderr",
     "output_type": "stream",
     "text": [
      "convert squad examples to features: 100%|██████████| 22/22 [00:00<00:00, 140.50it/s]\n",
      "add example index and unique id: 100%|██████████| 22/22 [00:00<00:00, 141525.60it/s]\n"
     ]
    },
    {
     "data": {
      "application/vnd.jupyter.widget-view+json": {
       "model_id": "f0de052ada7f41e896ef1e313df2fd1f",
       "version_major": 2,
       "version_minor": 0
      },
      "text/plain": [
       "Running Prediction:   0%|          | 0/3 [00:00<?, ?it/s]"
      ]
     },
     "metadata": {},
     "output_type": "display_data"
    },
    {
     "name": "stderr",
     "output_type": "stream",
     "text": [
      "convert squad examples to features: 100%|██████████| 22/22 [00:00<00:00, 134.66it/s]\n",
      "add example index and unique id: 100%|██████████| 22/22 [00:00<00:00, 143954.27it/s]\n"
     ]
    },
    {
     "data": {
      "application/vnd.jupyter.widget-view+json": {
       "model_id": "822723d608a548febbb395cc3ce50365",
       "version_major": 2,
       "version_minor": 0
      },
      "text/plain": [
       "Running Prediction:   0%|          | 0/3 [00:00<?, ?it/s]"
      ]
     },
     "metadata": {},
     "output_type": "display_data"
    },
    {
     "name": "stderr",
     "output_type": "stream",
     "text": [
      "convert squad examples to features: 100%|██████████| 22/22 [00:00<00:00, 268.50it/s]\n",
      "add example index and unique id: 100%|██████████| 22/22 [00:00<00:00, 90024.09it/s]\n"
     ]
    },
    {
     "data": {
      "application/vnd.jupyter.widget-view+json": {
       "model_id": "6401ec465706457c844f898986050a21",
       "version_major": 2,
       "version_minor": 0
      },
      "text/plain": [
       "Running Prediction:   0%|          | 0/3 [00:00<?, ?it/s]"
      ]
     },
     "metadata": {},
     "output_type": "display_data"
    },
    {
     "name": "stderr",
     "output_type": "stream",
     "text": [
      "convert squad examples to features: 100%|██████████| 22/22 [00:00<00:00, 138.03it/s]\n",
      "add example index and unique id: 100%|██████████| 22/22 [00:00<00:00, 122542.75it/s]\n"
     ]
    },
    {
     "data": {
      "application/vnd.jupyter.widget-view+json": {
       "model_id": "6fc0aaacf1ab4a34a58eabe4ef605709",
       "version_major": 2,
       "version_minor": 0
      },
      "text/plain": [
       "Running Prediction:   0%|          | 0/3 [00:00<?, ?it/s]"
      ]
     },
     "metadata": {},
     "output_type": "display_data"
    },
    {
     "name": "stderr",
     "output_type": "stream",
     "text": [
      "convert squad examples to features: 100%|██████████| 22/22 [00:00<00:00, 234.32it/s]\n",
      "add example index and unique id: 100%|██████████| 22/22 [00:00<00:00, 167467.67it/s]\n"
     ]
    },
    {
     "data": {
      "application/vnd.jupyter.widget-view+json": {
       "model_id": "bc76a1fb63dd4ea2a25f3e5bec2859bf",
       "version_major": 2,
       "version_minor": 0
      },
      "text/plain": [
       "Running Prediction:   0%|          | 0/3 [00:00<?, ?it/s]"
      ]
     },
     "metadata": {},
     "output_type": "display_data"
    },
    {
     "name": "stderr",
     "output_type": "stream",
     "text": [
      "convert squad examples to features: 100%|██████████| 22/22 [00:00<00:00, 144.08it/s]\n",
      "add example index and unique id: 100%|██████████| 22/22 [00:00<00:00, 84578.08it/s]\n"
     ]
    },
    {
     "data": {
      "application/vnd.jupyter.widget-view+json": {
       "model_id": "1a8787bb5d4240d7a141e21f7f39d17a",
       "version_major": 2,
       "version_minor": 0
      },
      "text/plain": [
       "Running Prediction:   0%|          | 0/3 [00:00<?, ?it/s]"
      ]
     },
     "metadata": {},
     "output_type": "display_data"
    },
    {
     "name": "stderr",
     "output_type": "stream",
     "text": [
      "convert squad examples to features: 100%|██████████| 22/22 [00:00<00:00, 164.45it/s]\n",
      "add example index and unique id: 100%|██████████| 22/22 [00:00<00:00, 69588.75it/s]\n"
     ]
    },
    {
     "data": {
      "application/vnd.jupyter.widget-view+json": {
       "model_id": "f7ddcc0cba634f049c0ca53aa7b0188a",
       "version_major": 2,
       "version_minor": 0
      },
      "text/plain": [
       "Running Prediction:   0%|          | 0/3 [00:00<?, ?it/s]"
      ]
     },
     "metadata": {},
     "output_type": "display_data"
    },
    {
     "name": "stderr",
     "output_type": "stream",
     "text": [
      "convert squad examples to features: 100%|██████████| 22/22 [00:00<00:00, 94.29it/s]\n",
      "add example index and unique id: 100%|██████████| 22/22 [00:00<00:00, 118605.00it/s]\n"
     ]
    },
    {
     "data": {
      "application/vnd.jupyter.widget-view+json": {
       "model_id": "ace2a5ad25124c24ace7e5271660fa1f",
       "version_major": 2,
       "version_minor": 0
      },
      "text/plain": [
       "Running Prediction:   0%|          | 0/3 [00:00<?, ?it/s]"
      ]
     },
     "metadata": {},
     "output_type": "display_data"
    },
    {
     "name": "stderr",
     "output_type": "stream",
     "text": [
      "convert squad examples to features: 100%|██████████| 22/22 [00:00<00:00, 90.87it/s]\n",
      "add example index and unique id: 100%|██████████| 22/22 [00:00<00:00, 152017.61it/s]\n"
     ]
    },
    {
     "data": {
      "application/vnd.jupyter.widget-view+json": {
       "model_id": "cf9df8bf5dbe446fa1fb3459be3c1f06",
       "version_major": 2,
       "version_minor": 0
      },
      "text/plain": [
       "Running Prediction:   0%|          | 0/3 [00:00<?, ?it/s]"
      ]
     },
     "metadata": {},
     "output_type": "display_data"
    },
    {
     "name": "stderr",
     "output_type": "stream",
     "text": [
      "convert squad examples to features: 100%|██████████| 22/22 [00:00<00:00, 109.91it/s]\n",
      "add example index and unique id: 100%|██████████| 22/22 [00:00<00:00, 158275.62it/s]\n"
     ]
    },
    {
     "data": {
      "application/vnd.jupyter.widget-view+json": {
       "model_id": "e13474abaadd464e81d1425a45931e8a",
       "version_major": 2,
       "version_minor": 0
      },
      "text/plain": [
       "Running Prediction:   0%|          | 0/3 [00:00<?, ?it/s]"
      ]
     },
     "metadata": {},
     "output_type": "display_data"
    },
    {
     "name": "stderr",
     "output_type": "stream",
     "text": [
      "convert squad examples to features: 100%|██████████| 22/22 [00:00<00:00, 202.74it/s]\n",
      "add example index and unique id: 100%|██████████| 22/22 [00:00<00:00, 126058.32it/s]\n"
     ]
    },
    {
     "data": {
      "application/vnd.jupyter.widget-view+json": {
       "model_id": "569e9a4592c641ca9ff337cb37b02074",
       "version_major": 2,
       "version_minor": 0
      },
      "text/plain": [
       "Running Prediction:   0%|          | 0/3 [00:00<?, ?it/s]"
      ]
     },
     "metadata": {},
     "output_type": "display_data"
    },
    {
     "name": "stderr",
     "output_type": "stream",
     "text": [
      "convert squad examples to features: 100%|██████████| 22/22 [00:00<00:00, 135.63it/s]\n",
      "add example index and unique id: 100%|██████████| 22/22 [00:00<00:00, 135498.81it/s]\n"
     ]
    },
    {
     "data": {
      "application/vnd.jupyter.widget-view+json": {
       "model_id": "c411af4718874587907ae814f55de5e6",
       "version_major": 2,
       "version_minor": 0
      },
      "text/plain": [
       "Running Prediction:   0%|          | 0/3 [00:00<?, ?it/s]"
      ]
     },
     "metadata": {},
     "output_type": "display_data"
    },
    {
     "name": "stderr",
     "output_type": "stream",
     "text": [
      "convert squad examples to features: 100%|██████████| 22/22 [00:00<00:00, 338.06it/s]\n",
      "add example index and unique id: 100%|██████████| 22/22 [00:00<00:00, 158820.46it/s]\n"
     ]
    },
    {
     "data": {
      "application/vnd.jupyter.widget-view+json": {
       "model_id": "090dd34f080a4591a0766c8c98dce07f",
       "version_major": 2,
       "version_minor": 0
      },
      "text/plain": [
       "Running Prediction:   0%|          | 0/3 [00:00<?, ?it/s]"
      ]
     },
     "metadata": {},
     "output_type": "display_data"
    },
    {
     "name": "stderr",
     "output_type": "stream",
     "text": [
      "convert squad examples to features: 100%|██████████| 22/22 [00:00<00:00, 249.53it/s]\n",
      "add example index and unique id: 100%|██████████| 22/22 [00:00<00:00, 149070.58it/s]\n"
     ]
    },
    {
     "data": {
      "application/vnd.jupyter.widget-view+json": {
       "model_id": "73e551428a364ad2b1e8b6f562cb308d",
       "version_major": 2,
       "version_minor": 0
      },
      "text/plain": [
       "Running Prediction:   0%|          | 0/3 [00:00<?, ?it/s]"
      ]
     },
     "metadata": {},
     "output_type": "display_data"
    },
    {
     "name": "stderr",
     "output_type": "stream",
     "text": [
      "convert squad examples to features: 100%|██████████| 22/22 [00:00<00:00, 273.90it/s]\n",
      "add example index and unique id: 100%|██████████| 22/22 [00:00<00:00, 162169.93it/s]\n"
     ]
    },
    {
     "data": {
      "application/vnd.jupyter.widget-view+json": {
       "model_id": "579864df88024ac6b9686f8b15ab43aa",
       "version_major": 2,
       "version_minor": 0
      },
      "text/plain": [
       "Running Prediction:   0%|          | 0/3 [00:00<?, ?it/s]"
      ]
     },
     "metadata": {},
     "output_type": "display_data"
    },
    {
     "name": "stderr",
     "output_type": "stream",
     "text": [
      "convert squad examples to features: 100%|██████████| 22/22 [00:00<00:00, 236.00it/s]\n",
      "add example index and unique id: 100%|██████████| 22/22 [00:00<00:00, 142619.30it/s]\n"
     ]
    },
    {
     "data": {
      "application/vnd.jupyter.widget-view+json": {
       "model_id": "f956231dc47d47fab36cf942b847f8b7",
       "version_major": 2,
       "version_minor": 0
      },
      "text/plain": [
       "Running Prediction:   0%|          | 0/3 [00:00<?, ?it/s]"
      ]
     },
     "metadata": {},
     "output_type": "display_data"
    },
    {
     "name": "stderr",
     "output_type": "stream",
     "text": [
      "convert squad examples to features: 100%|██████████| 22/22 [00:00<00:00, 152.33it/s]\n",
      "add example index and unique id: 100%|██████████| 22/22 [00:00<00:00, 147168.56it/s]\n"
     ]
    },
    {
     "data": {
      "application/vnd.jupyter.widget-view+json": {
       "model_id": "f99e270a89414ce581be3490e75fa88e",
       "version_major": 2,
       "version_minor": 0
      },
      "text/plain": [
       "Running Prediction:   0%|          | 0/3 [00:00<?, ?it/s]"
      ]
     },
     "metadata": {},
     "output_type": "display_data"
    },
    {
     "name": "stderr",
     "output_type": "stream",
     "text": [
      "convert squad examples to features: 100%|██████████| 22/22 [00:00<00:00, 209.13it/s]\n",
      "add example index and unique id: 100%|██████████| 22/22 [00:00<00:00, 163318.03it/s]\n"
     ]
    },
    {
     "data": {
      "application/vnd.jupyter.widget-view+json": {
       "model_id": "ca52a80ad89d44fe93fa2e95de9dd064",
       "version_major": 2,
       "version_minor": 0
      },
      "text/plain": [
       "Running Prediction:   0%|          | 0/3 [00:00<?, ?it/s]"
      ]
     },
     "metadata": {},
     "output_type": "display_data"
    },
    {
     "name": "stderr",
     "output_type": "stream",
     "text": [
      "convert squad examples to features: 100%|██████████| 22/22 [00:00<00:00, 115.83it/s]\n",
      "add example index and unique id: 100%|██████████| 22/22 [00:00<00:00, 152268.46it/s]\n"
     ]
    },
    {
     "data": {
      "application/vnd.jupyter.widget-view+json": {
       "model_id": "3442579e110f4893ae13e87f7759dbbb",
       "version_major": 2,
       "version_minor": 0
      },
      "text/plain": [
       "Running Prediction:   0%|          | 0/3 [00:00<?, ?it/s]"
      ]
     },
     "metadata": {},
     "output_type": "display_data"
    },
    {
     "name": "stderr",
     "output_type": "stream",
     "text": [
      "convert squad examples to features: 100%|██████████| 22/22 [00:00<00:00, 231.97it/s]\n",
      "add example index and unique id: 100%|██████████| 22/22 [00:00<00:00, 130700.69it/s]\n"
     ]
    },
    {
     "data": {
      "application/vnd.jupyter.widget-view+json": {
       "model_id": "65bcd2c806574c7496fc6f3eeb87cd10",
       "version_major": 2,
       "version_minor": 0
      },
      "text/plain": [
       "Running Prediction:   0%|          | 0/3 [00:00<?, ?it/s]"
      ]
     },
     "metadata": {},
     "output_type": "display_data"
    },
    {
     "name": "stderr",
     "output_type": "stream",
     "text": [
      "convert squad examples to features: 100%|██████████| 22/22 [00:00<00:00, 215.92it/s]\n",
      "add example index and unique id: 100%|██████████| 22/22 [00:00<00:00, 146700.62it/s]\n"
     ]
    },
    {
     "data": {
      "application/vnd.jupyter.widget-view+json": {
       "model_id": "3fdb83b5161f4caa857acbabff7550e1",
       "version_major": 2,
       "version_minor": 0
      },
      "text/plain": [
       "Running Prediction:   0%|          | 0/3 [00:00<?, ?it/s]"
      ]
     },
     "metadata": {},
     "output_type": "display_data"
    },
    {
     "name": "stderr",
     "output_type": "stream",
     "text": [
      "convert squad examples to features: 100%|██████████| 22/22 [00:00<00:00, 90.95it/s]\n",
      "add example index and unique id: 100%|██████████| 22/22 [00:00<00:00, 122056.47it/s]\n"
     ]
    },
    {
     "data": {
      "application/vnd.jupyter.widget-view+json": {
       "model_id": "730cc86009bc4917bcc69d19fc558242",
       "version_major": 2,
       "version_minor": 0
      },
      "text/plain": [
       "Running Prediction:   0%|          | 0/3 [00:00<?, ?it/s]"
      ]
     },
     "metadata": {},
     "output_type": "display_data"
    },
    {
     "name": "stderr",
     "output_type": "stream",
     "text": [
      "convert squad examples to features: 100%|██████████| 22/22 [00:00<00:00, 225.43it/s]\n",
      "add example index and unique id: 100%|██████████| 22/22 [00:00<00:00, 110773.94it/s]\n"
     ]
    },
    {
     "data": {
      "application/vnd.jupyter.widget-view+json": {
       "model_id": "c5e36efc549340c3a8eb0a3c96f8bf97",
       "version_major": 2,
       "version_minor": 0
      },
      "text/plain": [
       "Running Prediction:   0%|          | 0/3 [00:00<?, ?it/s]"
      ]
     },
     "metadata": {},
     "output_type": "display_data"
    },
    {
     "name": "stderr",
     "output_type": "stream",
     "text": [
      "convert squad examples to features: 100%|██████████| 22/22 [00:00<00:00, 120.67it/s]\n",
      "add example index and unique id: 100%|██████████| 22/22 [00:00<00:00, 155083.51it/s]\n"
     ]
    },
    {
     "data": {
      "application/vnd.jupyter.widget-view+json": {
       "model_id": "d43c130c24de4eba98d37fb32909309d",
       "version_major": 2,
       "version_minor": 0
      },
      "text/plain": [
       "Running Prediction:   0%|          | 0/3 [00:00<?, ?it/s]"
      ]
     },
     "metadata": {},
     "output_type": "display_data"
    },
    {
     "name": "stderr",
     "output_type": "stream",
     "text": [
      "convert squad examples to features: 100%|██████████| 22/22 [00:00<00:00, 86.51it/s]\n",
      "add example index and unique id: 100%|██████████| 22/22 [00:00<00:00, 158004.60it/s]\n"
     ]
    },
    {
     "data": {
      "application/vnd.jupyter.widget-view+json": {
       "model_id": "d2005d9bb7e54925a06140d92a13f202",
       "version_major": 2,
       "version_minor": 0
      },
      "text/plain": [
       "Running Prediction:   0%|          | 0/3 [00:00<?, ?it/s]"
      ]
     },
     "metadata": {},
     "output_type": "display_data"
    },
    {
     "name": "stderr",
     "output_type": "stream",
     "text": [
      "convert squad examples to features: 100%|██████████| 22/22 [00:00<00:00, 153.01it/s]\n",
      "add example index and unique id: 100%|██████████| 22/22 [00:00<00:00, 159644.79it/s]\n"
     ]
    },
    {
     "data": {
      "application/vnd.jupyter.widget-view+json": {
       "model_id": "208e49963f4c43bf9a1d81e744d6b81d",
       "version_major": 2,
       "version_minor": 0
      },
      "text/plain": [
       "Running Prediction:   0%|          | 0/3 [00:00<?, ?it/s]"
      ]
     },
     "metadata": {},
     "output_type": "display_data"
    },
    {
     "name": "stderr",
     "output_type": "stream",
     "text": [
      "convert squad examples to features: 100%|██████████| 22/22 [00:00<00:00, 176.29it/s]\n",
      "add example index and unique id: 100%|██████████| 22/22 [00:00<00:00, 161319.38it/s]\n"
     ]
    },
    {
     "data": {
      "application/vnd.jupyter.widget-view+json": {
       "model_id": "665af09e545b4729bc6766b28e8d3cfd",
       "version_major": 2,
       "version_minor": 0
      },
      "text/plain": [
       "Running Prediction:   0%|          | 0/3 [00:00<?, ?it/s]"
      ]
     },
     "metadata": {},
     "output_type": "display_data"
    },
    {
     "name": "stderr",
     "output_type": "stream",
     "text": [
      "convert squad examples to features: 100%|██████████| 22/22 [00:00<00:00, 220.59it/s]\n",
      "add example index and unique id: 100%|██████████| 22/22 [00:00<00:00, 121895.23it/s]\n"
     ]
    },
    {
     "data": {
      "application/vnd.jupyter.widget-view+json": {
       "model_id": "0f3e986d877943a3a5885fa62424017d",
       "version_major": 2,
       "version_minor": 0
      },
      "text/plain": [
       "Running Prediction:   0%|          | 0/3 [00:00<?, ?it/s]"
      ]
     },
     "metadata": {},
     "output_type": "display_data"
    },
    {
     "name": "stderr",
     "output_type": "stream",
     "text": [
      "convert squad examples to features: 100%|██████████| 22/22 [00:00<00:00, 102.04it/s]\n",
      "add example index and unique id: 100%|██████████| 22/22 [00:00<00:00, 169622.59it/s]\n"
     ]
    },
    {
     "data": {
      "application/vnd.jupyter.widget-view+json": {
       "model_id": "0940e18a999b4ea4a8520afec681d3cb",
       "version_major": 2,
       "version_minor": 0
      },
      "text/plain": [
       "Running Prediction:   0%|          | 0/3 [00:00<?, ?it/s]"
      ]
     },
     "metadata": {},
     "output_type": "display_data"
    },
    {
     "name": "stderr",
     "output_type": "stream",
     "text": [
      "convert squad examples to features: 100%|██████████| 22/22 [00:00<00:00, 147.64it/s]\n",
      "add example index and unique id: 100%|██████████| 22/22 [00:00<00:00, 146467.76it/s]\n"
     ]
    },
    {
     "data": {
      "application/vnd.jupyter.widget-view+json": {
       "model_id": "b52c590e1b80409b8639dea2294b2325",
       "version_major": 2,
       "version_minor": 0
      },
      "text/plain": [
       "Running Prediction:   0%|          | 0/3 [00:00<?, ?it/s]"
      ]
     },
     "metadata": {},
     "output_type": "display_data"
    },
    {
     "name": "stderr",
     "output_type": "stream",
     "text": [
      "convert squad examples to features: 100%|██████████| 22/22 [00:00<00:00, 232.38it/s]\n",
      "add example index and unique id: 100%|██████████| 22/22 [00:00<00:00, 153535.25it/s]\n"
     ]
    },
    {
     "data": {
      "application/vnd.jupyter.widget-view+json": {
       "model_id": "00fa4fc9883e40e28602ca38126d4231",
       "version_major": 2,
       "version_minor": 0
      },
      "text/plain": [
       "Running Prediction:   0%|          | 0/3 [00:00<?, ?it/s]"
      ]
     },
     "metadata": {},
     "output_type": "display_data"
    },
    {
     "name": "stderr",
     "output_type": "stream",
     "text": [
      "convert squad examples to features: 100%|██████████| 22/22 [00:00<00:00, 192.00it/s]\n",
      "add example index and unique id: 100%|██████████| 22/22 [00:00<00:00, 98901.06it/s]\n"
     ]
    },
    {
     "data": {
      "application/vnd.jupyter.widget-view+json": {
       "model_id": "b004965e72114aeea167b9a54f995899",
       "version_major": 2,
       "version_minor": 0
      },
      "text/plain": [
       "Running Prediction:   0%|          | 0/3 [00:00<?, ?it/s]"
      ]
     },
     "metadata": {},
     "output_type": "display_data"
    },
    {
     "name": "stderr",
     "output_type": "stream",
     "text": [
      "convert squad examples to features: 100%|██████████| 22/22 [00:00<00:00, 90.51it/s]\n",
      "add example index and unique id: 100%|██████████| 22/22 [00:00<00:00, 141525.60it/s]\n"
     ]
    },
    {
     "data": {
      "application/vnd.jupyter.widget-view+json": {
       "model_id": "9b500e92af2344af859ac9b31fcd1dc7",
       "version_major": 2,
       "version_minor": 0
      },
      "text/plain": [
       "Running Prediction:   0%|          | 0/3 [00:00<?, ?it/s]"
      ]
     },
     "metadata": {},
     "output_type": "display_data"
    },
    {
     "name": "stderr",
     "output_type": "stream",
     "text": [
      "convert squad examples to features: 100%|██████████| 22/22 [00:00<00:00, 267.33it/s]\n",
      "add example index and unique id: 100%|██████████| 22/22 [00:00<00:00, 158004.60it/s]\n"
     ]
    },
    {
     "data": {
      "application/vnd.jupyter.widget-view+json": {
       "model_id": "caaa761c2fe948d2bb4ec57ea00f74bb",
       "version_major": 2,
       "version_minor": 0
      },
      "text/plain": [
       "Running Prediction:   0%|          | 0/3 [00:00<?, ?it/s]"
      ]
     },
     "metadata": {},
     "output_type": "display_data"
    },
    {
     "name": "stderr",
     "output_type": "stream",
     "text": [
      "convert squad examples to features: 100%|██████████| 22/22 [00:00<00:00, 184.57it/s]\n",
      "add example index and unique id: 100%|██████████| 22/22 [00:00<00:00, 151518.37it/s]\n"
     ]
    },
    {
     "data": {
      "application/vnd.jupyter.widget-view+json": {
       "model_id": "727c5e3e0db843ddbf6eed3815b2b267",
       "version_major": 2,
       "version_minor": 0
      },
      "text/plain": [
       "Running Prediction:   0%|          | 0/3 [00:00<?, ?it/s]"
      ]
     },
     "metadata": {},
     "output_type": "display_data"
    },
    {
     "name": "stderr",
     "output_type": "stream",
     "text": [
      "convert squad examples to features: 100%|██████████| 22/22 [00:00<00:00, 378.54it/s]\n",
      "add example index and unique id: 100%|██████████| 22/22 [00:00<00:00, 165071.00it/s]\n"
     ]
    },
    {
     "data": {
      "application/vnd.jupyter.widget-view+json": {
       "model_id": "1d469bc7e7a0401a9f99423d1649a96e",
       "version_major": 2,
       "version_minor": 0
      },
      "text/plain": [
       "Running Prediction:   0%|          | 0/3 [00:00<?, ?it/s]"
      ]
     },
     "metadata": {},
     "output_type": "display_data"
    },
    {
     "name": "stderr",
     "output_type": "stream",
     "text": [
      "convert squad examples to features: 100%|██████████| 22/22 [00:00<00:00, 211.33it/s]\n",
      "add example index and unique id: 100%|██████████| 22/22 [00:00<00:00, 154823.30it/s]\n"
     ]
    },
    {
     "data": {
      "application/vnd.jupyter.widget-view+json": {
       "model_id": "551bd558582f4a57a4864b26ca37c820",
       "version_major": 2,
       "version_minor": 0
      },
      "text/plain": [
       "Running Prediction:   0%|          | 0/3 [00:00<?, ?it/s]"
      ]
     },
     "metadata": {},
     "output_type": "display_data"
    },
    {
     "name": "stderr",
     "output_type": "stream",
     "text": [
      "convert squad examples to features: 100%|██████████| 22/22 [00:00<00:00, 126.34it/s]\n",
      "add example index and unique id: 100%|██████████| 22/22 [00:00<00:00, 143061.53it/s]\n"
     ]
    },
    {
     "data": {
      "application/vnd.jupyter.widget-view+json": {
       "model_id": "dd0217a7fa6642b9a45be197c1b8fe2d",
       "version_major": 2,
       "version_minor": 0
      },
      "text/plain": [
       "Running Prediction:   0%|          | 0/3 [00:00<?, ?it/s]"
      ]
     },
     "metadata": {},
     "output_type": "display_data"
    },
    {
     "name": "stderr",
     "output_type": "stream",
     "text": [
      "convert squad examples to features: 100%|██████████| 22/22 [00:00<00:00, 207.76it/s]\n",
      "add example index and unique id: 100%|██████████| 22/22 [00:00<00:00, 140662.63it/s]\n"
     ]
    },
    {
     "data": {
      "application/vnd.jupyter.widget-view+json": {
       "model_id": "fd30d5840b5847adaa6e246e80f144af",
       "version_major": 2,
       "version_minor": 0
      },
      "text/plain": [
       "Running Prediction:   0%|          | 0/3 [00:00<?, ?it/s]"
      ]
     },
     "metadata": {},
     "output_type": "display_data"
    },
    {
     "name": "stderr",
     "output_type": "stream",
     "text": [
      "convert squad examples to features: 100%|██████████| 22/22 [00:00<00:00, 94.81it/s]\n",
      "add example index and unique id: 100%|██████████| 22/22 [00:00<00:00, 88132.46it/s]\n"
     ]
    },
    {
     "data": {
      "application/vnd.jupyter.widget-view+json": {
       "model_id": "81bc9f6101404c5eaa5f7f8f281c504f",
       "version_major": 2,
       "version_minor": 0
      },
      "text/plain": [
       "Running Prediction:   0%|          | 0/3 [00:00<?, ?it/s]"
      ]
     },
     "metadata": {},
     "output_type": "display_data"
    },
    {
     "name": "stderr",
     "output_type": "stream",
     "text": [
      "convert squad examples to features: 100%|██████████| 22/22 [00:00<00:00, 244.29it/s]\n",
      "add example index and unique id: 100%|██████████| 22/22 [00:00<00:00, 159369.06it/s]\n"
     ]
    },
    {
     "data": {
      "application/vnd.jupyter.widget-view+json": {
       "model_id": "29ed61f53b1f4e0594fa04e9d54b4caf",
       "version_major": 2,
       "version_minor": 0
      },
      "text/plain": [
       "Running Prediction:   0%|          | 0/3 [00:00<?, ?it/s]"
      ]
     },
     "metadata": {},
     "output_type": "display_data"
    },
    {
     "name": "stderr",
     "output_type": "stream",
     "text": [
      "convert squad examples to features: 100%|██████████| 22/22 [00:00<00:00, 176.86it/s]\n",
      "add example index and unique id: 100%|██████████| 22/22 [00:00<00:00, 152017.61it/s]\n"
     ]
    },
    {
     "data": {
      "application/vnd.jupyter.widget-view+json": {
       "model_id": "8d48a98eae1b401cb25cf6a14a7d6b01",
       "version_major": 2,
       "version_minor": 0
      },
      "text/plain": [
       "Running Prediction:   0%|          | 0/3 [00:00<?, ?it/s]"
      ]
     },
     "metadata": {},
     "output_type": "display_data"
    },
    {
     "name": "stderr",
     "output_type": "stream",
     "text": [
      "convert squad examples to features: 100%|██████████| 22/22 [00:00<00:00, 265.95it/s]\n",
      "add example index and unique id: 100%|██████████| 22/22 [00:00<00:00, 130331.48it/s]\n"
     ]
    },
    {
     "data": {
      "application/vnd.jupyter.widget-view+json": {
       "model_id": "6bddafcfcdd14383bd85d205d96b139c",
       "version_major": 2,
       "version_minor": 0
      },
      "text/plain": [
       "Running Prediction:   0%|          | 0/3 [00:00<?, ?it/s]"
      ]
     },
     "metadata": {},
     "output_type": "display_data"
    },
    {
     "name": "stderr",
     "output_type": "stream",
     "text": [
      "convert squad examples to features: 100%|██████████| 22/22 [00:00<00:00, 86.49it/s]\n",
      "add example index and unique id: 100%|██████████| 22/22 [00:00<00:00, 154563.97it/s]\n"
     ]
    },
    {
     "data": {
      "application/vnd.jupyter.widget-view+json": {
       "model_id": "68724a058d934313b2aa4580f9f11967",
       "version_major": 2,
       "version_minor": 0
      },
      "text/plain": [
       "Running Prediction:   0%|          | 0/3 [00:00<?, ?it/s]"
      ]
     },
     "metadata": {},
     "output_type": "display_data"
    },
    {
     "name": "stderr",
     "output_type": "stream",
     "text": [
      "convert squad examples to features: 100%|██████████| 22/22 [00:00<00:00, 99.35it/s]\n",
      "add example index and unique id: 100%|██████████| 22/22 [00:00<00:00, 160199.11it/s]\n"
     ]
    },
    {
     "data": {
      "application/vnd.jupyter.widget-view+json": {
       "model_id": "24d9cc7c95aa4470889fb7cea2e29056",
       "version_major": 2,
       "version_minor": 0
      },
      "text/plain": [
       "Running Prediction:   0%|          | 0/3 [00:00<?, ?it/s]"
      ]
     },
     "metadata": {},
     "output_type": "display_data"
    },
    {
     "name": "stderr",
     "output_type": "stream",
     "text": [
      "convert squad examples to features: 100%|██████████| 22/22 [00:00<00:00, 79.83it/s]\n",
      "add example index and unique id: 100%|██████████| 22/22 [00:00<00:00, 93395.43it/s]\n"
     ]
    },
    {
     "data": {
      "application/vnd.jupyter.widget-view+json": {
       "model_id": "9a7598b028634eabacce11bbbdc3b750",
       "version_major": 2,
       "version_minor": 0
      },
      "text/plain": [
       "Running Prediction:   0%|          | 0/3 [00:00<?, ?it/s]"
      ]
     },
     "metadata": {},
     "output_type": "display_data"
    },
    {
     "name": "stderr",
     "output_type": "stream",
     "text": [
      "convert squad examples to features: 100%|██████████| 22/22 [00:00<00:00, 88.42it/s]\n",
      "add example index and unique id: 100%|██████████| 22/22 [00:00<00:00, 167164.29it/s]\n"
     ]
    },
    {
     "data": {
      "application/vnd.jupyter.widget-view+json": {
       "model_id": "29578d753cc84220955806749c7ae42d",
       "version_major": 2,
       "version_minor": 0
      },
      "text/plain": [
       "Running Prediction:   0%|          | 0/3 [00:00<?, ?it/s]"
      ]
     },
     "metadata": {},
     "output_type": "display_data"
    },
    {
     "name": "stderr",
     "output_type": "stream",
     "text": [
      "convert squad examples to features: 100%|██████████| 22/22 [00:00<00:00, 172.04it/s]\n",
      "add example index and unique id: 100%|██████████| 22/22 [00:00<00:00, 93301.00it/s]\n"
     ]
    },
    {
     "data": {
      "application/vnd.jupyter.widget-view+json": {
       "model_id": "07677a011a96467fac5c61211e3d8240",
       "version_major": 2,
       "version_minor": 0
      },
      "text/plain": [
       "Running Prediction:   0%|          | 0/3 [00:00<?, ?it/s]"
      ]
     },
     "metadata": {},
     "output_type": "display_data"
    },
    {
     "name": "stderr",
     "output_type": "stream",
     "text": [
      "convert squad examples to features: 100%|██████████| 22/22 [00:00<00:00, 256.79it/s]\n",
      "add example index and unique id: 100%|██████████| 22/22 [00:00<00:00, 156663.31it/s]\n"
     ]
    },
    {
     "data": {
      "application/vnd.jupyter.widget-view+json": {
       "model_id": "a4e4a2906603443a99c127e21924acde",
       "version_major": 2,
       "version_minor": 0
      },
      "text/plain": [
       "Running Prediction:   0%|          | 0/3 [00:00<?, ?it/s]"
      ]
     },
     "metadata": {},
     "output_type": "display_data"
    },
    {
     "name": "stderr",
     "output_type": "stream",
     "text": [
      "convert squad examples to features: 100%|██████████| 22/22 [00:00<00:00, 84.95it/s]\n",
      "add example index and unique id: 100%|██████████| 22/22 [00:00<00:00, 156397.78it/s]\n"
     ]
    },
    {
     "data": {
      "application/vnd.jupyter.widget-view+json": {
       "model_id": "83713bb9293f4e4788c14b2429bd8169",
       "version_major": 2,
       "version_minor": 0
      },
      "text/plain": [
       "Running Prediction:   0%|          | 0/3 [00:00<?, ?it/s]"
      ]
     },
     "metadata": {},
     "output_type": "display_data"
    },
    {
     "name": "stderr",
     "output_type": "stream",
     "text": [
      "convert squad examples to features: 100%|██████████| 22/22 [00:00<00:00, 100.23it/s]\n",
      "add example index and unique id: 100%|██████████| 22/22 [00:00<00:00, 137518.16it/s]\n"
     ]
    },
    {
     "data": {
      "application/vnd.jupyter.widget-view+json": {
       "model_id": "1a52add80ecb49b3a961fe7ce5b597b1",
       "version_major": 2,
       "version_minor": 0
      },
      "text/plain": [
       "Running Prediction:   0%|          | 0/3 [00:00<?, ?it/s]"
      ]
     },
     "metadata": {},
     "output_type": "display_data"
    },
    {
     "name": "stderr",
     "output_type": "stream",
     "text": [
      "convert squad examples to features: 100%|██████████| 22/22 [00:00<00:00, 119.09it/s]\n",
      "add example index and unique id: 100%|██████████| 22/22 [00:00<00:00, 161037.85it/s]\n"
     ]
    },
    {
     "data": {
      "application/vnd.jupyter.widget-view+json": {
       "model_id": "17cb4f3a225f4e32b45ba2e65b007287",
       "version_major": 2,
       "version_minor": 0
      },
      "text/plain": [
       "Running Prediction:   0%|          | 0/3 [00:00<?, ?it/s]"
      ]
     },
     "metadata": {},
     "output_type": "display_data"
    },
    {
     "name": "stderr",
     "output_type": "stream",
     "text": [
      "convert squad examples to features: 100%|██████████| 22/22 [00:00<00:00, 117.92it/s]\n",
      "add example index and unique id: 100%|██████████| 22/22 [00:00<00:00, 130700.69it/s]\n"
     ]
    },
    {
     "data": {
      "application/vnd.jupyter.widget-view+json": {
       "model_id": "6c8effa1b7a84c9b82548293c613d976",
       "version_major": 2,
       "version_minor": 0
      },
      "text/plain": [
       "Running Prediction:   0%|          | 0/3 [00:00<?, ?it/s]"
      ]
     },
     "metadata": {},
     "output_type": "display_data"
    },
    {
     "name": "stderr",
     "output_type": "stream",
     "text": [
      "convert squad examples to features: 100%|██████████| 22/22 [00:00<00:00, 86.16it/s]\n",
      "add example index and unique id: 100%|██████████| 22/22 [00:00<00:00, 106552.76it/s]\n"
     ]
    },
    {
     "data": {
      "application/vnd.jupyter.widget-view+json": {
       "model_id": "47d8712ab11f4c05b61bc8cbe511099a",
       "version_major": 2,
       "version_minor": 0
      },
      "text/plain": [
       "Running Prediction:   0%|          | 0/3 [00:00<?, ?it/s]"
      ]
     },
     "metadata": {},
     "output_type": "display_data"
    },
    {
     "name": "stderr",
     "output_type": "stream",
     "text": [
      "convert squad examples to features: 100%|██████████| 22/22 [00:00<00:00, 152.94it/s]\n",
      "add example index and unique id: 100%|██████████| 22/22 [00:00<00:00, 142840.07it/s]\n"
     ]
    },
    {
     "data": {
      "application/vnd.jupyter.widget-view+json": {
       "model_id": "9d262c39eff54aa9b58019d07719663e",
       "version_major": 2,
       "version_minor": 0
      },
      "text/plain": [
       "Running Prediction:   0%|          | 0/3 [00:00<?, ?it/s]"
      ]
     },
     "metadata": {},
     "output_type": "display_data"
    },
    {
     "name": "stderr",
     "output_type": "stream",
     "text": [
      "convert squad examples to features: 100%|██████████| 22/22 [00:00<00:00, 67.77it/s]\n",
      "add example index and unique id: 100%|██████████| 22/22 [00:00<00:00, 162169.93it/s]\n"
     ]
    },
    {
     "data": {
      "application/vnd.jupyter.widget-view+json": {
       "model_id": "8efb41680eea45f2a81d145febd1ad66",
       "version_major": 2,
       "version_minor": 0
      },
      "text/plain": [
       "Running Prediction:   0%|          | 0/3 [00:00<?, ?it/s]"
      ]
     },
     "metadata": {},
     "output_type": "display_data"
    },
    {
     "name": "stderr",
     "output_type": "stream",
     "text": [
      "convert squad examples to features: 100%|██████████| 22/22 [00:00<00:00, 114.97it/s]\n",
      "add example index and unique id: 100%|██████████| 22/22 [00:00<00:00, 139177.51it/s]\n"
     ]
    },
    {
     "data": {
      "application/vnd.jupyter.widget-view+json": {
       "model_id": "d673e177178d4f48bc45fa638b601068",
       "version_major": 2,
       "version_minor": 0
      },
      "text/plain": [
       "Running Prediction:   0%|          | 0/3 [00:00<?, ?it/s]"
      ]
     },
     "metadata": {},
     "output_type": "display_data"
    },
    {
     "name": "stderr",
     "output_type": "stream",
     "text": [
      "convert squad examples to features: 100%|██████████| 22/22 [00:00<00:00, 89.14it/s]\n",
      "add example index and unique id: 100%|██████████| 22/22 [00:00<00:00, 169001.26it/s]\n"
     ]
    },
    {
     "data": {
      "application/vnd.jupyter.widget-view+json": {
       "model_id": "6ace2770f8084b8289b229673d8e53d9",
       "version_major": 2,
       "version_minor": 0
      },
      "text/plain": [
       "Running Prediction:   0%|          | 0/3 [00:00<?, ?it/s]"
      ]
     },
     "metadata": {},
     "output_type": "display_data"
    },
    {
     "name": "stderr",
     "output_type": "stream",
     "text": [
      "convert squad examples to features: 100%|██████████| 22/22 [00:00<00:00, 199.24it/s]\n",
      "add example index and unique id: 100%|██████████| 22/22 [00:00<00:00, 135897.92it/s]\n"
     ]
    },
    {
     "data": {
      "application/vnd.jupyter.widget-view+json": {
       "model_id": "d42cece183ec4569995ec06d96f76605",
       "version_major": 2,
       "version_minor": 0
      },
      "text/plain": [
       "Running Prediction:   0%|          | 0/3 [00:00<?, ?it/s]"
      ]
     },
     "metadata": {},
     "output_type": "display_data"
    },
    {
     "name": "stderr",
     "output_type": "stream",
     "text": [
      "convert squad examples to features: 100%|██████████| 22/22 [00:00<00:00, 57.41it/s]\n",
      "add example index and unique id: 100%|██████████| 22/22 [00:00<00:00, 167772.16it/s]\n"
     ]
    },
    {
     "data": {
      "application/vnd.jupyter.widget-view+json": {
       "model_id": "5bfce7e9461e496d93d536e5a6bd59c4",
       "version_major": 2,
       "version_minor": 0
      },
      "text/plain": [
       "Running Prediction:   0%|          | 0/3 [00:00<?, ?it/s]"
      ]
     },
     "metadata": {},
     "output_type": "display_data"
    },
    {
     "name": "stderr",
     "output_type": "stream",
     "text": [
      "convert squad examples to features: 100%|██████████| 22/22 [00:00<00:00, 99.41it/s]\n",
      "add example index and unique id: 100%|██████████| 22/22 [00:00<00:00, 111577.62it/s]\n"
     ]
    },
    {
     "data": {
      "application/vnd.jupyter.widget-view+json": {
       "model_id": "9b968ec5eecc446fb832da2bcd1da7f3",
       "version_major": 2,
       "version_minor": 0
      },
      "text/plain": [
       "Running Prediction:   0%|          | 0/3 [00:00<?, ?it/s]"
      ]
     },
     "metadata": {},
     "output_type": "display_data"
    },
    {
     "name": "stderr",
     "output_type": "stream",
     "text": [
      "convert squad examples to features: 100%|██████████| 22/22 [00:00<00:00, 59.67it/s]\n",
      "add example index and unique id: 100%|██████████| 22/22 [00:00<00:00, 164189.84it/s]\n"
     ]
    },
    {
     "data": {
      "application/vnd.jupyter.widget-view+json": {
       "model_id": "07d0ac4b9b49480e9e7fea010d9543d5",
       "version_major": 2,
       "version_minor": 0
      },
      "text/plain": [
       "Running Prediction:   0%|          | 0/3 [00:00<?, ?it/s]"
      ]
     },
     "metadata": {},
     "output_type": "display_data"
    },
    {
     "name": "stderr",
     "output_type": "stream",
     "text": [
      "convert squad examples to features: 100%|██████████| 22/22 [00:00<00:00, 80.04it/s]\n",
      "add example index and unique id: 100%|██████████| 22/22 [00:00<00:00, 106552.76it/s]\n"
     ]
    },
    {
     "data": {
      "application/vnd.jupyter.widget-view+json": {
       "model_id": "c99e67f880f2456c935ae15dc8fedfd0",
       "version_major": 2,
       "version_minor": 0
      },
      "text/plain": [
       "Running Prediction:   0%|          | 0/3 [00:00<?, ?it/s]"
      ]
     },
     "metadata": {},
     "output_type": "display_data"
    },
    {
     "name": "stderr",
     "output_type": "stream",
     "text": [
      "convert squad examples to features: 100%|██████████| 22/22 [00:00<00:00, 83.06it/s]\n",
      "add example index and unique id: 100%|██████████| 22/22 [00:00<00:00, 88132.46it/s]\n"
     ]
    },
    {
     "data": {
      "application/vnd.jupyter.widget-view+json": {
       "model_id": "cb04bdb14eca4ee5802e92c562459482",
       "version_major": 2,
       "version_minor": 0
      },
      "text/plain": [
       "Running Prediction:   0%|          | 0/3 [00:00<?, ?it/s]"
      ]
     },
     "metadata": {},
     "output_type": "display_data"
    },
    {
     "name": "stderr",
     "output_type": "stream",
     "text": [
      "convert squad examples to features: 100%|██████████| 22/22 [00:00<00:00, 132.89it/s]\n",
      "add example index and unique id: 100%|██████████| 22/22 [00:00<00:00, 82461.74it/s]\n"
     ]
    },
    {
     "data": {
      "application/vnd.jupyter.widget-view+json": {
       "model_id": "21298a617bb64b0eae84fb3e5489cf94",
       "version_major": 2,
       "version_minor": 0
      },
      "text/plain": [
       "Running Prediction:   0%|          | 0/3 [00:00<?, ?it/s]"
      ]
     },
     "metadata": {},
     "output_type": "display_data"
    },
    {
     "name": "stderr",
     "output_type": "stream",
     "text": [
      "convert squad examples to features: 100%|██████████| 22/22 [00:00<00:00, 167.21it/s]\n",
      "add example index and unique id: 100%|██████████| 22/22 [00:00<00:00, 166260.70it/s]\n"
     ]
    },
    {
     "data": {
      "application/vnd.jupyter.widget-view+json": {
       "model_id": "717a006d4bf74d4780920d8687e3a170",
       "version_major": 2,
       "version_minor": 0
      },
      "text/plain": [
       "Running Prediction:   0%|          | 0/3 [00:00<?, ?it/s]"
      ]
     },
     "metadata": {},
     "output_type": "display_data"
    },
    {
     "name": "stderr",
     "output_type": "stream",
     "text": [
      "convert squad examples to features: 100%|██████████| 22/22 [00:00<00:00, 98.75it/s]\n",
      "add example index and unique id: 100%|██████████| 22/22 [00:00<00:00, 161037.85it/s]\n"
     ]
    },
    {
     "data": {
      "application/vnd.jupyter.widget-view+json": {
       "model_id": "42dd868b3f0844f5b24c2cbb62bff54f",
       "version_major": 2,
       "version_minor": 0
      },
      "text/plain": [
       "Running Prediction:   0%|          | 0/3 [00:00<?, ?it/s]"
      ]
     },
     "metadata": {},
     "output_type": "display_data"
    },
    {
     "name": "stderr",
     "output_type": "stream",
     "text": [
      "convert squad examples to features: 100%|██████████| 22/22 [00:00<00:00, 57.09it/s]\n",
      "add example index and unique id: 100%|██████████| 22/22 [00:00<00:00, 155869.41it/s]\n"
     ]
    },
    {
     "data": {
      "application/vnd.jupyter.widget-view+json": {
       "model_id": "494be5db86d740d5ae18d6cc73e947b0",
       "version_major": 2,
       "version_minor": 0
      },
      "text/plain": [
       "Running Prediction:   0%|          | 0/3 [00:00<?, ?it/s]"
      ]
     },
     "metadata": {},
     "output_type": "display_data"
    },
    {
     "name": "stderr",
     "output_type": "stream",
     "text": [
      "convert squad examples to features: 100%|██████████| 22/22 [00:00<00:00, 94.33it/s]\n",
      "add example index and unique id: 100%|██████████| 22/22 [00:00<00:00, 146004.25it/s]\n"
     ]
    },
    {
     "data": {
      "application/vnd.jupyter.widget-view+json": {
       "model_id": "5b8d89769a6b43b2a44544d6c5ac599e",
       "version_major": 2,
       "version_minor": 0
      },
      "text/plain": [
       "Running Prediction:   0%|          | 0/3 [00:00<?, ?it/s]"
      ]
     },
     "metadata": {},
     "output_type": "display_data"
    },
    {
     "name": "stderr",
     "output_type": "stream",
     "text": [
      "convert squad examples to features: 100%|██████████| 22/22 [00:00<00:00, 65.44it/s]\n",
      "add example index and unique id: 100%|██████████| 22/22 [00:00<00:00, 137518.16it/s]\n"
     ]
    },
    {
     "data": {
      "application/vnd.jupyter.widget-view+json": {
       "model_id": "86f4f7427f534179a44e0ffbabec593e",
       "version_major": 2,
       "version_minor": 0
      },
      "text/plain": [
       "Running Prediction:   0%|          | 0/3 [00:00<?, ?it/s]"
      ]
     },
     "metadata": {},
     "output_type": "display_data"
    },
    {
     "name": "stderr",
     "output_type": "stream",
     "text": [
      "convert squad examples to features: 100%|██████████| 22/22 [00:00<00:00, 81.89it/s]\n",
      "add example index and unique id: 100%|██████████| 22/22 [00:00<00:00, 142399.21it/s]\n"
     ]
    },
    {
     "data": {
      "application/vnd.jupyter.widget-view+json": {
       "model_id": "3ae818209b964c99b9c6e6780b4e6ba4",
       "version_major": 2,
       "version_minor": 0
      },
      "text/plain": [
       "Running Prediction:   0%|          | 0/3 [00:00<?, ?it/s]"
      ]
     },
     "metadata": {},
     "output_type": "display_data"
    },
    {
     "name": "stderr",
     "output_type": "stream",
     "text": [
      "convert squad examples to features: 100%|██████████| 22/22 [00:00<00:00, 64.62it/s]\n",
      "add example index and unique id: 100%|██████████| 22/22 [00:00<00:00, 133537.90it/s]\n"
     ]
    },
    {
     "data": {
      "application/vnd.jupyter.widget-view+json": {
       "model_id": "e466bf652ef64236b96a5bc1909c414b",
       "version_major": 2,
       "version_minor": 0
      },
      "text/plain": [
       "Running Prediction:   0%|          | 0/3 [00:00<?, ?it/s]"
      ]
     },
     "metadata": {},
     "output_type": "display_data"
    },
    {
     "name": "stderr",
     "output_type": "stream",
     "text": [
      "convert squad examples to features: 100%|██████████| 22/22 [00:00<00:00, 158.94it/s]\n",
      "add example index and unique id: 100%|██████████| 22/22 [00:00<00:00, 130700.69it/s]\n"
     ]
    },
    {
     "data": {
      "application/vnd.jupyter.widget-view+json": {
       "model_id": "a5e345d4fef24b6b913241d60354bc43",
       "version_major": 2,
       "version_minor": 0
      },
      "text/plain": [
       "Running Prediction:   0%|          | 0/3 [00:00<?, ?it/s]"
      ]
     },
     "metadata": {},
     "output_type": "display_data"
    },
    {
     "name": "stderr",
     "output_type": "stream",
     "text": [
      "convert squad examples to features: 100%|██████████| 22/22 [00:00<00:00, 245.65it/s]\n",
      "add example index and unique id: 100%|██████████| 22/22 [00:00<00:00, 156663.31it/s]\n"
     ]
    },
    {
     "data": {
      "application/vnd.jupyter.widget-view+json": {
       "model_id": "d6c711aecf18430885691068354d17bd",
       "version_major": 2,
       "version_minor": 0
      },
      "text/plain": [
       "Running Prediction:   0%|          | 0/3 [00:00<?, ?it/s]"
      ]
     },
     "metadata": {},
     "output_type": "display_data"
    },
    {
     "name": "stderr",
     "output_type": "stream",
     "text": [
      "convert squad examples to features: 100%|██████████| 22/22 [00:00<00:00, 196.36it/s]\n",
      "add example index and unique id: 100%|██████████| 22/22 [00:00<00:00, 134511.21it/s]\n"
     ]
    },
    {
     "data": {
      "application/vnd.jupyter.widget-view+json": {
       "model_id": "2fc3cf3afb704da7aff10fefe00f86ad",
       "version_major": 2,
       "version_minor": 0
      },
      "text/plain": [
       "Running Prediction:   0%|          | 0/3 [00:00<?, ?it/s]"
      ]
     },
     "metadata": {},
     "output_type": "display_data"
    },
    {
     "name": "stderr",
     "output_type": "stream",
     "text": [
      "convert squad examples to features: 100%|██████████| 22/22 [00:00<00:00, 184.53it/s]\n",
      "add example index and unique id: 100%|██████████| 22/22 [00:00<00:00, 154305.50it/s]\n"
     ]
    },
    {
     "data": {
      "application/vnd.jupyter.widget-view+json": {
       "model_id": "174d43b8aa584f3cbfc900563a5c5fc6",
       "version_major": 2,
       "version_minor": 0
      },
      "text/plain": [
       "Running Prediction:   0%|          | 0/3 [00:00<?, ?it/s]"
      ]
     },
     "metadata": {},
     "output_type": "display_data"
    },
    {
     "name": "stderr",
     "output_type": "stream",
     "text": [
      "convert squad examples to features: 100%|██████████| 22/22 [00:00<00:00, 230.67it/s]\n",
      "add example index and unique id: 100%|██████████| 22/22 [00:00<00:00, 149796.57it/s]\n"
     ]
    },
    {
     "data": {
      "application/vnd.jupyter.widget-view+json": {
       "model_id": "8716b510c9e74bee8385c50d782d395c",
       "version_major": 2,
       "version_minor": 0
      },
      "text/plain": [
       "Running Prediction:   0%|          | 0/3 [00:00<?, ?it/s]"
      ]
     },
     "metadata": {},
     "output_type": "display_data"
    },
    {
     "name": "stderr",
     "output_type": "stream",
     "text": [
      "convert squad examples to features: 100%|██████████| 22/22 [00:00<00:00, 240.73it/s]\n",
      "add example index and unique id: 100%|██████████| 22/22 [00:00<00:00, 123527.03it/s]\n"
     ]
    },
    {
     "data": {
      "application/vnd.jupyter.widget-view+json": {
       "model_id": "bc7bffc754bc49699d8765fe7fb41794",
       "version_major": 2,
       "version_minor": 0
      },
      "text/plain": [
       "Running Prediction:   0%|          | 0/3 [00:00<?, ?it/s]"
      ]
     },
     "metadata": {},
     "output_type": "display_data"
    },
    {
     "name": "stderr",
     "output_type": "stream",
     "text": [
      "convert squad examples to features: 100%|██████████| 22/22 [00:00<00:00, 100.04it/s]\n",
      "add example index and unique id: 100%|██████████| 22/22 [00:00<00:00, 137929.28it/s]\n"
     ]
    },
    {
     "data": {
      "application/vnd.jupyter.widget-view+json": {
       "model_id": "63cf161de18644a0921e21c331d4f6ed",
       "version_major": 2,
       "version_minor": 0
      },
      "text/plain": [
       "Running Prediction:   0%|          | 0/3 [00:00<?, ?it/s]"
      ]
     },
     "metadata": {},
     "output_type": "display_data"
    },
    {
     "name": "stderr",
     "output_type": "stream",
     "text": [
      "convert squad examples to features: 100%|██████████| 22/22 [00:00<00:00, 110.86it/s]\n",
      "add example index and unique id: 100%|██████████| 22/22 [00:00<00:00, 114912.44it/s]\n"
     ]
    },
    {
     "data": {
      "application/vnd.jupyter.widget-view+json": {
       "model_id": "766e97fd2fd743d188335522921ffba4",
       "version_major": 2,
       "version_minor": 0
      },
      "text/plain": [
       "Running Prediction:   0%|          | 0/3 [00:00<?, ?it/s]"
      ]
     },
     "metadata": {},
     "output_type": "display_data"
    },
    {
     "name": "stderr",
     "output_type": "stream",
     "text": [
      "convert squad examples to features: 100%|██████████| 22/22 [00:00<00:00, 233.18it/s]\n",
      "add example index and unique id: 100%|██████████| 22/22 [00:00<00:00, 158547.57it/s]\n"
     ]
    },
    {
     "data": {
      "application/vnd.jupyter.widget-view+json": {
       "model_id": "614577b4fd2749d688c0b27ecf420b48",
       "version_major": 2,
       "version_minor": 0
      },
      "text/plain": [
       "Running Prediction:   0%|          | 0/3 [00:00<?, ?it/s]"
      ]
     },
     "metadata": {},
     "output_type": "display_data"
    },
    {
     "name": "stderr",
     "output_type": "stream",
     "text": [
      "convert squad examples to features: 100%|██████████| 22/22 [00:00<00:00, 246.08it/s]\n",
      "add example index and unique id: 100%|██████████| 22/22 [00:00<00:00, 129964.35it/s]\n"
     ]
    },
    {
     "data": {
      "application/vnd.jupyter.widget-view+json": {
       "model_id": "66100eb1865d49a3ae3ab3e62121a7b6",
       "version_major": 2,
       "version_minor": 0
      },
      "text/plain": [
       "Running Prediction:   0%|          | 0/3 [00:00<?, ?it/s]"
      ]
     },
     "metadata": {},
     "output_type": "display_data"
    },
    {
     "name": "stderr",
     "output_type": "stream",
     "text": [
      "convert squad examples to features: 100%|██████████| 22/22 [00:00<00:00, 133.08it/s]\n",
      "add example index and unique id: 100%|██████████| 22/22 [00:00<00:00, 157197.08it/s]\n"
     ]
    },
    {
     "data": {
      "application/vnd.jupyter.widget-view+json": {
       "model_id": "1e1d0fcd4745445f89858c1720ba6131",
       "version_major": 2,
       "version_minor": 0
      },
      "text/plain": [
       "Running Prediction:   0%|          | 0/3 [00:00<?, ?it/s]"
      ]
     },
     "metadata": {},
     "output_type": "display_data"
    },
    {
     "name": "stderr",
     "output_type": "stream",
     "text": [
      "convert squad examples to features: 100%|██████████| 22/22 [00:00<00:00, 313.86it/s]\n",
      "add example index and unique id: 100%|██████████| 22/22 [00:00<00:00, 44663.45it/s]\n"
     ]
    },
    {
     "data": {
      "application/vnd.jupyter.widget-view+json": {
       "model_id": "f7f7e6f38cf8449b92d3b9d36384279e",
       "version_major": 2,
       "version_minor": 0
      },
      "text/plain": [
       "Running Prediction:   0%|          | 0/3 [00:00<?, ?it/s]"
      ]
     },
     "metadata": {},
     "output_type": "display_data"
    },
    {
     "name": "stderr",
     "output_type": "stream",
     "text": [
      "convert squad examples to features: 100%|██████████| 22/22 [00:00<00:00, 85.94it/s]\n",
      "add example index and unique id: 100%|██████████| 22/22 [00:00<00:00, 130515.82it/s]\n"
     ]
    },
    {
     "data": {
      "application/vnd.jupyter.widget-view+json": {
       "model_id": "86725cf6a35249d7a3387dcdb027656b",
       "version_major": 2,
       "version_minor": 0
      },
      "text/plain": [
       "Running Prediction:   0%|          | 0/3 [00:00<?, ?it/s]"
      ]
     },
     "metadata": {},
     "output_type": "display_data"
    },
    {
     "name": "stderr",
     "output_type": "stream",
     "text": [
      "convert squad examples to features: 100%|██████████| 22/22 [00:00<00:00, 160.16it/s]\n",
      "add example index and unique id: 100%|██████████| 22/22 [00:00<00:00, 159094.29it/s]\n"
     ]
    },
    {
     "data": {
      "application/vnd.jupyter.widget-view+json": {
       "model_id": "365b80a91d924dbeb3c09eac8ae927d2",
       "version_major": 2,
       "version_minor": 0
      },
      "text/plain": [
       "Running Prediction:   0%|          | 0/3 [00:00<?, ?it/s]"
      ]
     },
     "metadata": {},
     "output_type": "display_data"
    },
    {
     "name": "stderr",
     "output_type": "stream",
     "text": [
      "convert squad examples to features: 100%|██████████| 22/22 [00:00<00:00, 115.83it/s]\n",
      "add example index and unique id: 100%|██████████| 22/22 [00:00<00:00, 130886.08it/s]\n"
     ]
    },
    {
     "data": {
      "application/vnd.jupyter.widget-view+json": {
       "model_id": "05803a78ab994334b28f65aceb5ab8d9",
       "version_major": 2,
       "version_minor": 0
      },
      "text/plain": [
       "Running Prediction:   0%|          | 0/3 [00:00<?, ?it/s]"
      ]
     },
     "metadata": {},
     "output_type": "display_data"
    },
    {
     "name": "stderr",
     "output_type": "stream",
     "text": [
      "convert squad examples to features: 100%|██████████| 22/22 [00:00<00:00, 104.04it/s]\n",
      "add example index and unique id: 100%|██████████| 22/22 [00:00<00:00, 151022.40it/s]\n"
     ]
    },
    {
     "data": {
      "application/vnd.jupyter.widget-view+json": {
       "model_id": "0ab458b43d3041c290a0dfcf124755c6",
       "version_major": 2,
       "version_minor": 0
      },
      "text/plain": [
       "Running Prediction:   0%|          | 0/3 [00:00<?, ?it/s]"
      ]
     },
     "metadata": {},
     "output_type": "display_data"
    },
    {
     "name": "stderr",
     "output_type": "stream",
     "text": [
      "convert squad examples to features: 100%|██████████| 22/22 [00:00<00:00, 97.42it/s]\n",
      "add example index and unique id: 100%|██████████| 22/22 [00:00<00:00, 123527.03it/s]\n"
     ]
    },
    {
     "data": {
      "application/vnd.jupyter.widget-view+json": {
       "model_id": "f2fb6d5f93774b339080808732796ed6",
       "version_major": 2,
       "version_minor": 0
      },
      "text/plain": [
       "Running Prediction:   0%|          | 0/3 [00:00<?, ?it/s]"
      ]
     },
     "metadata": {},
     "output_type": "display_data"
    },
    {
     "name": "stderr",
     "output_type": "stream",
     "text": [
      "convert squad examples to features: 100%|██████████| 22/22 [00:00<00:00, 169.28it/s]\n",
      "add example index and unique id: 100%|██████████| 22/22 [00:00<00:00, 163607.60it/s]\n"
     ]
    },
    {
     "data": {
      "application/vnd.jupyter.widget-view+json": {
       "model_id": "c5552dc634114087896fe988fc29ef8e",
       "version_major": 2,
       "version_minor": 0
      },
      "text/plain": [
       "Running Prediction:   0%|          | 0/3 [00:00<?, ?it/s]"
      ]
     },
     "metadata": {},
     "output_type": "display_data"
    },
    {
     "name": "stderr",
     "output_type": "stream",
     "text": [
      "convert squad examples to features: 100%|██████████| 22/22 [00:00<00:00, 91.70it/s]\n",
      "add example index and unique id: 100%|██████████| 22/22 [00:00<00:00, 146700.62it/s]\n"
     ]
    },
    {
     "data": {
      "application/vnd.jupyter.widget-view+json": {
       "model_id": "3bf825e407284925abbcea85527e4cd1",
       "version_major": 2,
       "version_minor": 0
      },
      "text/plain": [
       "Running Prediction:   0%|          | 0/3 [00:00<?, ?it/s]"
      ]
     },
     "metadata": {},
     "output_type": "display_data"
    },
    {
     "name": "stderr",
     "output_type": "stream",
     "text": [
      "convert squad examples to features: 100%|██████████| 22/22 [00:00<00:00, 165.27it/s]\n",
      "add example index and unique id: 100%|██████████| 22/22 [00:00<00:00, 38901.64it/s]\n"
     ]
    },
    {
     "data": {
      "application/vnd.jupyter.widget-view+json": {
       "model_id": "78dce07499fe4f8bbd8072c4750e4974",
       "version_major": 2,
       "version_minor": 0
      },
      "text/plain": [
       "Running Prediction:   0%|          | 0/3 [00:00<?, ?it/s]"
      ]
     },
     "metadata": {},
     "output_type": "display_data"
    },
    {
     "name": "stderr",
     "output_type": "stream",
     "text": [
      "convert squad examples to features: 100%|██████████| 22/22 [00:00<00:00, 253.22it/s]\n",
      "add example index and unique id: 100%|██████████| 22/22 [00:00<00:00, 73175.80it/s]\n"
     ]
    },
    {
     "data": {
      "application/vnd.jupyter.widget-view+json": {
       "model_id": "a414c6da25d64a8dad1997985784ec54",
       "version_major": 2,
       "version_minor": 0
      },
      "text/plain": [
       "Running Prediction:   0%|          | 0/3 [00:00<?, ?it/s]"
      ]
     },
     "metadata": {},
     "output_type": "display_data"
    },
    {
     "name": "stderr",
     "output_type": "stream",
     "text": [
      "convert squad examples to features: 100%|██████████| 22/22 [00:00<00:00, 78.35it/s]\n",
      "add example index and unique id: 100%|██████████| 22/22 [00:00<00:00, 119217.94it/s]\n"
     ]
    },
    {
     "data": {
      "application/vnd.jupyter.widget-view+json": {
       "model_id": "2185efd03538478c8018910ef35b4df5",
       "version_major": 2,
       "version_minor": 0
      },
      "text/plain": [
       "Running Prediction:   0%|          | 0/3 [00:00<?, ?it/s]"
      ]
     },
     "metadata": {},
     "output_type": "display_data"
    },
    {
     "name": "stderr",
     "output_type": "stream",
     "text": [
      "convert squad examples to features: 100%|██████████| 22/22 [00:00<00:00, 170.13it/s]\n",
      "add example index and unique id: 100%|██████████| 22/22 [00:00<00:00, 159094.29it/s]\n"
     ]
    },
    {
     "data": {
      "application/vnd.jupyter.widget-view+json": {
       "model_id": "e121525f3160482e9f15dbac8ec133ca",
       "version_major": 2,
       "version_minor": 0
      },
      "text/plain": [
       "Running Prediction:   0%|          | 0/3 [00:00<?, ?it/s]"
      ]
     },
     "metadata": {},
     "output_type": "display_data"
    },
    {
     "name": "stderr",
     "output_type": "stream",
     "text": [
      "convert squad examples to features: 100%|██████████| 22/22 [00:00<00:00, 183.91it/s]\n",
      "add example index and unique id: 100%|██████████| 22/22 [00:00<00:00, 76640.11it/s]\n"
     ]
    },
    {
     "data": {
      "application/vnd.jupyter.widget-view+json": {
       "model_id": "477ad96f505a49bfb2921c0541e6c1c2",
       "version_major": 2,
       "version_minor": 0
      },
      "text/plain": [
       "Running Prediction:   0%|          | 0/3 [00:00<?, ?it/s]"
      ]
     },
     "metadata": {},
     "output_type": "display_data"
    },
    {
     "name": "stderr",
     "output_type": "stream",
     "text": [
      "convert squad examples to features: 100%|██████████| 22/22 [00:00<00:00, 86.66it/s]\n",
      "add example index and unique id: 100%|██████████| 22/22 [00:00<00:00, 85598.04it/s]\n"
     ]
    },
    {
     "data": {
      "application/vnd.jupyter.widget-view+json": {
       "model_id": "99f638eb3d6547688a08cf33bfcdc351",
       "version_major": 2,
       "version_minor": 0
      },
      "text/plain": [
       "Running Prediction:   0%|          | 0/3 [00:00<?, ?it/s]"
      ]
     },
     "metadata": {},
     "output_type": "display_data"
    },
    {
     "name": "stderr",
     "output_type": "stream",
     "text": [
      "convert squad examples to features: 100%|██████████| 22/22 [00:00<00:00, 90.69it/s]\n",
      "add example index and unique id: 100%|██████████| 22/22 [00:00<00:00, 165961.67it/s]\n"
     ]
    },
    {
     "data": {
      "application/vnd.jupyter.widget-view+json": {
       "model_id": "9de8b31ecb734d068bd1a9874e170e4b",
       "version_major": 2,
       "version_minor": 0
      },
      "text/plain": [
       "Running Prediction:   0%|          | 0/3 [00:00<?, ?it/s]"
      ]
     },
     "metadata": {},
     "output_type": "display_data"
    },
    {
     "name": "stderr",
     "output_type": "stream",
     "text": [
      "convert squad examples to features: 100%|██████████| 22/22 [00:00<00:00, 179.34it/s]\n",
      "add example index and unique id: 100%|██████████| 22/22 [00:00<00:00, 143730.04it/s]\n"
     ]
    },
    {
     "data": {
      "application/vnd.jupyter.widget-view+json": {
       "model_id": "185b8b56ad89417ab4b037c09064dfa5",
       "version_major": 2,
       "version_minor": 0
      },
      "text/plain": [
       "Running Prediction:   0%|          | 0/3 [00:00<?, ?it/s]"
      ]
     },
     "metadata": {},
     "output_type": "display_data"
    },
    {
     "name": "stderr",
     "output_type": "stream",
     "text": [
      "convert squad examples to features: 100%|██████████| 22/22 [00:00<00:00, 118.75it/s]\n",
      "add example index and unique id: 100%|██████████| 22/22 [00:00<00:00, 116214.97it/s]\n"
     ]
    },
    {
     "data": {
      "application/vnd.jupyter.widget-view+json": {
       "model_id": "a7c90246d068404389c91726fec85d9f",
       "version_major": 2,
       "version_minor": 0
      },
      "text/plain": [
       "Running Prediction:   0%|          | 0/3 [00:00<?, ?it/s]"
      ]
     },
     "metadata": {},
     "output_type": "display_data"
    },
    {
     "name": "stderr",
     "output_type": "stream",
     "text": [
      "convert squad examples to features: 100%|██████████| 22/22 [00:00<00:00, 74.16it/s]\n",
      "add example index and unique id: 100%|██████████| 22/22 [00:00<00:00, 111040.54it/s]\n"
     ]
    },
    {
     "data": {
      "application/vnd.jupyter.widget-view+json": {
       "model_id": "f91e762493894fd4a439649dda18d9e7",
       "version_major": 2,
       "version_minor": 0
      },
      "text/plain": [
       "Running Prediction:   0%|          | 0/3 [00:00<?, ?it/s]"
      ]
     },
     "metadata": {},
     "output_type": "display_data"
    },
    {
     "name": "stderr",
     "output_type": "stream",
     "text": [
      "convert squad examples to features: 100%|██████████| 22/22 [00:00<00:00, 168.17it/s]\n",
      "add example index and unique id: 100%|██████████| 22/22 [00:00<00:00, 59686.09it/s]\n"
     ]
    },
    {
     "data": {
      "application/vnd.jupyter.widget-view+json": {
       "model_id": "d81816c33b58409095564e211286f59a",
       "version_major": 2,
       "version_minor": 0
      },
      "text/plain": [
       "Running Prediction:   0%|          | 0/3 [00:00<?, ?it/s]"
      ]
     },
     "metadata": {},
     "output_type": "display_data"
    },
    {
     "name": "stderr",
     "output_type": "stream",
     "text": [
      "convert squad examples to features: 100%|██████████| 22/22 [00:00<00:00, 220.31it/s]\n",
      "add example index and unique id: 100%|██████████| 22/22 [00:00<00:00, 161319.38it/s]\n"
     ]
    },
    {
     "data": {
      "application/vnd.jupyter.widget-view+json": {
       "model_id": "9e842da224d34f80a9ac1dbc45ee40ba",
       "version_major": 2,
       "version_minor": 0
      },
      "text/plain": [
       "Running Prediction:   0%|          | 0/3 [00:00<?, ?it/s]"
      ]
     },
     "metadata": {},
     "output_type": "display_data"
    },
    {
     "name": "stderr",
     "output_type": "stream",
     "text": [
      "convert squad examples to features: 100%|██████████| 22/22 [00:00<00:00, 205.81it/s]\n",
      "add example index and unique id: 100%|██████████| 22/22 [00:00<00:00, 142840.07it/s]\n"
     ]
    },
    {
     "data": {
      "application/vnd.jupyter.widget-view+json": {
       "model_id": "2aa0acf50b624c3183d6b40957fa4eec",
       "version_major": 2,
       "version_minor": 0
      },
      "text/plain": [
       "Running Prediction:   0%|          | 0/3 [00:00<?, ?it/s]"
      ]
     },
     "metadata": {},
     "output_type": "display_data"
    },
    {
     "name": "stderr",
     "output_type": "stream",
     "text": [
      "convert squad examples to features: 100%|██████████| 22/22 [00:00<00:00, 105.39it/s]\n",
      "add example index and unique id: 100%|██████████| 22/22 [00:00<00:00, 142399.21it/s]\n"
     ]
    },
    {
     "data": {
      "application/vnd.jupyter.widget-view+json": {
       "model_id": "886e4b2dcb1a483785cad55c5550eea4",
       "version_major": 2,
       "version_minor": 0
      },
      "text/plain": [
       "Running Prediction:   0%|          | 0/3 [00:00<?, ?it/s]"
      ]
     },
     "metadata": {},
     "output_type": "display_data"
    },
    {
     "name": "stderr",
     "output_type": "stream",
     "text": [
      "convert squad examples to features: 100%|██████████| 22/22 [00:00<00:00, 182.48it/s]\n",
      "add example index and unique id: 100%|██████████| 22/22 [00:00<00:00, 143506.51it/s]\n"
     ]
    },
    {
     "data": {
      "application/vnd.jupyter.widget-view+json": {
       "model_id": "c1adf7b2e10647ceafeb3186caee4f95",
       "version_major": 2,
       "version_minor": 0
      },
      "text/plain": [
       "Running Prediction:   0%|          | 0/3 [00:00<?, ?it/s]"
      ]
     },
     "metadata": {},
     "output_type": "display_data"
    },
    {
     "name": "stderr",
     "output_type": "stream",
     "text": [
      "convert squad examples to features: 100%|██████████| 22/22 [00:00<00:00, 77.56it/s]\n",
      "add example index and unique id: 100%|██████████| 22/22 [00:00<00:00, 152772.66it/s]\n"
     ]
    },
    {
     "data": {
      "application/vnd.jupyter.widget-view+json": {
       "model_id": "c5817a3b8f634d31a36790c23ca95328",
       "version_major": 2,
       "version_minor": 0
      },
      "text/plain": [
       "Running Prediction:   0%|          | 0/3 [00:00<?, ?it/s]"
      ]
     },
     "metadata": {},
     "output_type": "display_data"
    },
    {
     "name": "stderr",
     "output_type": "stream",
     "text": [
      "convert squad examples to features: 100%|██████████| 22/22 [00:00<00:00, 149.59it/s]\n",
      "add example index and unique id: 100%|██████████| 22/22 [00:00<00:00, 115199.36it/s]\n"
     ]
    },
    {
     "data": {
      "application/vnd.jupyter.widget-view+json": {
       "model_id": "c2de5931cafa49179a5d007c9e42c792",
       "version_major": 2,
       "version_minor": 0
      },
      "text/plain": [
       "Running Prediction:   0%|          | 0/3 [00:00<?, ?it/s]"
      ]
     },
     "metadata": {},
     "output_type": "display_data"
    },
    {
     "name": "stderr",
     "output_type": "stream",
     "text": [
      "convert squad examples to features: 100%|██████████| 22/22 [00:00<00:00, 149.20it/s]\n",
      "add example index and unique id: 100%|██████████| 22/22 [00:00<00:00, 136906.07it/s]\n"
     ]
    },
    {
     "data": {
      "application/vnd.jupyter.widget-view+json": {
       "model_id": "7dfa4e62b2e2472bad7bf74ee44867a0",
       "version_major": 2,
       "version_minor": 0
      },
      "text/plain": [
       "Running Prediction:   0%|          | 0/3 [00:00<?, ?it/s]"
      ]
     },
     "metadata": {},
     "output_type": "display_data"
    },
    {
     "name": "stderr",
     "output_type": "stream",
     "text": [
      "convert squad examples to features: 100%|██████████| 22/22 [00:00<00:00, 468.59it/s]\n",
      "add example index and unique id: 100%|██████████| 22/22 [00:00<00:00, 130331.48it/s]\n"
     ]
    },
    {
     "data": {
      "application/vnd.jupyter.widget-view+json": {
       "model_id": "c1c142b0ead94192854264b04e8629f7",
       "version_major": 2,
       "version_minor": 0
      },
      "text/plain": [
       "Running Prediction:   0%|          | 0/3 [00:00<?, ?it/s]"
      ]
     },
     "metadata": {},
     "output_type": "display_data"
    },
    {
     "name": "stderr",
     "output_type": "stream",
     "text": [
      "convert squad examples to features: 100%|██████████| 22/22 [00:00<00:00, 123.95it/s]\n",
      "add example index and unique id: 100%|██████████| 22/22 [00:00<00:00, 71921.04it/s]\n"
     ]
    },
    {
     "data": {
      "application/vnd.jupyter.widget-view+json": {
       "model_id": "d7455f51e77c4b5ba0c9e21c9d9ef91c",
       "version_major": 2,
       "version_minor": 0
      },
      "text/plain": [
       "Running Prediction:   0%|          | 0/3 [00:00<?, ?it/s]"
      ]
     },
     "metadata": {},
     "output_type": "display_data"
    },
    {
     "name": "stderr",
     "output_type": "stream",
     "text": [
      "convert squad examples to features: 100%|██████████| 22/22 [00:00<00:00, 500.46it/s]\n",
      "add example index and unique id: 100%|██████████| 22/22 [00:00<00:00, 116068.79it/s]\n"
     ]
    },
    {
     "data": {
      "application/vnd.jupyter.widget-view+json": {
       "model_id": "e2313a81f6154e93905d939d94c27228",
       "version_major": 2,
       "version_minor": 0
      },
      "text/plain": [
       "Running Prediction:   0%|          | 0/3 [00:00<?, ?it/s]"
      ]
     },
     "metadata": {},
     "output_type": "display_data"
    },
    {
     "name": "stderr",
     "output_type": "stream",
     "text": [
      "convert squad examples to features: 100%|██████████| 22/22 [00:00<00:00, 259.33it/s]\n",
      "add example index and unique id: 100%|██████████| 22/22 [00:00<00:00, 130886.08it/s]\n"
     ]
    },
    {
     "data": {
      "application/vnd.jupyter.widget-view+json": {
       "model_id": "c6e7a5c58a694a97acea31e8554d0da0",
       "version_major": 2,
       "version_minor": 0
      },
      "text/plain": [
       "Running Prediction:   0%|          | 0/3 [00:00<?, ?it/s]"
      ]
     },
     "metadata": {},
     "output_type": "display_data"
    },
    {
     "name": "stderr",
     "output_type": "stream",
     "text": [
      "convert squad examples to features: 100%|██████████| 22/22 [00:00<00:00, 179.81it/s]\n",
      "add example index and unique id: 100%|██████████| 22/22 [00:00<00:00, 128159.29it/s]\n"
     ]
    },
    {
     "data": {
      "application/vnd.jupyter.widget-view+json": {
       "model_id": "f50fd152b2c844d2b48e0ed6361c9ddb",
       "version_major": 2,
       "version_minor": 0
      },
      "text/plain": [
       "Running Prediction:   0%|          | 0/3 [00:00<?, ?it/s]"
      ]
     },
     "metadata": {},
     "output_type": "display_data"
    },
    {
     "name": "stderr",
     "output_type": "stream",
     "text": [
      "convert squad examples to features: 100%|██████████| 22/22 [00:00<00:00, 341.55it/s]\n",
      "add example index and unique id: 100%|██████████| 22/22 [00:00<00:00, 115777.53it/s]\n"
     ]
    },
    {
     "data": {
      "application/vnd.jupyter.widget-view+json": {
       "model_id": "a38db7515f9a412e81bccd47f3a66366",
       "version_major": 2,
       "version_minor": 0
      },
      "text/plain": [
       "Running Prediction:   0%|          | 0/3 [00:00<?, ?it/s]"
      ]
     },
     "metadata": {},
     "output_type": "display_data"
    },
    {
     "name": "stderr",
     "output_type": "stream",
     "text": [
      "convert squad examples to features: 100%|██████████| 22/22 [00:00<00:00, 184.48it/s]\n",
      "add example index and unique id: 100%|██████████| 22/22 [00:00<00:00, 160757.30it/s]\n"
     ]
    },
    {
     "data": {
      "application/vnd.jupyter.widget-view+json": {
       "model_id": "8f4f376378b44bc9be8333a423df46f9",
       "version_major": 2,
       "version_minor": 0
      },
      "text/plain": [
       "Running Prediction:   0%|          | 0/3 [00:00<?, ?it/s]"
      ]
     },
     "metadata": {},
     "output_type": "display_data"
    },
    {
     "name": "stderr",
     "output_type": "stream",
     "text": [
      "convert squad examples to features: 100%|██████████| 22/22 [00:00<00:00, 204.37it/s]\n",
      "add example index and unique id: 100%|██████████| 22/22 [00:00<00:00, 166260.70it/s]\n"
     ]
    },
    {
     "data": {
      "application/vnd.jupyter.widget-view+json": {
       "model_id": "870283820a4640aaacce22765ae8f2a7",
       "version_major": 2,
       "version_minor": 0
      },
      "text/plain": [
       "Running Prediction:   0%|          | 0/3 [00:00<?, ?it/s]"
      ]
     },
     "metadata": {},
     "output_type": "display_data"
    },
    {
     "name": "stderr",
     "output_type": "stream",
     "text": [
      "convert squad examples to features: 100%|██████████| 22/22 [00:00<00:00, 456.61it/s]\n",
      "add example index and unique id: 100%|██████████| 22/22 [00:00<00:00, 128875.26it/s]\n"
     ]
    },
    {
     "data": {
      "application/vnd.jupyter.widget-view+json": {
       "model_id": "54430c311546474487d761b8e40b9d6a",
       "version_major": 2,
       "version_minor": 0
      },
      "text/plain": [
       "Running Prediction:   0%|          | 0/3 [00:00<?, ?it/s]"
      ]
     },
     "metadata": {},
     "output_type": "display_data"
    },
    {
     "name": "stderr",
     "output_type": "stream",
     "text": [
      "convert squad examples to features: 100%|██████████| 22/22 [00:00<00:00, 396.06it/s]\n",
      "add example index and unique id: 100%|██████████| 22/22 [00:00<00:00, 161319.38it/s]\n"
     ]
    },
    {
     "data": {
      "application/vnd.jupyter.widget-view+json": {
       "model_id": "aa1752ca4abf447fa59d0c1e624ae0b6",
       "version_major": 2,
       "version_minor": 0
      },
      "text/plain": [
       "Running Prediction:   0%|          | 0/3 [00:00<?, ?it/s]"
      ]
     },
     "metadata": {},
     "output_type": "display_data"
    },
    {
     "name": "stderr",
     "output_type": "stream",
     "text": [
      "convert squad examples to features: 100%|██████████| 22/22 [00:00<00:00, 374.75it/s]\n",
      "add example index and unique id: 100%|██████████| 22/22 [00:00<00:00, 155606.56it/s]\n"
     ]
    },
    {
     "data": {
      "application/vnd.jupyter.widget-view+json": {
       "model_id": "ef3a635fb1c14065bbce5afb45ac4a26",
       "version_major": 2,
       "version_minor": 0
      },
      "text/plain": [
       "Running Prediction:   0%|          | 0/3 [00:00<?, ?it/s]"
      ]
     },
     "metadata": {},
     "output_type": "display_data"
    },
    {
     "name": "stderr",
     "output_type": "stream",
     "text": [
      "convert squad examples to features: 100%|██████████| 22/22 [00:00<00:00, 385.63it/s]\n",
      "add example index and unique id: 100%|██████████| 22/22 [00:00<00:00, 124192.04it/s]\n"
     ]
    },
    {
     "data": {
      "application/vnd.jupyter.widget-view+json": {
       "model_id": "0d50a1e758cf4e30b52b9137cc3d05a8",
       "version_major": 2,
       "version_minor": 0
      },
      "text/plain": [
       "Running Prediction:   0%|          | 0/3 [00:00<?, ?it/s]"
      ]
     },
     "metadata": {},
     "output_type": "display_data"
    },
    {
     "name": "stderr",
     "output_type": "stream",
     "text": [
      "convert squad examples to features: 100%|██████████| 22/22 [00:00<00:00, 200.62it/s]\n",
      "add example index and unique id: 100%|██████████| 22/22 [00:00<00:00, 157197.08it/s]\n"
     ]
    },
    {
     "data": {
      "application/vnd.jupyter.widget-view+json": {
       "model_id": "f6cb78ff1e6a42f9862768d9dacab109",
       "version_major": 2,
       "version_minor": 0
      },
      "text/plain": [
       "Running Prediction:   0%|          | 0/3 [00:00<?, ?it/s]"
      ]
     },
     "metadata": {},
     "output_type": "display_data"
    },
    {
     "name": "stderr",
     "output_type": "stream",
     "text": [
      "convert squad examples to features: 100%|██████████| 22/22 [00:00<00:00, 547.88it/s]\n",
      "add example index and unique id: 100%|██████████| 22/22 [00:00<00:00, 117998.32it/s]\n"
     ]
    },
    {
     "data": {
      "application/vnd.jupyter.widget-view+json": {
       "model_id": "110bed04f2a24c6f82662aee17a17526",
       "version_major": 2,
       "version_minor": 0
      },
      "text/plain": [
       "Running Prediction:   0%|          | 0/3 [00:00<?, ?it/s]"
      ]
     },
     "metadata": {},
     "output_type": "display_data"
    },
    {
     "name": "stderr",
     "output_type": "stream",
     "text": [
      "convert squad examples to features: 100%|██████████| 22/22 [00:00<00:00, 311.29it/s]\n",
      "add example index and unique id: 100%|██████████| 22/22 [00:00<00:00, 136703.24it/s]\n"
     ]
    },
    {
     "data": {
      "application/vnd.jupyter.widget-view+json": {
       "model_id": "2fa3a33706684394b8f00eec66729470",
       "version_major": 2,
       "version_minor": 0
      },
      "text/plain": [
       "Running Prediction:   0%|          | 0/3 [00:00<?, ?it/s]"
      ]
     },
     "metadata": {},
     "output_type": "display_data"
    },
    {
     "name": "stderr",
     "output_type": "stream",
     "text": [
      "convert squad examples to features: 100%|██████████| 22/22 [00:00<00:00, 456.21it/s]\n",
      "add example index and unique id: 100%|██████████| 22/22 [00:00<00:00, 147639.50it/s]\n"
     ]
    },
    {
     "data": {
      "application/vnd.jupyter.widget-view+json": {
       "model_id": "b0b785369e634e2db2d6b1e3193e36dd",
       "version_major": 2,
       "version_minor": 0
      },
      "text/plain": [
       "Running Prediction:   0%|          | 0/3 [00:00<?, ?it/s]"
      ]
     },
     "metadata": {},
     "output_type": "display_data"
    },
    {
     "name": "stderr",
     "output_type": "stream",
     "text": [
      "convert squad examples to features: 100%|██████████| 22/22 [00:00<00:00, 276.61it/s]\n",
      "add example index and unique id: 100%|██████████| 22/22 [00:00<00:00, 151269.98it/s]\n"
     ]
    },
    {
     "data": {
      "application/vnd.jupyter.widget-view+json": {
       "model_id": "fb20860d3e364f80919c1f812e1b7e73",
       "version_major": 2,
       "version_minor": 0
      },
      "text/plain": [
       "Running Prediction:   0%|          | 0/3 [00:00<?, ?it/s]"
      ]
     },
     "metadata": {},
     "output_type": "display_data"
    },
    {
     "name": "stderr",
     "output_type": "stream",
     "text": [
      "convert squad examples to features: 100%|██████████| 22/22 [00:00<00:00, 365.40it/s]\n",
      "add example index and unique id: 100%|██████████| 22/22 [00:00<00:00, 136299.39it/s]\n"
     ]
    },
    {
     "data": {
      "application/vnd.jupyter.widget-view+json": {
       "model_id": "9ce4db48c5a54f588e1c7da4c7e32731",
       "version_major": 2,
       "version_minor": 0
      },
      "text/plain": [
       "Running Prediction:   0%|          | 0/3 [00:00<?, ?it/s]"
      ]
     },
     "metadata": {},
     "output_type": "display_data"
    },
    {
     "name": "stderr",
     "output_type": "stream",
     "text": [
      "convert squad examples to features: 100%|██████████| 22/22 [00:00<00:00, 229.37it/s]\n",
      "add example index and unique id: 100%|██████████| 22/22 [00:00<00:00, 116803.40it/s]\n"
     ]
    },
    {
     "data": {
      "application/vnd.jupyter.widget-view+json": {
       "model_id": "a3c3375cdce94eb58b20815b34e1c0e3",
       "version_major": 2,
       "version_minor": 0
      },
      "text/plain": [
       "Running Prediction:   0%|          | 0/3 [00:00<?, ?it/s]"
      ]
     },
     "metadata": {},
     "output_type": "display_data"
    },
    {
     "name": "stderr",
     "output_type": "stream",
     "text": [
      "convert squad examples to features: 100%|██████████| 22/22 [00:00<00:00, 541.68it/s]\n",
      "add example index and unique id: 100%|██████████| 22/22 [00:00<00:00, 164482.51it/s]\n"
     ]
    },
    {
     "data": {
      "application/vnd.jupyter.widget-view+json": {
       "model_id": "5f99cf245fcc4e7c946742ef93e0d599",
       "version_major": 2,
       "version_minor": 0
      },
      "text/plain": [
       "Running Prediction:   0%|          | 0/3 [00:00<?, ?it/s]"
      ]
     },
     "metadata": {},
     "output_type": "display_data"
    },
    {
     "name": "stderr",
     "output_type": "stream",
     "text": [
      "convert squad examples to features: 100%|██████████| 22/22 [00:00<00:00, 474.86it/s]\n",
      "add example index and unique id: 100%|██████████| 22/22 [00:00<00:00, 163898.20it/s]\n"
     ]
    },
    {
     "data": {
      "application/vnd.jupyter.widget-view+json": {
       "model_id": "336d2280463545d58097d9e2fe0cc026",
       "version_major": 2,
       "version_minor": 0
      },
      "text/plain": [
       "Running Prediction:   0%|          | 0/3 [00:00<?, ?it/s]"
      ]
     },
     "metadata": {},
     "output_type": "display_data"
    },
    {
     "name": "stderr",
     "output_type": "stream",
     "text": [
      "convert squad examples to features: 100%|██████████| 22/22 [00:00<00:00, 534.11it/s]\n",
      "add example index and unique id: 100%|██████████| 22/22 [00:00<00:00, 166260.70it/s]\n"
     ]
    },
    {
     "data": {
      "application/vnd.jupyter.widget-view+json": {
       "model_id": "dd35fabdb1e84f9f8983f3b38bd59a78",
       "version_major": 2,
       "version_minor": 0
      },
      "text/plain": [
       "Running Prediction:   0%|          | 0/3 [00:00<?, ?it/s]"
      ]
     },
     "metadata": {},
     "output_type": "display_data"
    },
    {
     "name": "stderr",
     "output_type": "stream",
     "text": [
      "convert squad examples to features: 100%|██████████| 22/22 [00:00<00:00, 307.97it/s]\n",
      "add example index and unique id: 100%|██████████| 22/22 [00:00<00:00, 145543.67it/s]\n"
     ]
    },
    {
     "data": {
      "application/vnd.jupyter.widget-view+json": {
       "model_id": "8da4ed312be4498380eb37b530653240",
       "version_major": 2,
       "version_minor": 0
      },
      "text/plain": [
       "Running Prediction:   0%|          | 0/3 [00:00<?, ?it/s]"
      ]
     },
     "metadata": {},
     "output_type": "display_data"
    },
    {
     "name": "stderr",
     "output_type": "stream",
     "text": [
      "convert squad examples to features: 100%|██████████| 22/22 [00:00<00:00, 599.36it/s]\n",
      "add example index and unique id: 100%|██████████| 22/22 [00:00<00:00, 137929.28it/s]\n"
     ]
    },
    {
     "data": {
      "application/vnd.jupyter.widget-view+json": {
       "model_id": "cbf4cb87b0df47e4a781c0def3931eef",
       "version_major": 2,
       "version_minor": 0
      },
      "text/plain": [
       "Running Prediction:   0%|          | 0/3 [00:00<?, ?it/s]"
      ]
     },
     "metadata": {},
     "output_type": "display_data"
    },
    {
     "name": "stderr",
     "output_type": "stream",
     "text": [
      "convert squad examples to features: 100%|██████████| 22/22 [00:00<00:00, 391.11it/s]\n",
      "add example index and unique id: 100%|██████████| 22/22 [00:00<00:00, 160477.72it/s]\n"
     ]
    },
    {
     "data": {
      "application/vnd.jupyter.widget-view+json": {
       "model_id": "aee4bba446ba4a2fb1269795aa6fa570",
       "version_major": 2,
       "version_minor": 0
      },
      "text/plain": [
       "Running Prediction:   0%|          | 0/3 [00:00<?, ?it/s]"
      ]
     },
     "metadata": {},
     "output_type": "display_data"
    },
    {
     "name": "stderr",
     "output_type": "stream",
     "text": [
      "convert squad examples to features: 100%|██████████| 22/22 [00:00<00:00, 201.20it/s]\n",
      "add example index and unique id: 100%|██████████| 22/22 [00:00<00:00, 127451.23it/s]\n"
     ]
    },
    {
     "data": {
      "application/vnd.jupyter.widget-view+json": {
       "model_id": "12ff790444704ae6990983fd1a371df7",
       "version_major": 2,
       "version_minor": 0
      },
      "text/plain": [
       "Running Prediction:   0%|          | 0/3 [00:00<?, ?it/s]"
      ]
     },
     "metadata": {},
     "output_type": "display_data"
    },
    {
     "name": "stderr",
     "output_type": "stream",
     "text": [
      "convert squad examples to features: 100%|██████████| 22/22 [00:00<00:00, 319.26it/s]\n",
      "add example index and unique id: 100%|██████████| 22/22 [00:00<00:00, 155606.56it/s]\n"
     ]
    },
    {
     "data": {
      "application/vnd.jupyter.widget-view+json": {
       "model_id": "5309c11af7da45a7aeac1a62d056ccac",
       "version_major": 2,
       "version_minor": 0
      },
      "text/plain": [
       "Running Prediction:   0%|          | 0/3 [00:00<?, ?it/s]"
      ]
     },
     "metadata": {},
     "output_type": "display_data"
    },
    {
     "name": "stderr",
     "output_type": "stream",
     "text": [
      "convert squad examples to features: 100%|██████████| 22/22 [00:00<00:00, 352.77it/s]\n",
      "add example index and unique id: 100%|██████████| 22/22 [00:00<00:00, 162455.44it/s]\n"
     ]
    },
    {
     "data": {
      "application/vnd.jupyter.widget-view+json": {
       "model_id": "e41422f052e44c8f95f8629b505933c1",
       "version_major": 2,
       "version_minor": 0
      },
      "text/plain": [
       "Running Prediction:   0%|          | 0/3 [00:00<?, ?it/s]"
      ]
     },
     "metadata": {},
     "output_type": "display_data"
    },
    {
     "name": "stderr",
     "output_type": "stream",
     "text": [
      "convert squad examples to features: 100%|██████████| 22/22 [00:00<00:00, 305.44it/s]\n",
      "add example index and unique id: 100%|██████████| 22/22 [00:00<00:00, 161319.38it/s]\n"
     ]
    },
    {
     "data": {
      "application/vnd.jupyter.widget-view+json": {
       "model_id": "625db5fccef848a0983e59eb6abfdefe",
       "version_major": 2,
       "version_minor": 0
      },
      "text/plain": [
       "Running Prediction:   0%|          | 0/3 [00:00<?, ?it/s]"
      ]
     },
     "metadata": {},
     "output_type": "display_data"
    },
    {
     "name": "stderr",
     "output_type": "stream",
     "text": [
      "convert squad examples to features: 100%|██████████| 22/22 [00:00<00:00, 273.50it/s]\n",
      "add example index and unique id: 100%|██████████| 22/22 [00:00<00:00, 153026.02it/s]\n"
     ]
    },
    {
     "data": {
      "application/vnd.jupyter.widget-view+json": {
       "model_id": "e9d377648c7646d5ad0b98b5cff08cad",
       "version_major": 2,
       "version_minor": 0
      },
      "text/plain": [
       "Running Prediction:   0%|          | 0/3 [00:00<?, ?it/s]"
      ]
     },
     "metadata": {},
     "output_type": "display_data"
    },
    {
     "name": "stderr",
     "output_type": "stream",
     "text": [
      "convert squad examples to features: 100%|██████████| 22/22 [00:00<00:00, 172.15it/s]\n",
      "add example index and unique id: 100%|██████████| 22/22 [00:00<00:00, 95325.09it/s]\n"
     ]
    },
    {
     "data": {
      "application/vnd.jupyter.widget-view+json": {
       "model_id": "21494e04167345f9b48720555c1f94d6",
       "version_major": 2,
       "version_minor": 0
      },
      "text/plain": [
       "Running Prediction:   0%|          | 0/3 [00:00<?, ?it/s]"
      ]
     },
     "metadata": {},
     "output_type": "display_data"
    },
    {
     "name": "stderr",
     "output_type": "stream",
     "text": [
      "convert squad examples to features: 100%|██████████| 22/22 [00:00<00:00, 305.86it/s]\n",
      "add example index and unique id: 100%|██████████| 22/22 [00:00<00:00, 164482.51it/s]\n"
     ]
    },
    {
     "data": {
      "application/vnd.jupyter.widget-view+json": {
       "model_id": "d91399f529dc410db5680d467785431d",
       "version_major": 2,
       "version_minor": 0
      },
      "text/plain": [
       "Running Prediction:   0%|          | 0/3 [00:00<?, ?it/s]"
      ]
     },
     "metadata": {},
     "output_type": "display_data"
    },
    {
     "name": "stderr",
     "output_type": "stream",
     "text": [
      "convert squad examples to features: 100%|██████████| 22/22 [00:00<00:00, 276.43it/s]\n",
      "add example index and unique id: 100%|██████████| 22/22 [00:00<00:00, 107671.75it/s]\n"
     ]
    },
    {
     "data": {
      "application/vnd.jupyter.widget-view+json": {
       "model_id": "1bc10431a90b455687eb2ff6c1d54f42",
       "version_major": 2,
       "version_minor": 0
      },
      "text/plain": [
       "Running Prediction:   0%|          | 0/3 [00:00<?, ?it/s]"
      ]
     },
     "metadata": {},
     "output_type": "display_data"
    },
    {
     "name": "stderr",
     "output_type": "stream",
     "text": [
      "convert squad examples to features: 100%|██████████| 22/22 [00:00<00:00, 186.47it/s]\n",
      "add example index and unique id: 100%|██████████| 22/22 [00:00<00:00, 131820.98it/s]\n"
     ]
    },
    {
     "data": {
      "application/vnd.jupyter.widget-view+json": {
       "model_id": "cc80de011da84ad38636a31963246a04",
       "version_major": 2,
       "version_minor": 0
      },
      "text/plain": [
       "Running Prediction:   0%|          | 0/3 [00:00<?, ?it/s]"
      ]
     },
     "metadata": {},
     "output_type": "display_data"
    },
    {
     "name": "stderr",
     "output_type": "stream",
     "text": [
      "convert squad examples to features: 100%|██████████| 22/22 [00:00<00:00, 222.12it/s]\n",
      "add example index and unique id: 100%|██████████| 22/22 [00:00<00:00, 126750.95it/s]\n"
     ]
    },
    {
     "data": {
      "application/vnd.jupyter.widget-view+json": {
       "model_id": "5b9845b40f7b4653ac6af5ef7b7d0cf6",
       "version_major": 2,
       "version_minor": 0
      },
      "text/plain": [
       "Running Prediction:   0%|          | 0/3 [00:00<?, ?it/s]"
      ]
     },
     "metadata": {},
     "output_type": "display_data"
    },
    {
     "name": "stderr",
     "output_type": "stream",
     "text": [
      "convert squad examples to features: 100%|██████████| 22/22 [00:00<00:00, 149.98it/s]\n",
      "add example index and unique id: 100%|██████████| 22/22 [00:00<00:00, 157197.08it/s]\n"
     ]
    },
    {
     "data": {
      "application/vnd.jupyter.widget-view+json": {
       "model_id": "24a9cc160d144805abafb995ea1c2a43",
       "version_major": 2,
       "version_minor": 0
      },
      "text/plain": [
       "Running Prediction:   0%|          | 0/3 [00:00<?, ?it/s]"
      ]
     },
     "metadata": {},
     "output_type": "display_data"
    },
    {
     "name": "stderr",
     "output_type": "stream",
     "text": [
      "convert squad examples to features: 100%|██████████| 22/22 [00:00<00:00, 317.61it/s]\n",
      "add example index and unique id: 100%|██████████| 22/22 [00:00<00:00, 126058.32it/s]\n"
     ]
    },
    {
     "data": {
      "application/vnd.jupyter.widget-view+json": {
       "model_id": "eb4a170d5b05403995cdc3693c96213f",
       "version_major": 2,
       "version_minor": 0
      },
      "text/plain": [
       "Running Prediction:   0%|          | 0/3 [00:00<?, ?it/s]"
      ]
     },
     "metadata": {},
     "output_type": "display_data"
    },
    {
     "name": "stderr",
     "output_type": "stream",
     "text": [
      "convert squad examples to features: 100%|██████████| 22/22 [00:00<00:00, 150.34it/s]\n",
      "add example index and unique id: 100%|██████████| 22/22 [00:00<00:00, 155869.41it/s]\n"
     ]
    },
    {
     "data": {
      "application/vnd.jupyter.widget-view+json": {
       "model_id": "3de9fbee8d794dceaf323108f2a0b43f",
       "version_major": 2,
       "version_minor": 0
      },
      "text/plain": [
       "Running Prediction:   0%|          | 0/3 [00:00<?, ?it/s]"
      ]
     },
     "metadata": {},
     "output_type": "display_data"
    },
    {
     "name": "stderr",
     "output_type": "stream",
     "text": [
      "convert squad examples to features: 100%|██████████| 22/22 [00:00<00:00, 216.77it/s]\n",
      "add example index and unique id: 100%|██████████| 22/22 [00:00<00:00, 156397.78it/s]\n"
     ]
    },
    {
     "data": {
      "application/vnd.jupyter.widget-view+json": {
       "model_id": "424ccad10c524fcc9db1f2b8c47bf5ee",
       "version_major": 2,
       "version_minor": 0
      },
      "text/plain": [
       "Running Prediction:   0%|          | 0/3 [00:00<?, ?it/s]"
      ]
     },
     "metadata": {},
     "output_type": "display_data"
    },
    {
     "name": "stderr",
     "output_type": "stream",
     "text": [
      "convert squad examples to features: 100%|██████████| 22/22 [00:00<00:00, 231.15it/s]\n",
      "add example index and unique id: 100%|██████████| 22/22 [00:00<00:00, 162169.93it/s]\n"
     ]
    },
    {
     "data": {
      "application/vnd.jupyter.widget-view+json": {
       "model_id": "1f6973b525cb49c2b950d093759bbf9f",
       "version_major": 2,
       "version_minor": 0
      },
      "text/plain": [
       "Running Prediction:   0%|          | 0/3 [00:00<?, ?it/s]"
      ]
     },
     "metadata": {},
     "output_type": "display_data"
    },
    {
     "name": "stderr",
     "output_type": "stream",
     "text": [
      "convert squad examples to features: 100%|██████████| 22/22 [00:00<00:00, 351.28it/s]\n",
      "add example index and unique id: 100%|██████████| 22/22 [00:00<00:00, 165071.00it/s]\n"
     ]
    },
    {
     "data": {
      "application/vnd.jupyter.widget-view+json": {
       "model_id": "d71eff74b4be491aa075c8aaafb098aa",
       "version_major": 2,
       "version_minor": 0
      },
      "text/plain": [
       "Running Prediction:   0%|          | 0/3 [00:00<?, ?it/s]"
      ]
     },
     "metadata": {},
     "output_type": "display_data"
    },
    {
     "name": "stderr",
     "output_type": "stream",
     "text": [
      "convert squad examples to features: 100%|██████████| 22/22 [00:00<00:00, 171.63it/s]\n",
      "add example index and unique id: 100%|██████████| 22/22 [00:00<00:00, 156663.31it/s]\n"
     ]
    },
    {
     "data": {
      "application/vnd.jupyter.widget-view+json": {
       "model_id": "6080e10aacfe4d35b0d67bc32a93dcc6",
       "version_major": 2,
       "version_minor": 0
      },
      "text/plain": [
       "Running Prediction:   0%|          | 0/3 [00:00<?, ?it/s]"
      ]
     },
     "metadata": {},
     "output_type": "display_data"
    },
    {
     "name": "stderr",
     "output_type": "stream",
     "text": [
      "convert squad examples to features: 100%|██████████| 22/22 [00:00<00:00, 466.76it/s]\n",
      "add example index and unique id: 100%|██████████| 22/22 [00:00<00:00, 150775.63it/s]\n"
     ]
    },
    {
     "data": {
      "application/vnd.jupyter.widget-view+json": {
       "model_id": "4ef4d8bf8ed749be920aa0ae32ccb925",
       "version_major": 2,
       "version_minor": 0
      },
      "text/plain": [
       "Running Prediction:   0%|          | 0/3 [00:00<?, ?it/s]"
      ]
     },
     "metadata": {},
     "output_type": "display_data"
    },
    {
     "name": "stderr",
     "output_type": "stream",
     "text": [
      "convert squad examples to features: 100%|██████████| 22/22 [00:00<00:00, 510.42it/s]\n",
      "add example index and unique id: 100%|██████████| 22/22 [00:00<00:00, 154047.89it/s]\n"
     ]
    },
    {
     "data": {
      "application/vnd.jupyter.widget-view+json": {
       "model_id": "8c540ff804ce4093b073d661846bd324",
       "version_major": 2,
       "version_minor": 0
      },
      "text/plain": [
       "Running Prediction:   0%|          | 0/3 [00:00<?, ?it/s]"
      ]
     },
     "metadata": {},
     "output_type": "display_data"
    },
    {
     "name": "stderr",
     "output_type": "stream",
     "text": [
      "convert squad examples to features: 100%|██████████| 22/22 [00:00<00:00, 398.82it/s]\n",
      "add example index and unique id: 100%|██████████| 22/22 [00:00<00:00, 161601.91it/s]\n"
     ]
    },
    {
     "data": {
      "application/vnd.jupyter.widget-view+json": {
       "model_id": "df05f95893524bc1a308de6d82316d87",
       "version_major": 2,
       "version_minor": 0
      },
      "text/plain": [
       "Running Prediction:   0%|          | 0/3 [00:00<?, ?it/s]"
      ]
     },
     "metadata": {},
     "output_type": "display_data"
    },
    {
     "name": "stderr",
     "output_type": "stream",
     "text": [
      "convert squad examples to features: 100%|██████████| 22/22 [00:00<00:00, 406.27it/s]\n",
      "add example index and unique id: 100%|██████████| 22/22 [00:00<00:00, 140448.54it/s]\n"
     ]
    },
    {
     "data": {
      "application/vnd.jupyter.widget-view+json": {
       "model_id": "8045246d5087411e812bc034da3f9dbd",
       "version_major": 2,
       "version_minor": 0
      },
      "text/plain": [
       "Running Prediction:   0%|          | 0/3 [00:00<?, ?it/s]"
      ]
     },
     "metadata": {},
     "output_type": "display_data"
    },
    {
     "name": "stderr",
     "output_type": "stream",
     "text": [
      "convert squad examples to features: 100%|██████████| 22/22 [00:00<00:00, 306.87it/s]\n",
      "add example index and unique id: 100%|██████████| 22/22 [00:00<00:00, 143061.53it/s]\n"
     ]
    },
    {
     "data": {
      "application/vnd.jupyter.widget-view+json": {
       "model_id": "b33d2ed7fe2e4b1f8cbdf39e7719020e",
       "version_major": 2,
       "version_minor": 0
      },
      "text/plain": [
       "Running Prediction:   0%|          | 0/3 [00:00<?, ?it/s]"
      ]
     },
     "metadata": {},
     "output_type": "display_data"
    },
    {
     "name": "stderr",
     "output_type": "stream",
     "text": [
      "convert squad examples to features: 100%|██████████| 22/22 [00:00<00:00, 364.55it/s]\n",
      "add example index and unique id: 100%|██████████| 22/22 [00:00<00:00, 155083.51it/s]\n"
     ]
    },
    {
     "data": {
      "application/vnd.jupyter.widget-view+json": {
       "model_id": "f699d58dfeaa4acbb9b40d56a7911208",
       "version_major": 2,
       "version_minor": 0
      },
      "text/plain": [
       "Running Prediction:   0%|          | 0/3 [00:00<?, ?it/s]"
      ]
     },
     "metadata": {},
     "output_type": "display_data"
    },
    {
     "name": "stderr",
     "output_type": "stream",
     "text": [
      "convert squad examples to features: 100%|██████████| 22/22 [00:00<00:00, 342.23it/s]\n",
      "add example index and unique id: 100%|██████████| 22/22 [00:00<00:00, 160199.11it/s]\n"
     ]
    },
    {
     "data": {
      "application/vnd.jupyter.widget-view+json": {
       "model_id": "f0a2294482514b1b9d152a3ae608f2fa",
       "version_major": 2,
       "version_minor": 0
      },
      "text/plain": [
       "Running Prediction:   0%|          | 0/3 [00:00<?, ?it/s]"
      ]
     },
     "metadata": {},
     "output_type": "display_data"
    },
    {
     "name": "stderr",
     "output_type": "stream",
     "text": [
      "convert squad examples to features: 100%|██████████| 22/22 [00:00<00:00, 203.22it/s]\n",
      "add example index and unique id: 100%|██████████| 22/22 [00:00<00:00, 111983.84it/s]\n"
     ]
    },
    {
     "data": {
      "application/vnd.jupyter.widget-view+json": {
       "model_id": "006b7b1fd97543f6a7d5a0bcba53cc7d",
       "version_major": 2,
       "version_minor": 0
      },
      "text/plain": [
       "Running Prediction:   0%|          | 0/3 [00:00<?, ?it/s]"
      ]
     },
     "metadata": {},
     "output_type": "display_data"
    },
    {
     "name": "stderr",
     "output_type": "stream",
     "text": [
      "convert squad examples to features: 100%|██████████| 22/22 [00:00<00:00, 331.27it/s]\n",
      "add example index and unique id: 100%|██████████| 22/22 [00:00<00:00, 162455.44it/s]\n"
     ]
    },
    {
     "data": {
      "application/vnd.jupyter.widget-view+json": {
       "model_id": "6e64f324989b42ddb9d7254696d7537b",
       "version_major": 2,
       "version_minor": 0
      },
      "text/plain": [
       "Running Prediction:   0%|          | 0/3 [00:00<?, ?it/s]"
      ]
     },
     "metadata": {},
     "output_type": "display_data"
    },
    {
     "name": "stderr",
     "output_type": "stream",
     "text": [
      "convert squad examples to features: 100%|██████████| 22/22 [00:00<00:00, 381.89it/s]\n",
      "add example index and unique id: 100%|██████████| 22/22 [00:00<00:00, 140662.63it/s]\n"
     ]
    },
    {
     "data": {
      "application/vnd.jupyter.widget-view+json": {
       "model_id": "7b0914d5b67a4b10ac99e18fb6fbf2e2",
       "version_major": 2,
       "version_minor": 0
      },
      "text/plain": [
       "Running Prediction:   0%|          | 0/3 [00:00<?, ?it/s]"
      ]
     },
     "metadata": {},
     "output_type": "display_data"
    },
    {
     "name": "stderr",
     "output_type": "stream",
     "text": [
      "convert squad examples to features: 100%|██████████| 22/22 [00:00<00:00, 154.60it/s]\n",
      "add example index and unique id: 100%|██████████| 22/22 [00:00<00:00, 143954.27it/s]\n"
     ]
    },
    {
     "data": {
      "application/vnd.jupyter.widget-view+json": {
       "model_id": "df5420d9b7854364b4c10d41eba3480e",
       "version_major": 2,
       "version_minor": 0
      },
      "text/plain": [
       "Running Prediction:   0%|          | 0/3 [00:00<?, ?it/s]"
      ]
     },
     "metadata": {},
     "output_type": "display_data"
    },
    {
     "name": "stderr",
     "output_type": "stream",
     "text": [
      "convert squad examples to features: 100%|██████████| 22/22 [00:00<00:00, 589.69it/s]\n",
      "add example index and unique id: 100%|██████████| 22/22 [00:00<00:00, 159094.29it/s]\n"
     ]
    },
    {
     "data": {
      "application/vnd.jupyter.widget-view+json": {
       "model_id": "fb6f5a5eeba648fdb7e5f1513ac57728",
       "version_major": 2,
       "version_minor": 0
      },
      "text/plain": [
       "Running Prediction:   0%|          | 0/3 [00:00<?, ?it/s]"
      ]
     },
     "metadata": {},
     "output_type": "display_data"
    },
    {
     "name": "stderr",
     "output_type": "stream",
     "text": [
      "convert squad examples to features: 100%|██████████| 22/22 [00:00<00:00, 388.35it/s]\n",
      "add example index and unique id: 100%|██████████| 22/22 [00:00<00:00, 157197.08it/s]\n"
     ]
    },
    {
     "data": {
      "application/vnd.jupyter.widget-view+json": {
       "model_id": "e28c6c0e25054ea79f929ac5b824bdea",
       "version_major": 2,
       "version_minor": 0
      },
      "text/plain": [
       "Running Prediction:   0%|          | 0/3 [00:00<?, ?it/s]"
      ]
     },
     "metadata": {},
     "output_type": "display_data"
    },
    {
     "name": "stderr",
     "output_type": "stream",
     "text": [
      "convert squad examples to features: 100%|██████████| 22/22 [00:00<00:00, 332.01it/s]\n",
      "add example index and unique id: 100%|██████████| 22/22 [00:00<00:00, 139598.62it/s]\n"
     ]
    },
    {
     "data": {
      "application/vnd.jupyter.widget-view+json": {
       "model_id": "8e441bb9ac88441da2981d72ed1b8c86",
       "version_major": 2,
       "version_minor": 0
      },
      "text/plain": [
       "Running Prediction:   0%|          | 0/3 [00:00<?, ?it/s]"
      ]
     },
     "metadata": {},
     "output_type": "display_data"
    },
    {
     "name": "stderr",
     "output_type": "stream",
     "text": [
      "convert squad examples to features: 100%|██████████| 22/22 [00:00<00:00, 402.79it/s]\n",
      "add example index and unique id: 100%|██████████| 22/22 [00:00<00:00, 148113.46it/s]\n"
     ]
    },
    {
     "data": {
      "application/vnd.jupyter.widget-view+json": {
       "model_id": "b4bc4e7ca64d4beeba00e40c49fa5237",
       "version_major": 2,
       "version_minor": 0
      },
      "text/plain": [
       "Running Prediction:   0%|          | 0/3 [00:00<?, ?it/s]"
      ]
     },
     "metadata": {},
     "output_type": "display_data"
    },
    {
     "name": "stderr",
     "output_type": "stream",
     "text": [
      "convert squad examples to features: 100%|██████████| 22/22 [00:00<00:00, 478.80it/s]\n",
      "add example index and unique id: 100%|██████████| 22/22 [00:00<00:00, 118757.64it/s]\n"
     ]
    },
    {
     "data": {
      "application/vnd.jupyter.widget-view+json": {
       "model_id": "877296a165f94b0585089e1f976ee181",
       "version_major": 2,
       "version_minor": 0
      },
      "text/plain": [
       "Running Prediction:   0%|          | 0/3 [00:00<?, ?it/s]"
      ]
     },
     "metadata": {},
     "output_type": "display_data"
    },
    {
     "name": "stderr",
     "output_type": "stream",
     "text": [
      "convert squad examples to features: 100%|██████████| 22/22 [00:00<00:00, 219.47it/s]\n",
      "add example index and unique id: 100%|██████████| 22/22 [00:00<00:00, 143061.53it/s]\n"
     ]
    },
    {
     "data": {
      "application/vnd.jupyter.widget-view+json": {
       "model_id": "474606ec288c4b898532d8b74144b247",
       "version_major": 2,
       "version_minor": 0
      },
      "text/plain": [
       "Running Prediction:   0%|          | 0/3 [00:00<?, ?it/s]"
      ]
     },
     "metadata": {},
     "output_type": "display_data"
    },
    {
     "name": "stderr",
     "output_type": "stream",
     "text": [
      "convert squad examples to features: 100%|██████████| 22/22 [00:00<00:00, 159.80it/s]\n",
      "add example index and unique id: 100%|██████████| 22/22 [00:00<00:00, 156397.78it/s]\n"
     ]
    },
    {
     "data": {
      "application/vnd.jupyter.widget-view+json": {
       "model_id": "48e552a9be0a4cc7867a3097ebcf8790",
       "version_major": 2,
       "version_minor": 0
      },
      "text/plain": [
       "Running Prediction:   0%|          | 0/3 [00:00<?, ?it/s]"
      ]
     },
     "metadata": {},
     "output_type": "display_data"
    },
    {
     "name": "stderr",
     "output_type": "stream",
     "text": [
      "convert squad examples to features: 100%|██████████| 22/22 [00:00<00:00, 587.78it/s]\n",
      "add example index and unique id: 100%|██████████| 22/22 [00:00<00:00, 153535.25it/s]\n"
     ]
    },
    {
     "data": {
      "application/vnd.jupyter.widget-view+json": {
       "model_id": "5ee24e06d31240e1b0f5830ed3dba390",
       "version_major": 2,
       "version_minor": 0
      },
      "text/plain": [
       "Running Prediction:   0%|          | 0/3 [00:00<?, ?it/s]"
      ]
     },
     "metadata": {},
     "output_type": "display_data"
    },
    {
     "name": "stderr",
     "output_type": "stream",
     "text": [
      "convert squad examples to features: 100%|██████████| 22/22 [00:00<00:00, 583.06it/s]\n",
      "add example index and unique id: 100%|██████████| 22/22 [00:00<00:00, 161601.91it/s]\n"
     ]
    },
    {
     "data": {
      "application/vnd.jupyter.widget-view+json": {
       "model_id": "19dcf0aa07ff439099d021a54c2fb291",
       "version_major": 2,
       "version_minor": 0
      },
      "text/plain": [
       "Running Prediction:   0%|          | 0/3 [00:00<?, ?it/s]"
      ]
     },
     "metadata": {},
     "output_type": "display_data"
    },
    {
     "name": "stderr",
     "output_type": "stream",
     "text": [
      "convert squad examples to features: 100%|██████████| 22/22 [00:00<00:00, 311.08it/s]\n",
      "add example index and unique id: 100%|██████████| 22/22 [00:00<00:00, 137518.16it/s]\n"
     ]
    },
    {
     "data": {
      "application/vnd.jupyter.widget-view+json": {
       "model_id": "564cc465ca7e41db9400d4ecd6facb36",
       "version_major": 2,
       "version_minor": 0
      },
      "text/plain": [
       "Running Prediction:   0%|          | 0/3 [00:00<?, ?it/s]"
      ]
     },
     "metadata": {},
     "output_type": "display_data"
    },
    {
     "name": "stderr",
     "output_type": "stream",
     "text": [
      "convert squad examples to features: 100%|██████████| 22/22 [00:00<00:00, 224.70it/s]\n",
      "add example index and unique id: 100%|██████████| 22/22 [00:00<00:00, 151269.98it/s]\n"
     ]
    },
    {
     "data": {
      "application/vnd.jupyter.widget-view+json": {
       "model_id": "27ec59220e384bffaf44e5355730451e",
       "version_major": 2,
       "version_minor": 0
      },
      "text/plain": [
       "Running Prediction:   0%|          | 0/3 [00:00<?, ?it/s]"
      ]
     },
     "metadata": {},
     "output_type": "display_data"
    },
    {
     "name": "stderr",
     "output_type": "stream",
     "text": [
      "convert squad examples to features: 100%|██████████| 22/22 [00:00<00:00, 146.68it/s]\n",
      "add example index and unique id: 100%|██████████| 22/22 [00:00<00:00, 113359.57it/s]\n"
     ]
    },
    {
     "data": {
      "application/vnd.jupyter.widget-view+json": {
       "model_id": "1099834d4d5749859b1cc3fb5921ffb6",
       "version_major": 2,
       "version_minor": 0
      },
      "text/plain": [
       "Running Prediction:   0%|          | 0/3 [00:00<?, ?it/s]"
      ]
     },
     "metadata": {},
     "output_type": "display_data"
    },
    {
     "name": "stderr",
     "output_type": "stream",
     "text": [
      "convert squad examples to features: 100%|██████████| 22/22 [00:00<00:00, 302.67it/s]\n",
      "add example index and unique id: 100%|██████████| 22/22 [00:00<00:00, 133925.53it/s]\n"
     ]
    },
    {
     "data": {
      "application/vnd.jupyter.widget-view+json": {
       "model_id": "88b198f46bda4259a192b515c5acbf9e",
       "version_major": 2,
       "version_minor": 0
      },
      "text/plain": [
       "Running Prediction:   0%|          | 0/3 [00:00<?, ?it/s]"
      ]
     },
     "metadata": {},
     "output_type": "display_data"
    },
    {
     "name": "stderr",
     "output_type": "stream",
     "text": [
      "convert squad examples to features: 100%|██████████| 22/22 [00:00<00:00, 126.03it/s]\n",
      "add example index and unique id: 100%|██████████| 22/22 [00:00<00:00, 133344.92it/s]\n"
     ]
    },
    {
     "data": {
      "application/vnd.jupyter.widget-view+json": {
       "model_id": "e72256bb13fa41e7ab7d18077546614b",
       "version_major": 2,
       "version_minor": 0
      },
      "text/plain": [
       "Running Prediction:   0%|          | 0/3 [00:00<?, ?it/s]"
      ]
     },
     "metadata": {},
     "output_type": "display_data"
    },
    {
     "name": "stderr",
     "output_type": "stream",
     "text": [
      "convert squad examples to features: 100%|██████████| 22/22 [00:00<00:00, 224.46it/s]\n",
      "add example index and unique id: 100%|██████████| 22/22 [00:00<00:00, 146700.62it/s]\n"
     ]
    },
    {
     "data": {
      "application/vnd.jupyter.widget-view+json": {
       "model_id": "fecf9de42bb346dca448b80ae225304a",
       "version_major": 2,
       "version_minor": 0
      },
      "text/plain": [
       "Running Prediction:   0%|          | 0/3 [00:00<?, ?it/s]"
      ]
     },
     "metadata": {},
     "output_type": "display_data"
    },
    {
     "name": "stderr",
     "output_type": "stream",
     "text": [
      "convert squad examples to features: 100%|██████████| 22/22 [00:00<00:00, 403.52it/s]\n",
      "add example index and unique id: 100%|██████████| 22/22 [00:00<00:00, 88896.62it/s]\n"
     ]
    },
    {
     "data": {
      "application/vnd.jupyter.widget-view+json": {
       "model_id": "58249555346e455188ad653d2ed985f1",
       "version_major": 2,
       "version_minor": 0
      },
      "text/plain": [
       "Running Prediction:   0%|          | 0/3 [00:00<?, ?it/s]"
      ]
     },
     "metadata": {},
     "output_type": "display_data"
    },
    {
     "name": "stderr",
     "output_type": "stream",
     "text": [
      "convert squad examples to features: 100%|██████████| 22/22 [00:00<00:00, 117.68it/s]\n",
      "add example index and unique id: 100%|██████████| 22/22 [00:00<00:00, 135498.81it/s]\n"
     ]
    },
    {
     "data": {
      "application/vnd.jupyter.widget-view+json": {
       "model_id": "4b7a78048b534a00848be4259595786a",
       "version_major": 2,
       "version_minor": 0
      },
      "text/plain": [
       "Running Prediction:   0%|          | 0/3 [00:00<?, ?it/s]"
      ]
     },
     "metadata": {},
     "output_type": "display_data"
    },
    {
     "name": "stderr",
     "output_type": "stream",
     "text": [
      "convert squad examples to features: 100%|██████████| 22/22 [00:00<00:00, 136.06it/s]\n",
      "add example index and unique id: 100%|██████████| 22/22 [00:00<00:00, 164189.84it/s]\n"
     ]
    },
    {
     "data": {
      "application/vnd.jupyter.widget-view+json": {
       "model_id": "299b961715d84dd8ad80cee0d2930ad5",
       "version_major": 2,
       "version_minor": 0
      },
      "text/plain": [
       "Running Prediction:   0%|          | 0/3 [00:00<?, ?it/s]"
      ]
     },
     "metadata": {},
     "output_type": "display_data"
    },
    {
     "name": "stderr",
     "output_type": "stream",
     "text": [
      "convert squad examples to features: 100%|██████████| 22/22 [00:00<00:00, 433.24it/s]\n",
      "add example index and unique id: 100%|██████████| 22/22 [00:00<00:00, 111848.11it/s]\n"
     ]
    },
    {
     "data": {
      "application/vnd.jupyter.widget-view+json": {
       "model_id": "d5324f7a141c44258856a694f6c7580d",
       "version_major": 2,
       "version_minor": 0
      },
      "text/plain": [
       "Running Prediction:   0%|          | 0/3 [00:00<?, ?it/s]"
      ]
     },
     "metadata": {},
     "output_type": "display_data"
    },
    {
     "name": "stderr",
     "output_type": "stream",
     "text": [
      "convert squad examples to features: 100%|██████████| 22/22 [00:00<00:00, 386.51it/s]\n",
      "add example index and unique id: 100%|██████████| 22/22 [00:00<00:00, 140022.29it/s]\n"
     ]
    },
    {
     "data": {
      "application/vnd.jupyter.widget-view+json": {
       "model_id": "e4a5b504884b41cdbf7f93ae78188244",
       "version_major": 2,
       "version_minor": 0
      },
      "text/plain": [
       "Running Prediction:   0%|          | 0/3 [00:00<?, ?it/s]"
      ]
     },
     "metadata": {},
     "output_type": "display_data"
    },
    {
     "name": "stderr",
     "output_type": "stream",
     "text": [
      "convert squad examples to features: 100%|██████████| 22/22 [00:00<00:00, 213.99it/s]\n",
      "add example index and unique id: 100%|██████████| 22/22 [00:00<00:00, 144631.17it/s]\n"
     ]
    },
    {
     "data": {
      "application/vnd.jupyter.widget-view+json": {
       "model_id": "3d3ab1c294d94049b8bc2a8862a19051",
       "version_major": 2,
       "version_minor": 0
      },
      "text/plain": [
       "Running Prediction:   0%|          | 0/3 [00:00<?, ?it/s]"
      ]
     },
     "metadata": {},
     "output_type": "display_data"
    },
    {
     "name": "stderr",
     "output_type": "stream",
     "text": [
      "convert squad examples to features: 100%|██████████| 22/22 [00:00<00:00, 305.05it/s]\n",
      "add example index and unique id: 100%|██████████| 22/22 [00:00<00:00, 177110.73it/s]\n"
     ]
    },
    {
     "data": {
      "application/vnd.jupyter.widget-view+json": {
       "model_id": "09163d91ee1b4cd5b2f39567b3f0442c",
       "version_major": 2,
       "version_minor": 0
      },
      "text/plain": [
       "Running Prediction:   0%|          | 0/3 [00:00<?, ?it/s]"
      ]
     },
     "metadata": {},
     "output_type": "display_data"
    },
    {
     "name": "stderr",
     "output_type": "stream",
     "text": [
      "convert squad examples to features: 100%|██████████| 22/22 [00:00<00:00, 166.20it/s]\n",
      "add example index and unique id: 100%|██████████| 22/22 [00:00<00:00, 147876.10it/s]\n"
     ]
    },
    {
     "data": {
      "application/vnd.jupyter.widget-view+json": {
       "model_id": "eec0d9bdc7634186a054d7fe4ac195f4",
       "version_major": 2,
       "version_minor": 0
      },
      "text/plain": [
       "Running Prediction:   0%|          | 0/3 [00:00<?, ?it/s]"
      ]
     },
     "metadata": {},
     "output_type": "display_data"
    },
    {
     "name": "stderr",
     "output_type": "stream",
     "text": [
      "convert squad examples to features: 100%|██████████| 22/22 [00:00<00:00, 174.66it/s]\n",
      "add example index and unique id: 100%|██████████| 22/22 [00:00<00:00, 159369.06it/s]\n"
     ]
    },
    {
     "data": {
      "application/vnd.jupyter.widget-view+json": {
       "model_id": "48e4c82818054e7a8e99716ce01214e0",
       "version_major": 2,
       "version_minor": 0
      },
      "text/plain": [
       "Running Prediction:   0%|          | 0/3 [00:00<?, ?it/s]"
      ]
     },
     "metadata": {},
     "output_type": "display_data"
    },
    {
     "name": "stderr",
     "output_type": "stream",
     "text": [
      "convert squad examples to features: 100%|██████████| 22/22 [00:00<00:00, 516.78it/s]\n",
      "add example index and unique id: 100%|██████████| 22/22 [00:00<00:00, 142619.30it/s]\n"
     ]
    },
    {
     "data": {
      "application/vnd.jupyter.widget-view+json": {
       "model_id": "a5e976e08c714cbeb0db0d24b7b237c0",
       "version_major": 2,
       "version_minor": 0
      },
      "text/plain": [
       "Running Prediction:   0%|          | 0/3 [00:00<?, ?it/s]"
      ]
     },
     "metadata": {},
     "output_type": "display_data"
    },
    {
     "name": "stderr",
     "output_type": "stream",
     "text": [
      "convert squad examples to features: 100%|██████████| 22/22 [00:00<00:00, 648.45it/s]\n",
      "add example index and unique id: 100%|██████████| 22/22 [00:00<00:00, 117547.37it/s]\n"
     ]
    },
    {
     "data": {
      "application/vnd.jupyter.widget-view+json": {
       "model_id": "fb44f5883b2b47aca0489348478474b6",
       "version_major": 2,
       "version_minor": 0
      },
      "text/plain": [
       "Running Prediction:   0%|          | 0/3 [00:00<?, ?it/s]"
      ]
     },
     "metadata": {},
     "output_type": "display_data"
    },
    {
     "name": "stderr",
     "output_type": "stream",
     "text": [
      "convert squad examples to features: 100%|██████████| 22/22 [00:00<00:00, 246.01it/s]\n",
      "add example index and unique id: 100%|██████████| 22/22 [00:00<00:00, 161319.38it/s]\n"
     ]
    },
    {
     "data": {
      "application/vnd.jupyter.widget-view+json": {
       "model_id": "9ab6c3866e324bbf8aa2d40e2364fea1",
       "version_major": 2,
       "version_minor": 0
      },
      "text/plain": [
       "Running Prediction:   0%|          | 0/3 [00:00<?, ?it/s]"
      ]
     },
     "metadata": {},
     "output_type": "display_data"
    },
    {
     "name": "stderr",
     "output_type": "stream",
     "text": [
      "convert squad examples to features: 100%|██████████| 22/22 [00:00<00:00, 368.34it/s]\n",
      "add example index and unique id: 100%|██████████| 22/22 [00:00<00:00, 136906.07it/s]\n"
     ]
    },
    {
     "data": {
      "application/vnd.jupyter.widget-view+json": {
       "model_id": "823feb8412f84820807c307048134651",
       "version_major": 2,
       "version_minor": 0
      },
      "text/plain": [
       "Running Prediction:   0%|          | 0/3 [00:00<?, ?it/s]"
      ]
     },
     "metadata": {},
     "output_type": "display_data"
    },
    {
     "name": "stderr",
     "output_type": "stream",
     "text": [
      "convert squad examples to features: 100%|██████████| 22/22 [00:00<00:00, 195.22it/s]\n",
      "add example index and unique id: 100%|██████████| 22/22 [00:00<00:00, 109720.20it/s]\n"
     ]
    },
    {
     "data": {
      "application/vnd.jupyter.widget-view+json": {
       "model_id": "a54f77c8945d41d383e5add43dc69899",
       "version_major": 2,
       "version_minor": 0
      },
      "text/plain": [
       "Running Prediction:   0%|          | 0/3 [00:00<?, ?it/s]"
      ]
     },
     "metadata": {},
     "output_type": "display_data"
    },
    {
     "name": "stderr",
     "output_type": "stream",
     "text": [
      "convert squad examples to features: 100%|██████████| 22/22 [00:00<00:00, 132.77it/s]\n",
      "add example index and unique id: 100%|██████████| 22/22 [00:00<00:00, 122705.70it/s]\n"
     ]
    },
    {
     "data": {
      "application/vnd.jupyter.widget-view+json": {
       "model_id": "2e6e7ce1d7414d71804d594da458190a",
       "version_major": 2,
       "version_minor": 0
      },
      "text/plain": [
       "Running Prediction:   0%|          | 0/3 [00:00<?, ?it/s]"
      ]
     },
     "metadata": {},
     "output_type": "display_data"
    },
    {
     "name": "stderr",
     "output_type": "stream",
     "text": [
      "convert squad examples to features: 100%|██████████| 22/22 [00:00<00:00, 202.14it/s]\n",
      "add example index and unique id: 100%|██████████| 22/22 [00:00<00:00, 143506.51it/s]\n"
     ]
    },
    {
     "data": {
      "application/vnd.jupyter.widget-view+json": {
       "model_id": "0d9e8955e0cb4f7c9b94b97e985566c9",
       "version_major": 2,
       "version_minor": 0
      },
      "text/plain": [
       "Running Prediction:   0%|          | 0/3 [00:00<?, ?it/s]"
      ]
     },
     "metadata": {},
     "output_type": "display_data"
    },
    {
     "name": "stderr",
     "output_type": "stream",
     "text": [
      "convert squad examples to features: 100%|██████████| 22/22 [00:00<00:00, 232.48it/s]\n",
      "add example index and unique id: 100%|██████████| 22/22 [00:00<00:00, 123527.03it/s]\n"
     ]
    },
    {
     "data": {
      "application/vnd.jupyter.widget-view+json": {
       "model_id": "4cd441c961fa434bad6a6b147ee0e59d",
       "version_major": 2,
       "version_minor": 0
      },
      "text/plain": [
       "Running Prediction:   0%|          | 0/3 [00:00<?, ?it/s]"
      ]
     },
     "metadata": {},
     "output_type": "display_data"
    },
    {
     "name": "stderr",
     "output_type": "stream",
     "text": [
      "convert squad examples to features: 100%|██████████| 22/22 [00:00<00:00, 194.99it/s]\n",
      "add example index and unique id: 100%|██████████| 22/22 [00:00<00:00, 155606.56it/s]\n"
     ]
    },
    {
     "data": {
      "application/vnd.jupyter.widget-view+json": {
       "model_id": "7e35fdc8de444953811057bbbdbb89ca",
       "version_major": 2,
       "version_minor": 0
      },
      "text/plain": [
       "Running Prediction:   0%|          | 0/3 [00:00<?, ?it/s]"
      ]
     },
     "metadata": {},
     "output_type": "display_data"
    },
    {
     "name": "stderr",
     "output_type": "stream",
     "text": [
      "convert squad examples to features: 100%|██████████| 22/22 [00:00<00:00, 334.49it/s]\n",
      "add example index and unique id: 100%|██████████| 22/22 [00:00<00:00, 135897.92it/s]\n"
     ]
    },
    {
     "data": {
      "application/vnd.jupyter.widget-view+json": {
       "model_id": "4746d901a11447f2b59179ea8899aa30",
       "version_major": 2,
       "version_minor": 0
      },
      "text/plain": [
       "Running Prediction:   0%|          | 0/3 [00:00<?, ?it/s]"
      ]
     },
     "metadata": {},
     "output_type": "display_data"
    },
    {
     "name": "stderr",
     "output_type": "stream",
     "text": [
      "convert squad examples to features: 100%|██████████| 22/22 [00:00<00:00, 212.18it/s]\n",
      "add example index and unique id: 100%|██████████| 22/22 [00:00<00:00, 169622.59it/s]\n"
     ]
    },
    {
     "data": {
      "application/vnd.jupyter.widget-view+json": {
       "model_id": "fdc7925690b942509510a2f5477e6ab1",
       "version_major": 2,
       "version_minor": 0
      },
      "text/plain": [
       "Running Prediction:   0%|          | 0/3 [00:00<?, ?it/s]"
      ]
     },
     "metadata": {},
     "output_type": "display_data"
    },
    {
     "name": "stderr",
     "output_type": "stream",
     "text": [
      "convert squad examples to features: 100%|██████████| 22/22 [00:00<00:00, 222.70it/s]\n",
      "add example index and unique id: 100%|██████████| 22/22 [00:00<00:00, 148830.14it/s]\n"
     ]
    },
    {
     "data": {
      "application/vnd.jupyter.widget-view+json": {
       "model_id": "f5db587380f44e369efdc3bacb6ea7d7",
       "version_major": 2,
       "version_minor": 0
      },
      "text/plain": [
       "Running Prediction:   0%|          | 0/3 [00:00<?, ?it/s]"
      ]
     },
     "metadata": {},
     "output_type": "display_data"
    },
    {
     "name": "stderr",
     "output_type": "stream",
     "text": [
      "convert squad examples to features: 100%|██████████| 22/22 [00:00<00:00, 436.50it/s]\n",
      "add example index and unique id: 100%|██████████| 22/22 [00:00<00:00, 164189.84it/s]\n"
     ]
    },
    {
     "data": {
      "application/vnd.jupyter.widget-view+json": {
       "model_id": "bbc338bc032942daba55c54e7a6fed34",
       "version_major": 2,
       "version_minor": 0
      },
      "text/plain": [
       "Running Prediction:   0%|          | 0/3 [00:00<?, ?it/s]"
      ]
     },
     "metadata": {},
     "output_type": "display_data"
    },
    {
     "name": "stderr",
     "output_type": "stream",
     "text": [
      "convert squad examples to features: 100%|██████████| 22/22 [00:00<00:00, 400.73it/s]\n",
      "add example index and unique id: 100%|██████████| 22/22 [00:00<00:00, 132198.69it/s]\n"
     ]
    },
    {
     "data": {
      "application/vnd.jupyter.widget-view+json": {
       "model_id": "11c4b8e4683f4f53acda5bdc93fdaae8",
       "version_major": 2,
       "version_minor": 0
      },
      "text/plain": [
       "Running Prediction:   0%|          | 0/3 [00:00<?, ?it/s]"
      ]
     },
     "metadata": {},
     "output_type": "display_data"
    },
    {
     "name": "stderr",
     "output_type": "stream",
     "text": [
      "convert squad examples to features: 100%|██████████| 22/22 [00:00<00:00, 423.36it/s]\n",
      "add example index and unique id: 100%|██████████| 22/22 [00:00<00:00, 159094.29it/s]\n"
     ]
    },
    {
     "data": {
      "application/vnd.jupyter.widget-view+json": {
       "model_id": "a1be2843154e4848b985938611a97191",
       "version_major": 2,
       "version_minor": 0
      },
      "text/plain": [
       "Running Prediction:   0%|          | 0/3 [00:00<?, ?it/s]"
      ]
     },
     "metadata": {},
     "output_type": "display_data"
    },
    {
     "name": "stderr",
     "output_type": "stream",
     "text": [
      "convert squad examples to features: 100%|██████████| 22/22 [00:00<00:00, 197.36it/s]\n",
      "add example index and unique id: 100%|██████████| 22/22 [00:00<00:00, 143730.04it/s]\n"
     ]
    },
    {
     "data": {
      "application/vnd.jupyter.widget-view+json": {
       "model_id": "e751344960ec4a4fa5aeed3652d04018",
       "version_major": 2,
       "version_minor": 0
      },
      "text/plain": [
       "Running Prediction:   0%|          | 0/3 [00:00<?, ?it/s]"
      ]
     },
     "metadata": {},
     "output_type": "display_data"
    },
    {
     "name": "stderr",
     "output_type": "stream",
     "text": [
      "convert squad examples to features: 100%|██████████| 22/22 [00:00<00:00, 288.83it/s]\n",
      "add example index and unique id: 100%|██████████| 22/22 [00:00<00:00, 154563.97it/s]\n"
     ]
    },
    {
     "data": {
      "application/vnd.jupyter.widget-view+json": {
       "model_id": "88ef29f82e3a4c578ab73ecb8263ddca",
       "version_major": 2,
       "version_minor": 0
      },
      "text/plain": [
       "Running Prediction:   0%|          | 0/3 [00:00<?, ?it/s]"
      ]
     },
     "metadata": {},
     "output_type": "display_data"
    },
    {
     "name": "stderr",
     "output_type": "stream",
     "text": [
      "convert squad examples to features: 100%|██████████| 22/22 [00:00<00:00, 308.88it/s]\n",
      "add example index and unique id: 100%|██████████| 22/22 [00:00<00:00, 154305.50it/s]\n"
     ]
    },
    {
     "data": {
      "application/vnd.jupyter.widget-view+json": {
       "model_id": "ea02505bdc0f4a5fbb469ea7d2845940",
       "version_major": 2,
       "version_minor": 0
      },
      "text/plain": [
       "Running Prediction:   0%|          | 0/3 [00:00<?, ?it/s]"
      ]
     },
     "metadata": {},
     "output_type": "display_data"
    },
    {
     "name": "stderr",
     "output_type": "stream",
     "text": [
      "convert squad examples to features: 100%|██████████| 22/22 [00:00<00:00, 152.25it/s]\n",
      "add example index and unique id: 100%|██████████| 22/22 [00:00<00:00, 152017.61it/s]\n"
     ]
    },
    {
     "data": {
      "application/vnd.jupyter.widget-view+json": {
       "model_id": "c173c1419dce48068b6af5a4bd9b8ce8",
       "version_major": 2,
       "version_minor": 0
      },
      "text/plain": [
       "Running Prediction:   0%|          | 0/3 [00:00<?, ?it/s]"
      ]
     },
     "metadata": {},
     "output_type": "display_data"
    },
    {
     "name": "stderr",
     "output_type": "stream",
     "text": [
      "convert squad examples to features: 100%|██████████| 22/22 [00:00<00:00, 84.35it/s]\n",
      "add example index and unique id: 100%|██████████| 22/22 [00:00<00:00, 93966.08it/s]\n"
     ]
    },
    {
     "data": {
      "application/vnd.jupyter.widget-view+json": {
       "model_id": "edffcb95df5743eea738012c783cf3f6",
       "version_major": 2,
       "version_minor": 0
      },
      "text/plain": [
       "Running Prediction:   0%|          | 0/3 [00:00<?, ?it/s]"
      ]
     },
     "metadata": {},
     "output_type": "display_data"
    },
    {
     "name": "stderr",
     "output_type": "stream",
     "text": [
      "convert squad examples to features: 100%|██████████| 22/22 [00:00<00:00, 199.37it/s]\n",
      "add example index and unique id: 100%|██████████| 22/22 [00:00<00:00, 132769.34it/s]\n"
     ]
    },
    {
     "data": {
      "application/vnd.jupyter.widget-view+json": {
       "model_id": "dae01436229a465bbb7adbd84476fcfb",
       "version_major": 2,
       "version_minor": 0
      },
      "text/plain": [
       "Running Prediction:   0%|          | 0/3 [00:00<?, ?it/s]"
      ]
     },
     "metadata": {},
     "output_type": "display_data"
    },
    {
     "name": "stderr",
     "output_type": "stream",
     "text": [
      "convert squad examples to features: 100%|██████████| 22/22 [00:00<00:00, 369.51it/s]\n",
      "add example index and unique id: 100%|██████████| 22/22 [00:00<00:00, 158275.62it/s]\n"
     ]
    },
    {
     "data": {
      "application/vnd.jupyter.widget-view+json": {
       "model_id": "fac513aed995401cb67eb85aab30f7fa",
       "version_major": 2,
       "version_minor": 0
      },
      "text/plain": [
       "Running Prediction:   0%|          | 0/3 [00:00<?, ?it/s]"
      ]
     },
     "metadata": {},
     "output_type": "display_data"
    },
    {
     "name": "stderr",
     "output_type": "stream",
     "text": [
      "convert squad examples to features: 100%|██████████| 22/22 [00:00<00:00, 147.21it/s]\n",
      "add example index and unique id: 100%|██████████| 22/22 [00:00<00:00, 129781.56it/s]\n"
     ]
    },
    {
     "data": {
      "application/vnd.jupyter.widget-view+json": {
       "model_id": "734a84d9548d4adeb82e13fa17ccbc9b",
       "version_major": 2,
       "version_minor": 0
      },
      "text/plain": [
       "Running Prediction:   0%|          | 0/3 [00:00<?, ?it/s]"
      ]
     },
     "metadata": {},
     "output_type": "display_data"
    },
    {
     "name": "stderr",
     "output_type": "stream",
     "text": [
      "convert squad examples to features: 100%|██████████| 22/22 [00:00<00:00, 508.58it/s]\n",
      "add example index and unique id: 100%|██████████| 22/22 [00:00<00:00, 136906.07it/s]\n"
     ]
    },
    {
     "data": {
      "application/vnd.jupyter.widget-view+json": {
       "model_id": "cbdda41a0ba248d0ae11b9c654e1d521",
       "version_major": 2,
       "version_minor": 0
      },
      "text/plain": [
       "Running Prediction:   0%|          | 0/3 [00:00<?, ?it/s]"
      ]
     },
     "metadata": {},
     "output_type": "display_data"
    },
    {
     "name": "stderr",
     "output_type": "stream",
     "text": [
      "convert squad examples to features: 100%|██████████| 22/22 [00:00<00:00, 409.47it/s]\n",
      "add example index and unique id: 100%|██████████| 22/22 [00:00<00:00, 152520.15it/s]\n"
     ]
    },
    {
     "data": {
      "application/vnd.jupyter.widget-view+json": {
       "model_id": "d7de5e28862745c8885cdf34cf19b223",
       "version_major": 2,
       "version_minor": 0
      },
      "text/plain": [
       "Running Prediction:   0%|          | 0/3 [00:00<?, ?it/s]"
      ]
     },
     "metadata": {},
     "output_type": "display_data"
    },
    {
     "name": "stderr",
     "output_type": "stream",
     "text": [
      "convert squad examples to features: 100%|██████████| 22/22 [00:00<00:00, 128.54it/s]\n",
      "add example index and unique id: 100%|██████████| 22/22 [00:00<00:00, 168077.76it/s]\n"
     ]
    },
    {
     "data": {
      "application/vnd.jupyter.widget-view+json": {
       "model_id": "6f0e8091d4234a589cb640cb763f6474",
       "version_major": 2,
       "version_minor": 0
      },
      "text/plain": [
       "Running Prediction:   0%|          | 0/3 [00:00<?, ?it/s]"
      ]
     },
     "metadata": {},
     "output_type": "display_data"
    },
    {
     "name": "stderr",
     "output_type": "stream",
     "text": [
      "convert squad examples to features: 100%|██████████| 22/22 [00:00<00:00, 267.14it/s]\n",
      "add example index and unique id: 100%|██████████| 22/22 [00:00<00:00, 147639.50it/s]\n"
     ]
    },
    {
     "data": {
      "application/vnd.jupyter.widget-view+json": {
       "model_id": "9960d9372b9046a38d77225843f0eadf",
       "version_major": 2,
       "version_minor": 0
      },
      "text/plain": [
       "Running Prediction:   0%|          | 0/3 [00:00<?, ?it/s]"
      ]
     },
     "metadata": {},
     "output_type": "display_data"
    },
    {
     "name": "stderr",
     "output_type": "stream",
     "text": [
      "convert squad examples to features: 100%|██████████| 22/22 [00:00<00:00, 129.25it/s]\n",
      "add example index and unique id: 100%|██████████| 22/22 [00:00<00:00, 118300.88it/s]\n"
     ]
    },
    {
     "data": {
      "application/vnd.jupyter.widget-view+json": {
       "model_id": "c995993118504e5f92a09e7d58fb762b",
       "version_major": 2,
       "version_minor": 0
      },
      "text/plain": [
       "Running Prediction:   0%|          | 0/3 [00:00<?, ?it/s]"
      ]
     },
     "metadata": {},
     "output_type": "display_data"
    },
    {
     "name": "stderr",
     "output_type": "stream",
     "text": [
      "convert squad examples to features: 100%|██████████| 22/22 [00:00<00:00, 189.11it/s]\n",
      "add example index and unique id: 100%|██████████| 22/22 [00:00<00:00, 153791.15it/s]\n"
     ]
    },
    {
     "data": {
      "application/vnd.jupyter.widget-view+json": {
       "model_id": "e9905fef04c04746b441b35e8bde28e1",
       "version_major": 2,
       "version_minor": 0
      },
      "text/plain": [
       "Running Prediction:   0%|          | 0/3 [00:00<?, ?it/s]"
      ]
     },
     "metadata": {},
     "output_type": "display_data"
    },
    {
     "name": "stderr",
     "output_type": "stream",
     "text": [
      "convert squad examples to features: 100%|██████████| 22/22 [00:00<00:00, 221.59it/s]\n",
      "add example index and unique id: 100%|██████████| 22/22 [00:00<00:00, 165366.82it/s]\n"
     ]
    },
    {
     "data": {
      "application/vnd.jupyter.widget-view+json": {
       "model_id": "6ad15299f41d4224ab79a52b71641fbe",
       "version_major": 2,
       "version_minor": 0
      },
      "text/plain": [
       "Running Prediction:   0%|          | 0/3 [00:00<?, ?it/s]"
      ]
     },
     "metadata": {},
     "output_type": "display_data"
    },
    {
     "name": "stderr",
     "output_type": "stream",
     "text": [
      "convert squad examples to features: 100%|██████████| 22/22 [00:00<00:00, 248.22it/s]\n",
      "add example index and unique id: 100%|██████████| 22/22 [00:00<00:00, 149553.79it/s]\n"
     ]
    },
    {
     "data": {
      "application/vnd.jupyter.widget-view+json": {
       "model_id": "fdf68a26ce954bfba6bca7a6d4df59c8",
       "version_major": 2,
       "version_minor": 0
      },
      "text/plain": [
       "Running Prediction:   0%|          | 0/3 [00:00<?, ?it/s]"
      ]
     },
     "metadata": {},
     "output_type": "display_data"
    },
    {
     "name": "stderr",
     "output_type": "stream",
     "text": [
      "convert squad examples to features: 100%|██████████| 22/22 [00:00<00:00, 196.87it/s]\n",
      "add example index and unique id: 100%|██████████| 22/22 [00:00<00:00, 129236.26it/s]\n"
     ]
    },
    {
     "data": {
      "application/vnd.jupyter.widget-view+json": {
       "model_id": "a7aa4376cdf44423849fed6d4b314f86",
       "version_major": 2,
       "version_minor": 0
      },
      "text/plain": [
       "Running Prediction:   0%|          | 0/3 [00:00<?, ?it/s]"
      ]
     },
     "metadata": {},
     "output_type": "display_data"
    },
    {
     "name": "stderr",
     "output_type": "stream",
     "text": [
      "convert squad examples to features: 100%|██████████| 22/22 [00:00<00:00, 335.07it/s]\n",
      "add example index and unique id: 100%|██████████| 22/22 [00:00<00:00, 124527.24it/s]\n"
     ]
    },
    {
     "data": {
      "application/vnd.jupyter.widget-view+json": {
       "model_id": "5903abeb32cc4674aad20d44468e15d1",
       "version_major": 2,
       "version_minor": 0
      },
      "text/plain": [
       "Running Prediction:   0%|          | 0/3 [00:00<?, ?it/s]"
      ]
     },
     "metadata": {},
     "output_type": "display_data"
    },
    {
     "name": "stderr",
     "output_type": "stream",
     "text": [
      "convert squad examples to features: 100%|██████████| 22/22 [00:00<00:00, 347.96it/s]\n",
      "add example index and unique id: 100%|██████████| 22/22 [00:00<00:00, 114484.72it/s]\n"
     ]
    },
    {
     "data": {
      "application/vnd.jupyter.widget-view+json": {
       "model_id": "f606ed2ed8ac4b17891ce46e98a7e604",
       "version_major": 2,
       "version_minor": 0
      },
      "text/plain": [
       "Running Prediction:   0%|          | 0/3 [00:00<?, ?it/s]"
      ]
     },
     "metadata": {},
     "output_type": "display_data"
    },
    {
     "name": "stderr",
     "output_type": "stream",
     "text": [
      "convert squad examples to features: 100%|██████████| 22/22 [00:00<00:00, 146.48it/s]\n",
      "add example index and unique id: 100%|██████████| 22/22 [00:00<00:00, 160477.72it/s]\n"
     ]
    },
    {
     "data": {
      "application/vnd.jupyter.widget-view+json": {
       "model_id": "3df6efe6cda24f37aeb8cfbf8e294faa",
       "version_major": 2,
       "version_minor": 0
      },
      "text/plain": [
       "Running Prediction:   0%|          | 0/3 [00:00<?, ?it/s]"
      ]
     },
     "metadata": {},
     "output_type": "display_data"
    },
    {
     "name": "stderr",
     "output_type": "stream",
     "text": [
      "convert squad examples to features: 100%|██████████| 22/22 [00:00<00:00, 155.47it/s]\n",
      "add example index and unique id: 100%|██████████| 22/22 [00:00<00:00, 83280.40it/s]\n"
     ]
    },
    {
     "data": {
      "application/vnd.jupyter.widget-view+json": {
       "model_id": "354f40854d44410fac58719b8a453cb4",
       "version_major": 2,
       "version_minor": 0
      },
      "text/plain": [
       "Running Prediction:   0%|          | 0/3 [00:00<?, ?it/s]"
      ]
     },
     "metadata": {},
     "output_type": "display_data"
    },
    {
     "name": "stderr",
     "output_type": "stream",
     "text": [
      "convert squad examples to features: 100%|██████████| 22/22 [00:00<00:00, 355.03it/s]\n",
      "add example index and unique id: 100%|██████████| 22/22 [00:00<00:00, 159644.79it/s]\n"
     ]
    },
    {
     "data": {
      "application/vnd.jupyter.widget-view+json": {
       "model_id": "8add57708cb5499ea080b3628756c2cc",
       "version_major": 2,
       "version_minor": 0
      },
      "text/plain": [
       "Running Prediction:   0%|          | 0/3 [00:00<?, ?it/s]"
      ]
     },
     "metadata": {},
     "output_type": "display_data"
    },
    {
     "name": "stderr",
     "output_type": "stream",
     "text": [
      "convert squad examples to features: 100%|██████████| 22/22 [00:00<00:00, 243.61it/s]\n",
      "add example index and unique id: 100%|██████████| 22/22 [00:00<00:00, 154563.97it/s]\n"
     ]
    },
    {
     "data": {
      "application/vnd.jupyter.widget-view+json": {
       "model_id": "e0dc375c6be345a79bece6c29d8aba19",
       "version_major": 2,
       "version_minor": 0
      },
      "text/plain": [
       "Running Prediction:   0%|          | 0/3 [00:00<?, ?it/s]"
      ]
     },
     "metadata": {},
     "output_type": "display_data"
    },
    {
     "name": "stderr",
     "output_type": "stream",
     "text": [
      "convert squad examples to features: 100%|██████████| 22/22 [00:00<00:00, 473.09it/s]\n",
      "add example index and unique id: 100%|██████████| 22/22 [00:00<00:00, 101400.76it/s]\n"
     ]
    },
    {
     "data": {
      "application/vnd.jupyter.widget-view+json": {
       "model_id": "8a1245e36bf74c6889c3fc9dc34f6622",
       "version_major": 2,
       "version_minor": 0
      },
      "text/plain": [
       "Running Prediction:   0%|          | 0/3 [00:00<?, ?it/s]"
      ]
     },
     "metadata": {},
     "output_type": "display_data"
    },
    {
     "name": "stderr",
     "output_type": "stream",
     "text": [
      "convert squad examples to features: 100%|██████████| 22/22 [00:00<00:00, 184.72it/s]\n",
      "add example index and unique id: 100%|██████████| 22/22 [00:00<00:00, 104619.83it/s]\n"
     ]
    },
    {
     "data": {
      "application/vnd.jupyter.widget-view+json": {
       "model_id": "4daeb78b40814722bf496950471514aa",
       "version_major": 2,
       "version_minor": 0
      },
      "text/plain": [
       "Running Prediction:   0%|          | 0/3 [00:00<?, ?it/s]"
      ]
     },
     "metadata": {},
     "output_type": "display_data"
    },
    {
     "name": "stderr",
     "output_type": "stream",
     "text": [
      "convert squad examples to features: 100%|██████████| 22/22 [00:00<00:00, 154.06it/s]\n",
      "add example index and unique id: 100%|██████████| 22/22 [00:00<00:00, 51636.65it/s]\n"
     ]
    },
    {
     "data": {
      "application/vnd.jupyter.widget-view+json": {
       "model_id": "ff3aa628469a4efab5a14c0eb1e3ba9d",
       "version_major": 2,
       "version_minor": 0
      },
      "text/plain": [
       "Running Prediction:   0%|          | 0/3 [00:00<?, ?it/s]"
      ]
     },
     "metadata": {},
     "output_type": "display_data"
    },
    {
     "name": "stderr",
     "output_type": "stream",
     "text": [
      "convert squad examples to features: 100%|██████████| 22/22 [00:00<00:00, 152.45it/s]\n",
      "add example index and unique id: 100%|██████████| 22/22 [00:00<00:00, 137518.16it/s]\n"
     ]
    },
    {
     "data": {
      "application/vnd.jupyter.widget-view+json": {
       "model_id": "94922e7adcdb4bf3a3f0d6a6b30a32d0",
       "version_major": 2,
       "version_minor": 0
      },
      "text/plain": [
       "Running Prediction:   0%|          | 0/3 [00:00<?, ?it/s]"
      ]
     },
     "metadata": {},
     "output_type": "display_data"
    },
    {
     "name": "stderr",
     "output_type": "stream",
     "text": [
      "convert squad examples to features: 100%|██████████| 22/22 [00:00<00:00, 155.21it/s]\n",
      "add example index and unique id: 100%|██████████| 22/22 [00:00<00:00, 133344.92it/s]\n"
     ]
    },
    {
     "data": {
      "application/vnd.jupyter.widget-view+json": {
       "model_id": "bca05d65e97a4e489cd88e235f8f8b66",
       "version_major": 2,
       "version_minor": 0
      },
      "text/plain": [
       "Running Prediction:   0%|          | 0/3 [00:00<?, ?it/s]"
      ]
     },
     "metadata": {},
     "output_type": "display_data"
    },
    {
     "name": "stderr",
     "output_type": "stream",
     "text": [
      "convert squad examples to features: 100%|██████████| 22/22 [00:00<00:00, 285.51it/s]\n",
      "add example index and unique id: 100%|██████████| 22/22 [00:00<00:00, 157465.34it/s]\n"
     ]
    },
    {
     "data": {
      "application/vnd.jupyter.widget-view+json": {
       "model_id": "4d676f44e7aa4923810e75912ec3a8de",
       "version_major": 2,
       "version_minor": 0
      },
      "text/plain": [
       "Running Prediction:   0%|          | 0/3 [00:00<?, ?it/s]"
      ]
     },
     "metadata": {},
     "output_type": "display_data"
    },
    {
     "name": "stderr",
     "output_type": "stream",
     "text": [
      "convert squad examples to features: 100%|██████████| 22/22 [00:00<00:00, 312.73it/s]\n",
      "add example index and unique id: 100%|██████████| 22/22 [00:00<00:00, 164776.23it/s]\n"
     ]
    },
    {
     "data": {
      "application/vnd.jupyter.widget-view+json": {
       "model_id": "034d7521c9bb49449ce1d06e58615079",
       "version_major": 2,
       "version_minor": 0
      },
      "text/plain": [
       "Running Prediction:   0%|          | 0/3 [00:00<?, ?it/s]"
      ]
     },
     "metadata": {},
     "output_type": "display_data"
    },
    {
     "name": "stderr",
     "output_type": "stream",
     "text": [
      "convert squad examples to features: 100%|██████████| 22/22 [00:00<00:00, 242.85it/s]\n",
      "add example index and unique id: 100%|██████████| 22/22 [00:00<00:00, 157465.34it/s]\n"
     ]
    },
    {
     "data": {
      "application/vnd.jupyter.widget-view+json": {
       "model_id": "3b1ca72e521844b4bd126dfff9cb117e",
       "version_major": 2,
       "version_minor": 0
      },
      "text/plain": [
       "Running Prediction:   0%|          | 0/3 [00:00<?, ?it/s]"
      ]
     },
     "metadata": {},
     "output_type": "display_data"
    },
    {
     "name": "stderr",
     "output_type": "stream",
     "text": [
      "convert squad examples to features: 100%|██████████| 22/22 [00:00<00:00, 357.34it/s]\n",
      "add example index and unique id: 100%|██████████| 22/22 [00:00<00:00, 160757.30it/s]\n"
     ]
    },
    {
     "data": {
      "application/vnd.jupyter.widget-view+json": {
       "model_id": "37c259c33de64b70a37aff1f32ba6650",
       "version_major": 2,
       "version_minor": 0
      },
      "text/plain": [
       "Running Prediction:   0%|          | 0/3 [00:00<?, ?it/s]"
      ]
     },
     "metadata": {},
     "output_type": "display_data"
    },
    {
     "name": "stderr",
     "output_type": "stream",
     "text": [
      "convert squad examples to features: 100%|██████████| 22/22 [00:00<00:00, 308.08it/s]\n",
      "add example index and unique id: 100%|██████████| 22/22 [00:00<00:00, 159644.79it/s]\n"
     ]
    },
    {
     "data": {
      "application/vnd.jupyter.widget-view+json": {
       "model_id": "3fc234cec59245709132496aeeb74153",
       "version_major": 2,
       "version_minor": 0
      },
      "text/plain": [
       "Running Prediction:   0%|          | 0/3 [00:00<?, ?it/s]"
      ]
     },
     "metadata": {},
     "output_type": "display_data"
    },
    {
     "name": "stderr",
     "output_type": "stream",
     "text": [
      "convert squad examples to features: 100%|██████████| 22/22 [00:00<00:00, 457.32it/s]\n",
      "add example index and unique id: 100%|██████████| 22/22 [00:00<00:00, 160199.11it/s]\n"
     ]
    },
    {
     "data": {
      "application/vnd.jupyter.widget-view+json": {
       "model_id": "042c4badbbb74adfb7d39fc518d13ad7",
       "version_major": 2,
       "version_minor": 0
      },
      "text/plain": [
       "Running Prediction:   0%|          | 0/3 [00:00<?, ?it/s]"
      ]
     },
     "metadata": {},
     "output_type": "display_data"
    },
    {
     "name": "stderr",
     "output_type": "stream",
     "text": [
      "convert squad examples to features: 100%|██████████| 22/22 [00:00<00:00, 361.28it/s]\n",
      "add example index and unique id: 100%|██████████| 22/22 [00:00<00:00, 166560.81it/s]\n"
     ]
    },
    {
     "data": {
      "application/vnd.jupyter.widget-view+json": {
       "model_id": "672b6d4933c14d4c8cdc53709982d519",
       "version_major": 2,
       "version_minor": 0
      },
      "text/plain": [
       "Running Prediction:   0%|          | 0/3 [00:00<?, ?it/s]"
      ]
     },
     "metadata": {},
     "output_type": "display_data"
    },
    {
     "name": "stderr",
     "output_type": "stream",
     "text": [
      "convert squad examples to features: 100%|██████████| 22/22 [00:00<00:00, 291.26it/s]\n",
      "add example index and unique id: 100%|██████████| 22/22 [00:00<00:00, 143954.27it/s]\n"
     ]
    },
    {
     "data": {
      "application/vnd.jupyter.widget-view+json": {
       "model_id": "f3df675a832147999327d46886afd502",
       "version_major": 2,
       "version_minor": 0
      },
      "text/plain": [
       "Running Prediction:   0%|          | 0/3 [00:00<?, ?it/s]"
      ]
     },
     "metadata": {},
     "output_type": "display_data"
    },
    {
     "name": "stderr",
     "output_type": "stream",
     "text": [
      "convert squad examples to features: 100%|██████████| 22/22 [00:00<00:00, 508.59it/s]\n",
      "add example index and unique id: 100%|██████████| 22/22 [00:00<00:00, 167467.67it/s]\n"
     ]
    },
    {
     "data": {
      "application/vnd.jupyter.widget-view+json": {
       "model_id": "7a77fad1a0184114b741b1007606a324",
       "version_major": 2,
       "version_minor": 0
      },
      "text/plain": [
       "Running Prediction:   0%|          | 0/3 [00:00<?, ?it/s]"
      ]
     },
     "metadata": {},
     "output_type": "display_data"
    },
    {
     "name": "stderr",
     "output_type": "stream",
     "text": [
      "convert squad examples to features: 100%|██████████| 22/22 [00:00<00:00, 234.25it/s]\n",
      "add example index and unique id: 100%|██████████| 22/22 [00:00<00:00, 143283.68it/s]\n"
     ]
    },
    {
     "data": {
      "application/vnd.jupyter.widget-view+json": {
       "model_id": "69e70e6e5e7c4906a71e22c87fb5a125",
       "version_major": 2,
       "version_minor": 0
      },
      "text/plain": [
       "Running Prediction:   0%|          | 0/3 [00:00<?, ?it/s]"
      ]
     },
     "metadata": {},
     "output_type": "display_data"
    },
    {
     "name": "stderr",
     "output_type": "stream",
     "text": [
      "convert squad examples to features: 100%|██████████| 22/22 [00:00<00:00, 134.64it/s]\n",
      "add example index and unique id: 100%|██████████| 22/22 [00:00<00:00, 97956.14it/s]\n"
     ]
    },
    {
     "data": {
      "application/vnd.jupyter.widget-view+json": {
       "model_id": "2c38bac6d5f643a3bbe34cf977f95380",
       "version_major": 2,
       "version_minor": 0
      },
      "text/plain": [
       "Running Prediction:   0%|          | 0/3 [00:00<?, ?it/s]"
      ]
     },
     "metadata": {},
     "output_type": "display_data"
    },
    {
     "name": "stderr",
     "output_type": "stream",
     "text": [
      "convert squad examples to features: 100%|██████████| 22/22 [00:00<00:00, 125.11it/s]\n",
      "add example index and unique id: 100%|██████████| 22/22 [00:00<00:00, 69119.62it/s]\n"
     ]
    },
    {
     "data": {
      "application/vnd.jupyter.widget-view+json": {
       "model_id": "bf8690d3f20f4fec862b918c05b70b56",
       "version_major": 2,
       "version_minor": 0
      },
      "text/plain": [
       "Running Prediction:   0%|          | 0/3 [00:00<?, ?it/s]"
      ]
     },
     "metadata": {},
     "output_type": "display_data"
    },
    {
     "name": "stderr",
     "output_type": "stream",
     "text": [
      "convert squad examples to features: 100%|██████████| 22/22 [00:00<00:00, 180.62it/s]\n",
      "add example index and unique id: 100%|██████████| 22/22 [00:00<00:00, 169934.97it/s]\n"
     ]
    },
    {
     "data": {
      "application/vnd.jupyter.widget-view+json": {
       "model_id": "a8819100e1e14d73a48f068ee17bad5e",
       "version_major": 2,
       "version_minor": 0
      },
      "text/plain": [
       "Running Prediction:   0%|          | 0/3 [00:00<?, ?it/s]"
      ]
     },
     "metadata": {},
     "output_type": "display_data"
    },
    {
     "name": "stderr",
     "output_type": "stream",
     "text": [
      "convert squad examples to features: 100%|██████████| 22/22 [00:00<00:00, 109.38it/s]\n",
      "add example index and unique id: 100%|██████████| 22/22 [00:00<00:00, 162169.93it/s]\n"
     ]
    },
    {
     "data": {
      "application/vnd.jupyter.widget-view+json": {
       "model_id": "4f0940c391d64d7d8f68ac9f6d189b91",
       "version_major": 2,
       "version_minor": 0
      },
      "text/plain": [
       "Running Prediction:   0%|          | 0/3 [00:00<?, ?it/s]"
      ]
     },
     "metadata": {},
     "output_type": "display_data"
    },
    {
     "name": "stderr",
     "output_type": "stream",
     "text": [
      "convert squad examples to features: 100%|██████████| 22/22 [00:00<00:00, 93.36it/s]\n",
      "add example index and unique id: 100%|██████████| 22/22 [00:00<00:00, 163029.48it/s]\n"
     ]
    },
    {
     "data": {
      "application/vnd.jupyter.widget-view+json": {
       "model_id": "f32a92fee4e34005ba74dcb0772cdbc1",
       "version_major": 2,
       "version_minor": 0
      },
      "text/plain": [
       "Running Prediction:   0%|          | 0/3 [00:00<?, ?it/s]"
      ]
     },
     "metadata": {},
     "output_type": "display_data"
    },
    {
     "name": "stderr",
     "output_type": "stream",
     "text": [
      "convert squad examples to features: 100%|██████████| 22/22 [00:00<00:00, 481.11it/s]\n",
      "add example index and unique id: 100%|██████████| 22/22 [00:00<00:00, 159921.47it/s]\n"
     ]
    },
    {
     "data": {
      "application/vnd.jupyter.widget-view+json": {
       "model_id": "d2cb504371eb4e1c81330821ea2c4c72",
       "version_major": 2,
       "version_minor": 0
      },
      "text/plain": [
       "Running Prediction:   0%|          | 0/3 [00:00<?, ?it/s]"
      ]
     },
     "metadata": {},
     "output_type": "display_data"
    },
    {
     "name": "stderr",
     "output_type": "stream",
     "text": [
      "convert squad examples to features: 100%|██████████| 22/22 [00:00<00:00, 82.67it/s]\n",
      "add example index and unique id: 100%|██████████| 22/22 [00:00<00:00, 130700.69it/s]\n"
     ]
    },
    {
     "data": {
      "application/vnd.jupyter.widget-view+json": {
       "model_id": "863fb62d0bae42e6955c0c8c506b812d",
       "version_major": 2,
       "version_minor": 0
      },
      "text/plain": [
       "Running Prediction:   0%|          | 0/3 [00:00<?, ?it/s]"
      ]
     },
     "metadata": {},
     "output_type": "display_data"
    },
    {
     "name": "stderr",
     "output_type": "stream",
     "text": [
      "convert squad examples to features: 100%|██████████| 22/22 [00:00<00:00, 516.20it/s]\n",
      "add example index and unique id: 100%|██████████| 22/22 [00:00<00:00, 124695.52it/s]\n"
     ]
    },
    {
     "data": {
      "application/vnd.jupyter.widget-view+json": {
       "model_id": "eb8733269ed44754b350ec9700f289f6",
       "version_major": 2,
       "version_minor": 0
      },
      "text/plain": [
       "Running Prediction:   0%|          | 0/3 [00:00<?, ?it/s]"
      ]
     },
     "metadata": {},
     "output_type": "display_data"
    },
    {
     "name": "stderr",
     "output_type": "stream",
     "text": [
      "convert squad examples to features: 100%|██████████| 22/22 [00:00<00:00, 437.66it/s]\n",
      "add example index and unique id: 100%|██████████| 22/22 [00:00<00:00, 153535.25it/s]\n"
     ]
    },
    {
     "data": {
      "application/vnd.jupyter.widget-view+json": {
       "model_id": "8c65d35e402e43f58498cd495cf13c82",
       "version_major": 2,
       "version_minor": 0
      },
      "text/plain": [
       "Running Prediction:   0%|          | 0/3 [00:00<?, ?it/s]"
      ]
     },
     "metadata": {},
     "output_type": "display_data"
    },
    {
     "name": "stderr",
     "output_type": "stream",
     "text": [
      "convert squad examples to features: 100%|██████████| 22/22 [00:00<00:00, 442.03it/s]\n",
      "add example index and unique id: 100%|██████████| 22/22 [00:00<00:00, 166560.81it/s]\n"
     ]
    },
    {
     "data": {
      "application/vnd.jupyter.widget-view+json": {
       "model_id": "3aa7d39b30b7425e9c31cd248d6544aa",
       "version_major": 2,
       "version_minor": 0
      },
      "text/plain": [
       "Running Prediction:   0%|          | 0/3 [00:00<?, ?it/s]"
      ]
     },
     "metadata": {},
     "output_type": "display_data"
    },
    {
     "name": "stderr",
     "output_type": "stream",
     "text": [
      "convert squad examples to features: 100%|██████████| 22/22 [00:00<00:00, 299.45it/s]\n",
      "add example index and unique id: 100%|██████████| 22/22 [00:00<00:00, 111983.84it/s]\n"
     ]
    },
    {
     "data": {
      "application/vnd.jupyter.widget-view+json": {
       "model_id": "64e1afb526654d7d80c33c55e7cbd604",
       "version_major": 2,
       "version_minor": 0
      },
      "text/plain": [
       "Running Prediction:   0%|          | 0/3 [00:00<?, ?it/s]"
      ]
     },
     "metadata": {},
     "output_type": "display_data"
    },
    {
     "name": "stderr",
     "output_type": "stream",
     "text": [
      "convert squad examples to features: 100%|██████████| 22/22 [00:00<00:00, 197.49it/s]\n",
      "add example index and unique id: 100%|██████████| 22/22 [00:00<00:00, 166862.00it/s]\n"
     ]
    },
    {
     "data": {
      "application/vnd.jupyter.widget-view+json": {
       "model_id": "3338c8b083cd43cb9276a64e34acb548",
       "version_major": 2,
       "version_minor": 0
      },
      "text/plain": [
       "Running Prediction:   0%|          | 0/3 [00:00<?, ?it/s]"
      ]
     },
     "metadata": {},
     "output_type": "display_data"
    },
    {
     "name": "stderr",
     "output_type": "stream",
     "text": [
      "convert squad examples to features: 100%|██████████| 22/22 [00:00<00:00, 150.98it/s]\n",
      "add example index and unique id: 100%|██████████| 22/22 [00:00<00:00, 129964.35it/s]\n"
     ]
    },
    {
     "data": {
      "application/vnd.jupyter.widget-view+json": {
       "model_id": "64429759f9494e8faae369f3e2519be3",
       "version_major": 2,
       "version_minor": 0
      },
      "text/plain": [
       "Running Prediction:   0%|          | 0/3 [00:00<?, ?it/s]"
      ]
     },
     "metadata": {},
     "output_type": "display_data"
    },
    {
     "name": "stderr",
     "output_type": "stream",
     "text": [
      "convert squad examples to features: 100%|██████████| 22/22 [00:00<00:00, 165.42it/s]\n",
      "add example index and unique id: 100%|██████████| 22/22 [00:00<00:00, 109200.81it/s]\n"
     ]
    },
    {
     "data": {
      "application/vnd.jupyter.widget-view+json": {
       "model_id": "ea2313f333584072a0186eedbe7b1eb4",
       "version_major": 2,
       "version_minor": 0
      },
      "text/plain": [
       "Running Prediction:   0%|          | 0/3 [00:00<?, ?it/s]"
      ]
     },
     "metadata": {},
     "output_type": "display_data"
    },
    {
     "name": "stderr",
     "output_type": "stream",
     "text": [
      "convert squad examples to features: 100%|██████████| 22/22 [00:00<00:00, 165.38it/s]\n",
      "add example index and unique id: 100%|██████████| 22/22 [00:00<00:00, 135498.81it/s]\n"
     ]
    },
    {
     "data": {
      "application/vnd.jupyter.widget-view+json": {
       "model_id": "076f8876485c42cd99ccd1cd7e6023fe",
       "version_major": 2,
       "version_minor": 0
      },
      "text/plain": [
       "Running Prediction:   0%|          | 0/3 [00:00<?, ?it/s]"
      ]
     },
     "metadata": {},
     "output_type": "display_data"
    },
    {
     "name": "stderr",
     "output_type": "stream",
     "text": [
      "convert squad examples to features: 100%|██████████| 22/22 [00:00<00:00, 151.85it/s]\n",
      "add example index and unique id: 100%|██████████| 22/22 [00:00<00:00, 67353.79it/s]\n"
     ]
    },
    {
     "data": {
      "application/vnd.jupyter.widget-view+json": {
       "model_id": "c07ed2180b504bd3ad0bfed475c82d86",
       "version_major": 2,
       "version_minor": 0
      },
      "text/plain": [
       "Running Prediction:   0%|          | 0/3 [00:00<?, ?it/s]"
      ]
     },
     "metadata": {},
     "output_type": "display_data"
    },
    {
     "name": "stderr",
     "output_type": "stream",
     "text": [
      "convert squad examples to features: 100%|██████████| 22/22 [00:00<00:00, 191.63it/s]\n",
      "add example index and unique id: 100%|██████████| 22/22 [00:00<00:00, 155344.59it/s]\n"
     ]
    },
    {
     "data": {
      "application/vnd.jupyter.widget-view+json": {
       "model_id": "b8a6630444794d1a9c78e23f8a355211",
       "version_major": 2,
       "version_minor": 0
      },
      "text/plain": [
       "Running Prediction:   0%|          | 0/3 [00:00<?, ?it/s]"
      ]
     },
     "metadata": {},
     "output_type": "display_data"
    },
    {
     "name": "stderr",
     "output_type": "stream",
     "text": [
      "convert squad examples to features: 100%|██████████| 22/22 [00:00<00:00, 99.94it/s]\n",
      "add example index and unique id: 100%|██████████| 22/22 [00:00<00:00, 60787.01it/s]\n"
     ]
    },
    {
     "data": {
      "application/vnd.jupyter.widget-view+json": {
       "model_id": "456f8175fcfd44888102756622acdc53",
       "version_major": 2,
       "version_minor": 0
      },
      "text/plain": [
       "Running Prediction:   0%|          | 0/3 [00:00<?, ?it/s]"
      ]
     },
     "metadata": {},
     "output_type": "display_data"
    },
    {
     "name": "stderr",
     "output_type": "stream",
     "text": [
      "convert squad examples to features: 100%|██████████| 22/22 [00:00<00:00, 243.47it/s]\n",
      "add example index and unique id: 100%|██████████| 22/22 [00:00<00:00, 117697.31it/s]\n"
     ]
    },
    {
     "data": {
      "application/vnd.jupyter.widget-view+json": {
       "model_id": "4b725998d6184bce83bad58b08e489b9",
       "version_major": 2,
       "version_minor": 0
      },
      "text/plain": [
       "Running Prediction:   0%|          | 0/3 [00:00<?, ?it/s]"
      ]
     },
     "metadata": {},
     "output_type": "display_data"
    },
    {
     "name": "stderr",
     "output_type": "stream",
     "text": [
      "convert squad examples to features: 100%|██████████| 22/22 [00:00<00:00, 127.11it/s]\n",
      "add example index and unique id: 100%|██████████| 22/22 [00:00<00:00, 131632.94it/s]\n"
     ]
    },
    {
     "data": {
      "application/vnd.jupyter.widget-view+json": {
       "model_id": "f37509b7cde9415c9ce89b2dfc76bd47",
       "version_major": 2,
       "version_minor": 0
      },
      "text/plain": [
       "Running Prediction:   0%|          | 0/3 [00:00<?, ?it/s]"
      ]
     },
     "metadata": {},
     "output_type": "display_data"
    },
    {
     "name": "stderr",
     "output_type": "stream",
     "text": [
      "convert squad examples to features: 100%|██████████| 22/22 [00:00<00:00, 257.58it/s]\n",
      "add example index and unique id: 100%|██████████| 22/22 [00:00<00:00, 97131.25it/s]\n"
     ]
    },
    {
     "data": {
      "application/vnd.jupyter.widget-view+json": {
       "model_id": "0d27311f03be40ff9877b782ac041621",
       "version_major": 2,
       "version_minor": 0
      },
      "text/plain": [
       "Running Prediction:   0%|          | 0/3 [00:00<?, ?it/s]"
      ]
     },
     "metadata": {},
     "output_type": "display_data"
    },
    {
     "name": "stderr",
     "output_type": "stream",
     "text": [
      "convert squad examples to features: 100%|██████████| 22/22 [00:00<00:00, 69.37it/s]\n",
      "add example index and unique id: 100%|██████████| 22/22 [00:00<00:00, 135300.13it/s]\n"
     ]
    },
    {
     "data": {
      "application/vnd.jupyter.widget-view+json": {
       "model_id": "eede2c6764a248f6bac980d8dac4bc83",
       "version_major": 2,
       "version_minor": 0
      },
      "text/plain": [
       "Running Prediction:   0%|          | 0/3 [00:00<?, ?it/s]"
      ]
     },
     "metadata": {},
     "output_type": "display_data"
    },
    {
     "name": "stderr",
     "output_type": "stream",
     "text": [
      "convert squad examples to features: 100%|██████████| 22/22 [00:00<00:00, 263.23it/s]\n",
      "add example index and unique id: 100%|██████████| 22/22 [00:00<00:00, 146235.64it/s]\n"
     ]
    },
    {
     "data": {
      "application/vnd.jupyter.widget-view+json": {
       "model_id": "e133ca204f6149b58f9b336d90dcda1d",
       "version_major": 2,
       "version_minor": 0
      },
      "text/plain": [
       "Running Prediction:   0%|          | 0/3 [00:00<?, ?it/s]"
      ]
     },
     "metadata": {},
     "output_type": "display_data"
    },
    {
     "name": "stderr",
     "output_type": "stream",
     "text": [
      "convert squad examples to features: 100%|██████████| 22/22 [00:00<00:00, 181.03it/s]\n",
      "add example index and unique id: 100%|██████████| 22/22 [00:00<00:00, 144404.83it/s]\n"
     ]
    },
    {
     "data": {
      "application/vnd.jupyter.widget-view+json": {
       "model_id": "5fb4d902e2e8498abe348f4fc6e6d065",
       "version_major": 2,
       "version_minor": 0
      },
      "text/plain": [
       "Running Prediction:   0%|          | 0/3 [00:00<?, ?it/s]"
      ]
     },
     "metadata": {},
     "output_type": "display_data"
    },
    {
     "name": "stderr",
     "output_type": "stream",
     "text": [
      "convert squad examples to features: 100%|██████████| 22/22 [00:00<00:00, 247.21it/s]\n",
      "add example index and unique id: 100%|██████████| 22/22 [00:00<00:00, 160477.72it/s]\n"
     ]
    },
    {
     "data": {
      "application/vnd.jupyter.widget-view+json": {
       "model_id": "db4c02ed11694ea4bc76e9555a42bec0",
       "version_major": 2,
       "version_minor": 0
      },
      "text/plain": [
       "Running Prediction:   0%|          | 0/3 [00:00<?, ?it/s]"
      ]
     },
     "metadata": {},
     "output_type": "display_data"
    },
    {
     "name": "stderr",
     "output_type": "stream",
     "text": [
      "convert squad examples to features: 100%|██████████| 22/22 [00:00<00:00, 138.67it/s]\n",
      "add example index and unique id: 100%|██████████| 22/22 [00:00<00:00, 174762.67it/s]\n"
     ]
    },
    {
     "data": {
      "application/vnd.jupyter.widget-view+json": {
       "model_id": "ea21de86fbb140779494be266e758b54",
       "version_major": 2,
       "version_minor": 0
      },
      "text/plain": [
       "Running Prediction:   0%|          | 0/3 [00:00<?, ?it/s]"
      ]
     },
     "metadata": {},
     "output_type": "display_data"
    },
    {
     "name": "stderr",
     "output_type": "stream",
     "text": [
      "convert squad examples to features: 100%|██████████| 22/22 [00:00<00:00, 126.16it/s]\n",
      "add example index and unique id: 100%|██████████| 22/22 [00:00<00:00, 154047.89it/s]\n"
     ]
    },
    {
     "data": {
      "application/vnd.jupyter.widget-view+json": {
       "model_id": "62a9ecf97b24421597478c98e0fd76a5",
       "version_major": 2,
       "version_minor": 0
      },
      "text/plain": [
       "Running Prediction:   0%|          | 0/3 [00:00<?, ?it/s]"
      ]
     },
     "metadata": {},
     "output_type": "display_data"
    },
    {
     "name": "stderr",
     "output_type": "stream",
     "text": [
      "convert squad examples to features: 100%|██████████| 22/22 [00:00<00:00, 129.20it/s]\n",
      "add example index and unique id: 100%|██████████| 22/22 [00:00<00:00, 150775.63it/s]\n"
     ]
    },
    {
     "data": {
      "application/vnd.jupyter.widget-view+json": {
       "model_id": "dbfef770dc67478d87988aaf756d91e4",
       "version_major": 2,
       "version_minor": 0
      },
      "text/plain": [
       "Running Prediction:   0%|          | 0/3 [00:00<?, ?it/s]"
      ]
     },
     "metadata": {},
     "output_type": "display_data"
    },
    {
     "name": "stderr",
     "output_type": "stream",
     "text": [
      "convert squad examples to features: 100%|██████████| 22/22 [00:00<00:00, 251.20it/s]\n",
      "add example index and unique id: 100%|██████████| 22/22 [00:00<00:00, 171514.29it/s]\n"
     ]
    },
    {
     "data": {
      "application/vnd.jupyter.widget-view+json": {
       "model_id": "fcb0b44afa5b48259ff524bb6b2e64a8",
       "version_major": 2,
       "version_minor": 0
      },
      "text/plain": [
       "Running Prediction:   0%|          | 0/3 [00:00<?, ?it/s]"
      ]
     },
     "metadata": {},
     "output_type": "display_data"
    },
    {
     "name": "stderr",
     "output_type": "stream",
     "text": [
      "convert squad examples to features: 100%|██████████| 22/22 [00:00<00:00, 310.30it/s]\n",
      "add example index and unique id: 100%|██████████| 22/22 [00:00<00:00, 160199.11it/s]\n"
     ]
    },
    {
     "data": {
      "application/vnd.jupyter.widget-view+json": {
       "model_id": "6d9b45c0daf34ccd8fdd6cade6bfcdf7",
       "version_major": 2,
       "version_minor": 0
      },
      "text/plain": [
       "Running Prediction:   0%|          | 0/3 [00:00<?, ?it/s]"
      ]
     },
     "metadata": {},
     "output_type": "display_data"
    },
    {
     "name": "stderr",
     "output_type": "stream",
     "text": [
      "convert squad examples to features: 100%|██████████| 22/22 [00:00<00:00, 364.24it/s]\n",
      "add example index and unique id: 100%|██████████| 22/22 [00:00<00:00, 140448.54it/s]\n"
     ]
    },
    {
     "data": {
      "application/vnd.jupyter.widget-view+json": {
       "model_id": "4e3b1be0017a450bbd1f1eed50454563",
       "version_major": 2,
       "version_minor": 0
      },
      "text/plain": [
       "Running Prediction:   0%|          | 0/3 [00:00<?, ?it/s]"
      ]
     },
     "metadata": {},
     "output_type": "display_data"
    },
    {
     "name": "stderr",
     "output_type": "stream",
     "text": [
      "convert squad examples to features: 100%|██████████| 22/22 [00:00<00:00, 206.49it/s]\n",
      "add example index and unique id: 100%|██████████| 22/22 [00:00<00:00, 149311.79it/s]\n"
     ]
    },
    {
     "data": {
      "application/vnd.jupyter.widget-view+json": {
       "model_id": "8bb4901722dd4529b9057eda250c35de",
       "version_major": 2,
       "version_minor": 0
      },
      "text/plain": [
       "Running Prediction:   0%|          | 0/3 [00:00<?, ?it/s]"
      ]
     },
     "metadata": {},
     "output_type": "display_data"
    },
    {
     "name": "stderr",
     "output_type": "stream",
     "text": [
      "convert squad examples to features: 100%|██████████| 22/22 [00:00<00:00, 233.06it/s]\n",
      "add example index and unique id: 100%|██████████| 22/22 [00:00<00:00, 146700.62it/s]\n"
     ]
    },
    {
     "data": {
      "application/vnd.jupyter.widget-view+json": {
       "model_id": "6a8b41c35b7443639bae5b2472411055",
       "version_major": 2,
       "version_minor": 0
      },
      "text/plain": [
       "Running Prediction:   0%|          | 0/3 [00:00<?, ?it/s]"
      ]
     },
     "metadata": {},
     "output_type": "display_data"
    },
    {
     "name": "stderr",
     "output_type": "stream",
     "text": [
      "convert squad examples to features: 100%|██████████| 22/22 [00:00<00:00, 325.89it/s]\n",
      "add example index and unique id: 100%|██████████| 22/22 [00:00<00:00, 153280.21it/s]\n"
     ]
    },
    {
     "data": {
      "application/vnd.jupyter.widget-view+json": {
       "model_id": "abd680bcf08a4a658f66b86b4747f189",
       "version_major": 2,
       "version_minor": 0
      },
      "text/plain": [
       "Running Prediction:   0%|          | 0/3 [00:00<?, ?it/s]"
      ]
     },
     "metadata": {},
     "output_type": "display_data"
    },
    {
     "name": "stderr",
     "output_type": "stream",
     "text": [
      "convert squad examples to features: 100%|██████████| 22/22 [00:00<00:00, 212.02it/s]\n",
      "add example index and unique id: 100%|██████████| 22/22 [00:00<00:00, 149553.79it/s]\n"
     ]
    },
    {
     "data": {
      "application/vnd.jupyter.widget-view+json": {
       "model_id": "ed40f91b8bdd498ca89d8a0c4139ca01",
       "version_major": 2,
       "version_minor": 0
      },
      "text/plain": [
       "Running Prediction:   0%|          | 0/3 [00:00<?, ?it/s]"
      ]
     },
     "metadata": {},
     "output_type": "display_data"
    },
    {
     "name": "stderr",
     "output_type": "stream",
     "text": [
      "convert squad examples to features: 100%|██████████| 22/22 [00:00<00:00, 56.34it/s]\n",
      "add example index and unique id: 100%|██████████| 22/22 [00:00<00:00, 123692.61it/s]\n"
     ]
    },
    {
     "data": {
      "application/vnd.jupyter.widget-view+json": {
       "model_id": "8b2139787b094cb2be314c6830adf635",
       "version_major": 2,
       "version_minor": 0
      },
      "text/plain": [
       "Running Prediction:   0%|          | 0/6 [00:00<?, ?it/s]"
      ]
     },
     "metadata": {},
     "output_type": "display_data"
    },
    {
     "name": "stderr",
     "output_type": "stream",
     "text": [
      "convert squad examples to features: 100%|██████████| 22/22 [00:00<00:00, 153.39it/s]\n",
      "add example index and unique id: 100%|██████████| 22/22 [00:00<00:00, 102186.81it/s]\n"
     ]
    },
    {
     "data": {
      "application/vnd.jupyter.widget-view+json": {
       "model_id": "41d2a58430834447b2153deec5458792",
       "version_major": 2,
       "version_minor": 0
      },
      "text/plain": [
       "Running Prediction:   0%|          | 0/3 [00:00<?, ?it/s]"
      ]
     },
     "metadata": {},
     "output_type": "display_data"
    },
    {
     "name": "stderr",
     "output_type": "stream",
     "text": [
      "convert squad examples to features: 100%|██████████| 22/22 [00:00<00:00, 156.39it/s]\n",
      "add example index and unique id: 100%|██████████| 22/22 [00:00<00:00, 64124.18it/s]\n"
     ]
    },
    {
     "data": {
      "application/vnd.jupyter.widget-view+json": {
       "model_id": "ccaf085f7c5d4081af608c968dc5bcee",
       "version_major": 2,
       "version_minor": 0
      },
      "text/plain": [
       "Running Prediction:   0%|          | 0/3 [00:00<?, ?it/s]"
      ]
     },
     "metadata": {},
     "output_type": "display_data"
    },
    {
     "name": "stderr",
     "output_type": "stream",
     "text": [
      "convert squad examples to features: 100%|██████████| 22/22 [00:00<00:00, 279.25it/s]\n",
      "add example index and unique id: 100%|██████████| 22/22 [00:00<00:00, 111577.62it/s]\n"
     ]
    },
    {
     "data": {
      "application/vnd.jupyter.widget-view+json": {
       "model_id": "83e428ab788148eaaeff61c1a68971c5",
       "version_major": 2,
       "version_minor": 0
      },
      "text/plain": [
       "Running Prediction:   0%|          | 0/3 [00:00<?, ?it/s]"
      ]
     },
     "metadata": {},
     "output_type": "display_data"
    },
    {
     "name": "stderr",
     "output_type": "stream",
     "text": [
      "convert squad examples to features: 100%|██████████| 22/22 [00:00<00:00, 235.48it/s]\n",
      "add example index and unique id: 100%|██████████| 22/22 [00:00<00:00, 133925.53it/s]\n"
     ]
    },
    {
     "data": {
      "application/vnd.jupyter.widget-view+json": {
       "model_id": "cdbfc0842f6040058a6eca7717d01511",
       "version_major": 2,
       "version_minor": 0
      },
      "text/plain": [
       "Running Prediction:   0%|          | 0/3 [00:00<?, ?it/s]"
      ]
     },
     "metadata": {},
     "output_type": "display_data"
    },
    {
     "name": "stderr",
     "output_type": "stream",
     "text": [
      "convert squad examples to features: 100%|██████████| 22/22 [00:00<00:00, 291.50it/s]\n",
      "add example index and unique id: 100%|██████████| 22/22 [00:00<00:00, 165961.67it/s]\n"
     ]
    },
    {
     "data": {
      "application/vnd.jupyter.widget-view+json": {
       "model_id": "5665fe6a9a624c0893604831f73a0436",
       "version_major": 2,
       "version_minor": 0
      },
      "text/plain": [
       "Running Prediction:   0%|          | 0/3 [00:00<?, ?it/s]"
      ]
     },
     "metadata": {},
     "output_type": "display_data"
    }
   ],
   "source": [
    "compute(final)"
   ]
  },
  {
   "cell_type": "markdown",
   "metadata": {},
   "source": [
    "#### Checking if all the lists have the same length. They do have the same length."
   ]
  },
  {
   "cell_type": "code",
   "execution_count": 33,
   "metadata": {},
   "outputs": [
    {
     "name": "stdout",
     "output_type": "stream",
     "text": [
      "450 450 450 450 450 450 450 450 450 450 450 450 450 450 450 450 450 450 450 450 450 450 450\n"
     ]
    }
   ],
   "source": [
    "print(len(final), len(l0), len(l1), len(l2), len(l3), len(l4), len(l5), len(l6), len(l7), len(l8), len(l9), len(l10), len(l11), len(l12), len(l13), len(l14), len(l15), len(l16), len(l17), len(l18), len(l19), len(l20), len(l21))\n",
    "# print(len(final), len(l0), len(l1), len(l2), len(l3), len(l4), len(l5), len(l6), len(l7), len(l8))"
   ]
  },
  {
   "cell_type": "markdown",
   "metadata": {},
   "source": [
    "#### Resulting dataframe."
   ]
  },
  {
   "cell_type": "code",
   "execution_count": 34,
   "metadata": {},
   "outputs": [],
   "source": [
    "df2 = pd.DataFrame()\n",
    "\n",
    "# df2['author_id'] = df['author_id']\n",
    "df2['reviews'] = final\n",
    "df2['LAPTOP'] = l0\n",
    "df2['SUPPORT'] = l1\n",
    "df2['DISPLAY'] = l2\n",
    "df2['BATTERY'] = l3\n",
    "df2['KEYBOARD'] = l4\n",
    "df2['COMPANY'] = l5\n",
    "df2['SOFTWARE'] = l6\n",
    "df2['MOUSE'] = l7\n",
    "df2['OS'] = l8\n",
    "df2['MULTIMEDIA_DEVICES'] = l9\n",
    "df2['GRAPHICS'] = l10\n",
    "df2['HARD_DISC'] = l11\n",
    "df2['CPU'] = l12\n",
    "df2['POWER_SUPPLY'] = l13\n",
    "df2['MEMORY'] = l14\n",
    "df2['SHIPPING'] = l15\n",
    "df2['MOTHERBOARD'] = l16\n",
    "df2['HARDWARE'] = l17\n",
    "df2['PORTS'] = l18\n",
    "df2['OPTICAL_DRIVERS'] = l19\n",
    "df2['FANS_COOLING'] = l20\n",
    "df2['WARRANTY'] = l21"
   ]
  },
  {
   "cell_type": "code",
   "execution_count": 35,
   "metadata": {},
   "outputs": [
    {
     "data": {
      "text/html": [
       "<div>\n",
       "<style scoped>\n",
       "    .dataframe tbody tr th:only-of-type {\n",
       "        vertical-align: middle;\n",
       "    }\n",
       "\n",
       "    .dataframe tbody tr th {\n",
       "        vertical-align: top;\n",
       "    }\n",
       "\n",
       "    .dataframe thead th {\n",
       "        text-align: right;\n",
       "    }\n",
       "</style>\n",
       "<table border=\"1\" class=\"dataframe\">\n",
       "  <thead>\n",
       "    <tr style=\"text-align: right;\">\n",
       "      <th></th>\n",
       "      <th>reviews</th>\n",
       "      <th>LAPTOP</th>\n",
       "      <th>SUPPORT</th>\n",
       "      <th>DISPLAY</th>\n",
       "      <th>BATTERY</th>\n",
       "      <th>KEYBOARD</th>\n",
       "      <th>COMPANY</th>\n",
       "      <th>SOFTWARE</th>\n",
       "      <th>MOUSE</th>\n",
       "      <th>OS</th>\n",
       "      <th>...</th>\n",
       "      <th>CPU</th>\n",
       "      <th>POWER_SUPPLY</th>\n",
       "      <th>MEMORY</th>\n",
       "      <th>SHIPPING</th>\n",
       "      <th>MOTHERBOARD</th>\n",
       "      <th>HARDWARE</th>\n",
       "      <th>PORTS</th>\n",
       "      <th>OPTICAL_DRIVERS</th>\n",
       "      <th>FANS_COOLING</th>\n",
       "      <th>WARRANTY</th>\n",
       "    </tr>\n",
       "  </thead>\n",
       "  <tbody>\n",
       "    <tr>\n",
       "      <th>0</th>\n",
       "      <td>Being a PC user my whole life.... This comput...</td>\n",
       "      <td>empty</td>\n",
       "      <td>plenty of storage with 250 gb</td>\n",
       "      <td>graphics card</td>\n",
       "      <td>10 plus hours</td>\n",
       "      <td>computer is absolutely AMAZING!!! 10 plus hour...</td>\n",
       "      <td>empty</td>\n",
       "      <td>super fast processor and really nice graphics ...</td>\n",
       "      <td>super fast processor and really nice graphics ...</td>\n",
       "      <td>empty</td>\n",
       "      <td>...</td>\n",
       "      <td>empty</td>\n",
       "      <td>250 gb</td>\n",
       "      <td>250 gb</td>\n",
       "      <td>computer is absolutely AMAZING!!! 10 plus hour...</td>\n",
       "      <td>empty</td>\n",
       "      <td>super fast processor</td>\n",
       "      <td>empty</td>\n",
       "      <td>super fast processor and really nice graphics ...</td>\n",
       "      <td>empty</td>\n",
       "      <td>empty</td>\n",
       "    </tr>\n",
       "    <tr>\n",
       "      <th>1</th>\n",
       "      <td>the laptop was really good and it goes really...</td>\n",
       "      <td>the laptop was really good and it goes really ...</td>\n",
       "      <td>cheap</td>\n",
       "      <td>the laptop</td>\n",
       "      <td>cheap</td>\n",
       "      <td>the laptop was really good and it goes really ...</td>\n",
       "      <td>cheap</td>\n",
       "      <td>cheap</td>\n",
       "      <td>cheap</td>\n",
       "      <td>cheap</td>\n",
       "      <td>...</td>\n",
       "      <td>cheap</td>\n",
       "      <td>cheap</td>\n",
       "      <td>cheap</td>\n",
       "      <td>cheap</td>\n",
       "      <td>laptop</td>\n",
       "      <td>the laptop was really good and it goes really ...</td>\n",
       "      <td>cheap</td>\n",
       "      <td>cheap</td>\n",
       "      <td>any person out there to get this laptop cause ...</td>\n",
       "      <td>cheap</td>\n",
       "    </tr>\n",
       "    <tr>\n",
       "      <th>2</th>\n",
       "      <td>As a lifelong Windows user, I was extremely p...</td>\n",
       "      <td>As a computer science student in college, I fi...</td>\n",
       "      <td>As a computer science student in college, I fi...</td>\n",
       "      <td>empty</td>\n",
       "      <td>As a computer science student in college, I fi...</td>\n",
       "      <td>empty</td>\n",
       "      <td>computer science student in college</td>\n",
       "      <td>computer science student in college, I find th...</td>\n",
       "      <td>computer science student in college, I find th...</td>\n",
       "      <td>As a computer science student in college,</td>\n",
       "      <td>...</td>\n",
       "      <td>As a computer science student in college,</td>\n",
       "      <td>empty</td>\n",
       "      <td>As a computer science student in college, I fi...</td>\n",
       "      <td>portability, longevity, and ease of use of thi...</td>\n",
       "      <td>backpack</td>\n",
       "      <td>without a big ol' clunky machine in my backpack</td>\n",
       "      <td>portability, longevity, and ease of use of thi...</td>\n",
       "      <td>As a computer science student in college, I fi...</td>\n",
       "      <td>computer science student in college</td>\n",
       "      <td>As a computer science student in college, I fi...</td>\n",
       "    </tr>\n",
       "    <tr>\n",
       "      <th>3</th>\n",
       "      <td>Oh my goodness-I am not a happy camper. My HP...</td>\n",
       "      <td>I can't sit</td>\n",
       "      <td>laptop</td>\n",
       "      <td>laptop</td>\n",
       "      <td>scary</td>\n",
       "      <td>My HP is very heavy.</td>\n",
       "      <td>my goodness-I am not a happy camper.</td>\n",
       "      <td>laptop</td>\n",
       "      <td>laptop</td>\n",
       "      <td>My HP is very heavy.</td>\n",
       "      <td>...</td>\n",
       "      <td>My HP is very heavy.</td>\n",
       "      <td>My HP is very heavy.</td>\n",
       "      <td>My HP is very heavy.</td>\n",
       "      <td>My HP is very heavy.</td>\n",
       "      <td>empty</td>\n",
       "      <td>laptop</td>\n",
       "      <td>empty</td>\n",
       "      <td>empty</td>\n",
       "      <td>my goodness-I am not a happy camper.</td>\n",
       "      <td>it was out of warranty</td>\n",
       "    </tr>\n",
       "    <tr>\n",
       "      <th>4</th>\n",
       "      <td>Since I purchased my Toshiba netbook, I have ...</td>\n",
       "      <td>Toshiba netbook,</td>\n",
       "      <td>empty</td>\n",
       "      <td>The screen takes some getting use to, because ...</td>\n",
       "      <td>Toshiba netbook,</td>\n",
       "      <td>Toshiba netbook,</td>\n",
       "      <td>my Toshiba netbook,</td>\n",
       "      <td>my Toshiba netbook,</td>\n",
       "      <td>my Toshiba netbook,</td>\n",
       "      <td>Toshiba netbook,</td>\n",
       "      <td>...</td>\n",
       "      <td>Toshiba netbook,</td>\n",
       "      <td>Toshiba netbook,</td>\n",
       "      <td>empty</td>\n",
       "      <td>my Toshiba netbook,</td>\n",
       "      <td>Toshiba netbook,</td>\n",
       "      <td>a laptob and a desktop</td>\n",
       "      <td>I have a laptob and a desktop.</td>\n",
       "      <td>I have a laptob and a desktop.</td>\n",
       "      <td>Toshiba netbook,</td>\n",
       "      <td>empty</td>\n",
       "    </tr>\n",
       "  </tbody>\n",
       "</table>\n",
       "<p>5 rows × 23 columns</p>\n",
       "</div>"
      ],
      "text/plain": [
       "                                             reviews  \\\n",
       "0   Being a PC user my whole life.... This comput...   \n",
       "1   the laptop was really good and it goes really...   \n",
       "2   As a lifelong Windows user, I was extremely p...   \n",
       "3   Oh my goodness-I am not a happy camper. My HP...   \n",
       "4   Since I purchased my Toshiba netbook, I have ...   \n",
       "\n",
       "                                              LAPTOP  \\\n",
       "0                                              empty   \n",
       "1  the laptop was really good and it goes really ...   \n",
       "2  As a computer science student in college, I fi...   \n",
       "3                                        I can't sit   \n",
       "4                                   Toshiba netbook,   \n",
       "\n",
       "                                             SUPPORT  \\\n",
       "0                      plenty of storage with 250 gb   \n",
       "1                                              cheap   \n",
       "2  As a computer science student in college, I fi...   \n",
       "3                                             laptop   \n",
       "4                                              empty   \n",
       "\n",
       "                                             DISPLAY  \\\n",
       "0                                      graphics card   \n",
       "1                                         the laptop   \n",
       "2                                              empty   \n",
       "3                                             laptop   \n",
       "4  The screen takes some getting use to, because ...   \n",
       "\n",
       "                                             BATTERY  \\\n",
       "0                                      10 plus hours   \n",
       "1                                              cheap   \n",
       "2  As a computer science student in college, I fi...   \n",
       "3                                              scary   \n",
       "4                                   Toshiba netbook,   \n",
       "\n",
       "                                            KEYBOARD  \\\n",
       "0  computer is absolutely AMAZING!!! 10 plus hour...   \n",
       "1  the laptop was really good and it goes really ...   \n",
       "2                                              empty   \n",
       "3                               My HP is very heavy.   \n",
       "4                                   Toshiba netbook,   \n",
       "\n",
       "                                COMPANY  \\\n",
       "0                                 empty   \n",
       "1                                 cheap   \n",
       "2   computer science student in college   \n",
       "3  my goodness-I am not a happy camper.   \n",
       "4                   my Toshiba netbook,   \n",
       "\n",
       "                                            SOFTWARE  \\\n",
       "0  super fast processor and really nice graphics ...   \n",
       "1                                              cheap   \n",
       "2  computer science student in college, I find th...   \n",
       "3                                             laptop   \n",
       "4                                my Toshiba netbook,   \n",
       "\n",
       "                                               MOUSE  \\\n",
       "0  super fast processor and really nice graphics ...   \n",
       "1                                              cheap   \n",
       "2  computer science student in college, I find th...   \n",
       "3                                             laptop   \n",
       "4                                my Toshiba netbook,   \n",
       "\n",
       "                                          OS  ...  \\\n",
       "0                                      empty  ...   \n",
       "1                                      cheap  ...   \n",
       "2  As a computer science student in college,  ...   \n",
       "3                       My HP is very heavy.  ...   \n",
       "4                           Toshiba netbook,  ...   \n",
       "\n",
       "                                         CPU          POWER_SUPPLY  \\\n",
       "0                                      empty                250 gb   \n",
       "1                                      cheap                 cheap   \n",
       "2  As a computer science student in college,                 empty   \n",
       "3                       My HP is very heavy.  My HP is very heavy.   \n",
       "4                           Toshiba netbook,      Toshiba netbook,   \n",
       "\n",
       "                                              MEMORY  \\\n",
       "0                                             250 gb   \n",
       "1                                              cheap   \n",
       "2  As a computer science student in college, I fi...   \n",
       "3                               My HP is very heavy.   \n",
       "4                                              empty   \n",
       "\n",
       "                                            SHIPPING       MOTHERBOARD  \\\n",
       "0  computer is absolutely AMAZING!!! 10 plus hour...             empty   \n",
       "1                                              cheap            laptop   \n",
       "2  portability, longevity, and ease of use of thi...          backpack   \n",
       "3                               My HP is very heavy.             empty   \n",
       "4                                my Toshiba netbook,  Toshiba netbook,   \n",
       "\n",
       "                                            HARDWARE  \\\n",
       "0                               super fast processor   \n",
       "1  the laptop was really good and it goes really ...   \n",
       "2    without a big ol' clunky machine in my backpack   \n",
       "3                                             laptop   \n",
       "4                             a laptob and a desktop   \n",
       "\n",
       "                                               PORTS  \\\n",
       "0                                              empty   \n",
       "1                                              cheap   \n",
       "2  portability, longevity, and ease of use of thi...   \n",
       "3                                              empty   \n",
       "4                     I have a laptob and a desktop.   \n",
       "\n",
       "                                     OPTICAL_DRIVERS  \\\n",
       "0  super fast processor and really nice graphics ...   \n",
       "1                                              cheap   \n",
       "2  As a computer science student in college, I fi...   \n",
       "3                                              empty   \n",
       "4                     I have a laptob and a desktop.   \n",
       "\n",
       "                                        FANS_COOLING  \\\n",
       "0                                              empty   \n",
       "1  any person out there to get this laptop cause ...   \n",
       "2                computer science student in college   \n",
       "3               my goodness-I am not a happy camper.   \n",
       "4                                   Toshiba netbook,   \n",
       "\n",
       "                                            WARRANTY  \n",
       "0                                              empty  \n",
       "1                                              cheap  \n",
       "2  As a computer science student in college, I fi...  \n",
       "3                             it was out of warranty  \n",
       "4                                              empty  \n",
       "\n",
       "[5 rows x 23 columns]"
      ]
     },
     "execution_count": 35,
     "metadata": {},
     "output_type": "execute_result"
    }
   ],
   "source": [
    "df2.head()"
   ]
  },
  {
   "cell_type": "code",
   "execution_count": 36,
   "metadata": {},
   "outputs": [],
   "source": [
    "df2.to_csv('laptop_test.csv', index=False)"
   ]
  },
  {
   "cell_type": "code",
   "execution_count": null,
   "metadata": {},
   "outputs": [],
   "source": []
  }
 ],
 "metadata": {
  "environment": {
   "name": "tf2-gpu.2-4.m61",
   "type": "gcloud",
   "uri": "gcr.io/deeplearning-platform-release/tf2-gpu.2-4:m61"
  },
  "kernelspec": {
   "display_name": "Python 3",
   "language": "python",
   "name": "python3"
  },
  "language_info": {
   "codemirror_mode": {
    "name": "ipython",
    "version": 3
   },
   "file_extension": ".py",
   "mimetype": "text/x-python",
   "name": "python",
   "nbconvert_exporter": "python",
   "pygments_lexer": "ipython3",
   "version": "3.7.9"
  }
 },
 "nbformat": 4,
 "nbformat_minor": 4
}
