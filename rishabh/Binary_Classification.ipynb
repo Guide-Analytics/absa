{
  "nbformat": 4,
  "nbformat_minor": 0,
  "metadata": {
    "colab": {
      "name": "Binary Classification.ipynb",
      "provenance": [],
      "collapsed_sections": []
    },
    "kernelspec": {
      "name": "python3",
      "display_name": "Python 3"
    }
  },
  "cells": [
    {
      "cell_type": "markdown",
      "metadata": {
        "id": "v5cvGpKp3tBR"
      },
      "source": [
        "## 1) Imports and Preprocessing."
      ]
    },
    {
      "cell_type": "code",
      "metadata": {
        "id": "UvyV9Bgkgasw"
      },
      "source": [
        "import pandas as pd\n",
        "from sklearn import svm\n",
        "import numpy as np\n",
        "import matplotlib.pyplot as plt\n",
        "from sklearn.neighbors import KNeighborsClassifier\n",
        "from sklearn.ensemble import RandomForestClassifier"
      ],
      "execution_count": null,
      "outputs": []
    },
    {
      "cell_type": "code",
      "metadata": {
        "id": "4v7hYPXKgz-D",
        "colab": {
          "base_uri": "https://localhost:8080/",
          "height": 34
        },
        "outputId": "a603c9f0-79bc-45f5-b7a9-10867ccbab84"
      },
      "source": [
        "df = pd.read_csv(\"author_label_data.csv\")\n",
        "df.isnull().any().any() # False means no null values."
      ],
      "execution_count": null,
      "outputs": [
        {
          "output_type": "execute_result",
          "data": {
            "text/plain": [
              "False"
            ]
          },
          "metadata": {
            "tags": []
          },
          "execution_count": 2
        }
      ]
    },
    {
      "cell_type": "code",
      "metadata": {
        "id": "vohwhgz2g59m",
        "colab": {
          "base_uri": "https://localhost:8080/",
          "height": 487
        },
        "outputId": "5b10b267-acfe-468e-8056-9db55a1bcf17"
      },
      "source": [
        "print(df.head())\n",
        "df.describe()"
      ],
      "execution_count": null,
      "outputs": [
        {
          "output_type": "stream",
          "text": [
            "         Reviewer Name  Review Count  ...  Extreme Ratio  Reliability Score\n",
            "0              Matt  F             3  ...       0.666667               0.30\n",
            "1           Julie  Ann             6  ...       0.666667               0.75\n",
            "2       Angie  Targett             3  ...       0.666667               0.55\n",
            "3    Jessica  Draghici             6  ...       0.000000               0.85\n",
            "4  Jeanette  Laliberty             3  ...       1.000000               0.15\n",
            "\n",
            "[5 rows x 26 columns]\n"
          ],
          "name": "stdout"
        },
        {
          "output_type": "execute_result",
          "data": {
            "text/html": [
              "<div>\n",
              "<style scoped>\n",
              "    .dataframe tbody tr th:only-of-type {\n",
              "        vertical-align: middle;\n",
              "    }\n",
              "\n",
              "    .dataframe tbody tr th {\n",
              "        vertical-align: top;\n",
              "    }\n",
              "\n",
              "    .dataframe thead th {\n",
              "        text-align: right;\n",
              "    }\n",
              "</style>\n",
              "<table border=\"1\" class=\"dataframe\">\n",
              "  <thead>\n",
              "    <tr style=\"text-align: right;\">\n",
              "      <th></th>\n",
              "      <th>Review Count</th>\n",
              "      <th>average_descriptive_words</th>\n",
              "      <th>average_action_words</th>\n",
              "      <th>liked_reviews</th>\n",
              "      <th>average_self_reference</th>\n",
              "      <th>average_emotional_words</th>\n",
              "      <th>average_negation_words</th>\n",
              "      <th>high_sentiment_count</th>\n",
              "      <th>low_sentiment_count</th>\n",
              "      <th>lexical_max</th>\n",
              "      <th>lexical_min</th>\n",
              "      <th>lexical_mean</th>\n",
              "      <th>%High Rating</th>\n",
              "      <th>%Low Rating</th>\n",
              "      <th>WC Max</th>\n",
              "      <th>WC Min</th>\n",
              "      <th>WC Median</th>\n",
              "      <th>WC Mean</th>\n",
              "      <th>Total Low Quality Words</th>\n",
              "      <th>Quality Word Percentage</th>\n",
              "      <th>Bodyless Ratio</th>\n",
              "      <th>High Ratio</th>\n",
              "      <th>Low Ratio</th>\n",
              "      <th>Extreme Ratio</th>\n",
              "      <th>Reliability Score</th>\n",
              "    </tr>\n",
              "  </thead>\n",
              "  <tbody>\n",
              "    <tr>\n",
              "      <th>count</th>\n",
              "      <td>1000.000000</td>\n",
              "      <td>1000.000000</td>\n",
              "      <td>1000.000000</td>\n",
              "      <td>1000.000000</td>\n",
              "      <td>1000.000000</td>\n",
              "      <td>1000.000000</td>\n",
              "      <td>1000.000000</td>\n",
              "      <td>1000.000000</td>\n",
              "      <td>1000.000000</td>\n",
              "      <td>1000.000000</td>\n",
              "      <td>1000.000000</td>\n",
              "      <td>1000.000000</td>\n",
              "      <td>1000.000000</td>\n",
              "      <td>1000.000000</td>\n",
              "      <td>1000.000000</td>\n",
              "      <td>1000.000000</td>\n",
              "      <td>1000.000000</td>\n",
              "      <td>1000.000000</td>\n",
              "      <td>1000.000000</td>\n",
              "      <td>1000.000000</td>\n",
              "      <td>1000.0</td>\n",
              "      <td>1000.000000</td>\n",
              "      <td>1000.000000</td>\n",
              "      <td>1000.000000</td>\n",
              "      <td>1000.000000</td>\n",
              "    </tr>\n",
              "    <tr>\n",
              "      <th>mean</th>\n",
              "      <td>8.056000</td>\n",
              "      <td>0.122755</td>\n",
              "      <td>0.046773</td>\n",
              "      <td>0.636000</td>\n",
              "      <td>0.006722</td>\n",
              "      <td>0.008275</td>\n",
              "      <td>0.009933</td>\n",
              "      <td>1.267000</td>\n",
              "      <td>0.073000</td>\n",
              "      <td>0.940610</td>\n",
              "      <td>0.367504</td>\n",
              "      <td>0.579414</td>\n",
              "      <td>76.113882</td>\n",
              "      <td>8.711104</td>\n",
              "      <td>33.601000</td>\n",
              "      <td>4.925000</td>\n",
              "      <td>10.658000</td>\n",
              "      <td>13.497336</td>\n",
              "      <td>0.021000</td>\n",
              "      <td>0.339315</td>\n",
              "      <td>0.0</td>\n",
              "      <td>0.458454</td>\n",
              "      <td>0.047264</td>\n",
              "      <td>0.505718</td>\n",
              "      <td>0.351520</td>\n",
              "    </tr>\n",
              "    <tr>\n",
              "      <th>std</th>\n",
              "      <td>7.524858</td>\n",
              "      <td>0.117322</td>\n",
              "      <td>0.051156</td>\n",
              "      <td>1.837629</td>\n",
              "      <td>0.016810</td>\n",
              "      <td>0.030314</td>\n",
              "      <td>0.023374</td>\n",
              "      <td>1.771115</td>\n",
              "      <td>0.285924</td>\n",
              "      <td>0.183024</td>\n",
              "      <td>0.425089</td>\n",
              "      <td>0.348591</td>\n",
              "      <td>26.021912</td>\n",
              "      <td>17.150453</td>\n",
              "      <td>44.069399</td>\n",
              "      <td>14.282555</td>\n",
              "      <td>23.571023</td>\n",
              "      <td>23.815952</td>\n",
              "      <td>0.150272</td>\n",
              "      <td>0.571205</td>\n",
              "      <td>0.0</td>\n",
              "      <td>0.336600</td>\n",
              "      <td>0.131853</td>\n",
              "      <td>0.334214</td>\n",
              "      <td>0.233589</td>\n",
              "    </tr>\n",
              "    <tr>\n",
              "      <th>min</th>\n",
              "      <td>2.000000</td>\n",
              "      <td>0.000000</td>\n",
              "      <td>0.000000</td>\n",
              "      <td>0.000000</td>\n",
              "      <td>0.000000</td>\n",
              "      <td>0.000000</td>\n",
              "      <td>0.000000</td>\n",
              "      <td>0.000000</td>\n",
              "      <td>0.000000</td>\n",
              "      <td>0.000000</td>\n",
              "      <td>0.000000</td>\n",
              "      <td>0.000000</td>\n",
              "      <td>0.000000</td>\n",
              "      <td>0.000000</td>\n",
              "      <td>0.000000</td>\n",
              "      <td>0.000000</td>\n",
              "      <td>0.000000</td>\n",
              "      <td>0.000000</td>\n",
              "      <td>0.000000</td>\n",
              "      <td>0.000000</td>\n",
              "      <td>0.0</td>\n",
              "      <td>0.000000</td>\n",
              "      <td>0.000000</td>\n",
              "      <td>0.000000</td>\n",
              "      <td>0.010000</td>\n",
              "    </tr>\n",
              "    <tr>\n",
              "      <th>25%</th>\n",
              "      <td>3.000000</td>\n",
              "      <td>0.038462</td>\n",
              "      <td>0.004868</td>\n",
              "      <td>0.000000</td>\n",
              "      <td>0.000000</td>\n",
              "      <td>0.000000</td>\n",
              "      <td>0.000000</td>\n",
              "      <td>0.000000</td>\n",
              "      <td>0.000000</td>\n",
              "      <td>1.000000</td>\n",
              "      <td>0.000000</td>\n",
              "      <td>0.221955</td>\n",
              "      <td>60.000000</td>\n",
              "      <td>0.000000</td>\n",
              "      <td>8.000000</td>\n",
              "      <td>0.000000</td>\n",
              "      <td>0.000000</td>\n",
              "      <td>2.181818</td>\n",
              "      <td>0.000000</td>\n",
              "      <td>0.000000</td>\n",
              "      <td>0.0</td>\n",
              "      <td>0.166667</td>\n",
              "      <td>0.000000</td>\n",
              "      <td>0.250000</td>\n",
              "      <td>0.150000</td>\n",
              "    </tr>\n",
              "    <tr>\n",
              "      <th>50%</th>\n",
              "      <td>5.000000</td>\n",
              "      <td>0.095997</td>\n",
              "      <td>0.031498</td>\n",
              "      <td>0.000000</td>\n",
              "      <td>0.000000</td>\n",
              "      <td>0.000000</td>\n",
              "      <td>0.000000</td>\n",
              "      <td>1.000000</td>\n",
              "      <td>0.000000</td>\n",
              "      <td>1.000000</td>\n",
              "      <td>0.000000</td>\n",
              "      <td>0.661293</td>\n",
              "      <td>83.333333</td>\n",
              "      <td>0.000000</td>\n",
              "      <td>19.000000</td>\n",
              "      <td>0.000000</td>\n",
              "      <td>3.500000</td>\n",
              "      <td>6.000000</td>\n",
              "      <td>0.000000</td>\n",
              "      <td>0.142857</td>\n",
              "      <td>0.0</td>\n",
              "      <td>0.468627</td>\n",
              "      <td>0.000000</td>\n",
              "      <td>0.500000</td>\n",
              "      <td>0.300000</td>\n",
              "    </tr>\n",
              "    <tr>\n",
              "      <th>75%</th>\n",
              "      <td>11.000000</td>\n",
              "      <td>0.169573</td>\n",
              "      <td>0.072917</td>\n",
              "      <td>1.000000</td>\n",
              "      <td>0.006221</td>\n",
              "      <td>0.004462</td>\n",
              "      <td>0.011174</td>\n",
              "      <td>2.000000</td>\n",
              "      <td>0.000000</td>\n",
              "      <td>1.000000</td>\n",
              "      <td>0.818860</td>\n",
              "      <td>0.928800</td>\n",
              "      <td>100.000000</td>\n",
              "      <td>11.111111</td>\n",
              "      <td>42.000000</td>\n",
              "      <td>4.000000</td>\n",
              "      <td>11.500000</td>\n",
              "      <td>15.541667</td>\n",
              "      <td>0.000000</td>\n",
              "      <td>0.500000</td>\n",
              "      <td>0.0</td>\n",
              "      <td>0.714286</td>\n",
              "      <td>0.000000</td>\n",
              "      <td>0.750000</td>\n",
              "      <td>0.500000</td>\n",
              "    </tr>\n",
              "    <tr>\n",
              "      <th>max</th>\n",
              "      <td>51.000000</td>\n",
              "      <td>1.000000</td>\n",
              "      <td>0.500000</td>\n",
              "      <td>42.000000</td>\n",
              "      <td>0.250000</td>\n",
              "      <td>0.500000</td>\n",
              "      <td>0.333333</td>\n",
              "      <td>22.000000</td>\n",
              "      <td>3.000000</td>\n",
              "      <td>1.000000</td>\n",
              "      <td>1.000000</td>\n",
              "      <td>1.000000</td>\n",
              "      <td>100.000000</td>\n",
              "      <td>100.000000</td>\n",
              "      <td>382.000000</td>\n",
              "      <td>240.000000</td>\n",
              "      <td>266.500000</td>\n",
              "      <td>266.500000</td>\n",
              "      <td>2.000000</td>\n",
              "      <td>5.500000</td>\n",
              "      <td>0.0</td>\n",
              "      <td>1.000000</td>\n",
              "      <td>1.000000</td>\n",
              "      <td>1.000000</td>\n",
              "      <td>1.000000</td>\n",
              "    </tr>\n",
              "  </tbody>\n",
              "</table>\n",
              "</div>"
            ],
            "text/plain": [
              "       Review Count  ...  Reliability Score\n",
              "count   1000.000000  ...        1000.000000\n",
              "mean       8.056000  ...           0.351520\n",
              "std        7.524858  ...           0.233589\n",
              "min        2.000000  ...           0.010000\n",
              "25%        3.000000  ...           0.150000\n",
              "50%        5.000000  ...           0.300000\n",
              "75%       11.000000  ...           0.500000\n",
              "max       51.000000  ...           1.000000\n",
              "\n",
              "[8 rows x 25 columns]"
            ]
          },
          "metadata": {
            "tags": []
          },
          "execution_count": 3
        }
      ]
    },
    {
      "cell_type": "code",
      "metadata": {
        "id": "6WCcSz4hQ9Lk"
      },
      "source": [
        "# Converting multiclass problem into binary problem.\n",
        "def func(score):\n",
        "  if score >= 0 and score <= 0.25:\n",
        "    return 0\n",
        "  elif score >= 0.25 and score <= 1:\n",
        "    return 1"
      ],
      "execution_count": null,
      "outputs": []
    },
    {
      "cell_type": "code",
      "metadata": {
        "id": "GpURnBIWRf1g"
      },
      "source": [
        "df['Class'] = df.apply(lambda x: func(x['Reliability Score']), axis = 1)"
      ],
      "execution_count": null,
      "outputs": []
    },
    {
      "cell_type": "code",
      "metadata": {
        "id": "pZxkt7T1t_6X",
        "colab": {
          "base_uri": "https://localhost:8080/",
          "height": 350
        },
        "outputId": "b92cfdda-2230-4fe6-e251-34114a293022"
      },
      "source": [
        "import seaborn as sns\n",
        "import matplotlib.pyplot as plt\n",
        "\n",
        "sns.countplot(x = 'Class', data = df)"
      ],
      "execution_count": null,
      "outputs": [
        {
          "output_type": "stream",
          "text": [
            "/usr/local/lib/python3.6/dist-packages/statsmodels/tools/_testing.py:19: FutureWarning: pandas.util.testing is deprecated. Use the functions in the public API at pandas.testing instead.\n",
            "  import pandas.util.testing as tm\n"
          ],
          "name": "stderr"
        },
        {
          "output_type": "execute_result",
          "data": {
            "text/plain": [
              "<matplotlib.axes._subplots.AxesSubplot at 0x7f992d74e978>"
            ]
          },
          "metadata": {
            "tags": []
          },
          "execution_count": 6
        },
        {
          "output_type": "display_data",
          "data": {
            "image/png": "[encoded data removed]",
            "text/plain": [
              "<Figure size 432x288 with 1 Axes>"
            ]
          },
          "metadata": {
            "tags": [],
            "needs_background": "light"
          }
        }
      ]
    },
    {
      "cell_type": "code",
      "metadata": {
        "id": "OJ6ULJzLjTWw",
        "colab": {
          "base_uri": "https://localhost:8080/",
          "height": 343
        },
        "outputId": "63a39d6c-5843-4fb2-f37b-b1c5d2983094"
      },
      "source": [
        "print(df.shape)\n",
        "df.head()"
      ],
      "execution_count": null,
      "outputs": [
        {
          "output_type": "stream",
          "text": [
            "(1000, 17)\n"
          ],
          "name": "stdout"
        },
        {
          "output_type": "execute_result",
          "data": {
            "text/html": [
              "<div>\n",
              "<style scoped>\n",
              "    .dataframe tbody tr th:only-of-type {\n",
              "        vertical-align: middle;\n",
              "    }\n",
              "\n",
              "    .dataframe tbody tr th {\n",
              "        vertical-align: top;\n",
              "    }\n",
              "\n",
              "    .dataframe thead th {\n",
              "        text-align: right;\n",
              "    }\n",
              "</style>\n",
              "<table border=\"1\" class=\"dataframe\">\n",
              "  <thead>\n",
              "    <tr style=\"text-align: right;\">\n",
              "      <th></th>\n",
              "      <th>ID</th>\n",
              "      <th>Reviewer Name</th>\n",
              "      <th>Review Count</th>\n",
              "      <th>%High Rating</th>\n",
              "      <th>%Low Rating</th>\n",
              "      <th>WC Max</th>\n",
              "      <th>WC Min</th>\n",
              "      <th>WC Median</th>\n",
              "      <th>WC Mean</th>\n",
              "      <th>Total Low Quality Words</th>\n",
              "      <th>Quality Word Percentage</th>\n",
              "      <th>Bodyless Ratio</th>\n",
              "      <th>High Ratio</th>\n",
              "      <th>Low Ratio</th>\n",
              "      <th>Extreme Ratio</th>\n",
              "      <th>Reliability Score</th>\n",
              "      <th>Class</th>\n",
              "    </tr>\n",
              "  </thead>\n",
              "  <tbody>\n",
              "    <tr>\n",
              "      <th>0</th>\n",
              "      <td>0</td>\n",
              "      <td>Matt  F</td>\n",
              "      <td>3</td>\n",
              "      <td>100.000000</td>\n",
              "      <td>0.0</td>\n",
              "      <td>7</td>\n",
              "      <td>5</td>\n",
              "      <td>7.0</td>\n",
              "      <td>6.333333</td>\n",
              "      <td>0</td>\n",
              "      <td>0.333333</td>\n",
              "      <td>0.0</td>\n",
              "      <td>0.666667</td>\n",
              "      <td>0.000000</td>\n",
              "      <td>0.666667</td>\n",
              "      <td>0.30</td>\n",
              "      <td>1</td>\n",
              "    </tr>\n",
              "    <tr>\n",
              "      <th>1</th>\n",
              "      <td>10</td>\n",
              "      <td>Julie  Ann</td>\n",
              "      <td>6</td>\n",
              "      <td>50.000000</td>\n",
              "      <td>50.0</td>\n",
              "      <td>105</td>\n",
              "      <td>3</td>\n",
              "      <td>6.5</td>\n",
              "      <td>29.000000</td>\n",
              "      <td>0</td>\n",
              "      <td>1.000000</td>\n",
              "      <td>0.0</td>\n",
              "      <td>0.500000</td>\n",
              "      <td>0.166667</td>\n",
              "      <td>0.666667</td>\n",
              "      <td>0.75</td>\n",
              "      <td>1</td>\n",
              "    </tr>\n",
              "    <tr>\n",
              "      <th>2</th>\n",
              "      <td>11</td>\n",
              "      <td>Angie  Targett</td>\n",
              "      <td>3</td>\n",
              "      <td>66.666667</td>\n",
              "      <td>0.0</td>\n",
              "      <td>44</td>\n",
              "      <td>9</td>\n",
              "      <td>28.0</td>\n",
              "      <td>27.000000</td>\n",
              "      <td>0</td>\n",
              "      <td>0.333333</td>\n",
              "      <td>0.0</td>\n",
              "      <td>0.666667</td>\n",
              "      <td>0.000000</td>\n",
              "      <td>0.666667</td>\n",
              "      <td>0.55</td>\n",
              "      <td>1</td>\n",
              "    </tr>\n",
              "    <tr>\n",
              "      <th>3</th>\n",
              "      <td>15</td>\n",
              "      <td>Jessica  Draghici</td>\n",
              "      <td>6</td>\n",
              "      <td>83.333333</td>\n",
              "      <td>0.0</td>\n",
              "      <td>22</td>\n",
              "      <td>5</td>\n",
              "      <td>8.5</td>\n",
              "      <td>10.833333</td>\n",
              "      <td>0</td>\n",
              "      <td>0.000000</td>\n",
              "      <td>0.0</td>\n",
              "      <td>0.000000</td>\n",
              "      <td>0.000000</td>\n",
              "      <td>0.000000</td>\n",
              "      <td>0.85</td>\n",
              "      <td>1</td>\n",
              "    </tr>\n",
              "    <tr>\n",
              "      <th>4</th>\n",
              "      <td>117</td>\n",
              "      <td>Jeanette  Laliberty</td>\n",
              "      <td>3</td>\n",
              "      <td>100.000000</td>\n",
              "      <td>0.0</td>\n",
              "      <td>11</td>\n",
              "      <td>4</td>\n",
              "      <td>7.0</td>\n",
              "      <td>7.333333</td>\n",
              "      <td>0</td>\n",
              "      <td>0.333333</td>\n",
              "      <td>0.0</td>\n",
              "      <td>1.000000</td>\n",
              "      <td>0.000000</td>\n",
              "      <td>1.000000</td>\n",
              "      <td>0.15</td>\n",
              "      <td>0</td>\n",
              "    </tr>\n",
              "  </tbody>\n",
              "</table>\n",
              "</div>"
            ],
            "text/plain": [
              "    ID        Reviewer Name  ...  Reliability Score  Class\n",
              "0    0              Matt  F  ...               0.30      1\n",
              "1   10           Julie  Ann  ...               0.75      1\n",
              "2   11       Angie  Targett  ...               0.55      1\n",
              "3   15    Jessica  Draghici  ...               0.85      1\n",
              "4  117  Jeanette  Laliberty  ...               0.15      0\n",
              "\n",
              "[5 rows x 17 columns]"
            ]
          },
          "metadata": {
            "tags": []
          },
          "execution_count": 7
        }
      ]
    },
    {
      "cell_type": "code",
      "metadata": {
        "id": "cwRSOxYjhC_T",
        "colab": {
          "base_uri": "https://localhost:8080/",
          "height": 34
        },
        "outputId": "31239679-79d5-4ff7-9308-97ff4cdbda99"
      },
      "source": [
        "y = df['Class']\n",
        "X = df.drop(columns=['ID', 'Reviewer Name', 'Class', 'Reliability Score'])\n",
        "X.shape"
      ],
      "execution_count": null,
      "outputs": [
        {
          "output_type": "execute_result",
          "data": {
            "text/plain": [
              "(1000, 13)"
            ]
          },
          "metadata": {
            "tags": []
          },
          "execution_count": 8
        }
      ]
    },
    {
      "cell_type": "code",
      "metadata": {
        "id": "ar_ogRMBjdgg"
      },
      "source": [
        "# Splitting data into training and testing data.\n",
        "\n",
        "from sklearn.model_selection import train_test_split\n",
        "X_train, X_test, y_train, y_test = train_test_split(X, y, test_size=0.15, random_state=42)"
      ],
      "execution_count": null,
      "outputs": []
    },
    {
      "cell_type": "code",
      "metadata": {
        "id": "jRs1U2XKjkPY"
      },
      "source": [
        "# Performing PCA on data.\n",
        "\n",
        "from sklearn.decomposition import PCA\n",
        "pca = PCA(random_state=42)\n",
        "pca_train = pca.fit_transform(X_train)"
      ],
      "execution_count": null,
      "outputs": []
    },
    {
      "cell_type": "code",
      "metadata": {
        "id": "eacig6Qwjnsm",
        "colab": {
          "base_uri": "https://localhost:8080/",
          "height": 638
        },
        "outputId": "eee9e33b-827d-445a-8eae-dbc4fcd3eec1"
      },
      "source": [
        "# Plotting cumulative variance as a function of number of prinicipal componenets.\n",
        "\n",
        "cumsum = np.cumsum(pca.explained_variance_ratio_)*100\n",
        "d = [n for n in range(len(cumsum))]\n",
        "plt.figure(figsize=(10, 10))\n",
        "plt.plot(d,cumsum, color = 'blue',label='cumulative explained variance')\n",
        "plt.title('Cumulative Explained Variance as a Function of the Number of Components')\n",
        "plt.ylabel('Cumulative Explained variance')\n",
        "plt.xlabel('Principal components')"
      ],
      "execution_count": null,
      "outputs": [
        {
          "output_type": "execute_result",
          "data": {
            "text/plain": [
              "Text(0.5, 0, 'Principal components')"
            ]
          },
          "metadata": {
            "tags": []
          },
          "execution_count": 12
        },
        {
          "output_type": "display_data",
          "data": {
            "image/png": "[encoded data removed]",
            "text/plain": [
              "<Figure size 720x720 with 1 Axes>"
            ]
          },
          "metadata": {
            "tags": [],
            "needs_background": "light"
          }
        }
      ]
    },
    {
      "cell_type": "code",
      "metadata": {
        "id": "_9x-G74djxtP",
        "colab": {
          "base_uri": "https://localhost:8080/",
          "height": 34
        },
        "outputId": "e6d94164-6d39-447d-e94a-822c92dc0b9d"
      },
      "source": [
        "print(cumsum[4], cumsum[5], cumsum[6])"
      ],
      "execution_count": null,
      "outputs": [
        {
          "output_type": "stream",
          "text": [
            "99.34820310564851 99.89665769183972 99.99020802551959\n"
          ],
          "name": "stdout"
        }
      ]
    },
    {
      "cell_type": "markdown",
      "metadata": {
        "id": "CSA09U9IF5h0"
      },
      "source": [
        "## 2) SVM with RBF Kernel on input data."
      ]
    },
    {
      "cell_type": "code",
      "metadata": {
        "id": "2bmnwe9nj35D",
        "colab": {
          "base_uri": "https://localhost:8080/",
          "height": 969
        },
        "outputId": "49fbad93-18c9-4fe6-c65c-16618feadbbd"
      },
      "source": [
        "from sklearn.svm import SVC\n",
        "from sklearn.metrics import accuracy_score\n",
        "\n",
        "c = [0.01, 0.05, 0.1, 0.5, 1, 2, 5, 10, 20, 50, 100, 200, 500, 1000]\n",
        "\n",
        "for i in c:\n",
        "  clf = SVC(C = i, random_state = 42)\n",
        "  clf.fit(X_train, y_train)\n",
        "  y_pred = clf.predict(X_test)\n",
        "  score = accuracy_score(y_test, y_pred)\n",
        "  print(\"For C = \", i, \", Accuracy is = \", score)\n",
        "  print(\"\\n\\n\")"
      ],
      "execution_count": null,
      "outputs": [
        {
          "output_type": "stream",
          "text": [
            "For C =  0.01 , Accuracy is =  0.58\n",
            "\n",
            "\n",
            "\n",
            "For C =  0.05 , Accuracy is =  0.6733333333333333\n",
            "\n",
            "\n",
            "\n",
            "For C =  0.1 , Accuracy is =  0.68\n",
            "\n",
            "\n",
            "\n",
            "For C =  0.5 , Accuracy is =  0.7\n",
            "\n",
            "\n",
            "\n",
            "For C =  1 , Accuracy is =  0.74\n",
            "\n",
            "\n",
            "\n",
            "For C =  2 , Accuracy is =  0.7333333333333333\n",
            "\n",
            "\n",
            "\n",
            "For C =  5 , Accuracy is =  0.7266666666666667\n",
            "\n",
            "\n",
            "\n",
            "For C =  10 , Accuracy is =  0.7333333333333333\n",
            "\n",
            "\n",
            "\n",
            "For C =  20 , Accuracy is =  0.7533333333333333\n",
            "\n",
            "\n",
            "\n",
            "For C =  50 , Accuracy is =  0.7666666666666667\n",
            "\n",
            "\n",
            "\n",
            "For C =  100 , Accuracy is =  0.76\n",
            "\n",
            "\n",
            "\n",
            "For C =  200 , Accuracy is =  0.76\n",
            "\n",
            "\n",
            "\n",
            "For C =  500 , Accuracy is =  0.7733333333333333\n",
            "\n",
            "\n",
            "\n",
            "For C =  1000 , Accuracy is =  0.8\n",
            "\n",
            "\n",
            "\n"
          ],
          "name": "stdout"
        }
      ]
    },
    {
      "cell_type": "code",
      "metadata": {
        "id": "524usB5h4wXm"
      },
      "source": [
        "# from sklearn.svm import SVC\n",
        "# clf = SVC(C = 0.5, random_state = 42, kernel = 'linear')\n",
        "# clf.fit(X_train, y_train)\n",
        "# y_pred = clf.predict(X_test)\n",
        "# X_test"
      ],
      "execution_count": null,
      "outputs": []
    },
    {
      "cell_type": "code",
      "metadata": {
        "id": "pKINUg375kJp"
      },
      "source": [
        "# y_pred\n",
        "# from sklearn.metrics import accuracy_score\n",
        "# print(accuracy_score(y_test, y_pred))"
      ],
      "execution_count": null,
      "outputs": []
    },
    {
      "cell_type": "markdown",
      "metadata": {
        "id": "hPr6C3eEFzBn"
      },
      "source": [
        "## 3) SVM with Linear Kernel on input data."
      ]
    },
    {
      "cell_type": "code",
      "metadata": {
        "id": "-h3EMMJ5lTsx",
        "colab": {
          "base_uri": "https://localhost:8080/",
          "height": 901
        },
        "outputId": "f4d3d62c-1ddc-405b-ef51-04b58a1578d5"
      },
      "source": [
        "from sklearn.svm import SVC\n",
        "from sklearn.metrics import accuracy_score\n",
        "\n",
        "c = [0.01, 0.05, 0.1, 0.5, 1, 2, 5, 10, 20, 50, 100, 200, 500]\n",
        "\n",
        "for i in c:\n",
        "  clf = SVC(C = i, random_state = 42, kernel = 'linear')\n",
        "  clf.fit(X_train, y_train)\n",
        "  y_pred = clf.predict(X_test)\n",
        "  score = accuracy_score(y_test, y_pred)\n",
        "  print(\"For C = \", i, \", Accuracy is = \", score)\n",
        "  print(\"\\n\\n\")"
      ],
      "execution_count": null,
      "outputs": [
        {
          "output_type": "stream",
          "text": [
            "For C =  0.01 , Accuracy is =  0.7133333333333334\n",
            "\n",
            "\n",
            "\n",
            "For C =  0.05 , Accuracy is =  0.7466666666666667\n",
            "\n",
            "\n",
            "\n",
            "For C =  0.1 , Accuracy is =  0.7533333333333333\n",
            "\n",
            "\n",
            "\n",
            "For C =  0.5 , Accuracy is =  0.7533333333333333\n",
            "\n",
            "\n",
            "\n",
            "For C =  1 , Accuracy is =  0.7533333333333333\n",
            "\n",
            "\n",
            "\n",
            "For C =  2 , Accuracy is =  0.7533333333333333\n",
            "\n",
            "\n",
            "\n",
            "For C =  5 , Accuracy is =  0.7533333333333333\n",
            "\n",
            "\n",
            "\n",
            "For C =  10 , Accuracy is =  0.7533333333333333\n",
            "\n",
            "\n",
            "\n",
            "For C =  20 , Accuracy is =  0.7533333333333333\n",
            "\n",
            "\n",
            "\n",
            "For C =  50 , Accuracy is =  0.76\n",
            "\n",
            "\n",
            "\n",
            "For C =  100 , Accuracy is =  0.7666666666666667\n",
            "\n",
            "\n",
            "\n",
            "For C =  200 , Accuracy is =  0.7666666666666667\n",
            "\n",
            "\n",
            "\n",
            "For C =  500 , Accuracy is =  0.78\n",
            "\n",
            "\n",
            "\n"
          ],
          "name": "stdout"
        }
      ]
    },
    {
      "cell_type": "markdown",
      "metadata": {
        "id": "ykhssyHSFs1q"
      },
      "source": [
        "## 4) SVM with RBF Kernel on PCA modified data."
      ]
    },
    {
      "cell_type": "code",
      "metadata": {
        "id": "T5Tk6R_YlbCh",
        "colab": {
          "base_uri": "https://localhost:8080/",
          "height": 901
        },
        "outputId": "cf56896f-65d6-4365-8242-608c33c21f23"
      },
      "source": [
        "pca = PCA(n_components = 6, random_state = 42)\n",
        "X_1 = pca.fit_transform(X_train)\n",
        "X_2 = pca.transform(X_test)\n",
        "\n",
        "from sklearn.svm import SVC\n",
        "from sklearn.metrics import accuracy_score\n",
        "\n",
        "c = [0.01, 0.05, 0.1, 0.5, 1, 2, 5, 10, 20, 50, 100, 200, 500]\n",
        "\n",
        "for i in c:\n",
        "  clf = SVC(C = i, random_state = 42)\n",
        "  clf.fit(X_1, y_train)\n",
        "  y_pred = clf.predict(X_2)\n",
        "  score = accuracy_score(y_test, y_pred)\n",
        "  print(\"For C = \", i, \", Accuracy is = \", score)\n",
        "  print(\"\\n\\n\")"
      ],
      "execution_count": null,
      "outputs": [
        {
          "output_type": "stream",
          "text": [
            "For C =  0.01 , Accuracy is =  0.7533333333333333\n",
            "\n",
            "\n",
            "\n",
            "For C =  0.05 , Accuracy is =  0.6933333333333334\n",
            "\n",
            "\n",
            "\n",
            "For C =  0.1 , Accuracy is =  0.7066666666666667\n",
            "\n",
            "\n",
            "\n",
            "For C =  0.5 , Accuracy is =  0.7333333333333333\n",
            "\n",
            "\n",
            "\n",
            "For C =  1 , Accuracy is =  0.7333333333333333\n",
            "\n",
            "\n",
            "\n",
            "For C =  2 , Accuracy is =  0.7333333333333333\n",
            "\n",
            "\n",
            "\n",
            "For C =  5 , Accuracy is =  0.7466666666666667\n",
            "\n",
            "\n",
            "\n",
            "For C =  10 , Accuracy is =  0.7666666666666667\n",
            "\n",
            "\n",
            "\n",
            "For C =  20 , Accuracy is =  0.7733333333333333\n",
            "\n",
            "\n",
            "\n",
            "For C =  50 , Accuracy is =  0.7733333333333333\n",
            "\n",
            "\n",
            "\n",
            "For C =  100 , Accuracy is =  0.78\n",
            "\n",
            "\n",
            "\n",
            "For C =  200 , Accuracy is =  0.78\n",
            "\n",
            "\n",
            "\n",
            "For C =  500 , Accuracy is =  0.7666666666666667\n",
            "\n",
            "\n",
            "\n"
          ],
          "name": "stdout"
        }
      ]
    },
    {
      "cell_type": "markdown",
      "metadata": {
        "id": "lYonsK7KvuxQ"
      },
      "source": [
        "## 5) SVM with Linear Kernel on PCA modified data."
      ]
    },
    {
      "cell_type": "code",
      "metadata": {
        "id": "CSv1-DjVlxPN",
        "colab": {
          "base_uri": "https://localhost:8080/",
          "height": 901
        },
        "outputId": "040d37b6-6cbd-4ed6-8cb2-cdc1464b93d8"
      },
      "source": [
        "from sklearn.svm import SVC\n",
        "from sklearn.metrics import accuracy_score\n",
        "\n",
        "c = [0.01, 0.05, 0.1, 0.5, 1, 2, 5, 10, 20, 50, 100, 200, 500]\n",
        "\n",
        "for i in c:\n",
        "  clf = SVC(C = i, random_state = 42, kernel = 'linear')\n",
        "  clf.fit(X_1, y_train)\n",
        "  y_pred = clf.predict(X_2)\n",
        "  score = accuracy_score(y_test, y_pred)\n",
        "  print(\"For C = \", i, \", Accuracy is = \", score)\n",
        "  print(\"\\n\\n\")"
      ],
      "execution_count": null,
      "outputs": [
        {
          "output_type": "stream",
          "text": [
            "For C =  0.01 , Accuracy is =  0.7266666666666667\n",
            "\n",
            "\n",
            "\n",
            "For C =  0.05 , Accuracy is =  0.7266666666666667\n",
            "\n",
            "\n",
            "\n",
            "For C =  0.1 , Accuracy is =  0.7266666666666667\n",
            "\n",
            "\n",
            "\n",
            "For C =  0.5 , Accuracy is =  0.7266666666666667\n",
            "\n",
            "\n",
            "\n",
            "For C =  1 , Accuracy is =  0.7266666666666667\n",
            "\n",
            "\n",
            "\n",
            "For C =  2 , Accuracy is =  0.7266666666666667\n",
            "\n",
            "\n",
            "\n",
            "For C =  5 , Accuracy is =  0.7266666666666667\n",
            "\n",
            "\n",
            "\n",
            "For C =  10 , Accuracy is =  0.7266666666666667\n",
            "\n",
            "\n",
            "\n",
            "For C =  20 , Accuracy is =  0.7266666666666667\n",
            "\n",
            "\n",
            "\n",
            "For C =  50 , Accuracy is =  0.7266666666666667\n",
            "\n",
            "\n",
            "\n",
            "For C =  100 , Accuracy is =  0.7266666666666667\n",
            "\n",
            "\n",
            "\n",
            "For C =  200 , Accuracy is =  0.7266666666666667\n",
            "\n",
            "\n",
            "\n",
            "For C =  500 , Accuracy is =  0.7333333333333333\n",
            "\n",
            "\n",
            "\n"
          ],
          "name": "stdout"
        }
      ]
    },
    {
      "cell_type": "markdown",
      "metadata": {
        "id": "ud0zjYABveL0"
      },
      "source": [
        "## 6) Save the final model as a pickle object which can be loaded later to make predictions."
      ]
    },
    {
      "cell_type": "code",
      "metadata": {
        "id": "HeNd4y4OvJmI"
      },
      "source": [
        "clf = SVC(C = 1000, random_state = 42)\n",
        "clf.fit(X_train, y_train)"
      ],
      "execution_count": null,
      "outputs": []
    },
    {
      "cell_type": "code",
      "metadata": {
        "id": "YXlRfng8vWIi"
      },
      "source": [
        "import cPickle\n",
        "# Save the classifier.\n",
        "with open('binary_classifier.pkl', 'wb') as fid:\n",
        "    cPickle.dump(clf, fid) \n",
        "\n",
        "# Classifier will be saved as 'binary_classifier.pkl' in the folder where the notebook exists."
      ],
      "execution_count": null,
      "outputs": []
    }
  ]
}
