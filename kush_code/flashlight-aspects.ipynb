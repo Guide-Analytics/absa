{
 "cells": [
  {
   "cell_type": "markdown",
   "metadata": {},
   "source": [
    "Based on [Rishabh code](https://gitlab.com/gide-analytics/author-analysis/absa/-/tree/master/rishabh) rule-based output file `B000LJWV4S.csv`"
   ]
  },
  {
   "cell_type": "code",
   "execution_count": 26,
   "metadata": {},
   "outputs": [],
   "source": [
    "import pandas as pd\n",
    "import ast \n",
    "import collections\n",
    "import operator\n",
    "import numpy as np\n",
    "\n",
    "df = pd.read_csv('B000LJWV4S.csv')"
   ]
  },
  {
   "cell_type": "code",
   "execution_count": 2,
   "metadata": {},
   "outputs": [],
   "source": [
    "aspects = [ast.literal_eval(a) for a in df['asba'] if ast.literal_eval(a) != {}]"
   ]
  },
  {
   "cell_type": "code",
   "execution_count": 29,
   "metadata": {},
   "outputs": [],
   "source": [
    "def get_freq_aspects():\n",
    "    counter = collections.Counter()\n",
    "\n",
    "    for aspect in aspects:\n",
    "        counter.update(aspect)\n",
    "\n",
    "    return sorted(c.items(), key=operator.itemgetter(1))"
   ]
  },
  {
   "cell_type": "code",
   "execution_count": 30,
   "metadata": {},
   "outputs": [],
   "source": [
    "features = [a[0] for a in get_freq_aspects()[-20:]]"
   ]
  },
  {
   "cell_type": "code",
   "execution_count": 34,
   "metadata": {},
   "outputs": [],
   "source": [
    "def get_sentiment_count():\n",
    "    sentiment = {}\n",
    "\n",
    "    for feature in features:\n",
    "        sentiment[feature] = 0\n",
    "        \n",
    "    for feature in features:\n",
    "        for aspect_dict in aspects:\n",
    "            if aspect_dict.get(feature,0) and (aspect_dict[feature] == 1):\n",
    "                sentiment[feature] += aspect_dict[feature]\n",
    "    \n",
    "    return sentiment"
   ]
  },
  {
   "cell_type": "code",
   "execution_count": 36,
   "metadata": {},
   "outputs": [],
   "source": [
    "def get_aspect_sentiment():\n",
    "    aggregated = {}\n",
    "\n",
    "    for feature in features:\n",
    "        aggregated[feature] = sentiment[feature] / c[feature]\n",
    "    \n",
    "    return aggregated"
   ]
  },
  {
   "cell_type": "code",
   "execution_count": 37,
   "metadata": {},
   "outputs": [
    {
     "data": {
      "text/plain": [
       "{'visibility': 3.0,\n",
       " 'sturdy': 3.0,\n",
       " 'quality': 3.0,\n",
       " 'shipping': 3.0,\n",
       " 'profile': 3.0,\n",
       " 'buy': 3.0,\n",
       " 'feel': 3.0,\n",
       " 'version': 3.0,\n",
       " 'charge': 3.0,\n",
       " 'item': 3.0,\n",
       " 'you': 3.0,\n",
       " 'life': 3.0,\n",
       " 'lights': 3.0,\n",
       " 'beam': 3.0,\n",
       " 'price': 3.0,\n",
       " 'battery life': 3.0,\n",
       " 'product': 3.230769230769231,\n",
       " 'it': 2.357142857142857,\n",
       " 'flashlight': 3.0,\n",
       " 'light': 2.538787023977433}"
      ]
     },
     "execution_count": 37,
     "metadata": {},
     "output_type": "execute_result"
    }
   ],
   "source": [
    "get_aspect_sentiment()"
   ]
  }
 ],
 "metadata": {
  "kernelspec": {
   "display_name": "Python 3",
   "language": "python",
   "name": "python3"
  },
  "language_info": {
   "codemirror_mode": {
    "name": "ipython",
    "version": 3
   },
   "file_extension": ".py",
   "mimetype": "text/x-python",
   "name": "python",
   "nbconvert_exporter": "python",
   "pygments_lexer": "ipython3",
   "version": "3.8.5"
  }
 },
 "nbformat": 4,
 "nbformat_minor": 4
}
