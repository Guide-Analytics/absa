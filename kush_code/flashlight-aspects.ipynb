{
 "cells": [
  {
   "cell_type": "markdown",
   "metadata": {},
   "source": [
    "Based on [Rishabh code](https://gitlab.com/gide-analytics/author-analysis/absa/-/tree/master/rishabh) rule-based output file `B000LJWV4S.csv`"
   ]
  },
  {
   "cell_type": "code",
   "execution_count": 28,
   "metadata": {},
   "outputs": [],
   "source": [
    "import pandas as pd\n",
    "import ast \n",
    "import collections\n",
    "import operator\n",
    "import numpy as np\n",
    "\n",
    "df = pd.read_csv('B000LJWV4S.csv')\n",
    "counter = collections.Counter()"
   ]
  },
  {
   "cell_type": "code",
   "execution_count": 29,
   "metadata": {},
   "outputs": [],
   "source": [
    "aspects = [ast.literal_eval(a) for a in df['asba'] if ast.literal_eval(a) != {}]"
   ]
  },
  {
   "cell_type": "code",
   "execution_count": 30,
   "metadata": {},
   "outputs": [],
   "source": [
    "def get_freq_aspects():\n",
    "\n",
    "    for aspect in aspects:\n",
    "        counter.update(aspect)\n",
    "\n",
    "    return sorted(counter.items(), key=operator.itemgetter(1))"
   ]
  },
  {
   "cell_type": "code",
   "execution_count": 31,
   "metadata": {},
   "outputs": [],
   "source": [
    "features = [a[0] for a in get_freq_aspects()[-20:]]"
   ]
  },
  {
   "cell_type": "code",
   "execution_count": 32,
   "metadata": {},
   "outputs": [],
   "source": [
    "def get_sentiment_count():\n",
    "    sentiment = {}\n",
    "\n",
    "    for feature in features:\n",
    "        sentiment[feature] = 0\n",
    "        \n",
    "    for feature in features:\n",
    "        for aspect_dict in aspects:\n",
    "            if aspect_dict.get(feature,0) and (aspect_dict[feature] == 1):\n",
    "                sentiment[feature] += aspect_dict[feature]\n",
    "    \n",
    "    return sentiment"
   ]
  },
  {
   "cell_type": "code",
   "execution_count": 33,
   "metadata": {},
   "outputs": [],
   "source": [
    "def get_aspect_sentiment(sentiment):\n",
    "    aggregated = {}\n",
    "\n",
    "    for feature in features:\n",
    "        aggregated[feature] = sentiment[feature] / counter[feature]\n",
    "    \n",
    "    return aggregated"
   ]
  },
  {
   "cell_type": "code",
   "execution_count": 35,
   "metadata": {},
   "outputs": [
    {
     "data": {
      "text/plain": [
       "{'visibility': 1.0,\n",
       " 'sturdy': 1.0,\n",
       " 'quality': 1.0,\n",
       " 'shipping': 1.0,\n",
       " 'profile': 1.0,\n",
       " 'buy': 1.0,\n",
       " 'feel': 1.0,\n",
       " 'version': 1.0,\n",
       " 'charge': 1.0,\n",
       " 'item': 1.0,\n",
       " 'you': 1.0,\n",
       " 'life': 1.0,\n",
       " 'lights': 1.0,\n",
       " 'beam': 1.0,\n",
       " 'price': 1.0,\n",
       " 'battery life': 1.0,\n",
       " 'product': 1.0769230769230769,\n",
       " 'it': 0.7857142857142857,\n",
       " 'flashlight': 1.0,\n",
       " 'light': 0.846262341325811}"
      ]
     },
     "execution_count": 35,
     "metadata": {},
     "output_type": "execute_result"
    }
   ],
   "source": [
    "get_aspect_sentiment(get_sentiment_count())"
   ]
  },
  {
   "cell_type": "code",
   "execution_count": null,
   "metadata": {},
   "outputs": [],
   "source": []
  }
 ],
 "metadata": {
  "kernelspec": {
   "display_name": "Python 3",
   "language": "python",
   "name": "python3"
  },
  "language_info": {
   "codemirror_mode": {
    "name": "ipython",
    "version": 3
   },
   "file_extension": ".py",
   "mimetype": "text/x-python",
   "name": "python",
   "nbconvert_exporter": "python",
   "pygments_lexer": "ipython3",
   "version": "3.7.6"
  }
 },
 "nbformat": 4,
 "nbformat_minor": 4
}
