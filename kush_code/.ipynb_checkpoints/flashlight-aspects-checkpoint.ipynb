{
 "cells": [
  {
   "cell_type": "markdown",
   "metadata": {},
   "source": [
    "Based on [Rishabh code](https://gitlab.com/gide-analytics/author-analysis/absa/-/tree/master/rishabh) rule-based output file `B000LJWV4S.csv`"
   ]
  },
  {
   "cell_type": "code",
   "execution_count": 1,
   "metadata": {},
   "outputs": [],
   "source": [
    "import pandas as pd\n",
    "import ast \n",
    "import nltk\n",
    "import collections\n",
    "import operator\n",
    "import numpy as np\n",
    "\n",
    "df = pd.read_csv('B000LJWV4S.csv')"
   ]
  },
  {
   "cell_type": "code",
   "execution_count": 2,
   "metadata": {},
   "outputs": [],
   "source": [
    "aspects = [ast.literal_eval(a) for a in df['asba'] if ast.literal_eval(a) != {}]"
   ]
  },
  {
   "cell_type": "code",
   "execution_count": 3,
   "metadata": {},
   "outputs": [],
   "source": [
    "c = collections.Counter()\n",
    "\n",
    "for aspect in aspects:\n",
    "    c.update(aspect)\n",
    "\n",
    "sorted_d = sorted(c.items(), key=operator.itemgetter(1))"
   ]
  },
  {
   "cell_type": "code",
   "execution_count": 10,
   "metadata": {},
   "outputs": [],
   "source": [
    "features = [a[0] for a in sorted_d[-10:]]"
   ]
  },
  {
   "cell_type": "code",
   "execution_count": 11,
   "metadata": {},
   "outputs": [],
   "source": [
    "sentiment = {}\n",
    "\n",
    "for feature in features:\n",
    "    sentiment[feature] = 0"
   ]
  },
  {
   "cell_type": "code",
   "execution_count": 12,
   "metadata": {},
   "outputs": [],
   "source": [
    "for feature in features:\n",
    "    for aspect_dict in aspects:\n",
    "        if aspect_dict.get(feature,0) and (aspect_dict[feature] == 1):\n",
    "            sentiment[feature] += aspect_dict[feature]"
   ]
  },
  {
   "cell_type": "code",
   "execution_count": 14,
   "metadata": {},
   "outputs": [],
   "source": [
    "aggregated = {}\n",
    "\n",
    "for feature in features:\n",
    "    aggregated[feature] = sentiment[feature] / c[feature]"
   ]
  },
  {
   "cell_type": "code",
   "execution_count": 15,
   "metadata": {},
   "outputs": [
    {
     "data": {
      "text/plain": [
       "{'you': 1.0,\n",
       " 'life': 1.0,\n",
       " 'lights': 1.0,\n",
       " 'beam': 1.0,\n",
       " 'price': 1.0,\n",
       " 'battery life': 1.0,\n",
       " 'product': 1.0769230769230769,\n",
       " 'it': 0.7857142857142857,\n",
       " 'flashlight': 1.0,\n",
       " 'light': 0.846262341325811}"
      ]
     },
     "execution_count": 15,
     "metadata": {},
     "output_type": "execute_result"
    }
   ],
   "source": [
    "aggregated"
   ]
  }
 ],
 "metadata": {
  "kernelspec": {
   "display_name": "Python 3",
   "language": "python",
   "name": "python3"
  },
  "language_info": {
   "codemirror_mode": {
    "name": "ipython",
    "version": 3
   },
   "file_extension": ".py",
   "mimetype": "text/x-python",
   "name": "python",
   "nbconvert_exporter": "python",
   "pygments_lexer": "ipython3",
   "version": "3.8.5"
  }
 },
 "nbformat": 4,
 "nbformat_minor": 4
}
