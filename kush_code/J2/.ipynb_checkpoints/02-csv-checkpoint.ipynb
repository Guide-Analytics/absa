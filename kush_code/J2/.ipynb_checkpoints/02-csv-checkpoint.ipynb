{
 "cells": [
  {
   "cell_type": "code",
   "execution_count": 261,
   "metadata": {},
   "outputs": [],
   "source": [
    "import pandas as pd\n",
    "import ast \n",
    "import collections\n",
    "import operator\n",
    "import numpy as np"
   ]
  },
  {
   "cell_type": "code",
   "execution_count": 262,
   "metadata": {},
   "outputs": [
    {
     "name": "stdout",
     "output_type": "stream",
     "text": [
      "total 18064\r\n",
      "-rwxr-xr-x@ 1 kushthaker  staff   694K 12 Nov 14:49 B06ZZ65855.csv\r\n",
      "-rwxr-xr-x@ 1 kushthaker  staff   665K 12 Nov 11:16 B010ESCLHW.csv\r\n",
      "-rwxr-xr-x@ 1 kushthaker  staff   663K 12 Nov 11:53 B00I14HLLS.csv\r\n",
      "-rwxr-xr-x@ 1 kushthaker  staff   558K 12 Nov 15:05 B00OH5MIPO.csv\r\n"
     ]
    }
   ],
   "source": [
    "!ls -lh -S main_product/ | head -5"
   ]
  },
  {
   "cell_type": "code",
   "execution_count": 263,
   "metadata": {},
   "outputs": [],
   "source": [
    "df1 = pd.read_csv('main_product/B001NZO85O.csv')\n",
    "df2 = pd.read_csv('main_product/B00OH5MIPO.csv')"
   ]
  },
  {
   "cell_type": "code",
   "execution_count": 264,
   "metadata": {},
   "outputs": [
    {
     "data": {
      "text/plain": [
       "array([ True,  True,  True,  True,  True,  True,  True,  True,  True,\n",
       "        True,  True,  True,  True,  True,  True,  True,  True,  True,\n",
       "        True,  True,  True])"
      ]
     },
     "execution_count": 264,
     "metadata": {},
     "output_type": "execute_result"
    }
   ],
   "source": [
    "df1.columns == df2.columns"
   ]
  },
  {
   "cell_type": "code",
   "execution_count": 265,
   "metadata": {},
   "outputs": [],
   "source": [
    "!ls main_product/ > lights.txt"
   ]
  },
  {
   "cell_type": "code",
   "execution_count": 266,
   "metadata": {},
   "outputs": [],
   "source": [
    "with open('lights.txt','r') as l:\n",
    "    csvs = [f.strip() for f in l.read().split('\\n') if f != '']\n",
    "    \n",
    "df = pd.read_csv('main_product/' + csvs[0])\n",
    "    \n",
    "for csv in csvs[1:]:\n",
    "    df = pd.concat([df, pd.read_csv('main_product/' + csv)])"
   ]
  },
  {
   "cell_type": "code",
   "execution_count": 267,
   "metadata": {},
   "outputs": [
    {
     "name": "stdout",
     "output_type": "stream",
     "text": [
      "18.43407 MB\n"
     ]
    }
   ],
   "source": [
    "import sys; print(sys.getsizeof(df) * 1.e-6, 'MB')"
   ]
  },
  {
   "cell_type": "markdown",
   "metadata": {},
   "source": [
    "list of helper functions for `df_products`"
   ]
  },
  {
   "cell_type": "code",
   "execution_count": 268,
   "metadata": {},
   "outputs": [],
   "source": [
    "def get_mass(dim_string):\n",
    "    if dim_string == 0:\n",
    "        return 0.00\n",
    "    else:\n",
    "        grams = np.array(dim_string.split(';')[1].split(' ')[1]).astype(np.float)\n",
    "        grams = np.prod(grams)\n",
    "        return np.around(grams,2)\n",
    "\n",
    "def get_volume(dim_string):\n",
    "    if dim_string == 0:\n",
    "        return 0.00\n",
    "    # get density of flashlight in grams / m^3 \n",
    "    else:\n",
    "        dims = [dim.strip() for dim in dim_string.split(';')[0].split('x')]\n",
    "        dims[-1] = dims[-1][:-3]\n",
    "        dims = np.array(dims).astype(np.float)\n",
    "        volume_m = np.prod(dims) / 100 # convert metres\n",
    "        return np.around(volume_m,2)\n",
    "    \n",
    "def convert_meta_to_dict(row):\n",
    "    row['meta'] = ast.literal_eval(row.meta)\n",
    "    return row\n",
    "\n",
    "def add_mass(row):\n",
    "    row['mass'] = get_mass(row.meta.get('product dimensions',0))\n",
    "    return row\n",
    "\n",
    "def add_volume(row):\n",
    "    row['volume'] = get_volume(row.meta.get('product dimensions',0))\n",
    "    return row\n",
    "\n",
    "def get_price(row):\n",
    "    row['price'] = df.loc[df.product_id == row.id, ['price']].values[0][0].astype(np.float)\n",
    "    return row\n",
    "\n",
    "def get_rating(row):\n",
    "    row['rating'] = df.loc[df.product_id == row.id, ['average_rating']].values[0][0].astype(np.float)\n",
    "    return row\n",
    "\n",
    "def get_image_url(row):\n",
    "    row['image_url'] = df.loc[df.product_id == row.id, ['product_image_url']].values[0][0]\n",
    "    return row"
   ]
  },
  {
   "cell_type": "code",
   "execution_count": 269,
   "metadata": {},
   "outputs": [],
   "source": [
    "df_products = pd.DataFrame({'id':df.product_id.unique(), \n",
    "                            'product':df.product_name.unique(), \n",
    "                            'meta':[meta for meta in df.meta_data.unique() if type(meta) == str ]\n",
    "                           })"
   ]
  },
  {
   "cell_type": "code",
   "execution_count": 270,
   "metadata": {},
   "outputs": [],
   "source": [
    "df_products = df_products.apply(get_price, axis=1)\n",
    "df_products = df_products.apply(get_rating, axis=1)\n",
    "df_products = df_products.apply(get_image_url, axis=1)\n",
    "df_products = df_products.apply(convert_meta_to_dict, axis=1)\n",
    "df_products = df_products.apply(add_mass, axis=1)\n",
    "df_products = df_products.apply(add_volume, axis=1)"
   ]
  },
  {
   "cell_type": "code",
   "execution_count": 271,
   "metadata": {},
   "outputs": [
    {
     "data": {
      "text/html": [
       "<div>\n",
       "<style scoped>\n",
       "    .dataframe tbody tr th:only-of-type {\n",
       "        vertical-align: middle;\n",
       "    }\n",
       "\n",
       "    .dataframe tbody tr th {\n",
       "        vertical-align: top;\n",
       "    }\n",
       "\n",
       "    .dataframe thead th {\n",
       "        text-align: right;\n",
       "    }\n",
       "</style>\n",
       "<table border=\"1\" class=\"dataframe\">\n",
       "  <thead>\n",
       "    <tr style=\"text-align: right;\">\n",
       "      <th></th>\n",
       "      <th>id</th>\n",
       "      <th>product</th>\n",
       "      <th>meta</th>\n",
       "      <th>price</th>\n",
       "      <th>rating</th>\n",
       "      <th>image_url</th>\n",
       "      <th>mass</th>\n",
       "      <th>volume</th>\n",
       "    </tr>\n",
       "  </thead>\n",
       "  <tbody>\n",
       "    <tr>\n",
       "      <th>0</th>\n",
       "      <td>B001NZO85O</td>\n",
       "      <td>Fenix Flashlight Headband (Fits Lights with 18...</td>\n",
       "      <td>{'product dimensions': '10 x 10 x 10 cm; 68.04...</td>\n",
       "      <td>36.47</td>\n",
       "      <td>4.2</td>\n",
       "      <td>https://images-na.ssl-images-amazon.com/images...</td>\n",
       "      <td>68.04</td>\n",
       "      <td>10.00</td>\n",
       "    </tr>\n",
       "    <tr>\n",
       "      <th>1</th>\n",
       "      <td>B005CWRB44</td>\n",
       "      <td>Fenix Compact 140 Lumen Flashlight</td>\n",
       "      <td>{'item weight': '0.81 Ounces', 'number of piec...</td>\n",
       "      <td>81.71</td>\n",
       "      <td>4.0</td>\n",
       "      <td>https://images-na.ssl-images-amazon.com/images...</td>\n",
       "      <td>0.00</td>\n",
       "      <td>0.00</td>\n",
       "    </tr>\n",
       "    <tr>\n",
       "      <th>2</th>\n",
       "      <td>B0062PVSGW</td>\n",
       "      <td>Fenix Pd32-R5 Cree Xp-G Led Flashlight</td>\n",
       "      <td>{'product dimensions': '2.4 x 12.7 x 2.4 cm; 6...</td>\n",
       "      <td>129.65</td>\n",
       "      <td>4.5</td>\n",
       "      <td>https://images-na.ssl-images-amazon.com/images...</td>\n",
       "      <td>60.95</td>\n",
       "      <td>0.73</td>\n",
       "    </tr>\n",
       "    <tr>\n",
       "      <th>3</th>\n",
       "      <td>B0091TRPVI</td>\n",
       "      <td>Fenix E25 Flashlight-187 Lumens</td>\n",
       "      <td>{'product dimensions': '2.4 x 14.6 x 2.4 cm; 7...</td>\n",
       "      <td>118.45</td>\n",
       "      <td>3.9</td>\n",
       "      <td>https://images-na.ssl-images-amazon.com/images...</td>\n",
       "      <td>73.71</td>\n",
       "      <td>0.84</td>\n",
       "    </tr>\n",
       "    <tr>\n",
       "      <th>4</th>\n",
       "      <td>B00937X7G0</td>\n",
       "      <td>Nitecore MT2A CREE XP-G R5 LED 280 Lumen Multi...</td>\n",
       "      <td>{'manufacturer': 'Nitecore', 'part number': 'M...</td>\n",
       "      <td>59.94</td>\n",
       "      <td>4.2</td>\n",
       "      <td>https://images-na.ssl-images-amazon.com/images...</td>\n",
       "      <td>66.90</td>\n",
       "      <td>0.78</td>\n",
       "    </tr>\n",
       "    <tr>\n",
       "      <th>...</th>\n",
       "      <td>...</td>\n",
       "      <td>...</td>\n",
       "      <td>...</td>\n",
       "      <td>...</td>\n",
       "      <td>...</td>\n",
       "      <td>...</td>\n",
       "      <td>...</td>\n",
       "      <td>...</td>\n",
       "    </tr>\n",
       "    <tr>\n",
       "      <th>85</th>\n",
       "      <td>B0841RSDCR</td>\n",
       "      <td>Nitecore E4K 4400 Lumen high powered Flashligh...</td>\n",
       "      <td>{'manufacturer': 'Nitecore Flashlights', 'parc...</td>\n",
       "      <td>110.00</td>\n",
       "      <td>4.5</td>\n",
       "      <td>https://images-na.ssl-images-amazon.com/images...</td>\n",
       "      <td>0.00</td>\n",
       "      <td>0.00</td>\n",
       "    </tr>\n",
       "    <tr>\n",
       "      <th>86</th>\n",
       "      <td>B086PW9TTP</td>\n",
       "      <td>ACEBEAM E10 LED Flashlight, 760 Lumens, Long T...</td>\n",
       "      <td>{'manufacturer': 'ZENBON', 'part number': 'E10...</td>\n",
       "      <td>73.55</td>\n",
       "      <td>4.5</td>\n",
       "      <td>https://images-na.ssl-images-amazon.com/images...</td>\n",
       "      <td>148.00</td>\n",
       "      <td>1.08</td>\n",
       "    </tr>\n",
       "    <tr>\n",
       "      <th>87</th>\n",
       "      <td>B087CG1YW6</td>\n",
       "      <td>Fenix PD40R v2 3000 Lumen Mechanical Rotary Sw...</td>\n",
       "      <td>{'manufacturer': 'Fenix Flashlights', 'part nu...</td>\n",
       "      <td>NaN</td>\n",
       "      <td>4.5</td>\n",
       "      <td>https://images-na.ssl-images-amazon.com/images...</td>\n",
       "      <td>117.08</td>\n",
       "      <td>1.19</td>\n",
       "    </tr>\n",
       "    <tr>\n",
       "      <th>88</th>\n",
       "      <td>B08BTQ2T4C</td>\n",
       "      <td>Fenix E03R 260 Lumen Rechargeable EDC Keychain...</td>\n",
       "      <td>{'manufacturer': 'Fenix Flashlights', 'part nu...</td>\n",
       "      <td>NaN</td>\n",
       "      <td>4.9</td>\n",
       "      <td>https://images-na.ssl-images-amazon.com/images...</td>\n",
       "      <td>22.11</td>\n",
       "      <td>0.13</td>\n",
       "    </tr>\n",
       "    <tr>\n",
       "      <th>89</th>\n",
       "      <td>B08DCSF6ZX</td>\n",
       "      <td>ACEBEAM L17 1400 Lumens 802m Long Range Throw ...</td>\n",
       "      <td>{'manufacturer': 'Zenbon', 'part number': 'L17...</td>\n",
       "      <td>90.00</td>\n",
       "      <td>4.7</td>\n",
       "      <td>https://images-na.ssl-images-amazon.com/images...</td>\n",
       "      <td>272.00</td>\n",
       "      <td>1.43</td>\n",
       "    </tr>\n",
       "  </tbody>\n",
       "</table>\n",
       "<p>90 rows × 8 columns</p>\n",
       "</div>"
      ],
      "text/plain": [
       "            id                                            product  \\\n",
       "0   B001NZO85O  Fenix Flashlight Headband (Fits Lights with 18...   \n",
       "1   B005CWRB44                 Fenix Compact 140 Lumen Flashlight   \n",
       "2   B0062PVSGW             Fenix Pd32-R5 Cree Xp-G Led Flashlight   \n",
       "3   B0091TRPVI                    Fenix E25 Flashlight-187 Lumens   \n",
       "4   B00937X7G0  Nitecore MT2A CREE XP-G R5 LED 280 Lumen Multi...   \n",
       "..         ...                                                ...   \n",
       "85  B0841RSDCR  Nitecore E4K 4400 Lumen high powered Flashligh...   \n",
       "86  B086PW9TTP  ACEBEAM E10 LED Flashlight, 760 Lumens, Long T...   \n",
       "87  B087CG1YW6  Fenix PD40R v2 3000 Lumen Mechanical Rotary Sw...   \n",
       "88  B08BTQ2T4C  Fenix E03R 260 Lumen Rechargeable EDC Keychain...   \n",
       "89  B08DCSF6ZX  ACEBEAM L17 1400 Lumens 802m Long Range Throw ...   \n",
       "\n",
       "                                                 meta   price  rating  \\\n",
       "0   {'product dimensions': '10 x 10 x 10 cm; 68.04...   36.47     4.2   \n",
       "1   {'item weight': '0.81 Ounces', 'number of piec...   81.71     4.0   \n",
       "2   {'product dimensions': '2.4 x 12.7 x 2.4 cm; 6...  129.65     4.5   \n",
       "3   {'product dimensions': '2.4 x 14.6 x 2.4 cm; 7...  118.45     3.9   \n",
       "4   {'manufacturer': 'Nitecore', 'part number': 'M...   59.94     4.2   \n",
       "..                                                ...     ...     ...   \n",
       "85  {'manufacturer': 'Nitecore Flashlights', 'parc...  110.00     4.5   \n",
       "86  {'manufacturer': 'ZENBON', 'part number': 'E10...   73.55     4.5   \n",
       "87  {'manufacturer': 'Fenix Flashlights', 'part nu...     NaN     4.5   \n",
       "88  {'manufacturer': 'Fenix Flashlights', 'part nu...     NaN     4.9   \n",
       "89  {'manufacturer': 'Zenbon', 'part number': 'L17...   90.00     4.7   \n",
       "\n",
       "                                            image_url    mass  volume  \n",
       "0   https://images-na.ssl-images-amazon.com/images...   68.04   10.00  \n",
       "1   https://images-na.ssl-images-amazon.com/images...    0.00    0.00  \n",
       "2   https://images-na.ssl-images-amazon.com/images...   60.95    0.73  \n",
       "3   https://images-na.ssl-images-amazon.com/images...   73.71    0.84  \n",
       "4   https://images-na.ssl-images-amazon.com/images...   66.90    0.78  \n",
       "..                                                ...     ...     ...  \n",
       "85  https://images-na.ssl-images-amazon.com/images...    0.00    0.00  \n",
       "86  https://images-na.ssl-images-amazon.com/images...  148.00    1.08  \n",
       "87  https://images-na.ssl-images-amazon.com/images...  117.08    1.19  \n",
       "88  https://images-na.ssl-images-amazon.com/images...   22.11    0.13  \n",
       "89  https://images-na.ssl-images-amazon.com/images...  272.00    1.43  \n",
       "\n",
       "[90 rows x 8 columns]"
      ]
     },
     "execution_count": 271,
     "metadata": {},
     "output_type": "execute_result"
    }
   ],
   "source": [
    "df_products"
   ]
  },
  {
   "cell_type": "markdown",
   "metadata": {},
   "source": [
    "next steps get manual df"
   ]
  },
  {
   "cell_type": "code",
   "execution_count": 293,
   "metadata": {},
   "outputs": [],
   "source": [
    "df_manual = pd.read_csv('j2-urls.csv')\n",
    "df_manual = df_manual[['Size','Max Throw (yards)','Lumen','Brand','Product','Link']]\n",
    "df_manual = df_manual.loc[df_manual['Link'].isna() == False]"
   ]
  },
  {
   "cell_type": "code",
   "execution_count": 294,
   "metadata": {},
   "outputs": [],
   "source": [
    "import re\n",
    "\n",
    "pattern = re.compile(r'/([a-zA-Z0-9]{10})(?:[/?]|$)')\n",
    "\n",
    "def get_asin(url):\n",
    "    asin = ([m.group(0) for m in pattern.finditer(url)][0]).replace('/','')\n",
    "    return asin\n",
    "\n",
    "def add_asin(row):\n",
    "    row['id'] = get_asin(row.Link)\n",
    "    return row"
   ]
  },
  {
   "cell_type": "code",
   "execution_count": 295,
   "metadata": {},
   "outputs": [
    {
     "name": "stdout",
     "output_type": "stream",
     "text": [
      "len df_manual:  83\n",
      "len df_products:  90\n"
     ]
    }
   ],
   "source": [
    "df_manual = df_manual.apply(add_asin, axis=1)\n",
    "print('len df_manual: ', len(df_manual)) \n",
    "print('len df_products: ', len(df_products))"
   ]
  },
  {
   "cell_type": "code",
   "execution_count": 296,
   "metadata": {},
   "outputs": [
    {
     "name": "stdout",
     "output_type": "stream",
     "text": [
      "len merged:  92\n",
      "len w dropna():  63\n"
     ]
    }
   ],
   "source": [
    "df_final = pd.merge(df_products, df_manual, how='left', on='id')\n",
    "print('len merged: ', len(df_final))\n",
    "df_final = df_final.dropna()\n",
    "print('len w dropna(): ', len(df_final))"
   ]
  },
  {
   "cell_type": "code",
   "execution_count": 297,
   "metadata": {},
   "outputs": [
    {
     "data": {
      "text/plain": [
       "Index(['id', 'product', 'meta', 'price', 'rating', 'image_url', 'mass',\n",
       "       'volume', 'size', 'throw_yards', 'lumens', 'brand', 'model',\n",
       "       'page_url'],\n",
       "      dtype='object')"
      ]
     },
     "execution_count": 297,
     "metadata": {},
     "output_type": "execute_result"
    }
   ],
   "source": [
    "df_final = df_final.rename(columns={'Size':'size',\n",
    "                                          'Lumen':'lumens',\n",
    "                                          'Max Throw (yards)':'throw_yards',\n",
    "                                          'Brand':'brand',\n",
    "                                          'Product':'model',\n",
    "                                          'Link':'page_url'})\n",
    "df_final.columns"
   ]
  },
  {
   "cell_type": "code",
   "execution_count": 298,
   "metadata": {},
   "outputs": [],
   "source": [
    "def get_lumens(row):\n",
    "#     if '?' in row.lumens:\n",
    "#         row.lumens = row.lumens.replace('?','')\n",
    "    row.lumens = np.array(row.lumens).astype(np.float)\n",
    "    return row\n",
    "\n",
    "def get_throw_yards(row):\n",
    "#     if '?' in row.throw_yards:\n",
    "#         row.throw_yards = row.throw_yards.replace('?','')\n",
    "    row.throw_yards = np.array(row.throw_yards).astype(np.float)\n",
    "    return row\n",
    "\n",
    "def get_label(row):\n",
    "    row['label'] = row['brand'] + ' ' + row['model']\n",
    "    return row"
   ]
  },
  {
   "cell_type": "code",
   "execution_count": 299,
   "metadata": {},
   "outputs": [],
   "source": [
    "df_final = df_final.apply(get_lumens, axis=1)\n",
    "df_final = df_final.apply(get_throw_yards, axis=1)\n",
    "df_final = df_final.apply(get_label, axis=1)"
   ]
  },
  {
   "cell_type": "code",
   "execution_count": 300,
   "metadata": {},
   "outputs": [],
   "source": [
    "df_final = df_final[['id',\n",
    "                     'brand',\n",
    "                     'model',\n",
    "                     'label',\n",
    "                     'product',\n",
    "                     'meta',\n",
    "                     'price', \n",
    "                     'lumens', \n",
    "                     'throw_yards',\n",
    "                     'rating',\n",
    "                     'size',\n",
    "                     'mass',\n",
    "                     'volume',\n",
    "                     'image_url',\n",
    "                     'page_url'\n",
    "                    ]]"
   ]
  },
  {
   "cell_type": "code",
   "execution_count": 301,
   "metadata": {},
   "outputs": [
    {
     "data": {
      "text/html": [
       "<div>\n",
       "<style scoped>\n",
       "    .dataframe tbody tr th:only-of-type {\n",
       "        vertical-align: middle;\n",
       "    }\n",
       "\n",
       "    .dataframe tbody tr th {\n",
       "        vertical-align: top;\n",
       "    }\n",
       "\n",
       "    .dataframe thead th {\n",
       "        text-align: right;\n",
       "    }\n",
       "</style>\n",
       "<table border=\"1\" class=\"dataframe\">\n",
       "  <thead>\n",
       "    <tr style=\"text-align: right;\">\n",
       "      <th></th>\n",
       "      <th>id</th>\n",
       "      <th>brand</th>\n",
       "      <th>model</th>\n",
       "      <th>label</th>\n",
       "      <th>product</th>\n",
       "      <th>meta</th>\n",
       "      <th>price</th>\n",
       "      <th>lumens</th>\n",
       "      <th>throw_yards</th>\n",
       "      <th>rating</th>\n",
       "      <th>size</th>\n",
       "      <th>mass</th>\n",
       "      <th>volume</th>\n",
       "      <th>image_url</th>\n",
       "      <th>page_url</th>\n",
       "    </tr>\n",
       "  </thead>\n",
       "  <tbody>\n",
       "    <tr>\n",
       "      <th>1</th>\n",
       "      <td>B005CWRB44</td>\n",
       "      <td>Fenix</td>\n",
       "      <td>E15</td>\n",
       "      <td>Fenix E15</td>\n",
       "      <td>Fenix Compact 140 Lumen Flashlight</td>\n",
       "      <td>{'item weight': '0.81 Ounces', 'number of piec...</td>\n",
       "      <td>81.71</td>\n",
       "      <td>170.0</td>\n",
       "      <td>142.0</td>\n",
       "      <td>4.0</td>\n",
       "      <td>Small-Pocket</td>\n",
       "      <td>0.00</td>\n",
       "      <td>0.00</td>\n",
       "      <td>https://images-na.ssl-images-amazon.com/images...</td>\n",
       "      <td>https://www.amazon.ca/Fenix-Compact-140-Lumen-...</td>\n",
       "    </tr>\n",
       "    <tr>\n",
       "      <th>2</th>\n",
       "      <td>B0062PVSGW</td>\n",
       "      <td>Fenix</td>\n",
       "      <td>Pd32-R5</td>\n",
       "      <td>Fenix Pd32-R5</td>\n",
       "      <td>Fenix Pd32-R5 Cree Xp-G Led Flashlight</td>\n",
       "      <td>{'product dimensions': '2.4 x 12.7 x 2.4 cm; 6...</td>\n",
       "      <td>129.65</td>\n",
       "      <td>315.0</td>\n",
       "      <td>168.0</td>\n",
       "      <td>4.5</td>\n",
       "      <td>Small/Medium</td>\n",
       "      <td>60.95</td>\n",
       "      <td>0.73</td>\n",
       "      <td>https://images-na.ssl-images-amazon.com/images...</td>\n",
       "      <td>https://www.amazon.ca/Fenix-Pd32-R5-Cree-Xp-G-...</td>\n",
       "    </tr>\n",
       "    <tr>\n",
       "      <th>3</th>\n",
       "      <td>B0091TRPVI</td>\n",
       "      <td>Fenix</td>\n",
       "      <td>E25</td>\n",
       "      <td>Fenix E25</td>\n",
       "      <td>Fenix E25 Flashlight-187 Lumens</td>\n",
       "      <td>{'product dimensions': '2.4 x 14.6 x 2.4 cm; 7...</td>\n",
       "      <td>118.45</td>\n",
       "      <td>187.0</td>\n",
       "      <td>218.0</td>\n",
       "      <td>3.9</td>\n",
       "      <td>Medium-EDC</td>\n",
       "      <td>73.71</td>\n",
       "      <td>0.84</td>\n",
       "      <td>https://images-na.ssl-images-amazon.com/images...</td>\n",
       "      <td>https://www.amazon.ca/Fenix-Flashlights-E25R4B...</td>\n",
       "    </tr>\n",
       "    <tr>\n",
       "      <th>4</th>\n",
       "      <td>B00937X7G0</td>\n",
       "      <td>Nitecore</td>\n",
       "      <td>MT1A</td>\n",
       "      <td>Nitecore MT1A</td>\n",
       "      <td>Nitecore MT2A CREE XP-G R5 LED 280 Lumen Multi...</td>\n",
       "      <td>{'manufacturer': 'Nitecore', 'part number': 'M...</td>\n",
       "      <td>59.94</td>\n",
       "      <td>345.0</td>\n",
       "      <td>166.0</td>\n",
       "      <td>4.2</td>\n",
       "      <td>Medium-EDC</td>\n",
       "      <td>66.90</td>\n",
       "      <td>0.78</td>\n",
       "      <td>https://images-na.ssl-images-amazon.com/images...</td>\n",
       "      <td>https://www.amazon.ca/Nitecore-MT2A-Lumen-Mult...</td>\n",
       "    </tr>\n",
       "    <tr>\n",
       "      <th>5</th>\n",
       "      <td>B00937YE6C</td>\n",
       "      <td>Nitecore</td>\n",
       "      <td>MT1C</td>\n",
       "      <td>Nitecore MT1C</td>\n",
       "      <td>NiteCore CREE XP-G R5 MT1C Multitask LED Flash...</td>\n",
       "      <td>{'product dimensions': '8.79 x 2.34 x 2.34 cm;...</td>\n",
       "      <td>53.99</td>\n",
       "      <td>280.0</td>\n",
       "      <td>125.0</td>\n",
       "      <td>4.2</td>\n",
       "      <td>Medium-EDC</td>\n",
       "      <td>18.14</td>\n",
       "      <td>0.48</td>\n",
       "      <td>https://images-na.ssl-images-amazon.com/images...</td>\n",
       "      <td>https://www.amazon.ca/NiteCore-CREE-Multitask-...</td>\n",
       "    </tr>\n",
       "    <tr>\n",
       "      <th>...</th>\n",
       "      <td>...</td>\n",
       "      <td>...</td>\n",
       "      <td>...</td>\n",
       "      <td>...</td>\n",
       "      <td>...</td>\n",
       "      <td>...</td>\n",
       "      <td>...</td>\n",
       "      <td>...</td>\n",
       "      <td>...</td>\n",
       "      <td>...</td>\n",
       "      <td>...</td>\n",
       "      <td>...</td>\n",
       "      <td>...</td>\n",
       "      <td>...</td>\n",
       "      <td>...</td>\n",
       "    </tr>\n",
       "    <tr>\n",
       "      <th>81</th>\n",
       "      <td>B07YXRYCH7</td>\n",
       "      <td>Acebeam</td>\n",
       "      <td>PT10-GT</td>\n",
       "      <td>Acebeam PT10-GT</td>\n",
       "      <td>ACEBEAM PT10-GT Pen Light Flashlight, SAMSUNG ...</td>\n",
       "      <td>{'manufacturer': 'ZENBON', 'part number': 'PT1...</td>\n",
       "      <td>51.46</td>\n",
       "      <td>400.0</td>\n",
       "      <td>78.0</td>\n",
       "      <td>4.6</td>\n",
       "      <td>Medium-EDC</td>\n",
       "      <td>41.96</td>\n",
       "      <td>0.31</td>\n",
       "      <td>https://images-na.ssl-images-amazon.com/images...</td>\n",
       "      <td>https://www.amazon.ca/ACEBEAM-PT10-GT-Produces...</td>\n",
       "    </tr>\n",
       "    <tr>\n",
       "      <th>86</th>\n",
       "      <td>B0841RSDCR</td>\n",
       "      <td>Nitecore</td>\n",
       "      <td>E4K</td>\n",
       "      <td>Nitecore E4K</td>\n",
       "      <td>Nitecore E4K 4400 Lumen high powered Flashligh...</td>\n",
       "      <td>{'manufacturer': 'Nitecore Flashlights', 'parc...</td>\n",
       "      <td>110.00</td>\n",
       "      <td>4400.0</td>\n",
       "      <td>230.0</td>\n",
       "      <td>4.5</td>\n",
       "      <td>Medium-EDC</td>\n",
       "      <td>0.00</td>\n",
       "      <td>0.00</td>\n",
       "      <td>https://images-na.ssl-images-amazon.com/images...</td>\n",
       "      <td>https://www.amazon.ca/Nitecore-Flashlight-rech...</td>\n",
       "    </tr>\n",
       "    <tr>\n",
       "      <th>87</th>\n",
       "      <td>B0841RSDCR</td>\n",
       "      <td>Nitecore</td>\n",
       "      <td>E4K</td>\n",
       "      <td>Nitecore E4K</td>\n",
       "      <td>Nitecore E4K 4400 Lumen high powered Flashligh...</td>\n",
       "      <td>{'manufacturer': 'Nitecore Flashlights', 'parc...</td>\n",
       "      <td>110.00</td>\n",
       "      <td>4400.0</td>\n",
       "      <td>230.0</td>\n",
       "      <td>4.5</td>\n",
       "      <td>Medium-EDC</td>\n",
       "      <td>0.00</td>\n",
       "      <td>0.00</td>\n",
       "      <td>https://images-na.ssl-images-amazon.com/images...</td>\n",
       "      <td>https://www.amazon.ca/Nitecore-Flashlight-rech...</td>\n",
       "    </tr>\n",
       "    <tr>\n",
       "      <th>88</th>\n",
       "      <td>B086PW9TTP</td>\n",
       "      <td>Acebeam</td>\n",
       "      <td>E10</td>\n",
       "      <td>Acebeam E10</td>\n",
       "      <td>ACEBEAM E10 LED Flashlight, 760 Lumens, Long T...</td>\n",
       "      <td>{'manufacturer': 'ZENBON', 'part number': 'E10...</td>\n",
       "      <td>73.55</td>\n",
       "      <td>760.0</td>\n",
       "      <td>600.0</td>\n",
       "      <td>4.5</td>\n",
       "      <td>Medium-Tactical</td>\n",
       "      <td>148.00</td>\n",
       "      <td>1.08</td>\n",
       "      <td>https://images-na.ssl-images-amazon.com/images...</td>\n",
       "      <td>https://www.amazon.ca/ACEBEAM-Flashlight-Tacti...</td>\n",
       "    </tr>\n",
       "    <tr>\n",
       "      <th>91</th>\n",
       "      <td>B08DCSF6ZX</td>\n",
       "      <td>Acebeam</td>\n",
       "      <td>L17</td>\n",
       "      <td>Acebeam L17</td>\n",
       "      <td>ACEBEAM L17 1400 Lumens 802m Long Range Throw ...</td>\n",
       "      <td>{'manufacturer': 'Zenbon', 'part number': 'L17...</td>\n",
       "      <td>90.00</td>\n",
       "      <td>1400.0</td>\n",
       "      <td>877.0</td>\n",
       "      <td>4.7</td>\n",
       "      <td>Medium-Tactical</td>\n",
       "      <td>272.00</td>\n",
       "      <td>1.43</td>\n",
       "      <td>https://images-na.ssl-images-amazon.com/images...</td>\n",
       "      <td>https://www.amazon.ca/ACEBEAM-L17-Tactical-Rec...</td>\n",
       "    </tr>\n",
       "  </tbody>\n",
       "</table>\n",
       "<p>63 rows × 15 columns</p>\n",
       "</div>"
      ],
      "text/plain": [
       "            id     brand    model            label  \\\n",
       "1   B005CWRB44     Fenix      E15        Fenix E15   \n",
       "2   B0062PVSGW     Fenix  Pd32-R5    Fenix Pd32-R5   \n",
       "3   B0091TRPVI     Fenix      E25        Fenix E25   \n",
       "4   B00937X7G0  Nitecore     MT1A    Nitecore MT1A   \n",
       "5   B00937YE6C  Nitecore     MT1C    Nitecore MT1C   \n",
       "..         ...       ...      ...              ...   \n",
       "81  B07YXRYCH7   Acebeam  PT10-GT  Acebeam PT10-GT   \n",
       "86  B0841RSDCR  Nitecore      E4K     Nitecore E4K   \n",
       "87  B0841RSDCR  Nitecore      E4K     Nitecore E4K   \n",
       "88  B086PW9TTP   Acebeam      E10      Acebeam E10   \n",
       "91  B08DCSF6ZX   Acebeam      L17      Acebeam L17   \n",
       "\n",
       "                                              product  \\\n",
       "1                  Fenix Compact 140 Lumen Flashlight   \n",
       "2              Fenix Pd32-R5 Cree Xp-G Led Flashlight   \n",
       "3                     Fenix E25 Flashlight-187 Lumens   \n",
       "4   Nitecore MT2A CREE XP-G R5 LED 280 Lumen Multi...   \n",
       "5   NiteCore CREE XP-G R5 MT1C Multitask LED Flash...   \n",
       "..                                                ...   \n",
       "81  ACEBEAM PT10-GT Pen Light Flashlight, SAMSUNG ...   \n",
       "86  Nitecore E4K 4400 Lumen high powered Flashligh...   \n",
       "87  Nitecore E4K 4400 Lumen high powered Flashligh...   \n",
       "88  ACEBEAM E10 LED Flashlight, 760 Lumens, Long T...   \n",
       "91  ACEBEAM L17 1400 Lumens 802m Long Range Throw ...   \n",
       "\n",
       "                                                 meta   price  lumens  \\\n",
       "1   {'item weight': '0.81 Ounces', 'number of piec...   81.71   170.0   \n",
       "2   {'product dimensions': '2.4 x 12.7 x 2.4 cm; 6...  129.65   315.0   \n",
       "3   {'product dimensions': '2.4 x 14.6 x 2.4 cm; 7...  118.45   187.0   \n",
       "4   {'manufacturer': 'Nitecore', 'part number': 'M...   59.94   345.0   \n",
       "5   {'product dimensions': '8.79 x 2.34 x 2.34 cm;...   53.99   280.0   \n",
       "..                                                ...     ...     ...   \n",
       "81  {'manufacturer': 'ZENBON', 'part number': 'PT1...   51.46   400.0   \n",
       "86  {'manufacturer': 'Nitecore Flashlights', 'parc...  110.00  4400.0   \n",
       "87  {'manufacturer': 'Nitecore Flashlights', 'parc...  110.00  4400.0   \n",
       "88  {'manufacturer': 'ZENBON', 'part number': 'E10...   73.55   760.0   \n",
       "91  {'manufacturer': 'Zenbon', 'part number': 'L17...   90.00  1400.0   \n",
       "\n",
       "   throw_yards  rating             size    mass  volume  \\\n",
       "1        142.0     4.0     Small-Pocket    0.00    0.00   \n",
       "2        168.0     4.5     Small/Medium   60.95    0.73   \n",
       "3        218.0     3.9       Medium-EDC   73.71    0.84   \n",
       "4        166.0     4.2       Medium-EDC   66.90    0.78   \n",
       "5        125.0     4.2       Medium-EDC   18.14    0.48   \n",
       "..         ...     ...              ...     ...     ...   \n",
       "81        78.0     4.6       Medium-EDC   41.96    0.31   \n",
       "86       230.0     4.5       Medium-EDC    0.00    0.00   \n",
       "87       230.0     4.5       Medium-EDC    0.00    0.00   \n",
       "88       600.0     4.5  Medium-Tactical  148.00    1.08   \n",
       "91       877.0     4.7  Medium-Tactical  272.00    1.43   \n",
       "\n",
       "                                            image_url  \\\n",
       "1   https://images-na.ssl-images-amazon.com/images...   \n",
       "2   https://images-na.ssl-images-amazon.com/images...   \n",
       "3   https://images-na.ssl-images-amazon.com/images...   \n",
       "4   https://images-na.ssl-images-amazon.com/images...   \n",
       "5   https://images-na.ssl-images-amazon.com/images...   \n",
       "..                                                ...   \n",
       "81  https://images-na.ssl-images-amazon.com/images...   \n",
       "86  https://images-na.ssl-images-amazon.com/images...   \n",
       "87  https://images-na.ssl-images-amazon.com/images...   \n",
       "88  https://images-na.ssl-images-amazon.com/images...   \n",
       "91  https://images-na.ssl-images-amazon.com/images...   \n",
       "\n",
       "                                             page_url  \n",
       "1   https://www.amazon.ca/Fenix-Compact-140-Lumen-...  \n",
       "2   https://www.amazon.ca/Fenix-Pd32-R5-Cree-Xp-G-...  \n",
       "3   https://www.amazon.ca/Fenix-Flashlights-E25R4B...  \n",
       "4   https://www.amazon.ca/Nitecore-MT2A-Lumen-Mult...  \n",
       "5   https://www.amazon.ca/NiteCore-CREE-Multitask-...  \n",
       "..                                                ...  \n",
       "81  https://www.amazon.ca/ACEBEAM-PT10-GT-Produces...  \n",
       "86  https://www.amazon.ca/Nitecore-Flashlight-rech...  \n",
       "87  https://www.amazon.ca/Nitecore-Flashlight-rech...  \n",
       "88  https://www.amazon.ca/ACEBEAM-Flashlight-Tacti...  \n",
       "91  https://www.amazon.ca/ACEBEAM-L17-Tactical-Rec...  \n",
       "\n",
       "[63 rows x 15 columns]"
      ]
     },
     "execution_count": 301,
     "metadata": {},
     "output_type": "execute_result"
    }
   ],
   "source": [
    "df_final"
   ]
  },
  {
   "cell_type": "code",
   "execution_count": 304,
   "metadata": {},
   "outputs": [],
   "source": [
    "import matplotlib.pyplot as plt\n",
    "import matplotlib.cm as cm\n",
    "\n",
    "def scatter_plot(df, x, y, txt):\n",
    "    df = df.dropna()\n",
    "    \n",
    "    fig, ax = plt.subplots()\n",
    "    df.plot(x, y, kind='scatter', ax=ax, s=100, c='purple', alpha=0.70)\n",
    "    \n",
    "    for idx, j in df_products.iterrows():\n",
    "        ax.annotate(j[txt], (j[x],j[y]), fontsize=15)\n",
    "    \n",
    "    ax.set_title('Flashlights: price (CDN) vs. mass (g)', fontsize=20)\n",
    "    ax.set_xlabel(x, fontsize=15)\n",
    "    ax.set_ylabel(y, fontsize=15)\n",
    "    \n",
    "    #removing top and right borders\n",
    "    ax.spines['top'].set_visible(False)\n",
    "    ax.spines['right'].set_visible(False)\n",
    "    \n",
    "    #grid\n",
    "    ax.grid(color='grey', linestyle='-', linewidth=0.5, alpha=0.5)\n",
    "    \n",
    "    plt.rcParams[\"figure.figsize\"] = (20,10)"
   ]
  },
  {
   "cell_type": "code",
   "execution_count": 305,
   "metadata": {},
   "outputs": [
    {
     "ename": "KeyError",
     "evalue": "'label'",
     "output_type": "error",
     "traceback": [
      "\u001b[0;31m---------------------------------------------------------------------------\u001b[0m",
      "\u001b[0;31mKeyError\u001b[0m                                  Traceback (most recent call last)",
      "\u001b[0;32m/opt/anaconda3/envs/nlp/lib/python3.8/site-packages/pandas/core/indexes/base.py\u001b[0m in \u001b[0;36mget_loc\u001b[0;34m(self, key, method, tolerance)\u001b[0m\n\u001b[1;32m   2888\u001b[0m             \u001b[0;32mtry\u001b[0m\u001b[0;34m:\u001b[0m\u001b[0;34m\u001b[0m\u001b[0;34m\u001b[0m\u001b[0m\n\u001b[0;32m-> 2889\u001b[0;31m                 \u001b[0;32mreturn\u001b[0m \u001b[0mself\u001b[0m\u001b[0;34m.\u001b[0m\u001b[0m_engine\u001b[0m\u001b[0;34m.\u001b[0m\u001b[0mget_loc\u001b[0m\u001b[0;34m(\u001b[0m\u001b[0mcasted_key\u001b[0m\u001b[0;34m)\u001b[0m\u001b[0;34m\u001b[0m\u001b[0;34m\u001b[0m\u001b[0m\n\u001b[0m\u001b[1;32m   2890\u001b[0m             \u001b[0;32mexcept\u001b[0m \u001b[0mKeyError\u001b[0m \u001b[0;32mas\u001b[0m \u001b[0merr\u001b[0m\u001b[0;34m:\u001b[0m\u001b[0;34m\u001b[0m\u001b[0;34m\u001b[0m\u001b[0m\n",
      "\u001b[0;32mpandas/_libs/index.pyx\u001b[0m in \u001b[0;36mpandas._libs.index.IndexEngine.get_loc\u001b[0;34m()\u001b[0m\n",
      "\u001b[0;32mpandas/_libs/index.pyx\u001b[0m in \u001b[0;36mpandas._libs.index.IndexEngine.get_loc\u001b[0;34m()\u001b[0m\n",
      "\u001b[0;32mpandas/_libs/hashtable_class_helper.pxi\u001b[0m in \u001b[0;36mpandas._libs.hashtable.PyObjectHashTable.get_item\u001b[0;34m()\u001b[0m\n",
      "\u001b[0;32mpandas/_libs/hashtable_class_helper.pxi\u001b[0m in \u001b[0;36mpandas._libs.hashtable.PyObjectHashTable.get_item\u001b[0;34m()\u001b[0m\n",
      "\u001b[0;31mKeyError\u001b[0m: 'label'",
      "\nThe above exception was the direct cause of the following exception:\n",
      "\u001b[0;31mKeyError\u001b[0m                                  Traceback (most recent call last)",
      "\u001b[0;32m<ipython-input-305-b1782cba03d1>\u001b[0m in \u001b[0;36m<module>\u001b[0;34m\u001b[0m\n\u001b[0;32m----> 1\u001b[0;31m \u001b[0mscatter_plot\u001b[0m\u001b[0;34m(\u001b[0m\u001b[0mdf_final\u001b[0m\u001b[0;34m,\u001b[0m \u001b[0;34m'price'\u001b[0m\u001b[0;34m,\u001b[0m \u001b[0;34m'lumens'\u001b[0m\u001b[0;34m,\u001b[0m \u001b[0;34m'label'\u001b[0m\u001b[0;34m)\u001b[0m\u001b[0;34m\u001b[0m\u001b[0;34m\u001b[0m\u001b[0m\n\u001b[0m",
      "\u001b[0;32m<ipython-input-304-7fcab3b8f524>\u001b[0m in \u001b[0;36mscatter_plot\u001b[0;34m(df, x, y, txt)\u001b[0m\n\u001b[1;32m      9\u001b[0m \u001b[0;34m\u001b[0m\u001b[0m\n\u001b[1;32m     10\u001b[0m     \u001b[0;32mfor\u001b[0m \u001b[0midx\u001b[0m\u001b[0;34m,\u001b[0m \u001b[0mj\u001b[0m \u001b[0;32min\u001b[0m \u001b[0mdf_products\u001b[0m\u001b[0;34m.\u001b[0m\u001b[0miterrows\u001b[0m\u001b[0;34m(\u001b[0m\u001b[0;34m)\u001b[0m\u001b[0;34m:\u001b[0m\u001b[0;34m\u001b[0m\u001b[0;34m\u001b[0m\u001b[0m\n\u001b[0;32m---> 11\u001b[0;31m         \u001b[0max\u001b[0m\u001b[0;34m.\u001b[0m\u001b[0mannotate\u001b[0m\u001b[0;34m(\u001b[0m\u001b[0mj\u001b[0m\u001b[0;34m[\u001b[0m\u001b[0mtxt\u001b[0m\u001b[0;34m]\u001b[0m\u001b[0;34m,\u001b[0m \u001b[0;34m(\u001b[0m\u001b[0mj\u001b[0m\u001b[0;34m[\u001b[0m\u001b[0mx\u001b[0m\u001b[0;34m]\u001b[0m\u001b[0;34m,\u001b[0m\u001b[0mj\u001b[0m\u001b[0;34m[\u001b[0m\u001b[0my\u001b[0m\u001b[0;34m]\u001b[0m\u001b[0;34m)\u001b[0m\u001b[0;34m,\u001b[0m \u001b[0mfontsize\u001b[0m\u001b[0;34m=\u001b[0m\u001b[0;36m15\u001b[0m\u001b[0;34m)\u001b[0m\u001b[0;34m\u001b[0m\u001b[0;34m\u001b[0m\u001b[0m\n\u001b[0m\u001b[1;32m     12\u001b[0m \u001b[0;34m\u001b[0m\u001b[0m\n\u001b[1;32m     13\u001b[0m     \u001b[0max\u001b[0m\u001b[0;34m.\u001b[0m\u001b[0mset_title\u001b[0m\u001b[0;34m(\u001b[0m\u001b[0;34m'Flashlights: price (CDN) vs. mass (g)'\u001b[0m\u001b[0;34m,\u001b[0m \u001b[0mfontsize\u001b[0m\u001b[0;34m=\u001b[0m\u001b[0;36m20\u001b[0m\u001b[0;34m)\u001b[0m\u001b[0;34m\u001b[0m\u001b[0;34m\u001b[0m\u001b[0m\n",
      "\u001b[0;32m/opt/anaconda3/envs/nlp/lib/python3.8/site-packages/pandas/core/series.py\u001b[0m in \u001b[0;36m__getitem__\u001b[0;34m(self, key)\u001b[0m\n\u001b[1;32m    880\u001b[0m \u001b[0;34m\u001b[0m\u001b[0m\n\u001b[1;32m    881\u001b[0m         \u001b[0;32melif\u001b[0m \u001b[0mkey_is_scalar\u001b[0m\u001b[0;34m:\u001b[0m\u001b[0;34m\u001b[0m\u001b[0;34m\u001b[0m\u001b[0m\n\u001b[0;32m--> 882\u001b[0;31m             \u001b[0;32mreturn\u001b[0m \u001b[0mself\u001b[0m\u001b[0;34m.\u001b[0m\u001b[0m_get_value\u001b[0m\u001b[0;34m(\u001b[0m\u001b[0mkey\u001b[0m\u001b[0;34m)\u001b[0m\u001b[0;34m\u001b[0m\u001b[0;34m\u001b[0m\u001b[0m\n\u001b[0m\u001b[1;32m    883\u001b[0m \u001b[0;34m\u001b[0m\u001b[0m\n\u001b[1;32m    884\u001b[0m         if (\n",
      "\u001b[0;32m/opt/anaconda3/envs/nlp/lib/python3.8/site-packages/pandas/core/series.py\u001b[0m in \u001b[0;36m_get_value\u001b[0;34m(self, label, takeable)\u001b[0m\n\u001b[1;32m    989\u001b[0m \u001b[0;34m\u001b[0m\u001b[0m\n\u001b[1;32m    990\u001b[0m         \u001b[0;31m# Similar to Index.get_value, but we do not fall back to positional\u001b[0m\u001b[0;34m\u001b[0m\u001b[0;34m\u001b[0m\u001b[0;34m\u001b[0m\u001b[0m\n\u001b[0;32m--> 991\u001b[0;31m         \u001b[0mloc\u001b[0m \u001b[0;34m=\u001b[0m \u001b[0mself\u001b[0m\u001b[0;34m.\u001b[0m\u001b[0mindex\u001b[0m\u001b[0;34m.\u001b[0m\u001b[0mget_loc\u001b[0m\u001b[0;34m(\u001b[0m\u001b[0mlabel\u001b[0m\u001b[0;34m)\u001b[0m\u001b[0;34m\u001b[0m\u001b[0;34m\u001b[0m\u001b[0m\n\u001b[0m\u001b[1;32m    992\u001b[0m         \u001b[0;32mreturn\u001b[0m \u001b[0mself\u001b[0m\u001b[0;34m.\u001b[0m\u001b[0mindex\u001b[0m\u001b[0;34m.\u001b[0m\u001b[0m_get_values_for_loc\u001b[0m\u001b[0;34m(\u001b[0m\u001b[0mself\u001b[0m\u001b[0;34m,\u001b[0m \u001b[0mloc\u001b[0m\u001b[0;34m,\u001b[0m \u001b[0mlabel\u001b[0m\u001b[0;34m)\u001b[0m\u001b[0;34m\u001b[0m\u001b[0;34m\u001b[0m\u001b[0m\n\u001b[1;32m    993\u001b[0m \u001b[0;34m\u001b[0m\u001b[0m\n",
      "\u001b[0;32m/opt/anaconda3/envs/nlp/lib/python3.8/site-packages/pandas/core/indexes/base.py\u001b[0m in \u001b[0;36mget_loc\u001b[0;34m(self, key, method, tolerance)\u001b[0m\n\u001b[1;32m   2889\u001b[0m                 \u001b[0;32mreturn\u001b[0m \u001b[0mself\u001b[0m\u001b[0;34m.\u001b[0m\u001b[0m_engine\u001b[0m\u001b[0;34m.\u001b[0m\u001b[0mget_loc\u001b[0m\u001b[0;34m(\u001b[0m\u001b[0mcasted_key\u001b[0m\u001b[0;34m)\u001b[0m\u001b[0;34m\u001b[0m\u001b[0;34m\u001b[0m\u001b[0m\n\u001b[1;32m   2890\u001b[0m             \u001b[0;32mexcept\u001b[0m \u001b[0mKeyError\u001b[0m \u001b[0;32mas\u001b[0m \u001b[0merr\u001b[0m\u001b[0;34m:\u001b[0m\u001b[0;34m\u001b[0m\u001b[0;34m\u001b[0m\u001b[0m\n\u001b[0;32m-> 2891\u001b[0;31m                 \u001b[0;32mraise\u001b[0m \u001b[0mKeyError\u001b[0m\u001b[0;34m(\u001b[0m\u001b[0mkey\u001b[0m\u001b[0;34m)\u001b[0m \u001b[0;32mfrom\u001b[0m \u001b[0merr\u001b[0m\u001b[0;34m\u001b[0m\u001b[0;34m\u001b[0m\u001b[0m\n\u001b[0m\u001b[1;32m   2892\u001b[0m \u001b[0;34m\u001b[0m\u001b[0m\n\u001b[1;32m   2893\u001b[0m         \u001b[0;32mif\u001b[0m \u001b[0mtolerance\u001b[0m \u001b[0;32mis\u001b[0m \u001b[0;32mnot\u001b[0m \u001b[0;32mNone\u001b[0m\u001b[0;34m:\u001b[0m\u001b[0;34m\u001b[0m\u001b[0;34m\u001b[0m\u001b[0m\n",
      "\u001b[0;31mKeyError\u001b[0m: 'label'"
     ]
    },
    {
     "data": {
      "image/png": "[encoded data removed]",
      "text/plain": [
       "<Figure size 1440x720 with 1 Axes>"
      ]
     },
     "metadata": {
      "needs_background": "light"
     },
     "output_type": "display_data"
    }
   ],
   "source": [
    "scatter_plot(df_final, 'price', 'lumens', 'label')"
   ]
  },
  {
   "cell_type": "code",
   "execution_count": 308,
   "metadata": {},
   "outputs": [
    {
     "data": {
      "text/plain": [
       "<AxesSubplot:xlabel='price', ylabel='lumens'>"
      ]
     },
     "execution_count": 308,
     "metadata": {},
     "output_type": "execute_result"
    },
    {
     "data": {
      "image/png": "[encoded data removed]",
      "text/plain": [
       "<Figure size 1440x720 with 1 Axes>"
      ]
     },
     "metadata": {
      "needs_background": "light"
     },
     "output_type": "display_data"
    }
   ],
   "source": [
    "df_final.plot.scatter('price', 'lumens')"
   ]
  },
  {
   "cell_type": "code",
   "execution_count": 310,
   "metadata": {},
   "outputs": [
    {
     "data": {
      "image/png": "[encoded data removed]",
      "text/plain": [
       "<Figure size 1440x720 with 1 Axes>"
      ]
     },
     "metadata": {
      "needs_background": "light"
     },
     "output_type": "display_data"
    }
   ],
   "source": [
    "ax = df_final.plot(kind='scatter',x='price',y='lumens')\n",
    "df_final[['price','lumens','label']].apply(lambda row: ax.text(*row),axis=1);"
   ]
  },
  {
   "cell_type": "code",
   "execution_count": 238,
   "metadata": {},
   "outputs": [],
   "source": [
    "# name = df_products.sample(1)['product'].values[0]\n",
    "# meta = df_products.sample(1)['meta'].values[0]\n",
    "\n",
    "# print(name, '\\n\\n')\n",
    "# print(meta)\n",
    "\n",
    "# df_products = df_products.apply(get_brightness, axis=1).dropna()\n",
    "    \n",
    "# def get_brand(row):\n",
    "#     ast.literal_eval(row.meta).get('brand',0) != 0:\n",
    "\n",
    "\n",
    "\n",
    "\n",
    "# [ast.literal_eval(a).get('manufacturer') for a in df_products.meta.values]\n",
    "# [ast.literal_eval(a).get('brand') for a in df_products.meta.values]\n",
    "# [a for a in df_products.meta.values if ast.literal_eval(a).get('brightness') is not None]\n",
    "\n",
    "\n",
    "# ast.literal_eval(df_products.sample(1).meta.values[0])\n",
    "# df_products = df_products.apply(get_meta, axis=1)"
   ]
  },
  {
   "cell_type": "code",
   "execution_count": null,
   "metadata": {},
   "outputs": [],
   "source": []
  }
 ],
 "metadata": {
  "kernelspec": {
   "display_name": "Python 3",
   "language": "python",
   "name": "python3"
  },
  "language_info": {
   "codemirror_mode": {
    "name": "ipython",
    "version": 3
   },
   "file_extension": ".py",
   "mimetype": "text/x-python",
   "name": "python",
   "nbconvert_exporter": "python",
   "pygments_lexer": "ipython3",
   "version": "3.8.5"
  }
 },
 "nbformat": 4,
 "nbformat_minor": 4
}
