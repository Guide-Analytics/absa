{
 "cells": [
  {
   "cell_type": "markdown",
   "metadata": {},
   "source": [
    "## J2 Reqs\n",
    "\n",
    "[J2 LED Flashlight](https://j2ledflashlight.com/) is a trusted expert and authorized seller of premium LED light products and accessories.  \n",
    "\n",
    "\n",
    "<br>\n",
    "<div>\n",
    "    <img src=\"j2-audience.png\" width=800 />\n",
    "</div>\n",
    "<br>\n",
    "\n",
    "<br>\n",
    "<div>\n",
    "    <img src=\"j2-team.jpg\" width=800 />\n",
    "</div>\n",
    "<br>\n",
    "\n",
    "They sell the brands:\n",
    "\n",
    "- Fenix\n",
    "- Olight\n",
    "- Nitecore\n",
    "- JETBeam\n",
    "- EagleTac\n",
    "\n",
    "Our goal is to provide them some useful insights to help them improve their online presence.  If our ABSA aspect-sentiment tool can inform their advertising strategy for target products - website, promotions, creative copy, target segments, a/b experiments - then J2 can increase their brand awareness and sales.  They are working with [Digital Main Street](https://digitalmainstreet.ca/).  We are a partner to help them along.\n",
    "\n",
    "We want to get the learnings from quality reviews that would help J2 sell direct to consumer for everyday carry, hunting, camping use cases, as well as get contracts with camp sites, business military and law enforcement."
   ]
  },
  {
   "cell_type": "markdown",
   "metadata": {},
   "source": [
    "Heatmap stuff here..."
   ]
  },
  {
   "cell_type": "code",
   "execution_count": 134,
   "metadata": {},
   "outputs": [],
   "source": [
    "import pandas as pd\n",
    "import ast \n",
    "import collections\n",
    "import operator\n",
    "import numpy as np"
   ]
  },
  {
   "cell_type": "code",
   "execution_count": 135,
   "metadata": {},
   "outputs": [
    {
     "name": "stdout",
     "output_type": "stream",
     "text": [
      "total 23808\r\n",
      "-rwxr-xr-x@ 1 kushthaker  staff   3.8M 28 Oct 00:13 B06VTLLC13.csv\r\n",
      "-rwxr-xr-x@ 1 kushthaker  staff   2.8M 28 Oct 01:39 B07X5TTTJT.csv\r\n",
      "-rwxr-xr-x@ 1 kushthaker  staff   1.3M 28 Oct 00:35 B01J8B219O.csv\r\n",
      "-rwxr-xr-x@ 1 kushthaker  staff   1.0M 28 Oct 00:51 B07568DFCH.csv\r\n"
     ]
    }
   ],
   "source": [
    "!ls -lh -S main_product/ | head -5"
   ]
  },
  {
   "cell_type": "code",
   "execution_count": 136,
   "metadata": {},
   "outputs": [],
   "source": [
    "df1 = pd.read_csv('main_product/B06VTLLC13.csv')\n",
    "df2 = pd.read_csv('main_product/B07X5TTTJT.csv')"
   ]
  },
  {
   "cell_type": "code",
   "execution_count": 137,
   "metadata": {},
   "outputs": [
    {
     "data": {
      "text/plain": [
       "array([ True,  True,  True,  True,  True,  True,  True,  True,  True,\n",
       "        True,  True,  True,  True,  True,  True,  True,  True,  True,\n",
       "        True])"
      ]
     },
     "execution_count": 137,
     "metadata": {},
     "output_type": "execute_result"
    }
   ],
   "source": [
    "df1.columns == df2.columns"
   ]
  },
  {
   "cell_type": "code",
   "execution_count": 138,
   "metadata": {},
   "outputs": [],
   "source": [
    "!ls main_product/ > lights.txt"
   ]
  },
  {
   "cell_type": "code",
   "execution_count": 139,
   "metadata": {},
   "outputs": [],
   "source": [
    "with open('lights.txt','r') as l:\n",
    "    csvs = [f.strip() for f in l.read().split('\\n') if f != '']\n",
    "    \n",
    "df = pd.read_csv('main_product/' + csvs[0])\n",
    "    \n",
    "for csv in csvs[1:]:\n",
    "    df = pd.concat([df, pd.read_csv('main_product/' + csv)])"
   ]
  },
  {
   "cell_type": "code",
   "execution_count": 140,
   "metadata": {},
   "outputs": [
    {
     "name": "stdout",
     "output_type": "stream",
     "text": [
      "25.55379 MB\n"
     ]
    }
   ],
   "source": [
    "import sys; print(sys.getsizeof(df) * 1.e-6, 'MB')"
   ]
  },
  {
   "cell_type": "code",
   "execution_count": 141,
   "metadata": {},
   "outputs": [
    {
     "data": {
      "text/plain": [
       "Index(['Unnamed: 0', 'author_id', 'verified_purchase', 'review_title',\n",
       "       'reviews', 'country', 'date', 'reviewer_name', 'ratings',\n",
       "       'people_find_helpful', 'start_time', 'end_time', 'product_name',\n",
       "       'average_rating', 'total_reviews', 'product_category', 'product_id',\n",
       "       'meta_data', 'rank'],\n",
       "      dtype='object')"
      ]
     },
     "execution_count": 141,
     "metadata": {},
     "output_type": "execute_result"
    }
   ],
   "source": [
    "df.columns"
   ]
  },
  {
   "cell_type": "code",
   "execution_count": 233,
   "metadata": {},
   "outputs": [],
   "source": [
    "def convert_meta_to_dict(row):\n",
    "    row['meta'] = ast.literal_eval(row.meta)\n",
    "    return row\n",
    "\n",
    "def add_density(row):\n",
    "    row['density'] = get_density(row.meta.get('product dimensions',0))\n",
    "    return row"
   ]
  },
  {
   "cell_type": "code",
   "execution_count": 234,
   "metadata": {},
   "outputs": [],
   "source": [
    "def get_density(dim_string):\n",
    "    if dim_string == 0:\n",
    "        return 0.00\n",
    "    # get density of flashlight in grams / cm^3 \n",
    "    else:\n",
    "        dims = [dim.strip() for dim in dim_string.split(';')[0].split('x')]\n",
    "        dims[-1] = dims[-1][:-3]\n",
    "        dims = np.array(dims).astype(np.float)\n",
    "        volume_cm = np.prod(dims)\n",
    "        \n",
    "        mass_g = np.array(dim_string.split(';')[1].split(' ')[1]).astype(np.float)\n",
    "        mass_g = np.prod(mass_g)\n",
    "        \n",
    "        return np.around(mass_g/volume_cm,2)"
   ]
  },
  {
   "cell_type": "code",
   "execution_count": 235,
   "metadata": {},
   "outputs": [],
   "source": [
    "df_products = pd.DataFrame({'id':df.product_id.unique(), 'product':df.product_name.unique(), 'meta':[meta for meta in df.meta_data.unique() if type(meta) == str ]})\n",
    "df_products = df_products.apply(convert_meta_to_dict, axis=1)\n",
    "df_products = df_products.apply(add_density, axis=1)"
   ]
  },
  {
   "cell_type": "code",
   "execution_count": 236,
   "metadata": {},
   "outputs": [
    {
     "data": {
      "text/html": [
       "<div>\n",
       "<style scoped>\n",
       "    .dataframe tbody tr th:only-of-type {\n",
       "        vertical-align: middle;\n",
       "    }\n",
       "\n",
       "    .dataframe tbody tr th {\n",
       "        vertical-align: top;\n",
       "    }\n",
       "\n",
       "    .dataframe thead th {\n",
       "        text-align: right;\n",
       "    }\n",
       "</style>\n",
       "<table border=\"1\" class=\"dataframe\">\n",
       "  <thead>\n",
       "    <tr style=\"text-align: right;\">\n",
       "      <th></th>\n",
       "      <th>id</th>\n",
       "      <th>product</th>\n",
       "      <th>meta</th>\n",
       "      <th>density</th>\n",
       "    </tr>\n",
       "  </thead>\n",
       "  <tbody>\n",
       "    <tr>\n",
       "      <th>0</th>\n",
       "      <td>B000LJWV4S</td>\n",
       "      <td>Streamlight 90512 Survivor LED Flashlight with...</td>\n",
       "      <td>{'manufacturer': 'Streamlight', 'part number':...</td>\n",
       "      <td>0.00</td>\n",
       "    </tr>\n",
       "    <tr>\n",
       "      <th>1</th>\n",
       "      <td>B002XTCAXG</td>\n",
       "      <td>Streamlight 75883 Stinger DS LED HP High Power...</td>\n",
       "      <td>{'manufacturer': 'Streamlight', 'part number':...</td>\n",
       "      <td>0.59</td>\n",
       "    </tr>\n",
       "    <tr>\n",
       "      <th>2</th>\n",
       "      <td>B00GZYNX8G</td>\n",
       "      <td>NiteCore P12 2015 Version 1000 Lumens Precise ...</td>\n",
       "      <td>{'product dimensions': '13.89 x 2.54 x 2.54 cm...</td>\n",
       "      <td>1.01</td>\n",
       "    </tr>\n",
       "    <tr>\n",
       "      <th>3</th>\n",
       "      <td>B00OYKXTDW</td>\n",
       "      <td>Nitecore EA41 1020 Lumen Cree XM-L2 U2 LED Fla...</td>\n",
       "      <td>{'manufacturer': 'Nitecore', 'part number': 'W...</td>\n",
       "      <td>0.83</td>\n",
       "    </tr>\n",
       "    <tr>\n",
       "      <th>4</th>\n",
       "      <td>B010ESCLHW</td>\n",
       "      <td>Fenix Flashlights FX-PD35TAC Flashlight, 1000 ...</td>\n",
       "      <td>{'manufacturer': 'Open Air Brands', 'part numb...</td>\n",
       "      <td>0.30</td>\n",
       "    </tr>\n",
       "    <tr>\n",
       "      <th>5</th>\n",
       "      <td>B01J8B219O</td>\n",
       "      <td>Tactical Flashlight, YIFENG XML T6 Ultra Brigh...</td>\n",
       "      <td>{'manufacturer': 'YIFeNG', 'part number': 'XLM...</td>\n",
       "      <td>0.44</td>\n",
       "    </tr>\n",
       "    <tr>\n",
       "      <th>6</th>\n",
       "      <td>B06VTLLC13</td>\n",
       "      <td>Streamlight 88065 Pro Tac HL-X 1,000 Lumen Pro...</td>\n",
       "      <td>{'manufacturer': 'Streamlight', 'part number':...</td>\n",
       "      <td>0.88</td>\n",
       "    </tr>\n",
       "    <tr>\n",
       "      <th>7</th>\n",
       "      <td>B07568DFCH</td>\n",
       "      <td>Morpilot UV Flashlight, LED Handheld Flashligh...</td>\n",
       "      <td>{'product dimensions': '13.2 x 3.6 x 3.6 cm; 1...</td>\n",
       "      <td>0.77</td>\n",
       "    </tr>\n",
       "    <tr>\n",
       "      <th>8</th>\n",
       "      <td>B07DQKV38W</td>\n",
       "      <td>Olight I3T EOS 180 Lumens Dual-Output Slim EDC...</td>\n",
       "      <td>{'manufacturer': 'Olight Technology Co.Ltd', '...</td>\n",
       "      <td>2.04</td>\n",
       "    </tr>\n",
       "    <tr>\n",
       "      <th>9</th>\n",
       "      <td>B07G3SJPLZ</td>\n",
       "      <td>Olight S1R II 1000 Lumens High Performance CW ...</td>\n",
       "      <td>{'manufacturer': 'Olight Co,.Ltd', 'part numbe...</td>\n",
       "      <td>1.78</td>\n",
       "    </tr>\n",
       "    <tr>\n",
       "      <th>10</th>\n",
       "      <td>B07JCFY3N4</td>\n",
       "      <td>ThruNite TC15 2300 Lumens LED Flashlight, Ultr...</td>\n",
       "      <td>{'manufacturer': 'ThruNite', 'part number': 'T...</td>\n",
       "      <td>3.00</td>\n",
       "    </tr>\n",
       "    <tr>\n",
       "      <th>11</th>\n",
       "      <td>B07TJ41TMC</td>\n",
       "      <td>Fenix PD36R 1600 Lumen USB rechargeable CREE L...</td>\n",
       "      <td>{'manufacturer': 'Fenix', 'parcel dimensions':...</td>\n",
       "      <td>0.00</td>\n",
       "    </tr>\n",
       "    <tr>\n",
       "      <th>12</th>\n",
       "      <td>B07TZ3BMKW</td>\n",
       "      <td>LED Tactical Flashlight S3000, WdtPro Ultra Br...</td>\n",
       "      <td>{'manufacturer': 'WdtPro', 'part number': 'S30...</td>\n",
       "      <td>0.68</td>\n",
       "    </tr>\n",
       "    <tr>\n",
       "      <th>13</th>\n",
       "      <td>B07X5TTTJT</td>\n",
       "      <td>Flashlights, LED Tactical Flashlight S1000 - H...</td>\n",
       "      <td>{'manufacturer': 'Amuoc', 'part number': 'S100...</td>\n",
       "      <td>0.03</td>\n",
       "    </tr>\n",
       "  </tbody>\n",
       "</table>\n",
       "</div>"
      ],
      "text/plain": [
       "            id                                            product  \\\n",
       "0   B000LJWV4S  Streamlight 90512 Survivor LED Flashlight with...   \n",
       "1   B002XTCAXG  Streamlight 75883 Stinger DS LED HP High Power...   \n",
       "2   B00GZYNX8G  NiteCore P12 2015 Version 1000 Lumens Precise ...   \n",
       "3   B00OYKXTDW  Nitecore EA41 1020 Lumen Cree XM-L2 U2 LED Fla...   \n",
       "4   B010ESCLHW  Fenix Flashlights FX-PD35TAC Flashlight, 1000 ...   \n",
       "5   B01J8B219O  Tactical Flashlight, YIFENG XML T6 Ultra Brigh...   \n",
       "6   B06VTLLC13  Streamlight 88065 Pro Tac HL-X 1,000 Lumen Pro...   \n",
       "7   B07568DFCH  Morpilot UV Flashlight, LED Handheld Flashligh...   \n",
       "8   B07DQKV38W  Olight I3T EOS 180 Lumens Dual-Output Slim EDC...   \n",
       "9   B07G3SJPLZ  Olight S1R II 1000 Lumens High Performance CW ...   \n",
       "10  B07JCFY3N4  ThruNite TC15 2300 Lumens LED Flashlight, Ultr...   \n",
       "11  B07TJ41TMC  Fenix PD36R 1600 Lumen USB rechargeable CREE L...   \n",
       "12  B07TZ3BMKW  LED Tactical Flashlight S3000, WdtPro Ultra Br...   \n",
       "13  B07X5TTTJT  Flashlights, LED Tactical Flashlight S1000 - H...   \n",
       "\n",
       "                                                 meta  density  \n",
       "0   {'manufacturer': 'Streamlight', 'part number':...     0.00  \n",
       "1   {'manufacturer': 'Streamlight', 'part number':...     0.59  \n",
       "2   {'product dimensions': '13.89 x 2.54 x 2.54 cm...     1.01  \n",
       "3   {'manufacturer': 'Nitecore', 'part number': 'W...     0.83  \n",
       "4   {'manufacturer': 'Open Air Brands', 'part numb...     0.30  \n",
       "5   {'manufacturer': 'YIFeNG', 'part number': 'XLM...     0.44  \n",
       "6   {'manufacturer': 'Streamlight', 'part number':...     0.88  \n",
       "7   {'product dimensions': '13.2 x 3.6 x 3.6 cm; 1...     0.77  \n",
       "8   {'manufacturer': 'Olight Technology Co.Ltd', '...     2.04  \n",
       "9   {'manufacturer': 'Olight Co,.Ltd', 'part numbe...     1.78  \n",
       "10  {'manufacturer': 'ThruNite', 'part number': 'T...     3.00  \n",
       "11  {'manufacturer': 'Fenix', 'parcel dimensions':...     0.00  \n",
       "12  {'manufacturer': 'WdtPro', 'part number': 'S30...     0.68  \n",
       "13  {'manufacturer': 'Amuoc', 'part number': 'S100...     0.03  "
      ]
     },
     "execution_count": 236,
     "metadata": {},
     "output_type": "execute_result"
    }
   ],
   "source": [
    "df_products"
   ]
  },
  {
   "cell_type": "code",
   "execution_count": 238,
   "metadata": {},
   "outputs": [],
   "source": [
    "# name = df_products.sample(1)['product'].values[0]\n",
    "# meta = df_products.sample(1)['meta'].values[0]\n",
    "\n",
    "# print(name, '\\n\\n')\n",
    "# print(meta)\n",
    "\n",
    "# df_products = df_products.apply(get_brightness, axis=1).dropna()\n",
    "    \n",
    "# def get_brand(row):\n",
    "#     ast.literal_eval(row.meta).get('brand',0) != 0:\n",
    "\n",
    "# [ast.literal_eval(a).get('manufacturer') for a in df_products.meta.values]\n",
    "# [ast.literal_eval(a).get('brand') for a in df_products.meta.values]\n",
    "# [a for a in df_products.meta.values if ast.literal_eval(a).get('brightness') is not None]\n",
    "\n",
    "\n",
    "# ast.literal_eval(df_products.sample(1).meta.values[0])\n",
    "# df_products = df_products.apply(get_meta, axis=1)"
   ]
  },
  {
   "cell_type": "code",
   "execution_count": 239,
   "metadata": {},
   "outputs": [
    {
     "data": {
      "text/html": [
       "<div>\n",
       "<style scoped>\n",
       "    .dataframe tbody tr th:only-of-type {\n",
       "        vertical-align: middle;\n",
       "    }\n",
       "\n",
       "    .dataframe tbody tr th {\n",
       "        vertical-align: top;\n",
       "    }\n",
       "\n",
       "    .dataframe thead th {\n",
       "        text-align: right;\n",
       "    }\n",
       "</style>\n",
       "<table border=\"1\" class=\"dataframe\">\n",
       "  <thead>\n",
       "    <tr style=\"text-align: right;\">\n",
       "      <th></th>\n",
       "      <th>id</th>\n",
       "      <th>product</th>\n",
       "      <th>meta</th>\n",
       "      <th>density</th>\n",
       "    </tr>\n",
       "  </thead>\n",
       "  <tbody>\n",
       "    <tr>\n",
       "      <th>0</th>\n",
       "      <td>B000LJWV4S</td>\n",
       "      <td>Streamlight 90512 Survivor LED Flashlight with...</td>\n",
       "      <td>{'manufacturer': 'Streamlight', 'part number':...</td>\n",
       "      <td>0.00</td>\n",
       "    </tr>\n",
       "    <tr>\n",
       "      <th>1</th>\n",
       "      <td>B002XTCAXG</td>\n",
       "      <td>Streamlight 75883 Stinger DS LED HP High Power...</td>\n",
       "      <td>{'manufacturer': 'Streamlight', 'part number':...</td>\n",
       "      <td>0.59</td>\n",
       "    </tr>\n",
       "    <tr>\n",
       "      <th>2</th>\n",
       "      <td>B00GZYNX8G</td>\n",
       "      <td>NiteCore P12 2015 Version 1000 Lumens Precise ...</td>\n",
       "      <td>{'product dimensions': '13.89 x 2.54 x 2.54 cm...</td>\n",
       "      <td>1.01</td>\n",
       "    </tr>\n",
       "    <tr>\n",
       "      <th>3</th>\n",
       "      <td>B00OYKXTDW</td>\n",
       "      <td>Nitecore EA41 1020 Lumen Cree XM-L2 U2 LED Fla...</td>\n",
       "      <td>{'manufacturer': 'Nitecore', 'part number': 'W...</td>\n",
       "      <td>0.83</td>\n",
       "    </tr>\n",
       "    <tr>\n",
       "      <th>4</th>\n",
       "      <td>B010ESCLHW</td>\n",
       "      <td>Fenix Flashlights FX-PD35TAC Flashlight, 1000 ...</td>\n",
       "      <td>{'manufacturer': 'Open Air Brands', 'part numb...</td>\n",
       "      <td>0.30</td>\n",
       "    </tr>\n",
       "    <tr>\n",
       "      <th>5</th>\n",
       "      <td>B01J8B219O</td>\n",
       "      <td>Tactical Flashlight, YIFENG XML T6 Ultra Brigh...</td>\n",
       "      <td>{'manufacturer': 'YIFeNG', 'part number': 'XLM...</td>\n",
       "      <td>0.44</td>\n",
       "    </tr>\n",
       "    <tr>\n",
       "      <th>6</th>\n",
       "      <td>B06VTLLC13</td>\n",
       "      <td>Streamlight 88065 Pro Tac HL-X 1,000 Lumen Pro...</td>\n",
       "      <td>{'manufacturer': 'Streamlight', 'part number':...</td>\n",
       "      <td>0.88</td>\n",
       "    </tr>\n",
       "    <tr>\n",
       "      <th>7</th>\n",
       "      <td>B07568DFCH</td>\n",
       "      <td>Morpilot UV Flashlight, LED Handheld Flashligh...</td>\n",
       "      <td>{'product dimensions': '13.2 x 3.6 x 3.6 cm; 1...</td>\n",
       "      <td>0.77</td>\n",
       "    </tr>\n",
       "    <tr>\n",
       "      <th>8</th>\n",
       "      <td>B07DQKV38W</td>\n",
       "      <td>Olight I3T EOS 180 Lumens Dual-Output Slim EDC...</td>\n",
       "      <td>{'manufacturer': 'Olight Technology Co.Ltd', '...</td>\n",
       "      <td>2.04</td>\n",
       "    </tr>\n",
       "    <tr>\n",
       "      <th>9</th>\n",
       "      <td>B07G3SJPLZ</td>\n",
       "      <td>Olight S1R II 1000 Lumens High Performance CW ...</td>\n",
       "      <td>{'manufacturer': 'Olight Co,.Ltd', 'part numbe...</td>\n",
       "      <td>1.78</td>\n",
       "    </tr>\n",
       "    <tr>\n",
       "      <th>10</th>\n",
       "      <td>B07JCFY3N4</td>\n",
       "      <td>ThruNite TC15 2300 Lumens LED Flashlight, Ultr...</td>\n",
       "      <td>{'manufacturer': 'ThruNite', 'part number': 'T...</td>\n",
       "      <td>3.00</td>\n",
       "    </tr>\n",
       "    <tr>\n",
       "      <th>11</th>\n",
       "      <td>B07TJ41TMC</td>\n",
       "      <td>Fenix PD36R 1600 Lumen USB rechargeable CREE L...</td>\n",
       "      <td>{'manufacturer': 'Fenix', 'parcel dimensions':...</td>\n",
       "      <td>0.00</td>\n",
       "    </tr>\n",
       "    <tr>\n",
       "      <th>12</th>\n",
       "      <td>B07TZ3BMKW</td>\n",
       "      <td>LED Tactical Flashlight S3000, WdtPro Ultra Br...</td>\n",
       "      <td>{'manufacturer': 'WdtPro', 'part number': 'S30...</td>\n",
       "      <td>0.68</td>\n",
       "    </tr>\n",
       "    <tr>\n",
       "      <th>13</th>\n",
       "      <td>B07X5TTTJT</td>\n",
       "      <td>Flashlights, LED Tactical Flashlight S1000 - H...</td>\n",
       "      <td>{'manufacturer': 'Amuoc', 'part number': 'S100...</td>\n",
       "      <td>0.03</td>\n",
       "    </tr>\n",
       "  </tbody>\n",
       "</table>\n",
       "</div>"
      ],
      "text/plain": [
       "            id                                            product  \\\n",
       "0   B000LJWV4S  Streamlight 90512 Survivor LED Flashlight with...   \n",
       "1   B002XTCAXG  Streamlight 75883 Stinger DS LED HP High Power...   \n",
       "2   B00GZYNX8G  NiteCore P12 2015 Version 1000 Lumens Precise ...   \n",
       "3   B00OYKXTDW  Nitecore EA41 1020 Lumen Cree XM-L2 U2 LED Fla...   \n",
       "4   B010ESCLHW  Fenix Flashlights FX-PD35TAC Flashlight, 1000 ...   \n",
       "5   B01J8B219O  Tactical Flashlight, YIFENG XML T6 Ultra Brigh...   \n",
       "6   B06VTLLC13  Streamlight 88065 Pro Tac HL-X 1,000 Lumen Pro...   \n",
       "7   B07568DFCH  Morpilot UV Flashlight, LED Handheld Flashligh...   \n",
       "8   B07DQKV38W  Olight I3T EOS 180 Lumens Dual-Output Slim EDC...   \n",
       "9   B07G3SJPLZ  Olight S1R II 1000 Lumens High Performance CW ...   \n",
       "10  B07JCFY3N4  ThruNite TC15 2300 Lumens LED Flashlight, Ultr...   \n",
       "11  B07TJ41TMC  Fenix PD36R 1600 Lumen USB rechargeable CREE L...   \n",
       "12  B07TZ3BMKW  LED Tactical Flashlight S3000, WdtPro Ultra Br...   \n",
       "13  B07X5TTTJT  Flashlights, LED Tactical Flashlight S1000 - H...   \n",
       "\n",
       "                                                 meta  density  \n",
       "0   {'manufacturer': 'Streamlight', 'part number':...     0.00  \n",
       "1   {'manufacturer': 'Streamlight', 'part number':...     0.59  \n",
       "2   {'product dimensions': '13.89 x 2.54 x 2.54 cm...     1.01  \n",
       "3   {'manufacturer': 'Nitecore', 'part number': 'W...     0.83  \n",
       "4   {'manufacturer': 'Open Air Brands', 'part numb...     0.30  \n",
       "5   {'manufacturer': 'YIFeNG', 'part number': 'XLM...     0.44  \n",
       "6   {'manufacturer': 'Streamlight', 'part number':...     0.88  \n",
       "7   {'product dimensions': '13.2 x 3.6 x 3.6 cm; 1...     0.77  \n",
       "8   {'manufacturer': 'Olight Technology Co.Ltd', '...     2.04  \n",
       "9   {'manufacturer': 'Olight Co,.Ltd', 'part numbe...     1.78  \n",
       "10  {'manufacturer': 'ThruNite', 'part number': 'T...     3.00  \n",
       "11  {'manufacturer': 'Fenix', 'parcel dimensions':...     0.00  \n",
       "12  {'manufacturer': 'WdtPro', 'part number': 'S30...     0.68  \n",
       "13  {'manufacturer': 'Amuoc', 'part number': 'S100...     0.03  "
      ]
     },
     "execution_count": 239,
     "metadata": {},
     "output_type": "execute_result"
    }
   ],
   "source": [
    "df_products"
   ]
  },
  {
   "cell_type": "markdown",
   "metadata": {},
   "source": [
    "next steps get Brand, Lumens, Price..."
   ]
  },
  {
   "cell_type": "code",
   "execution_count": null,
   "metadata": {},
   "outputs": [],
   "source": []
  }
 ],
 "metadata": {
  "kernelspec": {
   "display_name": "Python 3",
   "language": "python",
   "name": "python3"
  },
  "language_info": {
   "codemirror_mode": {
    "name": "ipython",
    "version": 3
   },
   "file_extension": ".py",
   "mimetype": "text/x-python",
   "name": "python",
   "nbconvert_exporter": "python",
   "pygments_lexer": "ipython3",
   "version": "3.8.5"
  }
 },
 "nbformat": 4,
 "nbformat_minor": 4
}
