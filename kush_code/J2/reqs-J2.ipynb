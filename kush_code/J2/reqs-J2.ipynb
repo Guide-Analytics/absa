{
 "cells": [
  {
   "cell_type": "code",
   "execution_count": 76,
   "metadata": {},
   "outputs": [],
   "source": [
    "import pandas as pd\n",
    "import ast \n",
    "import collections\n",
    "import operator\n",
    "import numpy as np"
   ]
  },
  {
   "cell_type": "code",
   "execution_count": 75,
   "metadata": {},
   "outputs": [
    {
     "name": "stdout",
     "output_type": "stream",
     "text": [
      "total 23808\r\n",
      "-rwxr-xr-x@ 1 kushthaker  staff   3.8M 28 Oct 00:13 B06VTLLC13.csv\r\n",
      "-rwxr-xr-x@ 1 kushthaker  staff   2.8M 28 Oct 01:39 B07X5TTTJT.csv\r\n",
      "-rwxr-xr-x@ 1 kushthaker  staff   1.3M 28 Oct 00:35 B01J8B219O.csv\r\n",
      "-rwxr-xr-x@ 1 kushthaker  staff   1.0M 28 Oct 00:51 B07568DFCH.csv\r\n"
     ]
    }
   ],
   "source": [
    "!ls -lh -S main_product/ | head -5"
   ]
  },
  {
   "cell_type": "code",
   "execution_count": 13,
   "metadata": {},
   "outputs": [],
   "source": [
    "df1 = pd.read_csv('main_product/B06VTLLC13.csv')\n",
    "df2 = pd.read_csv('main_product/B07X5TTTJT.csv')"
   ]
  },
  {
   "cell_type": "code",
   "execution_count": 14,
   "metadata": {},
   "outputs": [
    {
     "data": {
      "text/plain": [
       "array([ True,  True,  True,  True,  True,  True,  True,  True,  True,\n",
       "        True,  True,  True,  True,  True,  True,  True,  True,  True,\n",
       "        True])"
      ]
     },
     "execution_count": 14,
     "metadata": {},
     "output_type": "execute_result"
    }
   ],
   "source": [
    "df1.columns == df2.columns"
   ]
  },
  {
   "cell_type": "code",
   "execution_count": 21,
   "metadata": {},
   "outputs": [],
   "source": [
    "!ls main_product/ > lights.txt"
   ]
  },
  {
   "cell_type": "code",
   "execution_count": 68,
   "metadata": {},
   "outputs": [],
   "source": [
    "with open('lights.txt','r') as l:\n",
    "    csvs = [f.strip() for f in l.read().split('\\n') if f != '']\n",
    "    \n",
    "df = pd.read_csv('main_product/' + csvs[0])\n",
    "    \n",
    "for csv in csvs[1:]:\n",
    "    df = pd.concat([df, pd.read_csv('main_product/' + csv)])"
   ]
  },
  {
   "cell_type": "code",
   "execution_count": 83,
   "metadata": {},
   "outputs": [
    {
     "name": "stdout",
     "output_type": "stream",
     "text": [
      "25.55379 MB\n"
     ]
    }
   ],
   "source": [
    "import sys; print(sys.getsizeof(df) * 1.e-6, 'MB')"
   ]
  },
  {
   "cell_type": "code",
   "execution_count": 116,
   "metadata": {},
   "outputs": [
    {
     "data": {
      "text/plain": [
       "Index(['Unnamed: 0', 'author_id', 'verified_purchase', 'review_title',\n",
       "       'reviews', 'country', 'date', 'reviewer_name', 'ratings',\n",
       "       'people_find_helpful', 'start_time', 'end_time', 'product_name',\n",
       "       'average_rating', 'total_reviews', 'product_category', 'product_id',\n",
       "       'meta_data', 'rank'],\n",
       "      dtype='object')"
      ]
     },
     "execution_count": 116,
     "metadata": {},
     "output_type": "execute_result"
    }
   ],
   "source": [
    "df.columns"
   ]
  },
  {
   "attachments": {},
   "cell_type": "markdown",
   "metadata": {},
   "source": [
    "## J2 Reqs\n",
    "\n",
    "\n",
    "<br>\n",
    "<div>\n",
    "    <img src=\"j2-audience.png\" width=800 />\n",
    "</div>\n",
    "<br>\n",
    "\n",
    "[J2 LED Flashlight](https://j2ledflashlight.com/) is a trusted expert and authorized seller of premium LED light products and accessories.  \n",
    "\n",
    "<br>\n",
    "<div>\n",
    "    <img src=\"j2-team.jpg\" width=800 />\n",
    "</div>\n",
    "<br>\n",
    "\n",
    "They sell the brands:\n",
    "\n",
    "- Fenix\n",
    "- Olight\n",
    "- Nitecore\n",
    "- JETBeam\n",
    "- EagleTac\n",
    "\n",
    "Our goal is to provide them some customer insights to help them improve their online presence.  If our ABSA aspect-sentiment tool can inform their advertising strategy for target products - creative copy, target segments, a/b experiments - then J2 can increase their brand awareness and sales.  They are working with [Digital Main Street](https://digitalmainstreet.ca/).  We are a partner to help them along.\n",
    "\n",
    "We want to get the learnings from quality reviews that would help J2 sell direct to consumer for everyday carry, hunting, camping use cases, as well as get contracts with camp sites, business military and law enforcement."
   ]
  },
  {
   "cell_type": "markdown",
   "metadata": {},
   "source": [
    "### Scrape Request\n",
    "\n",
    "Rajbhai - awesome scraped CSVs... had request, can we add following info into the `meta_data` dict?\n",
    "1. product page url string as `page_url`\n",
    "2. product price float in CDN as `price` \n",
    "3. main product image url string as `image_url`\n",
    "\n",
    "<div>\n",
    "<img src=\"image-url.png\" width=\"800\"/>\n",
    "</div>"
   ]
  },
  {
   "cell_type": "code",
   "execution_count": 117,
   "metadata": {},
   "outputs": [],
   "source": [
    "df_products = pd.DataFrame({'id':df.product_id.unique(), 'product':df.product_name.unique(), 'meta':[meta for meta in df.meta_data.unique() if type(meta) == str ]})"
   ]
  },
  {
   "cell_type": "code",
   "execution_count": 122,
   "metadata": {},
   "outputs": [
    {
     "data": {
      "text/plain": [
       "{'product dimensions': '13.89 x 2.54 x 2.54 cm; 90.72 Grams',\n",
       " 'batteries': '2 CR123A batteries required.',\n",
       " 'item model number': 'NiteCore-P12-Black',\n",
       " 'is discontinued by manufacturer': 'No',\n",
       " 'color': 'Black',\n",
       " 'height': '2 inches',\n",
       " 'length': '1 inches',\n",
       " 'weight': '181 Grams',\n",
       " 'width': '2 inches',\n",
       " 'bulb type': 'LED',\n",
       " 'material': 'Null',\n",
       " 'number of items': '1',\n",
       " 'number of pieces': '1',\n",
       " 'power source': 'Battery',\n",
       " 'season': 'All',\n",
       " 'usage': 'Outdoor sports, everyday carry, emergency preparedness, camping, hiking',\n",
       " 'included components': 'Null',\n",
       " 'batteries included?': 'No',\n",
       " 'brand': 'Nitecore',\n",
       " 'item weight': '90.7 g'}"
      ]
     },
     "execution_count": 122,
     "metadata": {},
     "output_type": "execute_result"
    }
   ],
   "source": [
    "ast.literal_eval(df_products.meta[2])"
   ]
  }
 ],
 "metadata": {
  "kernelspec": {
   "display_name": "Python 3",
   "language": "python",
   "name": "python3"
  },
  "language_info": {
   "codemirror_mode": {
    "name": "ipython",
    "version": 3
   },
   "file_extension": ".py",
   "mimetype": "text/x-python",
   "name": "python",
   "nbconvert_exporter": "python",
   "pygments_lexer": "ipython3",
   "version": "3.8.5"
  }
 },
 "nbformat": 4,
 "nbformat_minor": 4
}
