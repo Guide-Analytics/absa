{
 "cells": [
  {
   "cell_type": "markdown",
   "metadata": {},
   "source": [
    "<br>\n",
    "<div>\n",
    "    <img src=\"guide-logo.png\" width=400 />\n",
    "</div>\n",
    "<br>"
   ]
  },
  {
   "cell_type": "markdown",
   "metadata": {},
   "source": [
    "## Project: J2 Instance\n",
    "\n",
    "[J2 LED Flashlight](https://j2ledflashlight.com/) is a trusted expert and authorized seller of premium LED light products and accessories.  \n",
    "\n",
    "Guide Analytics is a company that powers a [market Intelligence platform](https://guideanalytics.ca/) and will be testing its feature releases for Amazon data scraping, aspect-based sentiment analysis and custom visual components based on J2's requested flashlight product reviews & metadata.\n",
    "\n",
    "Project | Specifics       \n",
    ":---|:---\n",
    "Title | J2 Instance\n",
    "Release | 1.0 \n",
    "Stakeholder | John Jang (Founder J2 LED)\n",
    "Product Owner | Anshuk Chhibber (CEO Guide Analytics)\n",
    "Resources | [Gitlab](https://gitlab.com/gide-analytics/author-analysis/absa), [Slack](https://app.slack.com/client/TUNMD5SE4/C01CQLJ3CH5), [Drive](https://drive.google.com/drive/folders/1EKJUS72Om-94t81gC6N9f-vroB7Yk9d-)\n",
    "Designer | Kaan Karakuzu\n",
    "Developers | Raj Patel, Bo Na, Rishabh Karwayun, Kush Thaker\n",
    "Support | Michael Brock Li"
   ]
  },
  {
   "cell_type": "markdown",
   "metadata": {},
   "source": [
    "## Profile: J2 LED Flashlight\n",
    "\n",
    "_“J2” got their name from the first initials of their founders, John and Jim. As brothers, the company was founded in Toronto, Ontario, Canada in 2004. Our very first product was the Nuwai TM303x which turned out to be a “hot seller” amongst flashlight enthusiasts. Small, bright and compact, gadget lovers fell in love with this awesome, tactical flashlight as we all became “flashaholics” (in a good way of course)._\n",
    "\n",
    "From J2's Google Reviews, this store is seen by enthusiasts as highly knowledgeable, with vast selection, and strong customer service.\n",
    "\n",
    "<br>\n",
    "<div>\n",
    "    <img src=\"j2-team.jpg\" width=600 />\n",
    "</div>\n",
    "<br>\n",
    "\n",
    "\n",
    "<br>\n",
    "<div>\n",
    "    <img src=\"j2-website.png\" width=600 />\n",
    "</div>\n",
    "<br>\n",
    "\n",
    "<br>\n",
    "<div>\n",
    "    <img src=\"j2-audience.png\" width=600 />\n",
    "</div>\n",
    "<br>"
   ]
  },
  {
   "cell_type": "markdown",
   "metadata": {},
   "source": [
    "## Business Objective, Strategic Fit\n",
    "\n",
    "- Our goal is to demonstrate Guide Analytics product capability to J2 and further understand their business needs.  \n",
    "- Last engagement was `2020-11-05`, meeting notes recorded [here](https://guideanalytics.slack.com/archives/CUTJZDEFN/p1604619210005600).\n",
    "\n",
    "Given J2 has a large product catalogue, they could benefit from comparisons of product specifications, aspect-based sentiment summaries of product reviews, and using our data on top of existing sales and inventory records to drive growth.\n",
    "\n",
    "**Advertising Strategy**\n",
    "\n",
    "- How might our tools inform their advertising strategy?  How does our aggregate data drive decisions to change J2's website, promotions, creative copy, target segments, a/b experiments?  How might J2 can increase their brand awareness and sales?  \n",
    "\n",
    "They are working with [Digital Main Street](https://digitalmainstreet.ca/) and we would like to listen in and explore further.\n",
    "\n",
    "- We want to get the learnings from quality reviews that would help J2 sell products to consumer for everyday carry, hunting, camping use cases, as well as get contracts with camp sites, business military and law enforcement."
   ]
  },
  {
   "cell_type": "markdown",
   "metadata": {},
   "source": [
    "----\n",
    "\n",
    "# 1.0 User Stories\n",
    "\n",
    "## User sees aspect-sentiment heatmap by brand, price and size ... \n",
    "... so that they understand how customers feel.\n",
    "\n",
    "<br>\n",
    "<div>\n",
    "    <img src=\"j2-heatmap-brand.png\" width=600 />\n",
    "</div>\n",
    "<br>\n",
    "\n",
    "<br>\n",
    "<div>\n",
    "    <img src=\"j2-heatmap-price.png\" width=600 />\n",
    "</div>\n",
    "<br>\n",
    "\n",
    "<br>\n",
    "<div>\n",
    "    <img src=\"j2-heatmap-size.png\" width=600 />\n",
    "</div>\n",
    "<br>"
   ]
  },
  {
   "cell_type": "markdown",
   "metadata": {},
   "source": [
    "---\n",
    "\n",
    "# 2.0 User Stories\n",
    "\n",
    "## User sees opinion words associated with given aspect nouns ...\n",
    "... so that they understand how customers feel.\n",
    "\n",
    "<br>\n",
    "<div>\n",
    "    <img src=\"j2-wordcloud.png\" width=600 />\n",
    "</div>\n",
    "<br>\n",
    "\n",
    "---\n",
    "\n",
    "# 3.0 User Stories\n",
    "\n",
    "## User can add amazon product links in-app  ... \n",
    "... so that they can see visuals / comparisons for selected groups of products.\n",
    "\n",
    "- Create named group of URLs\n",
    "- Delete named group \n",
    "- Add URL to list\n",
    "- Remove URL from list\n",
    "\n",
    "Today this is done via shared spreadsheet and scraping script is run manually. See flashlight [spreadsheet](https://docs.google.com/spreadsheets/d/1piu_VKuEPoSC_L5S1Itb0ik0FqEOcZLwxkwk4pARBXw/edit#gid=770576276).\n",
    "\n",
    "## User can select link groups & XY axes to generate scatter plots ...\n",
    "... so that they can visuals / comparisons for selected groups of products.\n",
    "\n",
    "---"
   ]
  },
  {
   "cell_type": "code",
   "execution_count": null,
   "metadata": {},
   "outputs": [],
   "source": []
  }
 ],
 "metadata": {
  "kernelspec": {
   "display_name": "Python 3",
   "language": "python",
   "name": "python3"
  },
  "language_info": {
   "codemirror_mode": {
    "name": "ipython",
    "version": 3
   },
   "file_extension": ".py",
   "mimetype": "text/x-python",
   "name": "python",
   "nbconvert_exporter": "python",
   "pygments_lexer": "ipython3",
   "version": "3.8.5"
  }
 },
 "nbformat": 4,
 "nbformat_minor": 4
}
