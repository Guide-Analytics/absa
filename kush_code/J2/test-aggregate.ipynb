{
 "cells": [
  {
   "cell_type": "markdown",
   "metadata": {},
   "source": [
    "Based on [Rishabh code](https://gitlab.com/gide-analytics/author-analysis/absa/-/tree/master/rishabh) rule-based output file `B000LJWV4S.csv`"
   ]
  },
  {
   "cell_type": "code",
   "execution_count": 8,
   "metadata": {},
   "outputs": [],
   "source": [
    "import pandas as pd\n",
    "import ast \n",
    "import collections\n",
    "import operator\n",
    "import numpy as np\n",
    "\n",
    "df = pd.read_csv('rishabh-sample.csv')\n",
    "counter = collections.Counter()"
   ]
  },
  {
   "cell_type": "code",
   "execution_count": 10,
   "metadata": {},
   "outputs": [
    {
     "data": {
      "text/plain": [
       "dict"
      ]
     },
     "execution_count": 10,
     "metadata": {},
     "output_type": "execute_result"
    }
   ],
   "source": [
    "aspects = [ast.literal_eval(a) for a in df['asba'] if ast.literal_eval(a) != {}]\n",
    "type(aspects[0])"
   ]
  },
  {
   "cell_type": "code",
   "execution_count": 4,
   "metadata": {},
   "outputs": [],
   "source": [
    "def get_freq_aspects():\n",
    "\n",
    "    for aspect in aspects:\n",
    "        counter.update(aspect)\n",
    "\n",
    "    return sorted(counter.items(), key=operator.itemgetter(1))"
   ]
  },
  {
   "cell_type": "code",
   "execution_count": 11,
   "metadata": {},
   "outputs": [
    {
     "data": {
      "text/plain": [
       "[('guys', 10),\n",
       " ('perfect', 10),\n",
       " ('distance', 10),\n",
       " ('than', 10),\n",
       " ('service', 10),\n",
       " ('angle', 10),\n",
       " ('charger', 10),\n",
       " ('clip', 10),\n",
       " ('battery', 10),\n",
       " ('size', 10),\n",
       " ('visibility', 10),\n",
       " ('sturdy', 10),\n",
       " ('quality', 10),\n",
       " ('shipping', 10),\n",
       " ('profile', 15),\n",
       " ('buy', 15),\n",
       " ('feel', 15),\n",
       " ('version', 15),\n",
       " ('charge', 15),\n",
       " ('item', 15),\n",
       " ('you', 20),\n",
       " ('life', 20),\n",
       " ('lights', 25),\n",
       " ('beam', 25),\n",
       " ('price', 25),\n",
       " ('battery life', 30),\n",
       " ('product', 65),\n",
       " ('it', 70.0),\n",
       " ('flashlight', 80),\n",
       " ('light', 443.125)]"
      ]
     },
     "execution_count": 11,
     "metadata": {},
     "output_type": "execute_result"
    }
   ],
   "source": [
    "features = [a[0] for a in get_freq_aspects()[-30:]]\n",
    "get_freq_aspects()[-30:]"
   ]
  },
  {
   "cell_type": "code",
   "execution_count": 6,
   "metadata": {},
   "outputs": [],
   "source": [
    "def get_sentiment_count():\n",
    "    sentiment = {}\n",
    "\n",
    "    for feature in features:\n",
    "        sentiment[feature] = 0\n",
    "        \n",
    "    for feature in features:\n",
    "        for aspect_dict in aspects:\n",
    "            if aspect_dict.get(feature,0) and (aspect_dict[feature] == 1):\n",
    "                sentiment[feature] += aspect_dict[feature]\n",
    "    \n",
    "    return sentiment"
   ]
  },
  {
   "cell_type": "code",
   "execution_count": 7,
   "metadata": {},
   "outputs": [],
   "source": [
    "def get_aspect_sentiment(sentiment):\n",
    "    aggregated = {}\n",
    "\n",
    "    for feature in features:\n",
    "        aggregated[feature] = sentiment[feature] / counter[feature]\n",
    "    \n",
    "    return aggregated"
   ]
  },
  {
   "cell_type": "code",
   "execution_count": 8,
   "metadata": {},
   "outputs": [
    {
     "data": {
      "text/plain": [
       "{'guys': 1.0,\n",
       " 'perfect': 1.0,\n",
       " 'distance': 1.0,\n",
       " 'than': 1.0,\n",
       " 'service': 1.0,\n",
       " 'angle': 1.0,\n",
       " 'charger': 1.0,\n",
       " 'clip': 1.0,\n",
       " 'battery': 1.0,\n",
       " 'size': 1.0,\n",
       " 'visibility': 1.0,\n",
       " 'sturdy': 1.0,\n",
       " 'quality': 1.0,\n",
       " 'shipping': 1.0,\n",
       " 'profile': 1.0,\n",
       " 'buy': 1.0,\n",
       " 'feel': 1.0,\n",
       " 'version': 1.0,\n",
       " 'charge': 1.0,\n",
       " 'item': 1.0,\n",
       " 'you': 1.0,\n",
       " 'life': 1.0,\n",
       " 'lights': 1.0,\n",
       " 'beam': 1.0,\n",
       " 'price': 1.0,\n",
       " 'battery life': 1.0,\n",
       " 'product': 1.0769230769230769,\n",
       " 'it': 0.7857142857142857,\n",
       " 'flashlight': 1.0,\n",
       " 'light': 0.846262341325811}"
      ]
     },
     "execution_count": 8,
     "metadata": {},
     "output_type": "execute_result"
    }
   ],
   "source": [
    "get_aspect_sentiment(get_sentiment_count())"
   ]
  },
  {
   "cell_type": "code",
   "execution_count": null,
   "metadata": {},
   "outputs": [],
   "source": []
  }
 ],
 "metadata": {
  "kernelspec": {
   "display_name": "Python 3",
   "language": "python",
   "name": "python3"
  },
  "language_info": {
   "codemirror_mode": {
    "name": "ipython",
    "version": 3
   },
   "file_extension": ".py",
   "mimetype": "text/x-python",
   "name": "python",
   "nbconvert_exporter": "python",
   "pygments_lexer": "ipython3",
   "version": "3.8.5"
  }
 },
 "nbformat": 4,
 "nbformat_minor": 4
}
