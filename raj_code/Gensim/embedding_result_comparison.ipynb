{
 "cells": [
  {
   "cell_type": "code",
   "execution_count": 1,
   "metadata": {},
   "outputs": [],
   "source": [
    "import pandas as pd\n",
    "import zipfile\n",
    "import glob\n",
    "import nltk\n",
    "from nltk.corpus import stopwords\n",
    "from nltk.stem import WordNetLemmatizer\n",
    "from nltk.tokenize import word_tokenize, sent_tokenize\n",
    "from gensim.models import FastText\n",
    "import re\n",
    "from tqdm import tqdm\n",
    "from gensim.models import Word2Vec\n",
    "tqdm.pandas()\n",
    "import time"
   ]
  },
  {
   "cell_type": "code",
   "execution_count": 2,
   "metadata": {},
   "outputs": [],
   "source": [
    "df = pd.read_csv(\"complete_dataset.csv\")"
   ]
  },
  {
   "cell_type": "code",
   "execution_count": 3,
   "metadata": {},
   "outputs": [],
   "source": [
    "reviews = df[\"reviews\"]"
   ]
  },
  {
   "cell_type": "code",
   "execution_count": 4,
   "metadata": {},
   "outputs": [],
   "source": [
    "stop_words = stopwords.words(\"english\")"
   ]
  },
  {
   "cell_type": "code",
   "execution_count": 5,
   "metadata": {},
   "outputs": [],
   "source": [
    "lemma = WordNetLemmatizer()\n",
    "data = []\n",
    "# seperate reviews into sentences\n",
    "def textProcessing(inp):\n",
    "    print(\"hello\")\n",
    "    sentences = sent_tokenize(str(inp).lower())\n",
    "    \n",
    "    for sentence in sentences:\n",
    "#         print(\"sentence input: \",sentence)\n",
    "        sent = re.sub(r\"[^a-zA-z ]\", '', sentence)\n",
    "        sent = re.sub(r\" +\", ' ', sent)\n",
    "        inp_split = sent.split()\n",
    "#         print(\"splited input: \",inp_split)\n",
    "        ns = [lemma.lemmatize(word) for word in inp_split if word not in stop_words]\n",
    "        print(ns)\n",
    "        data.append(ns)"
   ]
  },
  {
   "cell_type": "code",
   "execution_count": 52,
   "metadata": {},
   "outputs": [],
   "source": [
    "start = time.time()\n",
    "for review in reviews:\n",
    "    textProcessing(review)\n",
    "print(time.time() - start)"
   ]
  },
  {
   "cell_type": "code",
   "execution_count": 10,
   "metadata": {},
   "outputs": [],
   "source": [
    "# data"
   ]
  },
  {
   "cell_type": "code",
   "execution_count": 11,
   "metadata": {},
   "outputs": [],
   "source": [
    "model = Word2Vec(data, size=250, sg = 1)"
   ]
  },
  {
   "cell_type": "code",
   "execution_count": 12,
   "metadata": {},
   "outputs": [],
   "source": [
    "def compute_similar_words(word, cutoff=0.70):\n",
    "    similar_words = []\n",
    "    try:\n",
    "        similar_words = [item for item in model.wv.most_similar(word, topn=len(model.wv.vocab)) if item[1] >= cutoff]\n",
    "    except KeyError:\n",
    "        pass\n",
    "    return similar_words"
   ]
  },
  {
   "cell_type": "code",
   "execution_count": 46,
   "metadata": {},
   "outputs": [],
   "source": [
    "price = compute_similar_words(\"price\")\n",
    "size = compute_similar_words(\"size\", cutoff=0.6)\n",
    "quality = compute_similar_words(\"quality\", cutoff=0.6)\n",
    "battery = compute_similar_words(\"battery\", cutoff=0.6)\n",
    "design = compute_similar_words(\"design\", cutoff=0.6)\n",
    "beam = compute_similar_words(\"beam\", cutoff=0.6)"
   ]
  },
  {
   "cell_type": "code",
   "execution_count": 44,
   "metadata": {},
   "outputs": [
    {
     "data": {
      "text/plain": [
       "[('flood', 0.7934977412223816),\n",
       " ('focused', 0.7723909616470337),\n",
       " ('pattern', 0.7713639140129089),\n",
       " ('throw', 0.760788083076477),\n",
       " ('spot', 0.7566829323768616),\n",
       " ('spill', 0.7561757564544678),\n",
       " ('focus', 0.7559686303138733),\n",
       " ('concentrated', 0.7347534894943237),\n",
       " ('floody', 0.7339653372764587),\n",
       " ('wide', 0.7266631722450256),\n",
       " ('hotspot', 0.7265369296073914),\n",
       " ('width', 0.726333498954773),\n",
       " ('distance', 0.7200384736061096),\n",
       " ('central', 0.7195073962211609),\n",
       " ('cone', 0.7182235717773438),\n",
       " ('narrow', 0.7123903036117554),\n",
       " ('uniform', 0.7099975943565369),\n",
       " ('intense', 0.7093213796615601),\n",
       " ('angle', 0.7078049778938293),\n",
       " ('illumination', 0.7066079378128052),\n",
       " ('cast', 0.6992918848991394),\n",
       " ('focusing', 0.6974489092826843),\n",
       " ('view', 0.6897667646408081),\n",
       " ('circle', 0.6896113753318787),\n",
       " ('center', 0.6871466636657715),\n",
       " ('diffused', 0.6868414282798767),\n",
       " ('homogeneous', 0.6834366321563721),\n",
       " ('broad', 0.6823222041130066),\n",
       " ('emitted', 0.6823209524154663),\n",
       " ('balance', 0.6821483969688416),\n",
       " ('irradiation', 0.6777034997940063),\n",
       " ('evenly', 0.677345335483551),\n",
       " ('profile', 0.6771678924560547),\n",
       " ('wider', 0.6758405566215515),\n",
       " ('luminous', 0.6750285625457764),\n",
       " ('glare', 0.6750168204307556),\n",
       " ('emits', 0.673676609992981),\n",
       " ('farther', 0.672623872756958),\n",
       " ('diffuse', 0.6717913150787354),\n",
       " ('produce', 0.6716444492340088),\n",
       " ('tighter', 0.6685771942138672),\n",
       " ('defined', 0.665951669216156),\n",
       " ('zoom', 0.6631355881690979),\n",
       " ('spotlight', 0.660662055015564),\n",
       " ('degree', 0.6603783369064331),\n",
       " ('spread', 0.6579246520996094),\n",
       " ('thrower', 0.6573230624198914),\n",
       " ('image', 0.6568537354469299),\n",
       " ('candela', 0.6545875072479248),\n",
       " ('distribution', 0.6522483229637146),\n",
       " ('colour', 0.6516813039779663),\n",
       " ('laser', 0.6505149006843567),\n",
       " ('emitter', 0.6485258936882019),\n",
       " ('capable', 0.6483289003372192),\n",
       " ('peripheral', 0.6479929089546204),\n",
       " ('broader', 0.6475388407707214),\n",
       " ('strength', 0.6467179656028748),\n",
       " ('pleasantly', 0.6462225317955017),\n",
       " ('optic', 0.6430742144584656),\n",
       " ('reflector', 0.6425812840461731),\n",
       " ('reaching', 0.6411072015762329),\n",
       " ('surrounding', 0.6400027275085449),\n",
       " ('sidekick', 0.6391688585281372),\n",
       " ('pure', 0.6377764940261841),\n",
       " ('flux', 0.6367480158805847),\n",
       " ('overly', 0.6365200877189636),\n",
       " ('pleasant', 0.6355166435241699),\n",
       " ('optimal', 0.6350184082984924),\n",
       " ('ldc', 0.6326723694801331),\n",
       " ('whiter', 0.632140040397644),\n",
       " ('diameter', 0.6291638016700745),\n",
       " ('dispersion', 0.6290163397789001),\n",
       " ('closer', 0.6270256638526917),\n",
       " ('floodlight', 0.6269278526306152),\n",
       " ('unique', 0.6262377500534058),\n",
       " ('distant', 0.6261777877807617),\n",
       " ('beautiful', 0.6255549788475037),\n",
       " ('produced', 0.6253353357315063),\n",
       " ('friendly', 0.6245964169502258),\n",
       " ('bluish', 0.6243868470191956),\n",
       " ('creates', 0.6239428520202637),\n",
       " ('smooth', 0.6234971880912781),\n",
       " ('ambient', 0.6230422854423523),\n",
       " ('scatter', 0.6222729682922363),\n",
       " ('effective', 0.6220623850822449),\n",
       " ('tir', 0.6212537884712219),\n",
       " ('gradation', 0.6205251812934875),\n",
       " ('mix', 0.6187700629234314),\n",
       " ('scattered', 0.6168698668479919),\n",
       " ('truly', 0.6168016195297241),\n",
       " ('rendition', 0.6165395975112915),\n",
       " ('blend', 0.6163046956062317),\n",
       " ('provides', 0.6147528886795044),\n",
       " ('outstandingly', 0.6137832999229431),\n",
       " ('halovery', 0.6126896142959595),\n",
       " ('limited', 0.6102847456932068),\n",
       " ('natural', 0.6098537445068359),\n",
       " ('illuminates', 0.6098484396934509),\n",
       " ('appearance', 0.6096884608268738),\n",
       " ('reach', 0.6094352006912231),\n",
       " ('certain', 0.608552098274231),\n",
       " ('index', 0.6084190607070923),\n",
       " ('yellowish', 0.608011782169342),\n",
       " ('warmer', 0.6076222062110901),\n",
       " ('output', 0.6072128415107727),\n",
       " ('clean', 0.6066466569900513),\n",
       " ('blindingly', 0.6059356927871704),\n",
       " ('close', 0.6057191491127014),\n",
       " ('decently', 0.6040166616439819),\n",
       " ('tup', 0.602768063545227),\n",
       " ('runtimes', 0.6026989221572876),\n",
       " ('balanced', 0.6026144027709961),\n",
       " ('lookijg', 0.6016481518745422),\n",
       " ('fd', 0.6015238761901855),\n",
       " ('radius', 0.601477861404419),\n",
       " ('providing', 0.6014095544815063),\n",
       " ('towards', 0.6013178825378418),\n",
       " ('combined', 0.6010921597480774),\n",
       " ('rechargeability', 0.6000446081161499)]"
      ]
     },
     "execution_count": 44,
     "metadata": {},
     "output_type": "execute_result"
    }
   ],
   "source": [
    "beam"
   ]
  },
  {
   "cell_type": "code",
   "execution_count": 47,
   "metadata": {},
   "outputs": [
    {
     "data": {
      "text/plain": [
       "(29, 423, 128, 80, 1124, 119)"
      ]
     },
     "execution_count": 47,
     "metadata": {},
     "output_type": "execute_result"
    }
   ],
   "source": [
    "len(price), len(size), len(quality), len(battery), len(design), len(beam)"
   ]
  },
  {
   "cell_type": "code",
   "execution_count": 48,
   "metadata": {},
   "outputs": [],
   "source": [
    "keywords = {'size':size, 'quality':quality, 'battery':battery, 'design':design, 'beam':beam, 'price': price}"
   ]
  },
  {
   "cell_type": "code",
   "execution_count": 24,
   "metadata": {},
   "outputs": [],
   "source": [
    "def checkPresence(sentence, words):\n",
    "    for keyword in words:\n",
    "        if keyword[0] in word_tokenize(sentence):\n",
    "            return True\n",
    "    return False\n",
    "\n",
    "def get_aspects(reviews_in_sentences, keywords):\n",
    "    ret = []\n",
    "    for sentences in reviews_in_sentences:\n",
    "        filtered = ''\n",
    "        for sentence in sentences:\n",
    "            if checkPresence(sentence, keywords):\n",
    "                filtered += sentence \n",
    "        ret.append(filtered)\n",
    "    return ret\n",
    "\n",
    "def get_filtered_aspects(review):\n",
    "    reviews_in_sentences = sent_tokenize(str(review).lower())\n",
    "    ans = {}\n",
    "    for sentence in reviews_in_sentences:\n",
    "        for name, keyword_list in keywords.items():\n",
    "            flag = checkPresence(sentence, keyword_list)\n",
    "            if flag:\n",
    "                try:\n",
    "                    ans[sentence].append(name)\n",
    "                except KeyError:\n",
    "                    ans[sentence] = [name]\n",
    "    return ans"
   ]
  },
  {
   "cell_type": "code",
   "execution_count": 20,
   "metadata": {},
   "outputs": [],
   "source": [
    "reviews_in_sentences = [sent_tokenize(str(review).lower()) for review in reviews]"
   ]
  },
  {
   "cell_type": "code",
   "execution_count": 21,
   "metadata": {},
   "outputs": [],
   "source": [
    "df = df[['reviews']]"
   ]
  },
  {
   "cell_type": "code",
   "execution_count": 49,
   "metadata": {},
   "outputs": [
    {
     "name": "stdout",
     "output_type": "stream",
     "text": [
      "Took 8867.744539737701 seconds to match sentences into aspects.\n"
     ]
    }
   ],
   "source": [
    "start = time.time()\n",
    "\n",
    "df['size'] = get_aspects(reviews_in_sentences, size)\n",
    "df['quality'] = get_aspects(reviews_in_sentences, quality)\n",
    "df['battery'] = get_aspects(reviews_in_sentences, battery)\n",
    "df['design'] = get_aspects(reviews_in_sentences, design)\n",
    "df['beam'] = get_aspects(reviews_in_sentences, beam)\n",
    "df['price'] = get_aspects(reviews_in_sentences, price)\n",
    "end = time.time()\n",
    "print(f\"Took {end - start} seconds to match sentences into aspects.\")"
   ]
  },
  {
   "cell_type": "code",
   "execution_count": 50,
   "metadata": {},
   "outputs": [],
   "source": [
    "df.to_csv(\"word2vec_sentence_output_0.7.csv\")"
   ]
  },
  {
   "cell_type": "markdown",
   "metadata": {},
   "source": [
    "## Fasttext"
   ]
  },
  {
   "cell_type": "code",
   "execution_count": 51,
   "metadata": {},
   "outputs": [],
   "source": [
    "from gensim.models import FastText"
   ]
  },
  {
   "cell_type": "code",
   "execution_count": 53,
   "metadata": {},
   "outputs": [],
   "source": [
    "model = FastText(data, size=100, window=5, min_count=5, workers=4,sg=1)"
   ]
  },
  {
   "cell_type": "code",
   "execution_count": 54,
   "metadata": {},
   "outputs": [],
   "source": [
    "price = compute_similar_words(\"price\")\n",
    "size = compute_similar_words(\"size\")\n",
    "quality = compute_similar_words(\"quality\")\n",
    "battery = compute_similar_words(\"battery\")\n",
    "design = compute_similar_words(\"design\")\n",
    "beam = compute_similar_words(\"beam\")"
   ]
  },
  {
   "cell_type": "code",
   "execution_count": 55,
   "metadata": {},
   "outputs": [
    {
     "data": {
      "text/plain": [
       "(81, 157, 107, 40, 537, 40)"
      ]
     },
     "execution_count": 55,
     "metadata": {},
     "output_type": "execute_result"
    }
   ],
   "source": [
    "len(price), len(size), len(quality), len(battery), len(design), len(beam)"
   ]
  },
  {
   "cell_type": "code",
   "execution_count": 61,
   "metadata": {},
   "outputs": [
    {
     "data": {
      "text/plain": [
       "[('pricey', 0.9515231251716614),\n",
       " ('pricy', 0.9504089951515198),\n",
       " ('priced', 0.8976841568946838),\n",
       " ('priceperformance', 0.8945684432983398),\n",
       " ('performance', 0.826082170009613),\n",
       " ('value', 0.8240972757339478),\n",
       " ('overpriced', 0.8200380802154541),\n",
       " ('expense', 0.80781489610672),\n",
       " ('highperformance', 0.8076149225234985),\n",
       " ('cost', 0.7950354814529419),\n",
       " ('money', 0.7908743023872375),\n",
       " ('expensive', 0.7870935201644897),\n",
       " ('pay', 0.7866541147232056),\n",
       " ('expert', 0.7792508602142334),\n",
       " ('prime', 0.7784606218338013),\n",
       " ('advice', 0.7713238596916199),\n",
       " ('premium', 0.7664700150489807),\n",
       " ('decisive', 0.7647730708122253),\n",
       " ('ratio', 0.7636321187019348),\n",
       " ('reality', 0.7632865905761719),\n",
       " ('convince', 0.7604442834854126),\n",
       " ('pricing', 0.7601076364517212),\n",
       " ('justify', 0.760007381439209),\n",
       " ('experience', 0.7578933835029602),\n",
       " ('euro', 0.7547465562820435),\n",
       " ('opinion', 0.7535992860794067),\n",
       " ('conscience', 0.7527101039886475),\n",
       " ('inexpensive', 0.7521642446517944),\n",
       " ('priority', 0.7515246868133545),\n",
       " ('print', 0.7507624626159668),\n",
       " ('advance', 0.7504943013191223),\n",
       " ('class', 0.7502655982971191),\n",
       " ('dec', 0.7452827095985413),\n",
       " ('eur', 0.7431715726852417),\n",
       " ('format', 0.7416707277297974),\n",
       " ('expectation', 0.7411279678344727),\n",
       " ('ice', 0.737769603729248),\n",
       " ('competitive', 0.7363430261611938),\n",
       " ('overall', 0.7333911657333374),\n",
       " ('doubt', 0.7324470281600952),\n",
       " ('experienced', 0.732230544090271),\n",
       " ('choice', 0.7313591241836548),\n",
       " ('american', 0.7310535907745361),\n",
       " ('perform', 0.7307447195053101),\n",
       " ('outperforms', 0.727278470993042),\n",
       " ('amazes', 0.7259211540222168),\n",
       " ('promise', 0.723811149597168),\n",
       " ('device', 0.7233467102050781),\n",
       " ('highquality', 0.7225786447525024),\n",
       " ('amateur', 0.7212296724319458),\n",
       " ('deduct', 0.7196652889251709),\n",
       " ('paid', 0.71950763463974),\n",
       " ('performs', 0.7190868258476257),\n",
       " ('primary', 0.7175055146217346),\n",
       " ('category', 0.7172685861587524),\n",
       " ('product', 0.7160090208053589),\n",
       " ('invest', 0.7159123420715332),\n",
       " ('argue', 0.7154345512390137),\n",
       " ('investment', 0.7154175639152527),\n",
       " ('considering', 0.7134343385696411),\n",
       " ('luxury', 0.7129852771759033),\n",
       " ('conclusion', 0.7118090391159058),\n",
       " ('thank', 0.7114583253860474),\n",
       " ('spendy', 0.7113771438598633),\n",
       " ('prior', 0.7111847400665283),\n",
       " ('quality', 0.7106871604919434),\n",
       " ('workmanship', 0.710419774055481),\n",
       " ('functionality', 0.7099854946136475),\n",
       " ('consumer', 0.7081031799316406),\n",
       " ('competition', 0.7078015208244324),\n",
       " ('characteristic', 0.7069073915481567),\n",
       " ('pencil', 0.7068424224853516),\n",
       " ('fancy', 0.7056263089179993),\n",
       " ('performed', 0.7047900557518005),\n",
       " ('deserves', 0.7030918598175049),\n",
       " ('wise', 0.7028774619102478),\n",
       " ('pelican', 0.7023622989654541),\n",
       " ('deal', 0.7022954225540161),\n",
       " ('competitor', 0.7007565498352051),\n",
       " ('regret', 0.7001292705535889),\n",
       " ('shame', 0.7000337243080139)]"
      ]
     },
     "execution_count": 61,
     "metadata": {},
     "output_type": "execute_result"
    }
   ],
   "source": [
    "price"
   ]
  },
  {
   "cell_type": "code",
   "execution_count": 58,
   "metadata": {},
   "outputs": [],
   "source": [
    "df = df[['reviews']]"
   ]
  },
  {
   "cell_type": "code",
   "execution_count": 59,
   "metadata": {},
   "outputs": [
    {
     "name": "stdout",
     "output_type": "stream",
     "text": [
      "Took 5060.366037130356 seconds to match sentences into aspects.\n"
     ]
    }
   ],
   "source": [
    "start = time.time()\n",
    "\n",
    "df['size'] = get_aspects(reviews_in_sentences, size)\n",
    "df['quality'] = get_aspects(reviews_in_sentences, quality)\n",
    "df['battery'] = get_aspects(reviews_in_sentences, battery)\n",
    "df['design'] = get_aspects(reviews_in_sentences, design)\n",
    "df['beam'] = get_aspects(reviews_in_sentences, beam)\n",
    "df['price'] = get_aspects(reviews_in_sentences, price)\n",
    "end = time.time()\n",
    "print(f\"Took {end - start} seconds to match sentences into aspects.\")"
   ]
  },
  {
   "cell_type": "code",
   "execution_count": 60,
   "metadata": {},
   "outputs": [],
   "source": [
    "df.to_csv(\"ft_sentence_output.csv\")"
   ]
  },
  {
   "cell_type": "code",
   "execution_count": null,
   "metadata": {},
   "outputs": [],
   "source": []
  }
 ],
 "metadata": {
  "environment": {
   "name": "tf2-gpu.2-4.m61",
   "type": "gcloud",
   "uri": "gcr.io/deeplearning-platform-release/tf2-gpu.2-4:m61"
  },
  "kernelspec": {
   "display_name": "Python 3",
   "language": "python",
   "name": "python3"
  },
  "language_info": {
   "codemirror_mode": {
    "name": "ipython",
    "version": 3
   },
   "file_extension": ".py",
   "mimetype": "text/x-python",
   "name": "python",
   "nbconvert_exporter": "python",
   "pygments_lexer": "ipython3",
   "version": "3.7.5"
  }
 },
 "nbformat": 4,
 "nbformat_minor": 4
}
