{
 "cells": [
  {
   "cell_type": "markdown",
   "metadata": {},
   "source": [
    "## FastText"
   ]
  },
  {
   "cell_type": "code",
   "execution_count": 1,
   "metadata": {},
   "outputs": [],
   "source": [
    "import pandas as pd\n",
    "import zipfile\n",
    "import glob\n",
    "import nltk\n",
    "from nltk.corpus import stopwords\n",
    "from nltk.stem import WordNetLemmatizer\n",
    "from nltk.tokenize import word_tokenize\n",
    "import contractions  # to expand contracted words\n",
    "from gensim.models import FastText\n",
    "import re\n",
    "\n",
    "lemmatizer = WordNetLemmatizer()  # lemmatization"
   ]
  },
  {
   "cell_type": "code",
   "execution_count": 2,
   "metadata": {},
   "outputs": [],
   "source": [
    "# to extract the zip file\n",
    "with zipfile.ZipFile(\"dataset.zip\",\"r\") as zp:\n",
    "    zp.extractall(\"./\")"
   ]
  },
  {
   "cell_type": "code",
   "execution_count": 2,
   "metadata": {},
   "outputs": [],
   "source": [
    "files = glob.glob(\"main_product/*.csv\")  # get all csvs in a list"
   ]
  },
  {
   "cell_type": "code",
   "execution_count": 3,
   "metadata": {},
   "outputs": [
    {
     "name": "stdout",
     "output_type": "stream",
     "text": [
      "size of dataset: (11929, 1)\n"
     ]
    }
   ],
   "source": [
    "# read all the CSVs\n",
    "df = None\n",
    "for file in files:\n",
    "    frame = pd.read_csv(file, index_col=False, usecols=[\"reviews\"])\n",
    "    df = frame if df is None else pd.concat([df,frame])\n",
    "del frame  # del frame object to free memory\n",
    "print(f\"size of dataset: {df.shape}\")"
   ]
  },
  {
   "cell_type": "markdown",
   "metadata": {},
   "source": [
    "## Processing\n",
    "1. extract all the reviews\n",
    "2. preprocess them by<br>\n",
    "   a. removing punctuations <br>\n",
    "   b. removing special characters <br>\n",
    "   c. converting all reviews to lower case."
   ]
  },
  {
   "cell_type": "code",
   "execution_count": 4,
   "metadata": {},
   "outputs": [],
   "source": [
    "reviews = df[\"reviews\"].to_list()"
   ]
  },
  {
   "cell_type": "code",
   "execution_count": 5,
   "metadata": {},
   "outputs": [],
   "source": [
    "# custom stop words\n",
    "my_stopwords = ['i','me', 'my', 'myself', 'we', 'our', 'ours', 'ourselves', 'you', \"you're\", \"you've\", \n",
    "                \"you'll\", \"you'd\", 'your', 'yours', 'yourself', 'yourselves', 'he', 'him', 'his', 'himself',\n",
    "                'she', \"she's\", 'her', 'hers', 'herself', 'them', 'their', 'theirs', 'themselves', 'who', 'whom',\n",
    "                'am', 'is', 'are', 'was', 'were', 'be', 'been', 'being', 'have', 'has', 'had', 'having', 'do', 'does',\n",
    "                'did', 'doing', 'a', 'an', 'the', 'and', 's', 't', 'd', 'll', 'm', 'o', 're', 've', 'y', 'in', 'ma', 'it'\n",
    "               ]"
   ]
  },
  {
   "cell_type": "code",
   "execution_count": 6,
   "metadata": {},
   "outputs": [],
   "source": [
    "# from nltk.stem import PorterStemmer \n",
    "\n",
    "# ps = PorterStemmer() \n",
    "\n",
    "# words = set(nltk.corpus.words.words())\n",
    "\n",
    "def preprocess_text(text):\n",
    "    text = re.sub(\"[^a-zA-Z']\",\" \",str(text))  # remove digits by replacing with a space\n",
    "    text = re.sub(' +', ' ',text)  # remove multiple spaces\n",
    "    text = text.replace(\" ' \",\"'\")  # make sure\n",
    "    text = contractions.fix(text)  # expand the contracted words\n",
    "    text_tokens = text.lower().split()\n",
    "    words = [lemmatizer.lemmatize(word) for word in text_tokens if not word in my_stopwords]  # apply lemmatization\n",
    "    return words"
   ]
  },
  {
   "cell_type": "code",
   "execution_count": 95,
   "metadata": {},
   "outputs": [],
   "source": [
    "# all_stopwords = stopwords.words('english')\n",
    "# all_stopwords"
   ]
  },
  {
   "cell_type": "code",
   "execution_count": 7,
   "metadata": {},
   "outputs": [],
   "source": [
    "processed_text = list(map(preprocess_text, reviews))"
   ]
  },
  {
   "cell_type": "code",
   "execution_count": 8,
   "metadata": {},
   "outputs": [],
   "source": [
    "# processed_text"
   ]
  },
  {
   "cell_type": "markdown",
   "metadata": {},
   "source": [
    "## Train the model"
   ]
  },
  {
   "cell_type": "code",
   "execution_count": 9,
   "metadata": {},
   "outputs": [],
   "source": [
    "model_ted = FastText(processed_text, size=100, window=5, min_count=5, workers=4,sg=1)"
   ]
  },
  {
   "cell_type": "code",
   "execution_count": 10,
   "metadata": {},
   "outputs": [
    {
     "name": "stderr",
     "output_type": "stream",
     "text": [
      "c:\\users\\raj\\appdata\\local\\programs\\python\\python37\\lib\\site-packages\\ipykernel_launcher.py:1: DeprecationWarning: Call to deprecated `most_similar` (Method will be removed in 4.0.0, use self.wv.most_similar() instead).\n",
      "  \"\"\"Entry point for launching an IPython kernel.\n"
     ]
    },
    {
     "data": {
      "text/plain": [
       "[('pricy', 0.9623515605926514),\n",
       " ('pricey', 0.9523756504058838),\n",
       " ('priced', 0.9205743074417114),\n",
       " ('value', 0.8732026815414429),\n",
       " ('overpriced', 0.8606802821159363),\n",
       " ('money', 0.8554052710533142),\n",
       " ('paid', 0.8433690071105957),\n",
       " ('advice', 0.8413906097412109),\n",
       " ('pricing', 0.8355211615562439),\n",
       " ('device', 0.8193491697311401)]"
      ]
     },
     "execution_count": 10,
     "metadata": {},
     "output_type": "execute_result"
    }
   ],
   "source": [
    "model_ted.most_similar(\"price\")"
   ]
  },
  {
   "cell_type": "code",
   "execution_count": 25,
   "metadata": {},
   "outputs": [
    {
     "name": "stderr",
     "output_type": "stream",
     "text": [
      "c:\\users\\raj\\appdata\\local\\programs\\python\\python37\\lib\\site-packages\\ipykernel_launcher.py:1: DeprecationWarning: Call to deprecated `most_similar` (Method will be removed in 4.0.0, use self.wv.most_similar() instead).\n",
      "  \"\"\"Entry point for launching an IPython kernel.\n"
     ]
    },
    {
     "data": {
      "text/plain": [
       "[('rechargables', 0.9797037839889526),\n",
       " ('rechargeable', 0.9658107757568359),\n",
       " ('rechargeables', 0.9628560543060303),\n",
       " ('chargeable', 0.9504367113113403),\n",
       " ('rechargeability', 0.9483517408370972),\n",
       " ('recharges', 0.9434765577316284),\n",
       " ('recharger', 0.9247744083404541),\n",
       " ('recharge', 0.9190071821212769),\n",
       " ('recharged', 0.911583662033081),\n",
       " ('remarkable', 0.8807905912399292),\n",
       " ('capable', 0.8802489042282104),\n",
       " ('recharging', 0.877159833908081),\n",
       " ('interchangeable', 0.873866856098175),\n",
       " ('useable', 0.8725010752677917),\n",
       " ('disposable', 0.8692629933357239),\n",
       " ('unable', 0.8608207702636719),\n",
       " ('dependable', 0.8604360818862915),\n",
       " ('valuable', 0.8569726943969727),\n",
       " ('common', 0.8566673994064331),\n",
       " ('understandable', 0.8533669710159302),\n",
       " ('detachable', 0.8516848087310791),\n",
       " ('disable', 0.8502037525177002),\n",
       " ('reputable', 0.849909782409668),\n",
       " ('convenience', 0.849128007888794),\n",
       " ('invaluable', 0.8467190265655518),\n",
       " ('available', 0.8457227945327759),\n",
       " ('acceptable', 0.844489574432373),\n",
       " ('charm', 0.843717098236084),\n",
       " ('indispensable', 0.8429850339889526),\n",
       " ('efficiency', 0.8421362638473511),\n",
       " ('suitable', 0.8416853547096252),\n",
       " ('affordable', 0.8413106799125671),\n",
       " ('inconvenience', 0.836531400680542),\n",
       " ('glable', 0.8351081609725952),\n",
       " ('retractable', 0.8346561193466187),\n",
       " ('regular', 0.8339096903800964),\n",
       " ('commonly', 0.8337118029594421),\n",
       " ('reasonable', 0.8335773944854736),\n",
       " ('charger', 0.8324509859085083),\n",
       " ('cable', 0.8284273743629456),\n",
       " ('source', 0.8266028761863708),\n",
       " ('fact', 0.8265666961669922),\n",
       " ('unacceptable', 0.8249514102935791),\n",
       " ('charge', 0.8248380422592163),\n",
       " ('reliable', 0.8216351866722107),\n",
       " ('unusable', 0.8213967680931091),\n",
       " ('convenient', 0.8211034536361694),\n",
       " ('bonus', 0.8205941915512085),\n",
       " ('programmable', 0.8202133178710938),\n",
       " ('efficient', 0.8192327618598938)]"
      ]
     },
     "execution_count": 25,
     "metadata": {},
     "output_type": "execute_result"
    }
   ],
   "source": [
    "model_ted.most_similar(\"rechargable\", topn=50)"
   ]
  },
  {
   "cell_type": "code",
   "execution_count": 20,
   "metadata": {},
   "outputs": [
    {
     "name": "stderr",
     "output_type": "stream",
     "text": [
      "c:\\users\\raj\\appdata\\local\\programs\\python\\python37\\lib\\site-packages\\ipykernel_launcher.py:1: DeprecationWarning: Call to deprecated `similarity` (Method will be removed in 4.0.0, use self.wv.similarity() instead).\n",
      "  \"\"\"Entry point for launching an IPython kernel.\n"
     ]
    },
    {
     "data": {
      "text/plain": [
       "0.6238024"
      ]
     },
     "execution_count": 20,
     "metadata": {},
     "output_type": "execute_result"
    }
   ],
   "source": [
    "model_ted.similarity(\"price\",\"sale\")"
   ]
  },
  {
   "cell_type": "code",
   "execution_count": 33,
   "metadata": {},
   "outputs": [
    {
     "name": "stderr",
     "output_type": "stream",
     "text": [
      "c:\\users\\raj\\appdata\\local\\programs\\python\\python37\\lib\\site-packages\\ipykernel_launcher.py:1: DeprecationWarning: Call to deprecated `similarity` (Method will be removed in 4.0.0, use self.wv.similarity() instead).\n",
      "  \"\"\"Entry point for launching an IPython kernel.\n"
     ]
    },
    {
     "data": {
      "text/plain": [
       "0.6245084"
      ]
     },
     "execution_count": 33,
     "metadata": {},
     "output_type": "execute_result"
    }
   ],
   "source": [
    "model_ted.similarity(\"price\",\"sturdy\")"
   ]
  },
  {
   "cell_type": "code",
   "execution_count": 35,
   "metadata": {},
   "outputs": [
    {
     "name": "stderr",
     "output_type": "stream",
     "text": [
      "c:\\users\\raj\\appdata\\local\\programs\\python\\python37\\lib\\site-packages\\ipykernel_launcher.py:1: DeprecationWarning: Call to deprecated `similarity` (Method will be removed in 4.0.0, use self.wv.similarity() instead).\n",
      "  \"\"\"Entry point for launching an IPython kernel.\n"
     ]
    },
    {
     "data": {
      "text/plain": [
       "0.7044879"
      ]
     },
     "execution_count": 35,
     "metadata": {},
     "output_type": "execute_result"
    }
   ],
   "source": [
    "model_ted.similarity(\"rechargable\",\"battery\")"
   ]
  },
  {
   "cell_type": "code",
   "execution_count": 24,
   "metadata": {},
   "outputs": [
    {
     "name": "stdout",
     "output_type": "stream",
     "text": [
      "['Goodbye headlamps! Every flashlight I own fits this. ( variety of name brands not just Fenix). Whenever I was in any store that had headlamps for sale, I always ventured towards them. But I could never pass that line of buying one. Thank goodness! This product works amazing.', 'These are excellent lights. We have four of them now and we each carry one on our nightly dog walk around our place here in South Texas. The three power level capability is a definite plus and the highest power can really reach out there and illuminate the area. Nice thing, too, is you can use either the C123 or the rechargeable 18560 battery. I will probably acquire a couple more when I find them on sale. Also, nice carry pouch came with mine, so check to see if that is included when you order.', \"High-output flashlights have been decreasing in price, and increasing in performance the past few years. My buddy had a Surefire and I was so envious, but could not justify the three-digit price. Once the Fenix PD32 went on sale, I had to pounce.\\n\\nThe brightness of the PD32 is astounding--in turbo mode, it can out-shine the low-beams of my car. Also, I lend it to my girlfriend when she walks our small dog at night. She feels an extra measure of safety with the big bad light that could warn an inattentive car driver of her presence, and spot a random coyote or skunk in the far distance. She loves it.\\n\\nAfter reading the reviews for several different flashlights, the deal-breakers and winners came down to some core attributes: super-high lumen output, real world abuse, and price. I was impressed with the specs and price of the PD32, especially by one prototype tester/reviewer that clearly beat the crap out of it, and the PD32 still shined brightly. For me, the kicker was that it uses the lithium batteries with a 10-year shelf life.\\n\\nBefore spending significantly more dough than other flashlights, really take a look at how your going to use the product. If you're like most civilians such as me, there are much cheaper flashlights out there using standard alkaline batteries, such as the Nebo Redline and by Rayovac. (btw- those are NOT tactical flashlights. True tac lights can be mounted on firearms, like UTG and Streamlight.)\\n\\nAs I'm getting more involved with emergency and disaster response, I wanted a light that has serious capabilities plus have some measure of defense + offense that other units can't match. This flashlight absolutely fits the bill for my needs. I highly recommend this product.\\n\\np.s.- I'm considering the Fenix PD31 as a back-up, I really dig the 2 lumen low-output especially useful for camping and reading inside the tent. (btw- once in Yosemite, I heard a bear less than 15 yards away at night. It nearly freaked me out. Wish I had my Fenix back then. =) My 2nd pick would be the Olight M20S because it's just as capable as the PD32 with some better tactile features. Good luck...\", 'I got this light from Amazon on sale for under $40, given that price point this light is indeed a great value. There are plenty of more knowledgeable reviews on the technical aspects this and other lights out there than I could provide, but I can indeed speak to the value for the price and I highly recommend this light at anything under $50.', 'Fenix makes a great flashlight at a good price. I picked this up on sale, but it would have been a good buy at the regular price.', 'The price on this (sale price) was too good to pass up. The brand is well respected and the light has worked well; certainly up to my expectations.', \"Flashlight defective out of the box, would not cycle through modes with good battery indication.\\nAn interesting transaction no receipt/shipping info in or on the box-done with Amazon will pay more for products from a named authorized retailer.\\nThe serial number did indicate it was a genuine Fenix product intended for sale in the U.S.- it did arrive in good condition but with alot of lint on the light and a very minor scratch on the lens, nearly at the edge-had the light worked I would have kept it.\\nCan't help but to wonder if I was the first to receive this flashlight.\\n\\nI would have preferred to have given no stars but had to make a selection.\\n\\nAs the saying goes; if the deal seems too good to be true............\", 'I got this flashlight on sale. It is powerful and very well built. I have a couple other eagle tac lights too and this one seems to be on par.', \"I had to get a tactical flashlight for work.\\n\\nNever had a clue on lumins and from most advertising...it isn't usually accurate anyway.\\n\\nLove this thing and I'm sure it's half the cost of the most dependable.\\n\\nNever dropped it yet though, and it does get rather hot if used for long, but... it's also very small.\\n\\nSave yourself the pain of researching sales reviews and just buy this one.\\n\\nI paid $40 and it is worth every penny.\", 'Si lo que buscas es una linterna que puedas llevar en cualquier lado y con una potencia mas que aceptable para su tamaño (150 lumens), además de gastar las típicas pilas AA; esta es mejor opción. Si buscas una linterna táctica para trabajar por ejemplo tal vez se te quede algo corta (yo tengo la pd35 que es la que recomendaría xa eso) pero te haría el apaño si no quieres gastarte mucho dinero. Por ponerle una pega. Tiene tres intensidades y por defecto siempre sale la intensidad baja primero', \"As someone who uses head torches most nights at work, i feel pretty well placed to review it after two weeks of usage.\\nFor the last 3 years, i have been using a Led Lenser H7 & H7.2. I never use rechargeable cells, as i prefer having longer lasting, and quickly changeable cells. I usually buy the 100 boxes from maplin when on sale.\\nThe H7.2 got me around 3 shifts on x4 AAA's, and this torch gets about 2 shifts on 1x AA. On the CR123's i managed 4 or 5.\\n\\nThe brightness is reasonable on the middle setting. It would be nice to have some sort of focus, but i can manage without. The torch is light on the head, especially compared to the Chinese ones that everyone else at work seems to use.\\nThe cell can easily be changed in the dark, as its a simple screw and drop a new one in.\\nI have worn this for up to 6 hours at a time, with little discomfort.\\n\\nI would really suggest this torch for anyone who does not mind using throwaway AA cells, as the CR123's cost might be prohibitive. Its a good, functional torch, ideal for night work, or just walking around in the dark looking through peoples windows.\", 'Nice light with an easy to use UI. I grab them whenever they are on sale.', \"I love these things. I feel like a salesperson because I'm always showing it to people! They charge off my phones micro usb charger, the charge lasts forever, and the light you get out of these things is amazing. I bought one for my wife shortly after receiving mine.\", 'GREAT little light! Lightweight, yet sturdy. The high beam setting is VERY bright. Watch for it to be on sale, and get several. I have one in the console, one in the kitchen, and one in my nightstand.', \"I bought this flashlight first because it was on sale, and second because I love small single cell flashlights that give off a bunch of light. This one certainly puts out the light using just the single 18650 Li ion battery. It has quickly become my flashlight of choice for dog walks and pulling in the bird feeders at night. The beam is a little on the floody side, but it lights up my backyard quite nicely. The only unknown at this point is battery life, but since I have a cradle charger it won't be much of an issue.\", 'Great flashlight---even better when on sale', \"I am somewhat of a flashlight junkie and I have a number of those cheap $15 rechargeable (18650) flashlights all over my house, shop & barn for those just in case moments. However, it is my high end flashlights/headlamps that I love to use the most and I have many. My favorite lights are manufactured by oLight and Nitecore. I used to be a big Surefire fan but NOT ONE of the several SureFires I owned works today. I sold the lot of them at a yard sale for $5, not lying.\\n\\nI am retired and dable much of the day. Most any day you will find me wandering around my home with my HC60's resting on my head, like a hat. I have worn the headlamps for so long now I forget they are on my head and my wife often has to remind me to take them off my head. The honest truth is almost every day the HC60's comes in handy for something. Since they rest on my head, they free up that arm that I ordinarily would need to hold a torch. Nor, do I have to reach into my pocket and search for a light among my keys, pocket knife, change, screws and whatever else I have in my pocket on that day.\\n\\nI have established how much I like the HC6, its convenience and how comfortable it is to wear. You can go days without charging it and with the included cable just plug it into any USB port to charge. How is the light itself? It has 5 different brightness levels of which I use the 2nd brightness the most, 3, 4 and 5 are usually very bright for my needs. The HC60 is everything Nitecore claims it to be in the description. I am thrilled with this light and would buy another in a heartbeat.\", 'Liked all but the price, which cannot be described more accurately as “ridiculously over-priced” compared to similar products from competing manufacturers. Buy it, but look for a really good sale first.', 'The tint in the spill portion of the beam is slightly cool and the very large hotspot is close to neutral white. As a result of the hotspot’s tint, the color rendering is excellent, I’m not saying it qualifies as high CRI, but it’s close. The LEDs glow for about 30 seconds after use, which looks beautiful. The “ultra-low” 30 lumens output is surprisingly useful, not just for tasks right in front of your face, but genuinely useful out to 10 meters. Ultra-low, low, mid, and arguably high, are all for your immediate area (high is useful out to about 70 meters max... ANSI specs always fall short of real world usefulness). Turbo, although brief (7 seconds) is for sure — 100% amaz-balls out to 100 meters. The tm9k is pretty head heavy — it feels like there is a sizable ring of copper being used as a heat sink. The combination of the weight with the fierce (almost knife edge) strike bezel and the 9500 lumen burst, makes this torch perfect for tactical applications.\\n\\n*side-note: a usb c wall adapter is necessary to achieve quick charging. Not trying to be a sales person but the lumen tac wall charger is the cheapest one I could find and works as expected. Labeled as a Qualcomm 3.0 quick charge.']\n"
     ]
    }
   ],
   "source": [
    "print([sent for sent in reviews if \"sale\" in str(sent)], sep=\"\\n\")"
   ]
  }
 ],
 "metadata": {
  "kernelspec": {
   "display_name": "Python 3",
   "language": "python",
   "name": "python3"
  },
  "language_info": {
   "codemirror_mode": {
    "name": "ipython",
    "version": 3
   },
   "file_extension": ".py",
   "mimetype": "text/x-python",
   "name": "python",
   "nbconvert_exporter": "python",
   "pygments_lexer": "ipython3",
   "version": "3.7.5"
  }
 },
 "nbformat": 4,
 "nbformat_minor": 2
}
